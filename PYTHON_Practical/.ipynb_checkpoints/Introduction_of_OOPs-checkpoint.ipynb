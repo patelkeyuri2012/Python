{
 "cells": [
  {
   "cell_type": "markdown",
   "id": "956a69f3-6c7f-4459-9ff8-c4798a102971",
   "metadata": {},
   "source": [
    "# OOPS - Object Oriented Programming System"
   ]
  },
  {
   "cell_type": "markdown",
   "id": "ebacdc7e-0274-47fe-b01a-3e1d61dcae86",
   "metadata": {},
   "source": [
    "- Object-Oriented Programming (OOPs) is a programming paradigm that uses objects and classes in programming\n",
    "- The oops concept focuses on writing the reusable code\n",
    "- The main concept of OOPs is to bind the data and the functions that work on that together as a single unit so that no other part of the code can access this data"
   ]
  },
  {
   "cell_type": "markdown",
   "id": "d56df3b5-6f8a-487b-b4e0-1a17f5707996",
   "metadata": {},
   "source": [
    "#### What is Procedural Programming? (top-down approach)"
   ]
  },
  {
   "cell_type": "markdown",
   "id": "d3c812f4-9f32-4c93-a0d1-7d6927e9680c",
   "metadata": {},
   "source": [
    "- Procedural Programming is a programming language that follows a step-by-step approach to break down a task into a collection of variables and routines (or subroutines) through a sequence of instructions\n",
    "- In procedural oriented programming, each step is executed in a systematic manner so that the computer can understand what to do\n",
    "- The concept followed in the procedural oriented programming is called the \"procedure\""
   ]
  },
  {
   "cell_type": "markdown",
   "id": "199993c6-21d1-4457-bdd8-b27466a3ceb8",
   "metadata": {},
   "source": [
    "#### What is Object Oriented Programming? (down-top approach)"
   ]
  },
  {
   "cell_type": "markdown",
   "id": "226d98d8-d91b-4fa5-82ff-0381160006d5",
   "metadata": {},
   "source": [
    "- Object-oriented Programming is a programming language that uses classes and objects to create models based on the real world environment\n",
    "- These objects contain data in the form of attributes and program codes in the form of methods or functions\n",
    "- In OOP, the computer programs are designed by using the concept of objects that can interact with the real world entities"
   ]
  },
  {
   "cell_type": "markdown",
   "id": "2edf0201-1ad1-4973-8c82-3bc9a7a4c619",
   "metadata": {},
   "source": [
    "#### Class Variables"
   ]
  },
  {
   "cell_type": "markdown",
   "id": "4ba0053f-69ec-4231-ba72-1f6b21a43b7f",
   "metadata": {},
   "source": [
    "- A variable that is shared by all instances of a class\n",
    "- Class variables are defined within a class but outside any of the class's methods\n",
    "- Class variables are not used as frequently as instance variables are\n",
    "-  @classmethod decorator to create a class method"
   ]
  },
  {
   "cell_type": "code",
   "execution_count": 2,
   "id": "04536c32-92d1-4dbf-b694-0d098747749b",
   "metadata": {},
   "outputs": [
    {
     "name": "stdout",
     "output_type": "stream",
     "text": [
      "Class variable : I am a class variable\n",
      "Class variable : I am updated class variable\n"
     ]
    }
   ],
   "source": [
    "class MyClass:\n",
    "    class_var = \"I am a class variable\"\n",
    "    def __init__(self, instance_var):\n",
    "        self.instance_var = instance_var\n",
    "\n",
    "obj = MyClass(\"\")\n",
    "print(\"Class variable :\", obj.class_var)\n",
    "MyClass.class_var = \"I am updated class variable\"\n",
    "print(\"Class variable :\", obj.class_var)"
   ]
  },
  {
   "cell_type": "markdown",
   "id": "dd75b6a6-3b74-4cd5-8fcb-52913c5088eb",
   "metadata": {},
   "source": [
    "#### Static Variables"
   ]
  },
  {
   "cell_type": "markdown",
   "id": "3a770b80-3a04-4fcd-8df8-5e4533898a72",
   "metadata": {},
   "source": [
    "- Static variables are defined inside the class definition, but outside of any method definitions\n",
    "- They are typically initialized with a value, just like an instance variable, but they can be accessed and modified through the class itself, rather than through an instance.\n",
    "- Static variables are allocated memory once when the object for the class is created for the first time\n",
    "- \n",
    "Static variables can be accessed through a class but not directly with an instanc\n",
    "- @staticmethod decorator to create a static method."
   ]
  },
  {
   "cell_type": "code",
   "execution_count": 54,
   "id": "9225bea0-9ddb-4960-b840-580b2c3fc836",
   "metadata": {},
   "outputs": [
    {
     "name": "stdout",
     "output_type": "stream",
     "text": [
      "Instance variable : 10\n",
      "Static variable : 42\n"
     ]
    }
   ],
   "source": [
    "class MyClass:\n",
    "    static_var = 0\n",
    "    def __init__(self, value):\n",
    "        self.instance_var = value\n",
    "        \n",
    "obj = MyClass(10)\n",
    "MyClass.static_var = 42\n",
    "print(\"Instance variable :\", obj.instance_var)\n",
    "print(\"Static variable :\", MyClass.static_var)"
   ]
  },
  {
   "cell_type": "markdown",
   "id": "673be9f5-dd82-4de9-b4da-79519e1bf872",
   "metadata": {},
   "source": [
    "## Principals of OOPS"
   ]
  },
  {
   "cell_type": "markdown",
   "id": "13f6dbd7-f461-48c9-aaf8-d8494e95b7d8",
   "metadata": {},
   "source": [
    "### Class"
   ]
  },
  {
   "cell_type": "markdown",
   "id": "cb06cab9-86a3-4fd2-89bd-ec963606b8a8",
   "metadata": {},
   "source": [
    "- A class is a collection of objects\n",
    "- A class contains the blueprints or the prototype from which the objects are being created\n",
    "- It is a logical entity that contains some attributes and methods"
   ]
  },
  {
   "cell_type": "markdown",
   "id": "9d752d50-6788-4160-9b47-b47c84b528ec",
   "metadata": {},
   "source": [
    "#### synatx :\n",
    "- __class class_name: <br>\n",
    "  &emsp;&emsp; Statement 1 <br>\n",
    "  &emsp;&emsp;&emsp;&emsp; . <br>\n",
    "  &emsp;&emsp;&emsp;&emsp; . <br>\n",
    "  &emsp;&emsp;&emsp;&emsp; . <br>\n",
    "  &emsp;&emsp; Statement n__"
   ]
  },
  {
   "cell_type": "markdown",
   "id": "72fcde8d-ebc7-4061-a867-6ace2b61bef1",
   "metadata": {},
   "source": [
    "- Classes are created by keyword class\r",
    "- Attributes are the variables that belong to a class\n",
    "- \n",
    "Attributes are always public and can be accessed using the dot (.) operator"
   ]
  },
  {
   "cell_type": "code",
   "execution_count": 23,
   "id": "9815f31c-3308-46cb-baa6-c94a988888fa",
   "metadata": {},
   "outputs": [],
   "source": [
    "class Person:\n",
    "  name = \"Keyuri\""
   ]
  },
  {
   "cell_type": "markdown",
   "id": "c1671d3a-58ab-445b-9017-50d115cd2b1d",
   "metadata": {},
   "source": [
    "### Object"
   ]
  },
  {
   "cell_type": "markdown",
   "id": "93f0f7af-1c5f-400d-8534-2042c335b3d1",
   "metadata": {},
   "source": [
    "- The object is an entity that has a state and behavior associated with it\n",
    "- An object consists of\n",
    "  - State is represented by the attributes / properties of an object\n",
    "  - Behavior is represented by the methods of an object\n",
    "  - Identity gives a unique name to an object and enables one object to interact with other objects."
   ]
  },
  {
   "cell_type": "code",
   "execution_count": 24,
   "id": "538c31c4-d124-449b-a50a-46a1cf08cbd1",
   "metadata": {},
   "outputs": [
    {
     "name": "stdout",
     "output_type": "stream",
     "text": [
      "Keyuri\n"
     ]
    }
   ],
   "source": [
    "p1 = Person()\n",
    "print(p1.name)"
   ]
  },
  {
   "cell_type": "markdown",
   "id": "9f4a61d8-45de-4a61-98ff-5dc830a6a81c",
   "metadata": {},
   "source": [
    "#### Class self Constructor"
   ]
  },
  {
   "cell_type": "markdown",
   "id": "09e4534d-97b0-458c-9c92-190239e9c766",
   "metadata": {},
   "source": [
    "- A class constructor is a special method named __ˍˍinitˍˍ__ that gets called when you create an instance (object) of a class\n",
    "- This method is used to initialize the attributes of the object\n",
    "- The self parameter in the constructor refers to the instance being created and allows you to access and set its attribute"
   ]
  },
  {
   "cell_type": "markdown",
   "id": "1e903d04-a0e9-49dd-acdc-18af8e72ff33",
   "metadata": {},
   "source": [
    "- The term 'self' refers to the instance of the class that is currently being used\n",
    "- It is customary to use 'self' as the first parameter in instance methods of a class\n",
    "- Whenever you call a method of an object created from a class, the object is automatically passed as the first argument using the 'self' parameter\n",
    "- This enables you to modify the object's properties and execute tasks unique to that particular instance\n",
    "- 'self' is not a keyword\n",
    "- It is just a parameter name used in instance methods to refer to the instance itself"
   ]
  },
  {
   "cell_type": "code",
   "execution_count": 26,
   "id": "c914d2fa-593d-4a88-a9e5-7d21922462d0",
   "metadata": {},
   "outputs": [
    {
     "name": "stdout",
     "output_type": "stream",
     "text": [
      "Keyuri\n"
     ]
    }
   ],
   "source": [
    "class Persons:\n",
    "    def __init__(self, name):\n",
    "        self.name = name\n",
    "     \n",
    "    def print_name(self):\n",
    "        print(self.name)\n",
    " \n",
    "P1 = Persons(\"Keyuri\")\n",
    "P1.print_name()"
   ]
  },
  {
   "cell_type": "markdown",
   "id": "0e70bba5-c575-4a27-92a3-6e4e1192572b",
   "metadata": {},
   "source": [
    "##### Self : Pointer to Current Object\n",
    "- The self is always pointing to the current object\n",
    "- When you create an instance of a class, you’re essentially creating an object with its own set of attributes and methods."
   ]
  },
  {
   "cell_type": "code",
   "execution_count": 31,
   "id": "2c64ddc6-017f-4885-b3e8-012a03022e2d",
   "metadata": {},
   "outputs": [
    {
     "name": "stdout",
     "output_type": "stream",
     "text": [
      "Address of self =  2949719240720\n",
      "Address of class object =  2949719240720\n"
     ]
    }
   ],
   "source": [
    "class Self:\n",
    "\tdef __init__(self):\n",
    "\t\tprint(\"Address of self = \",id(self))\n",
    "\n",
    "obj = Self()\n",
    "print(\"Address of class object = \",id(obj))"
   ]
  },
  {
   "cell_type": "markdown",
   "id": "324c545f-c597-4b16-b71e-c605c49d335f",
   "metadata": {},
   "source": [
    "##### Self in Constructors and Methods\n",
    "- Self is the first argument to be passed in constructor and instance method\n",
    "- Self must be provided as a First parameter to the Instance method and constructor"
   ]
  },
  {
   "cell_type": "code",
   "execution_count": 32,
   "id": "6d1eabea-48b9-48b6-b143-ca4b76b1016b",
   "metadata": {},
   "outputs": [
    {
     "ename": "TypeError",
     "evalue": "Self.__init__() takes 0 positional arguments but 1 was given",
     "output_type": "error",
     "traceback": [
      "\u001b[1;31m---------------------------------------------------------------------------\u001b[0m",
      "\u001b[1;31mTypeError\u001b[0m                                 Traceback (most recent call last)",
      "Cell \u001b[1;32mIn[32], line 5\u001b[0m\n\u001b[0;32m      2\u001b[0m \t\u001b[38;5;28;01mdef\u001b[39;00m \u001b[38;5;21m__init__\u001b[39m():\n\u001b[0;32m      3\u001b[0m \t\t\u001b[38;5;28mprint\u001b[39m(\u001b[38;5;124m\"\u001b[39m\u001b[38;5;124mThis is Constructor\u001b[39m\u001b[38;5;124m\"\u001b[39m)\n\u001b[1;32m----> 5\u001b[0m obj \u001b[38;5;241m=\u001b[39m \u001b[43mSelf\u001b[49m\u001b[43m(\u001b[49m\u001b[43m)\u001b[49m\n\u001b[0;32m      6\u001b[0m \u001b[38;5;28mprint\u001b[39m(\u001b[38;5;124m\"\u001b[39m\u001b[38;5;124mWorked fine\u001b[39m\u001b[38;5;124m\"\u001b[39m)\n",
      "\u001b[1;31mTypeError\u001b[0m: Self.__init__() takes 0 positional arguments but 1 was given"
     ]
    }
   ],
   "source": [
    "class Self:\n",
    "\tdef __init__():\n",
    "\t\tprint(\"This is Constructor\")\n",
    "\n",
    "obj = Self()\n",
    "print(\"Worked fine\")"
   ]
  },
  {
   "cell_type": "markdown",
   "id": "591391f5-ad01-49f1-8bf1-80c4284df749",
   "metadata": {},
   "source": [
    "##### Self : Convention, Not Keyword\n",
    "- Self is a convention and not a keyword\n",
    "- Self is a parameter in Instance Method and the user can use another parameter name in place of it"
   ]
  },
  {
   "cell_type": "code",
   "execution_count": 1,
   "id": "fcb78529-1e15-4369-bd9a-30ef754e4d1a",
   "metadata": {},
   "outputs": [
    {
     "name": "stdout",
     "output_type": "stream",
     "text": [
      "Here used another parameter\n",
      "Parameter name 'myself'\n"
     ]
    }
   ],
   "source": [
    "class self_class: \n",
    "\tdef __init__(myself): \n",
    "\t\tprint(\"Here used another parameter\\n\"\n",
    "\t\t\"Parameter name 'myself'\") \n",
    "\t\t\n",
    "obj = self_class()"
   ]
  },
  {
   "cell_type": "markdown",
   "id": "7011a83d-e0ea-4309-b956-42d2634c24e9",
   "metadata": {},
   "source": [
    "### Polymorphism"
   ]
  },
  {
   "cell_type": "markdown",
   "id": "f315c81b-9e7b-4db6-8b8e-f4353fa273da",
   "metadata": {},
   "source": [
    "- Polymorphism means having many forms\n",
    "- Polymorphism means the same function name (but different signatures) being used for different types"
   ]
  },
  {
   "cell_type": "code",
   "execution_count": 94,
   "id": "efb2e2a7-d450-4b2f-b693-cb313a9f6030",
   "metadata": {},
   "outputs": [
    {
     "name": "stdout",
     "output_type": "stream",
     "text": [
      "Length of String : 6\n",
      "Length of List : 3\n"
     ]
    }
   ],
   "source": [
    "print(\"Length of String :\", len(\"Keyuri\"))\n",
    "print(\"Length of List :\", len([10, 20, 30]))"
   ]
  },
  {
   "cell_type": "markdown",
   "id": "a88dde5a-d011-454b-8c85-9a2facd87b3a",
   "metadata": {},
   "source": [
    "##### Method Overloading \n",
    "- Two or more methods have the same name but different numbers of parameters or different types of parameters, or both\n",
    "- These methods are called overloaded methods and this is called method overloading\n",
    "- This is runtime polymorphism"
   ]
  },
  {
   "cell_type": "code",
   "execution_count": 92,
   "id": "f0707b75-0d4d-4a48-9a35-5a0ab5a2c130",
   "metadata": {},
   "outputs": [
    {
     "name": "stdout",
     "output_type": "stream",
     "text": [
      "Sum of two numbers : 15\n",
      "Sum of three numbers : 30\n"
     ]
    }
   ],
   "source": [
    "class Calculator:\n",
    "    def add(self, a, b, c=None):\n",
    "        if c is not None:\n",
    "            return a + b + c\n",
    "        else:\n",
    "            return a + b\n",
    "\n",
    "cal = Calculator()\n",
    "print(\"Sum of two numbers :\", cal.add(5, 10))\n",
    "print(\"Sum of three numbers :\", cal.add(5, 10, 15))"
   ]
  },
  {
   "cell_type": "markdown",
   "id": "d3b1108d-4f5f-4f1b-aa8d-d2e360e1790e",
   "metadata": {},
   "source": [
    "##### Operator Overloading \n",
    "- The operator is overloaded to provide the special meaning to the user-defined data type\n",
    "- Operator overloading is used to overload or redefines most of the operators\n",
    "- This is runtime polymorphism"
   ]
  },
  {
   "cell_type": "code",
   "execution_count": 90,
   "id": "2b025914-3fa8-4397-a3c8-3a15387ea772",
   "metadata": {},
   "outputs": [
    {
     "name": "stdout",
     "output_type": "stream",
     "text": [
      "Addition of a and b: 30\n",
      "Concatenation of x and y: Keyuri\n"
     ]
    }
   ],
   "source": [
    "class Addition:\n",
    "    def add(self, a, b):\n",
    "        c = a + b\n",
    "        return c\n",
    "\n",
    "add_item = Addition()\n",
    "\n",
    "a = 10\n",
    "b = 20\n",
    "x = \"Key\"\n",
    "y = \"uri\"\n",
    "\n",
    "print(\"Addition of a and b:\", add_item.add(a, b))\n",
    "print(\"Concatenation of x and y:\", add_item.add(x, y))"
   ]
  },
  {
   "cell_type": "markdown",
   "id": "db790b58-6be5-45ed-8b12-374c1f05beef",
   "metadata": {},
   "source": [
    "### Inheritance"
   ]
  },
  {
   "cell_type": "markdown",
   "id": "ea13a882-1d8e-4fe5-9b49-6a53d9649886",
   "metadata": {},
   "source": [
    "- It is a mechanism that allows you to create a hierarchy of classes that share a set of properties and methods by deriving a class from another class\n",
    "- Inheritance is the capability of one class to derive or inherit the properties from another class\n",
    "- Every class inherits from a built-in basic class called 'object'\n",
    "- It provides the reusability of a code\n",
    "- Less development and maintenance expenses result from an inheritance\n",
    "- The super() function is a built-in function that returns the objects that represent the parent class\n",
    "- It allows to access the parent class’s methods and attributes in the child class"
   ]
  },
  {
   "cell_type": "markdown",
   "id": "b9325171-0a9b-4c8b-8d7e-76e41f97e045",
   "metadata": {},
   "source": [
    "#### synatx :\n",
    "- __class base_class_name : <br>\n",
    "  &emsp;&emsp; {body of base_class} <br>\n",
    "  class derived_class_name (base_class_name) : <br>\n",
    "  &emsp;&emsp; {body of derived_class} <br>__"
   ]
  },
  {
   "cell_type": "code",
   "execution_count": 27,
   "id": "5c8716e7-2820-4b2c-92cd-04f30126aeff",
   "metadata": {},
   "outputs": [],
   "source": [
    "class Person():\n",
    "    def __init__(self, id, name):\n",
    "        self.id = id\n",
    "        self.name = name\n",
    "\n",
    "    def Details(self):\n",
    "        print(self.id, self.name)"
   ]
  },
  {
   "cell_type": "code",
   "execution_count": 30,
   "id": "18bc21f9-ba41-4983-8928-07b28bf7dbd1",
   "metadata": {},
   "outputs": [
    {
     "name": "stdout",
     "output_type": "stream",
     "text": [
      "Achievement : Published Author\n",
      "212308007 Keyuri\n"
     ]
    }
   ],
   "source": [
    "class Student(Person):\n",
    "    def __init__(self, id, name, achievement):\n",
    "        super().__init__(id, name)\n",
    "        self.achievement = achievement\n",
    "\n",
    "    def Achievement(self):\n",
    "        print(\"Achievement :\", self.achievement)\n",
    "\n",
    "std = Student(212308007, \"Keyuri\", \"Published Author\")\n",
    "std.Achievement()\n",
    "std.Details()"
   ]
  },
  {
   "cell_type": "markdown",
   "id": "99f3a7c2-87a2-4e4b-b451-0a02fbf1cd72",
   "metadata": {},
   "source": [
    "##### MRO - Method Resolution Order"
   ]
  },
  {
   "cell_type": "markdown",
   "id": "af5f5fda-4320-458d-9f76-d7295579de04",
   "metadata": {},
   "source": [
    "- MRO is the order in which a method is searched for in a classes hierarchy\n",
    "- The MRO is from bottom to top and left to right\n",
    "- This means that, first, the method is searched in the class of the object\n",
    "- If it’s not found, it is searched in the immediate super class\n",
    "- In the case of multiple super classes, it is searched left to right, in the order by which was declared by the programmer"
   ]
  },
  {
   "cell_type": "markdown",
   "id": "72e5e551-7480-4b32-a679-51ccffad66d0",
   "metadata": {},
   "source": [
    "#### synatx :\n",
    "- __print (class_name.ˍˍmroˍˍ)__"
   ]
  },
  {
   "cell_type": "code",
   "execution_count": 59,
   "id": "d2672185-64af-49a5-8df7-909bb732cd07",
   "metadata": {},
   "outputs": [
    {
     "name": "stdout",
     "output_type": "stream",
     "text": [
      "(<class '__main__.Student'>, <class '__main__.Person'>, <class 'object'>)\n"
     ]
    }
   ],
   "source": [
    "print(Student.__mro__)"
   ]
  },
  {
   "cell_type": "markdown",
   "id": "3a790f8d-a3d8-4a68-ace2-640565e7e460",
   "metadata": {},
   "source": [
    "##### Difference between Base Class and Derived Class "
   ]
  },
  {
   "cell_type": "markdown",
   "id": "2d312bf2-5615-4ad6-a5f0-a3f5eb580480",
   "metadata": {},
   "source": [
    "- A base class is an existing class from which the other classes are derived and inherit the methods and properties. A derived class is a class that is constructed from a base class or an existing class\n",
    "- Base class can’t acquire the methods and properties of the derived class. Derived class can acquire the methods and properties of the base class\n",
    "- The base class is also called superclass or parent class. The derived class is also called a subclass or child class."
   ]
  },
  {
   "cell_type": "markdown",
   "id": "920f81f8-fe3a-41e5-bcab-2c8fe677c36c",
   "metadata": {},
   "source": [
    "### Encapsulation"
   ]
  },
  {
   "cell_type": "markdown",
   "id": "5a5bbb03-1d2b-4205-9471-2d41b107f8ec",
   "metadata": {},
   "source": [
    "- It describes the idea of wrapping data and the methods that work on data within one unit\n",
    "- This puts restrictions on accessing variables and methods directly and can prevent the accidental modification of data\n",
    "- A class is an example of encapsulation as it encapsulates all the data that is member functions, variables, etc\n",
    "- The goal of information hiding is to ensure that an object’s state is always valid by controlling access to attributes that are hidden from the outside world"
   ]
  },
  {
   "cell_type": "markdown",
   "id": "efb56304-5c06-46b8-9b2a-513bea4502dc",
   "metadata": {},
   "source": [
    "##### Public members\n",
    "- The public member is accessible from inside or outside the class\n",
    "- All members in a Python class are public by default"
   ]
  },
  {
   "cell_type": "code",
   "execution_count": 37,
   "id": "aff3b8fe-73c3-4f34-b304-d75a95e9a929",
   "metadata": {},
   "outputs": [
    {
     "name": "stdout",
     "output_type": "stream",
     "text": [
      "Protected member of Person class : 212308007\n",
      "Protected member inside Student class : 212308033\n",
      "Protected member of p1 : 212308007\n",
      "Protected member of s1 : 212308033\n"
     ]
    }
   ],
   "source": [
    "class Person: \n",
    "    def __init__(self): \n",
    "        self.id = 212308007\n",
    "\n",
    "class Student(Person): \n",
    "    def __init__(self): \n",
    "        super().__init__() \n",
    "        print(\"Protected member of Person class :\", self.id) \n",
    "        self.id = 212308033\n",
    "        print(\"Protected member inside Student class :\", self.id) \n",
    "        \n",
    "p1 = Person() \n",
    "s1 = Student() \n",
    "print(\"Protected member of p1 :\", p1.id) \n",
    "print(\"Protected member of s1 :\", s1.id)"
   ]
  },
  {
   "cell_type": "markdown",
   "id": "e6135dcb-cb60-47d5-bb71-d937242399c9",
   "metadata": {},
   "source": [
    "##### Protected members\n",
    "- Protected members are those members of the class that cannot be accessed outside the class but can be accessed from within the class and its subclasses\n",
    "- Protected member declared by a single underscore '_'"
   ]
  },
  {
   "cell_type": "code",
   "execution_count": 36,
   "id": "9a27691c-db5b-435e-ac46-40b057f27bb4",
   "metadata": {},
   "outputs": [
    {
     "name": "stdout",
     "output_type": "stream",
     "text": [
      "Protected member of Person class : 212308007\n",
      "Protected member inside Student class : 212308033\n",
      "Protected member of p1 : 212308007\n",
      "Protected member of s1 : 212308033\n"
     ]
    }
   ],
   "source": [
    "class Person: \n",
    "    def __init__(self): \n",
    "        self._id = 212308007\n",
    "\n",
    "class Student(Person): \n",
    "    def __init__(self): \n",
    "        super().__init__() \n",
    "        print(\"Protected member of Person class :\", self._id) \n",
    "        self._id = 212308033\n",
    "        print(\"Protected member inside Student class :\", self._id) \n",
    "        \n",
    "p1 = Person() \n",
    "s1 = Student() \n",
    "print(\"Protected member of p1 :\", p1._id) \n",
    "print(\"Protected member of s1 :\", s1._id)"
   ]
  },
  {
   "cell_type": "markdown",
   "id": "993bf9c3-bb80-44c9-8242-9cab0540da2b",
   "metadata": {},
   "source": [
    "##### Private members\n",
    "- Private members are similar to protected members, the difference is that the class members declared private should neither be accessed outside the class nor by any base class\n",
    "- Protected member declared by a double underscore '__'"
   ]
  },
  {
   "cell_type": "code",
   "execution_count": 62,
   "id": "efc1848a-78e5-4927-aeca-f69515099d66",
   "metadata": {},
   "outputs": [
    {
     "name": "stdout",
     "output_type": "stream",
     "text": [
      "ID of student is: 212308007\n",
      "Name of student is: Keyuri\n",
      "Private member of p1 (Person class): 212308007\n",
      "Private member of s1 (Student class): 212308007\n"
     ]
    }
   ],
   "source": [
    "class Person:\n",
    "    def __init__(self):\n",
    "        self.name = \"Keyuri\"\n",
    "        self.__id = 212308007\n",
    "\n",
    "class Student(Person):\n",
    "    def __init__(self):\n",
    "        super().__init__()\n",
    "        print(\"ID of student is:\", self._Person__id)\n",
    "        print(\"Name of student is:\", self.name)\n",
    "        self.__id = 212308033 \n",
    "\n",
    "p1 = Person()\n",
    "s1 = Student()\n",
    "print(\"Private member of p1 (Person class):\", p1._Person__id)\n",
    "print(\"Private member of s1 (Student class):\", s1._Person__id)"
   ]
  },
  {
   "cell_type": "markdown",
   "id": "bb13309a-dde2-4cac-9184-083a27a40ce7",
   "metadata": {},
   "source": [
    "### Data Abstraction"
   ]
  },
  {
   "cell_type": "markdown",
   "id": "002eb2ad-de34-472b-af51-282c4e238734",
   "metadata": {},
   "source": [
    "- Abstraction is used to hide the internal functionality of the function from the users\n",
    "- The users only interact with the basic implementation of the function, but inner working is hidden\n",
    "- User is familiar with that __what function does__ but they don't know __how it does__\n",
    "- An abstract class can be considered a blueprint for other classes\n",
    "- It allows you to create a set of methods that must be created within any child classes built from the abstract class\n",
    "- A class that contains one or more abstract methods is called an abstract class\n",
    "- An abstract method is a method that has a declaration but does not have an implementation\n",
    "- A method becomes abstract when decorated with the keyword __@abstractmethod__"
   ]
  },
  {
   "cell_type": "code",
   "execution_count": 77,
   "id": "2f425548-6b0b-46e4-bb58-0e50ef06040e",
   "metadata": {},
   "outputs": [],
   "source": [
    "class A:\n",
    "    def method(self):\n",
    "        print(\"A class\")\n",
    "        super().method()\n",
    "class B:\n",
    "    def method(self):\n",
    "        print(\"B class\")\n",
    "        super().method()\n",
    "class C:\n",
    "    def method(self):\n",
    "        print(\"C class\")\n",
    "        super().method()\n",
    "class X(A, B):\n",
    "    def method(self):\n",
    "        print(\"X class\")\n",
    "        super().method()\n",
    "class Y(B, C):\n",
    "    def method(self):\n",
    "        print(\"Y class\")\n",
    "        super().method()\n",
    "class P(X, Y, C):\n",
    "    def method(self):\n",
    "        print(\"P class\")\n",
    "        super().method()"
   ]
  },
  {
   "cell_type": "code",
   "execution_count": 78,
   "id": "dbf56147-b8d9-45d2-b89a-1ff31e24604e",
   "metadata": {},
   "outputs": [
    {
     "name": "stdout",
     "output_type": "stream",
     "text": [
      "P class\n",
      "X class\n",
      "A class\n",
      "Y class\n",
      "B class\n",
      "C class\n"
     ]
    },
    {
     "ename": "AttributeError",
     "evalue": "'super' object has no attribute 'method'",
     "output_type": "error",
     "traceback": [
      "\u001b[1;31m---------------------------------------------------------------------------\u001b[0m",
      "\u001b[1;31mAttributeError\u001b[0m                            Traceback (most recent call last)",
      "Cell \u001b[1;32mIn[78], line 2\u001b[0m\n\u001b[0;32m      1\u001b[0m p1 \u001b[38;5;241m=\u001b[39m P()\n\u001b[1;32m----> 2\u001b[0m \u001b[38;5;28mprint\u001b[39m(\u001b[43mp1\u001b[49m\u001b[38;5;241;43m.\u001b[39;49m\u001b[43mmethod\u001b[49m\u001b[43m(\u001b[49m\u001b[43m)\u001b[49m)\n",
      "Cell \u001b[1;32mIn[77], line 24\u001b[0m, in \u001b[0;36mP.method\u001b[1;34m(self)\u001b[0m\n\u001b[0;32m     22\u001b[0m \u001b[38;5;28;01mdef\u001b[39;00m \u001b[38;5;21mmethod\u001b[39m(\u001b[38;5;28mself\u001b[39m):\n\u001b[0;32m     23\u001b[0m     \u001b[38;5;28mprint\u001b[39m(\u001b[38;5;124m\"\u001b[39m\u001b[38;5;124mP class\u001b[39m\u001b[38;5;124m\"\u001b[39m)\n\u001b[1;32m---> 24\u001b[0m     \u001b[38;5;28;43msuper\u001b[39;49m\u001b[43m(\u001b[49m\u001b[43m)\u001b[49m\u001b[38;5;241;43m.\u001b[39;49m\u001b[43mmethod\u001b[49m\u001b[43m(\u001b[49m\u001b[43m)\u001b[49m\n",
      "Cell \u001b[1;32mIn[77], line 16\u001b[0m, in \u001b[0;36mX.method\u001b[1;34m(self)\u001b[0m\n\u001b[0;32m     14\u001b[0m \u001b[38;5;28;01mdef\u001b[39;00m \u001b[38;5;21mmethod\u001b[39m(\u001b[38;5;28mself\u001b[39m):\n\u001b[0;32m     15\u001b[0m     \u001b[38;5;28mprint\u001b[39m(\u001b[38;5;124m\"\u001b[39m\u001b[38;5;124mX class\u001b[39m\u001b[38;5;124m\"\u001b[39m)\n\u001b[1;32m---> 16\u001b[0m     \u001b[38;5;28;43msuper\u001b[39;49m\u001b[43m(\u001b[49m\u001b[43m)\u001b[49m\u001b[38;5;241;43m.\u001b[39;49m\u001b[43mmethod\u001b[49m\u001b[43m(\u001b[49m\u001b[43m)\u001b[49m\n",
      "Cell \u001b[1;32mIn[77], line 4\u001b[0m, in \u001b[0;36mA.method\u001b[1;34m(self)\u001b[0m\n\u001b[0;32m      2\u001b[0m \u001b[38;5;28;01mdef\u001b[39;00m \u001b[38;5;21mmethod\u001b[39m(\u001b[38;5;28mself\u001b[39m):\n\u001b[0;32m      3\u001b[0m     \u001b[38;5;28mprint\u001b[39m(\u001b[38;5;124m\"\u001b[39m\u001b[38;5;124mA class\u001b[39m\u001b[38;5;124m\"\u001b[39m)\n\u001b[1;32m----> 4\u001b[0m     \u001b[38;5;28;43msuper\u001b[39;49m\u001b[43m(\u001b[49m\u001b[43m)\u001b[49m\u001b[38;5;241;43m.\u001b[39;49m\u001b[43mmethod\u001b[49m\u001b[43m(\u001b[49m\u001b[43m)\u001b[49m\n",
      "Cell \u001b[1;32mIn[77], line 20\u001b[0m, in \u001b[0;36mY.method\u001b[1;34m(self)\u001b[0m\n\u001b[0;32m     18\u001b[0m \u001b[38;5;28;01mdef\u001b[39;00m \u001b[38;5;21mmethod\u001b[39m(\u001b[38;5;28mself\u001b[39m):\n\u001b[0;32m     19\u001b[0m     \u001b[38;5;28mprint\u001b[39m(\u001b[38;5;124m\"\u001b[39m\u001b[38;5;124mY class\u001b[39m\u001b[38;5;124m\"\u001b[39m)\n\u001b[1;32m---> 20\u001b[0m     \u001b[38;5;28;43msuper\u001b[39;49m\u001b[43m(\u001b[49m\u001b[43m)\u001b[49m\u001b[38;5;241;43m.\u001b[39;49m\u001b[43mmethod\u001b[49m\u001b[43m(\u001b[49m\u001b[43m)\u001b[49m\n",
      "Cell \u001b[1;32mIn[77], line 8\u001b[0m, in \u001b[0;36mB.method\u001b[1;34m(self)\u001b[0m\n\u001b[0;32m      6\u001b[0m \u001b[38;5;28;01mdef\u001b[39;00m \u001b[38;5;21mmethod\u001b[39m(\u001b[38;5;28mself\u001b[39m):\n\u001b[0;32m      7\u001b[0m     \u001b[38;5;28mprint\u001b[39m(\u001b[38;5;124m\"\u001b[39m\u001b[38;5;124mB class\u001b[39m\u001b[38;5;124m\"\u001b[39m)\n\u001b[1;32m----> 8\u001b[0m     \u001b[38;5;28;43msuper\u001b[39;49m\u001b[43m(\u001b[49m\u001b[43m)\u001b[49m\u001b[38;5;241;43m.\u001b[39;49m\u001b[43mmethod\u001b[49m\u001b[43m(\u001b[49m\u001b[43m)\u001b[49m\n",
      "Cell \u001b[1;32mIn[77], line 12\u001b[0m, in \u001b[0;36mC.method\u001b[1;34m(self)\u001b[0m\n\u001b[0;32m     10\u001b[0m \u001b[38;5;28;01mdef\u001b[39;00m \u001b[38;5;21mmethod\u001b[39m(\u001b[38;5;28mself\u001b[39m):\n\u001b[0;32m     11\u001b[0m     \u001b[38;5;28mprint\u001b[39m(\u001b[38;5;124m\"\u001b[39m\u001b[38;5;124mC class\u001b[39m\u001b[38;5;124m\"\u001b[39m)\n\u001b[1;32m---> 12\u001b[0m     \u001b[38;5;28;43msuper\u001b[39;49m\u001b[43m(\u001b[49m\u001b[43m)\u001b[49m\u001b[38;5;241;43m.\u001b[39;49m\u001b[43mmethod\u001b[49m()\n",
      "\u001b[1;31mAttributeError\u001b[0m: 'super' object has no attribute 'method'"
     ]
    }
   ],
   "source": [
    "p1 = P()\n",
    "print(p1.method())"
   ]
  },
  {
   "cell_type": "code",
   "execution_count": 79,
   "id": "a9792794-216d-4f2b-b1ef-4f397bff91a3",
   "metadata": {},
   "outputs": [
    {
     "name": "stdout",
     "output_type": "stream",
     "text": [
      "(<class '__main__.P'>, <class '__main__.X'>, <class '__main__.A'>, <class '__main__.Y'>, <class '__main__.B'>, <class '__main__.C'>, <class 'object'>)\n"
     ]
    }
   ],
   "source": [
    "print(P.__mro__)"
   ]
  },
  {
   "cell_type": "markdown",
   "id": "a87b6bf3-8501-43cf-ab87-340c4d078917",
   "metadata": {},
   "source": [
    "#### Special method\n",
    "- special methods are a set of predefined methods you can use to enrich your classes\n",
    "- They are easy to recognize because they start and end with double underscores"
   ]
  },
  {
   "cell_type": "markdown",
   "id": "99dd96c1-71e0-48b6-9ce1-2083d6532479",
   "metadata": {},
   "source": [
    "__Method &emsp;&emsp; | &emsp;&emsp;&emsp; Signature &emsp;&emsp;&emsp;&emsp; | &emsp;&emsp; Explanation__ <br>\n",
    "Add &emsp;&emsp;&emsp;&emsp; | &emsp; ˍˍaddˍˍ(self, other) &emsp;&emsp;&nbsp;&nbsp;&nbsp; | &emsp;&emsp; x + y invokes x.ˍˍaddˍˍ(y) <br>\n",
    "Subtract &emsp;&emsp; | &emsp; ˍˍsubˍˍ(self, other) &emsp;&emsp;&emsp; | &emsp;&emsp; x - y invokes x.ˍˍsubˍˍ(y) <br>\n",
    "Multiply &emsp;&emsp;&nbsp; | &emsp; ˍˍmulˍˍ(self, other) &emsp;&emsp;&nbsp;&nbsp; | &emsp;&emsp; x * y invokes x.ˍˍmulˍˍ(y) <br>\n",
    "Divide &emsp;&emsp;&emsp; | &emsp; ˍˍtruedivˍˍ(self, other) &emsp;&nbsp; | &emsp;&emsp; x / y invokes x.ˍˍtruedivˍˍ(y) <br>\n",
    "Power &emsp;&emsp;&emsp; | &emsp; ˍˍpowˍˍ(self, other) &emsp;&emsp;&nbsp;&nbsp; | &emsp;&emsp; x ** y invokes x.ˍˍpowˍˍ(y) <br>"
   ]
  }
 ],
 "metadata": {
  "kernelspec": {
   "display_name": "Python 3 (ipykernel)",
   "language": "python",
   "name": "python3"
  },
  "language_info": {
   "codemirror_mode": {
    "name": "ipython",
    "version": 3
   },
   "file_extension": ".py",
   "mimetype": "text/x-python",
   "name": "python",
   "nbconvert_exporter": "python",
   "pygments_lexer": "ipython3",
   "version": "3.10.7"
  }
 },
 "nbformat": 4,
 "nbformat_minor": 5
}
