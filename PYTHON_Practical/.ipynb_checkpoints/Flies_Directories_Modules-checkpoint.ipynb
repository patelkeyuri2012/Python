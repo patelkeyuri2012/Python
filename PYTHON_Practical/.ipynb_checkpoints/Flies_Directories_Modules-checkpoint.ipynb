{
 "cells": [
  {
   "cell_type": "markdown",
   "id": "2ef18a47-a058-460e-a311-218953cc47f9",
   "metadata": {},
   "source": [
    "## Files"
   ]
  },
  {
   "cell_type": "markdown",
   "id": "053a1975-8911-4653-8a03-69e4b97bcc86",
   "metadata": {},
   "source": [
    "- A file is some information or data which stays in the computer storage devices\n",
    "- Files are divided in two categories, text file and binary file\n",
    "- File is used to permanently store data in a non-volatile memory (hard disk)\n",
    "- To read from and write to a file, it must first be opened\n",
    "- Open file means it reserve resources, provide file handler"
   ]
  },
  {
   "cell_type": "markdown",
   "id": "7d1ba53e-80cf-427a-b424-47fd3fdbb94b",
   "metadata": {},
   "source": [
    "#### Types of files\n",
    "\n",
    "- A sequential file contains records organized by the order in which they were entered\n",
    "- A random file is made up of a series of records of identical length\n",
    "- Binary files are made up of non-human readable characters and symbols, which require specific programs to access its contents\n",
    "- Text files are made up of human readable kind of computer file that is structured as a sequence of lines of electronic text"
   ]
  },
  {
   "cell_type": "markdown",
   "id": "229807c6-7a8e-479e-9f15-24b2b60b6997",
   "metadata": {},
   "source": [
    "##### Difference between sequential file and random file\n",
    "- In sequential file, memory is organized into units of data, called records, records are accessed sequentially.\n",
    "- In random file, each storage location in the memory has an unique address and it can be accessed independently of the other locations."
   ]
  },
  {
   "cell_type": "markdown",
   "id": "28c714ed-8844-4b81-a8f4-04dfa391ef9f",
   "metadata": {},
   "source": [
    "##### File operation takes place in the following order:\n",
    "- Open the file\n",
    "- Read from file or write to file (perform operation)\n",
    "- Close the file"
   ]
  },
  {
   "cell_type": "markdown",
   "id": "53c671a3-a7ab-41d4-b704-7e6094ab11e8",
   "metadata": {},
   "source": [
    "### Open the file"
   ]
  },
  {
   "cell_type": "markdown",
   "id": "37288279-b159-4179-8cf8-3954d87b1ad5",
   "metadata": {},
   "source": [
    "#### Syntax :\n",
    "- __f = open(filename, mode)__ <br>\n",
    "\n",
    "  open() : opens a file, and returns it as a file object <br>\n",
    "  filename : the path and name of the file <br>\n",
    "  mode : define which mode you want to open the file in <br>"
   ]
  },
  {
   "cell_type": "markdown",
   "id": "74346f74-8733-404b-ae0d-855228a263a9",
   "metadata": {},
   "source": [
    "- open() constructor used to open file\n",
    "- It is open the file at current working directory\n",
    "- The open() function returns a file object which can used to read, write and modify the file."
   ]
  },
  {
   "cell_type": "markdown",
   "id": "c67bbfe1-0a97-4b57-ba86-517e10b77ff1",
   "metadata": {},
   "source": [
    "__Mode &emsp;&emsp; | &emsp;&emsp; Description__ <br>\n",
    "&emsp;&emsp; r &emsp;&emsp;&nbsp;| &emsp;&emsp; Open a file for reading (default) <br>\n",
    "&emsp;&emsp; w &emsp;&emsp;| &emsp;&emsp; Open a file for writing. Creates a new file if it does not exist <br>\n",
    "&emsp;&emsp; x &emsp;&emsp;&nbsp;| &emsp;&emsp; Open a file for exclusive creation. If the file already exists, the operation fails. <br>\n",
    "&emsp;&emsp; a &emsp;&emsp;&nbsp;| &emsp;&emsp; Open a file for appending at the end of the file without truncating it. Creates a new file if it does not exist. <br>\n",
    "&emsp;&emsp; t &emsp;&emsp;&nbsp;&nbsp;| &emsp;&emsp; Open in text mode. (default) <br>\n",
    "&emsp;&emsp; b &emsp;&emsp;&nbsp;| &emsp;&emsp; Open in binary mode. <br>\n",
    "&emsp;&emsp; + &emsp;&emsp;&nbsp;| &emsp;&emsp; Open a file for updating (reading and writing) <br>"
   ]
  },
  {
   "cell_type": "code",
   "execution_count": 44,
   "id": "8a82ebcd-fa4a-4f4f-b5d2-f2b0eff04d80",
   "metadata": {},
   "outputs": [
    {
     "name": "stdout",
     "output_type": "stream",
     "text": [
      "<_io.TextIOWrapper name='D:\\\\KEYURI\\\\MCA\\\\SEM-I\\\\PYTHON\\\\PYTHON_Practical\\\\Files\\\\example1.txt' mode='x' encoding='cp1252'>\n"
     ]
    }
   ],
   "source": [
    "file = open(\"D:\\KEYURI\\MCA\\SEM-I\\PYTHON\\PYTHON_Practical\\Files\\example1.txt\", mode = \"x\")\n",
    "print(file)"
   ]
  },
  {
   "cell_type": "markdown",
   "id": "c1d03658-4291-4c28-89a1-791eb712956f",
   "metadata": {},
   "source": [
    "### Read from file or write to file (perform operation)"
   ]
  },
  {
   "cell_type": "markdown",
   "id": "78f25a0e-86a3-41f7-a98e-e246bfd29c5c",
   "metadata": {},
   "source": [
    "#### write mode"
   ]
  },
  {
   "cell_type": "markdown",
   "id": "58055751-364f-4726-acb1-1d452c6dd63b",
   "metadata": {},
   "source": [
    "#### Syntax :\n",
    "- __file.write (byte)__ <br>\n",
    "&nbsp;  byte : the text or byte object that will be inserted"
   ]
  },
  {
   "cell_type": "markdown",
   "id": "dd83e0a2-498e-4de6-9cab-c3555995b0ce",
   "metadata": {},
   "source": [
    "- The write() writes a specified text to the file.\n",
    "- The file will be emptied before the text will be inserted at the current file stream position, default 0.\n",
    "- Open the file for writing.\n",
    "- For the existing files, the data is truncated and over-written\n",
    "- The handle is positioned at the beginning of the file\n",
    "- Creates the file if the file does not exist."
   ]
  },
  {
   "cell_type": "code",
   "execution_count": 45,
   "id": "6d1f0085-5675-4d44-9c05-cad982327fd7",
   "metadata": {},
   "outputs": [
    {
     "data": {
      "text/plain": [
       "67"
      ]
     },
     "execution_count": 45,
     "metadata": {},
     "output_type": "execute_result"
    }
   ],
   "source": [
    "file = open(\"D:\\KEYURI\\MCA\\SEM-I\\PYTHON\\PYTHON_Practical\\Files\\example1.txt\", mode = 'w')\n",
    "file.write (\"Example of create files using python and use of read and write mode\")  "
   ]
  },
  {
   "cell_type": "markdown",
   "id": "7c6fc812-8f98-491b-ba3c-0032c10746aa",
   "metadata": {},
   "source": [
    "#### read mode"
   ]
  },
  {
   "cell_type": "markdown",
   "id": "9fbc8b64-e4ef-4be5-9f32-1c30a2900f00",
   "metadata": {},
   "source": [
    "#### Syntax :\n",
    "- __file.read (size)__ <br>\n",
    "&nbsp;  size : the number of bytes to return. default -1, which means the whole file."
   ]
  },
  {
   "cell_type": "markdown",
   "id": "107d92db-4559-4e5b-9d38-20a39295f5de",
   "metadata": {},
   "source": [
    "- The read() reads the entire file and returns a string\n",
    "- Open text file for reading.\n",
    "- The handle is positioned at the beginning of the file\n",
    "- If the file does not exists, raises the I/O error\n",
    "- This is also the default mode in which a file is opened."
   ]
  },
  {
   "cell_type": "code",
   "execution_count": 46,
   "id": "047931a1-1be4-4d00-ad33-c5ed59433f9f",
   "metadata": {},
   "outputs": [
    {
     "name": "stdout",
     "output_type": "stream",
     "text": [
      "Example of create files using python and use of read and write mode\n",
      "\n"
     ]
    }
   ],
   "source": [
    "file = open(\"D:\\KEYURI\\MCA\\SEM-I\\PYTHON\\PYTHON_Practical\\Files\\example1.txt\",mode = 'r')\n",
    "for line in file:\n",
    "    print(line)\n",
    "print(file.read())"
   ]
  },
  {
   "cell_type": "markdown",
   "id": "216222d7-88b1-4103-bde7-aad4a7fcbffd",
   "metadata": {},
   "source": [
    "#### append mode"
   ]
  },
  {
   "cell_type": "markdown",
   "id": "a5fef425-826f-4860-8740-cf8988bc731f",
   "metadata": {},
   "source": [
    "- The text will be inserted at the current file stream position, default at the end of the file.\n",
    "- Open the file for writing.\n",
    "- The file is created if it does not exist\n",
    "- The handle is positioned at the end of the file\n",
    "- The data being written will be inserted at the end, after the existing data."
   ]
  },
  {
   "cell_type": "code",
   "execution_count": 47,
   "id": "e97f8fc2-8647-46dd-97c3-da57314780cb",
   "metadata": {},
   "outputs": [
    {
     "data": {
      "text/plain": [
       "25"
      ]
     },
     "execution_count": 47,
     "metadata": {},
     "output_type": "execute_result"
    }
   ],
   "source": [
    "file = open (\"D:\\KEYURI\\MCA\\SEM-I\\PYTHON\\PYTHON_Practical\\Files\\example1.txt\", mode = 'a')\n",
    "file.write (\"\\n\\nExample of appende mode\")"
   ]
  },
  {
   "cell_type": "markdown",
   "id": "5ba461d9-e6d4-405c-99b7-c56a2cce4238",
   "metadata": {},
   "source": [
    "### Close the file"
   ]
  },
  {
   "cell_type": "markdown",
   "id": "343b10b9-fe2e-4991-b1ef-ed6213f9a088",
   "metadata": {},
   "source": [
    "#### Syntax :\n",
    "- __file.close()__ <br>\n",
    "\n",
    "  close() : close a file and free up any system resources that were used during the file operation"
   ]
  },
  {
   "cell_type": "markdown",
   "id": "09395c64-db4d-487f-a17e-28ab441a60f4",
   "metadata": {},
   "source": [
    "- For closing a file in python, the close() method is used\n",
    "- It is a good practice to close a file after the desired operations are done on it as this will free up all the resources used in that file and be allocated somewhere else by the operating system"
   ]
  },
  {
   "cell_type": "code",
   "execution_count": 48,
   "id": "e0f089db-2409-423f-9d22-a818008b1645",
   "metadata": {},
   "outputs": [],
   "source": [
    "file.close()"
   ]
  },
  {
   "cell_type": "markdown",
   "id": "54609021-5059-486e-9b0d-ef39e3d2568f",
   "metadata": {},
   "source": [
    "__UTF-8__\n",
    "- Unicode Transformation Format\n",
    "- UTF-8 is an encoding system for unicode\n",
    "- It can translate any unicode character to a matching unique binary string, and can also translate the binary string back to a unicode character"
   ]
  },
  {
   "cell_type": "code",
   "execution_count": 49,
   "id": "012581c2-330a-4c3e-b8eb-cf73e1147209",
   "metadata": {},
   "outputs": [],
   "source": [
    "file = open (\"D:\\KEYURI\\MCA\\SEM-I\\PYTHON\\PYTHON_Practical\\Files\\example1.txt\", mode = 'a', encoding='utf-8')\n",
    "file.write (\"\\n\\nUTF : Unicode Transformation Format\")\n",
    "file.write (\"\\nગુજરાત વિદ્યાપીઠ\")\n",
    "file.write (\"\\nકમ્પ્યુટર વિજ્ઞાન વિભાગ\")\n",
    "file.close()"
   ]
  },
  {
   "cell_type": "markdown",
   "id": "233af505-c2fd-4f36-925c-40819762620b",
   "metadata": {},
   "source": [
    "#### tell()\n",
    "- tell() method returns current position of file object\n",
    "- This method takes no parameters and returns an integer value\n",
    "- Initially file pointer points to the beginning of the file\n",
    "- So, the initial value of tell() is zero."
   ]
  },
  {
   "cell_type": "code",
   "execution_count": 50,
   "id": "a6484785-d653-419c-ad9a-9ccad3b45141",
   "metadata": {},
   "outputs": [
    {
     "name": "stdout",
     "output_type": "stream",
     "text": [
      "0\n"
     ]
    }
   ],
   "source": [
    "file = open(\"D:\\KEYURI\\MCA\\SEM-I\\PYTHON\\PYTHON_Practical\\Files\\example1.txt\", mode = 'r', encoding='utf-8')\n",
    "print(file.tell())\n",
    "file.close()"
   ]
  },
  {
   "cell_type": "markdown",
   "id": "3da8195c-2760-4a85-958e-ebbe4129688f",
   "metadata": {},
   "source": [
    "#### seek()\n",
    "- seek() function is used to change the position of the File Handle to a given specific position\n",
    "- File handle is like a cursor, which defines from where the data has to be read or written in the file"
   ]
  },
  {
   "cell_type": "code",
   "execution_count": 51,
   "id": "f31ba648-bbf4-45b6-b74d-b12714fabd09",
   "metadata": {},
   "outputs": [
    {
     "name": "stdout",
     "output_type": "stream",
     "text": [
      "8\n"
     ]
    }
   ],
   "source": [
    "file = open(\"D:\\KEYURI\\MCA\\SEM-I\\PYTHON\\PYTHON_Practical\\Files\\example1.txt\", mode = 'r', encoding='utf-8')\n",
    "print(file.seek(8))\n",
    "file.close()"
   ]
  },
  {
   "cell_type": "markdown",
   "id": "120a5fb2-092e-4259-9923-241efb89ff5a",
   "metadata": {},
   "source": [
    "##### difference between tell() and seek()\n",
    "- The tell function is used to determine the current position of the file pointer\n",
    "- The seek function is used to move the file pointer to the specified position of the file"
   ]
  },
  {
   "cell_type": "markdown",
   "id": "f157bf0b-9ce6-4af3-a167-817a1e44e797",
   "metadata": {},
   "source": [
    "__Method &emsp;&emsp; | &emsp;&emsp; Function Description__<br>\n",
    "close() &emsp;&emsp;&emsp; | &emsp;&emsp; Closes the file <br>\n",
    "detach() &emsp;&emsp;&nbsp; | &emsp;&emsp; Returns the separated raw stream from the buffer <br>\n",
    "fileno() &emsp;&emsp;&nbsp;,&nbsp; | &emsp;&emsp; Returns a number that represents the stream, from the operating system's perspective <br>\n",
    "flush() &emsp;&emsp;&emsp;&nbsp; | &emsp;&emsp; Flushes the internal buffer <br>\n",
    "isatty() &emsp;&emsp;&emsp; | &emsp;&emsp; Returns whether the file stream is interactive or not <br>\n",
    "read() &emsp;&emsp;&emsp;&nbsp; | &emsp;&emsp; Returns the file content <br>\n",
    "readable() &emsp;&nbsp; | &emsp;&emsp; Returns whether the file stream can be read or not <br>\n",
    "readline() &emsp;&nbsp;&nbsp; | &emsp;&emsp; Returns one line from the file <br>\n",
    "readlines() &emsp; | &emsp;&emsp; Returns a list of lines from the file <br>\n",
    "seek() &emsp;&emsp;&emsp; | &emsp;&emsp; Change the file position <br>\n",
    "seekable() &emsp;&nbsp; | &emsp;&emsp; Returns whether the file allows us to change the file position <br>\n",
    "tell() &emsp;&emsp;&emsp;&nbsp;&nbsp;&nbsp; | &emsp;&emsp; Returns the current file position <br>\n",
    "truncate() &emsp;&nbsp;&nbsp; | &emsp;&emsp; \tResizes the file to a specified size <br>\n",
    "writable() &emsp;&nbsp;&nbsp; | &emsp;&emsp; Returns whether the file can be written to or not <br>\n",
    "write() &emsp;&emsp;&emsp; | &emsp;&emsp; Writes the specified string to the file <br>\n",
    "writelines() &emsp; | &emsp;&emsp; Writes a list of strings to the file <br>"
   ]
  },
  {
   "cell_type": "markdown",
   "id": "c573f0e3-47c0-4e15-bdc6-d167d8201cf9",
   "metadata": {},
   "source": [
    "## Directories"
   ]
  },
  {
   "cell_type": "markdown",
   "id": "3a5f7d0c-c4e0-41a1-94b7-1555152655e9",
   "metadata": {},
   "source": [
    "- A directory is a collection of files and subdirectories\n",
    "- A directory inside a directory is known as a subdirectory\n",
    "- Python has the os module that provides us with many useful methods to work with directories (and files as well)"
   ]
  },
  {
   "cell_type": "markdown",
   "id": "403ef080-066a-4479-a407-66bf089c0365",
   "metadata": {},
   "source": [
    "### Methods for work with directory"
   ]
  },
  {
   "cell_type": "markdown",
   "id": "6b445b9c-81ca-4f55-834b-8a10a9510d2f",
   "metadata": {},
   "source": [
    "##### __os.getcwd()__ function to get the current working directory."
   ]
  },
  {
   "cell_type": "code",
   "execution_count": 4,
   "id": "5bbbb6e9-d870-425d-ad02-36ded6076767",
   "metadata": {},
   "outputs": [
    {
     "name": "stdout",
     "output_type": "stream",
     "text": [
      "D:\\KEYURI\\MCA\\SEM-I\\PYTHON\\PYTHON_Practical\n"
     ]
    }
   ],
   "source": [
    "import os\n",
    "print(os.getcwd())"
   ]
  },
  {
   "cell_type": "markdown",
   "id": "de1fc208-b89c-4efb-bee2-71f0cef272ab",
   "metadata": {},
   "source": [
    "##### __os.chdir()__ function to change the current working directory."
   ]
  },
  {
   "cell_type": "code",
   "execution_count": 1,
   "id": "871ac4fd-a77d-4bef-a347-f956c38a91e0",
   "metadata": {},
   "outputs": [],
   "source": [
    "import os\n",
    "os.chdir(\"D:\\KEYURI\\MCA\\SEM-I\\PYTHON\\PYTHON_Practical\\Files\")"
   ]
  },
  {
   "cell_type": "markdown",
   "id": "4a39eeac-1b5a-4c26-9e81-e1e0e1d79b88",
   "metadata": {},
   "source": [
    "##### __os.mkdir()__ function to make a new directory."
   ]
  },
  {
   "cell_type": "code",
   "execution_count": 2,
   "id": "b35284ed-173b-4e73-8335-e8cb82916a80",
   "metadata": {},
   "outputs": [],
   "source": [
    "import os\n",
    "directory = \"D:\\KEYURI\\MCA\\SEM-I\\PYTHON\\PYTHON_Practical\\Files\\directory\"\n",
    "os.mkdir(directory)"
   ]
  },
  {
   "cell_type": "markdown",
   "id": "b8059f4f-5bad-4856-899f-0d64c88fc871",
   "metadata": {},
   "source": [
    "##### __os.rmdir()__ function to remove a directory."
   ]
  },
  {
   "cell_type": "code",
   "execution_count": 3,
   "id": "4611f5b9-7bc2-4651-a812-2c9fe8728534",
   "metadata": {},
   "outputs": [],
   "source": [
    "import os\n",
    "directory = \"D:\\KEYURI\\MCA\\SEM-I\\PYTHON\\PYTHON_Practical\\Files\\directory\"\n",
    "os.rmdir(directory)"
   ]
  },
  {
   "cell_type": "markdown",
   "id": "27038913-0127-4ebb-a4cc-b626d35304f2",
   "metadata": {},
   "source": [
    "##### __os.listdir()__ function to list the files in a directory."
   ]
  },
  {
   "cell_type": "code",
   "execution_count": 50,
   "id": "06d82b68-2062-4b55-914e-ac9332fc5795",
   "metadata": {},
   "outputs": [
    {
     "name": "stdout",
     "output_type": "stream",
     "text": [
      "List of contents of the current working directory : \n",
      ".ipynb_checkpoints\n",
      "Files\n",
      "first.py\n",
      "Flies_&_Directories.ipynb\n",
      "FlowControl.ipynb\n",
      "Function.ipynb\n",
      "Introduction.ipynb\n",
      "Introduction_of_OOP.ipynb\n",
      "Notes.ipynb\n",
      "Practical\n",
      "practical_work.ipynb\n",
      "_Python_Practical.docx\n",
      "_Python_Practical_List.docx\n"
     ]
    }
   ],
   "source": [
    "import os\n",
    "current_directory = os.getcwd()\n",
    "directory_contents = os.listdir(current_directory)\n",
    "print(\"List of contents of the current working directory : \")\n",
    "for item in directory_contents:\n",
    "    print(item)"
   ]
  },
  {
   "cell_type": "markdown",
   "id": "f4a77072-5ef0-466d-a0b8-0ba303ccf6b5",
   "metadata": {},
   "source": [
    "##### __os.rename()__ function to rename a directory."
   ]
  },
  {
   "cell_type": "code",
   "execution_count": 51,
   "id": "e2bc2551-eb8a-47d4-ba15-a6b60a154c41",
   "metadata": {},
   "outputs": [],
   "source": [
    "import os\n",
    "old_directory = \"D:\\KEYURI\\MCA\\SEM-I\\PYTHON\\PYTHON_Practical\\Files\\directory\"\n",
    "new_directory = \"D:\\KEYURI\\MCA\\SEM-I\\PYTHON\\PYTHON_Practical\\Files\\directories\"\n",
    "os.rename(old_directory, new_directory)"
   ]
  },
  {
   "cell_type": "markdown",
   "id": "8de8b158-242d-41df-9f6c-9bd289970c26",
   "metadata": {},
   "source": [
    "##### __shutil.rmtree()__ function to delete an entire directory tree"
   ]
  },
  {
   "cell_type": "code",
   "execution_count": 54,
   "id": "1acff17c-7173-42b8-8202-6a2052b02e40",
   "metadata": {},
   "outputs": [],
   "source": [
    "import shutil as sh\n",
    "directory = \"D:\\KEYURI\\MCA\\SEM-I\\PYTHON\\PYTHON_Practical\\Files\\directories\"\n",
    "sh.rmtree(directory)"
   ]
  },
  {
   "cell_type": "markdown",
   "id": "d3874943-cf67-47f6-bc8a-86ee58e8172f",
   "metadata": {},
   "source": [
    "## Modules"
   ]
  },
  {
   "cell_type": "markdown",
   "id": "7f265a07-0d4a-409e-97c2-fe3debef5bb6",
   "metadata": {},
   "source": [
    "- Module is a file that contains code to perform a specific task\n",
    "- A module may contain variables, functions, classes etc\n",
    "- A module is a file consisting of python code\n",
    "- Install the new python module using the command __pip install <_module_name_>__"
   ]
  },
  {
   "cell_type": "markdown",
   "id": "46240609-0aad-482b-91a7-4eb6a62dc468",
   "metadata": {},
   "source": [
    "#### Syntax :\n",
    "- __import module_name__ <br>\n",
    "\n",
    "  import : the import keyword is used to import modules <br>\n",
    "  module_name : name of the module that import"
   ]
  },
  {
   "cell_type": "code",
   "execution_count": 62,
   "id": "c66eec6c-a98c-4760-9cbb-d9541acf1882",
   "metadata": {},
   "outputs": [
    {
     "name": "stdout",
     "output_type": "stream",
     "text": [
      "The value of pi is 3.141592653589793\n"
     ]
    }
   ],
   "source": [
    "import math\n",
    "print(\"The value of pi is\", math.pi)"
   ]
  },
  {
   "cell_type": "markdown",
   "id": "2473bb68-77c0-471d-85b5-3f5edb326354",
   "metadata": {},
   "source": [
    "#### Syntax :\n",
    "- __import module_name as alias_name__ <br>\n",
    "\n",
    "  import : the import keyword is used to import modules <br>\n",
    "  module_name : name of the module that import <br>\n",
    "  as : the as keyword in python is used to provide aliases <br>\n",
    "  alias_name : aliases is sub-name or user-defined name of predefined module"
   ]
  },
  {
   "cell_type": "code",
   "execution_count": 2,
   "id": "15e0fdbf-fb28-4a3e-97fe-9851c431ca0b",
   "metadata": {},
   "outputs": [
    {
     "name": "stdout",
     "output_type": "stream",
     "text": [
      "The value of pi is 3.141592653589793\n"
     ]
    }
   ],
   "source": [
    "import math as m\n",
    "print(\"The value of pi is\",m.pi)"
   ]
  },
  {
   "cell_type": "markdown",
   "id": "1a26144c-943c-43d1-bcad-6cb48fbe7de0",
   "metadata": {},
   "source": [
    "#### Syntax :\n",
    "- __from module_name import *__ <br>\n",
    "\n",
    "  form : from is keyword to import particular function into modules <br>\n",
    "  module_name : name of the module that import <br>\n",
    "  import : the import keyword is used to import modules <br>\n",
    "  '*' : all public identifiers including variables, constants, functions, classes, etc"
   ]
  },
  {
   "cell_type": "code",
   "execution_count": 3,
   "id": "1ba3279a-1047-4d4c-acd5-6a1851853eae",
   "metadata": {},
   "outputs": [
    {
     "name": "stdout",
     "output_type": "stream",
     "text": [
      "The value of pi is 3.141592653589793\n"
     ]
    }
   ],
   "source": [
    "from math import pi\n",
    "print(\"The value of pi is\",pi)"
   ]
  },
  {
   "cell_type": "markdown",
   "id": "f577ccf6-477e-4458-9801-96bfb945c5c9",
   "metadata": {},
   "source": [
    "##### write a program to copy content one txt file to another txt file"
   ]
  },
  {
   "cell_type": "code",
   "execution_count": 5,
   "id": "f7d419c2-a48d-4597-b055-1b1df19f63ea",
   "metadata": {},
   "outputs": [
    {
     "name": "stdout",
     "output_type": "stream",
     "text": [
      "Content copied successfully\n"
     ]
    }
   ],
   "source": [
    "import shutil as sh\n",
    "\n",
    "file1 = \"D:\\\\KEYURI\\\\MCA\\\\SEM-I\\\\PYTHON\\\\PYTHON_Practical\\\\Files\\\\file1.txt\"  # Replace with the path to the source file\n",
    "file2 = \"D:\\\\KEYURI\\\\MCA\\\\SEM-I\\\\PYTHON\\\\PYTHON_Practical\\\\Files\\\\file2.txt\"  # Replace with the path to the destination file\n",
    "sh.copyfile(file1, file2)\n",
    "print(\"Content copied successfully\")"
   ]
  }
 ],
 "metadata": {
  "kernelspec": {
   "display_name": "Python 3 (ipykernel)",
   "language": "python",
   "name": "python3"
  },
  "language_info": {
   "codemirror_mode": {
    "name": "ipython",
    "version": 3
   },
   "file_extension": ".py",
   "mimetype": "text/x-python",
   "name": "python",
   "nbconvert_exporter": "python",
   "pygments_lexer": "ipython3",
   "version": "3.10.7"
  }
 },
 "nbformat": 4,
 "nbformat_minor": 5
}
