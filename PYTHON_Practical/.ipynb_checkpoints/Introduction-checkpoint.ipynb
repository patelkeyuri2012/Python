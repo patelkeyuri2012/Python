{
 "cells": [
  {
   "cell_type": "code",
   "execution_count": 1,
   "id": "d599702a-548e-43a4-ada1-8fca884b3d05",
   "metadata": {},
   "outputs": [],
   "source": [
    "a = 10\n",
    "b = \"Gujarat Vidhyapith\"\n",
    "c = 7.7\n",
    "d = True"
   ]
  },
  {
   "cell_type": "code",
   "execution_count": 2,
   "id": "c143049d-c637-484e-bd6c-46da51ef135e",
   "metadata": {},
   "outputs": [
    {
     "name": "stdout",
     "output_type": "stream",
     "text": [
      "<class 'int'>\n",
      "<class 'str'>\n",
      "<class 'float'>\n",
      "<class 'bool'>\n"
     ]
    }
   ],
   "source": [
    "#type function used to know datatype of variable\n",
    "print (type(a))\n",
    "print (type(b))\n",
    "print (type(c))\n",
    "print (type(d))"
   ]
  },
  {
   "cell_type": "code",
   "execution_count": 3,
   "id": "7515b561-67ee-4350-bff3-bf02367ebbbd",
   "metadata": {},
   "outputs": [
    {
     "name": "stdout",
     "output_type": "stream",
     "text": [
      "False\n"
     ]
    }
   ],
   "source": [
    "b = False\n",
    "print (b)"
   ]
  },
  {
   "cell_type": "code",
   "execution_count": 4,
   "id": "9eb15af9-bd58-4ff3-ae76-01c714225176",
   "metadata": {},
   "outputs": [
    {
     "name": "stdout",
     "output_type": "stream",
     "text": [
      "2\n"
     ]
    }
   ],
   "source": [
    "#python take integer value of boolean datatype (True = 1, False = 0)\n",
    "print (True+1)"
   ]
  },
  {
   "cell_type": "code",
   "execution_count": 5,
   "id": "4d3f97d0-0dd0-4749-9d8e-1d7c4f7449b2",
   "metadata": {},
   "outputs": [
    {
     "name": "stdout",
     "output_type": "stream",
     "text": [
      "1234\n"
     ]
    }
   ],
   "source": [
    "#everything wrritten in single qoutation is considered as a string \n",
    "#string is immutable datatype\n",
    "s='1234'\n",
    "print(s)"
   ]
  },
  {
   "cell_type": "code",
   "execution_count": 6,
   "id": "98799d02-c2b2-4d87-9d45-742ad438f9de",
   "metadata": {},
   "outputs": [
    {
     "name": "stdout",
     "output_type": "stream",
     "text": [
      "Welcome to 'Gujarat Vidhyapith'\n",
      "Welcome to Gujarat Vidhyapith\n"
     ]
    }
   ],
   "source": [
    "#'+' operator used to concatenation\n",
    "print(\"Welcome to 'Gujarat Vidhyapith'\")\n",
    "print('Welcome to '+'Gujarat Vidhyapith')"
   ]
  },
  {
   "cell_type": "code",
   "execution_count": 7,
   "id": "d91ce4ae-7d36-441c-bda8-ce73ac4981a8",
   "metadata": {},
   "outputs": [
    {
     "name": "stdout",
     "output_type": "stream",
     "text": [
      "Gujarat Vidhyapith\n",
      "Gujarat Vidhyapith\n"
     ]
    }
   ],
   "source": [
    "#string written in single or double qoutation\n",
    "s1 = \"Gujarat Vidhyapith\"\n",
    "print(s1)\n",
    "s2 = 'Gujarat Vidhyapith'\n",
    "print(s2)\n",
    "#string is immutable"
   ]
  },
  {
   "cell_type": "code",
   "execution_count": 8,
   "id": "8c4817fd-dcee-4214-917c-6b0ed3822cfa",
   "metadata": {},
   "outputs": [
    {
     "name": "stdout",
     "output_type": "stream",
     "text": [
      "ujara\n",
      "ujar\n"
     ]
    }
   ],
   "source": [
    "#silce (start, stop, step)\n",
    "#start by default value is : 0\n",
    "#stop by default value is : end letter\n",
    "# step by default value is : 1\n",
    "s3=slice(1,6)\n",
    "print(s2[s3])\n",
    "print(s2[1:5])"
   ]
  },
  {
   "cell_type": "code",
   "execution_count": 9,
   "id": "273f2b8b-5dfe-48fb-bd6c-9788f838d486",
   "metadata": {},
   "outputs": [
    {
     "name": "stdout",
     "output_type": "stream",
     "text": [
      "False\n",
      "A\n",
      "B\n",
      "k\n",
      "1\n",
      "guj\n",
      "True\n",
      "1.23\n"
     ]
    }
   ],
   "source": [
    "#or statment\n",
    "'''OR used in an below expression returns the value of the first oprand that is not a falsy value (False ,0 ,\" ,[] , ...)\n",
    "Otherwise it returns the last operand'''\n",
    "\n",
    "print([] or False)\n",
    "print('A' or 'B')\n",
    "print('B' or 'A')\n",
    "print('k' or 1)\n",
    "print (1 or 'k')\n",
    "print('guj' or True)\n",
    "print(True or 'guj')\n",
    "print (False or 1.23)"
   ]
  },
  {
   "cell_type": "code",
   "execution_count": 10,
   "id": "8d2e634e-53db-40d1-bf28-93cca8c3ced3",
   "metadata": {},
   "outputs": [
    {
     "name": "stdout",
     "output_type": "stream",
     "text": [
      "T\n",
      "1\n",
      "{}\n",
      "False\n"
     ]
    }
   ],
   "source": [
    "#and statment\n",
    "'''AND only rvaluates second argument if the first one is true, so if the first argument is falsy value (False, 0, \", [], ...)\n",
    "It returns that argument otherwise it evaluted the second argument'''\n",
    "\n",
    "print (1 and 'T')\n",
    "print ('T' and 1)\n",
    "print ({} and 1)\n",
    "print (False and 1)"
   ]
  },
  {
   "cell_type": "code",
   "execution_count": 11,
   "id": "925b0c00-b0c7-49cf-ac22-760fbb5f488c",
   "metadata": {},
   "outputs": [
    {
     "name": "stdout",
     "output_type": "stream",
     "text": [
      "Gujarat Vidyapith\n",
      "GujaratVidyapith\n",
      "Gujarat \n",
      "Vidyapith\n",
      "arat Vidyapith\n",
      "Gujarat \tVidyapith\n",
      "Gujarat 'Vidyapith\n",
      "Gujarat \"Vidyapith\n",
      "Gujarat \\Vidyapith\n",
      "gvp\n",
      "GVP\n"
     ]
    }
   ],
   "source": [
    "#escape sequnce\n",
    "print(\"Gujarat Vidyapith\")          #simple\n",
    "print(\"Gujarat \\bVidyapith\")          #backspace\n",
    "print(\"Gujarat \\nVidyapith\")          #new line\n",
    "print(\"Guj\\rarat Vidyapith\")          #carriage return\n",
    "print(\"Gujarat \\tVidyapith\")          #horizontal tab\n",
    "print(\"Gujarat \\'Vidyapith\")          #single qoutation\n",
    "print(\"Gujarat \\\"Vidyapith\")          #double qoutation\n",
    "print(\"Gujarat \\\\Vidyapith\")          #backslash\n",
    "print(\"\\x67\\x76\\x70\")          #octal representation\n",
    "print(\"\\107\\126\\120\")          #hexadecimal representation"
   ]
  },
  {
   "cell_type": "code",
   "execution_count": 12,
   "id": "fcee9423-aff5-4ab3-97c5-7429ce86dab7",
   "metadata": {},
   "outputs": [
    {
     "name": "stdout",
     "output_type": "stream",
     "text": [
      "G\n",
      "Guj\n",
      "arat Vidyapith\n",
      "h\n",
      "h\n",
      "arat Vidyapith\n",
      "api\n",
      "jar\n",
      "jar\n",
      "ujar\n",
      "GjrtVdaih\n",
      "GjrtVdaih\n",
      "htipaydiV tarajuG\n"
     ]
    }
   ],
   "source": [
    "#slicing quiz\n",
    "un = \"Gujarat Vidyapith\"\n",
    "print(un[0])          #first letter\n",
    "print(un[0:3])          #till first three letter\n",
    "print(un[3:])          #start with third letter\n",
    "print(un[-1])          #last letter\n",
    "print(un[-1:])          #last letter\n",
    "print(un[-14:])          #start with -14 letter\n",
    "print(un[12:-2])          #start with 12 letter till -2 letter\n",
    "print(un[2:-12])          #start with 2 letter till -12 letter\n",
    "print(un[2:5])          #start with 2 letter till 5 letter\n",
    "print(un[1:5])          #start with 1 letter till 5 letter\n",
    "print(un[0::2])          #skip one letter after each letter\n",
    "print(un[::2])          #skip one letter after each letter\n",
    "print(un[::-1])          #reverse"
   ]
  },
  {
   "cell_type": "code",
   "execution_count": 13,
   "id": "7e592387-06f7-4f59-8b31-41b3fbabd8ee",
   "metadata": {},
   "outputs": [
    {
     "data": {
      "text/plain": [
       "3"
      ]
     },
     "execution_count": 13,
     "metadata": {},
     "output_type": "execute_result"
    }
   ],
   "source": [
    "#count repeated letter in given sting\n",
    "un = \"Gujarat Vidyapith\"\n",
    "un.count('a')                        "
   ]
  },
  {
   "cell_type": "code",
   "execution_count": 14,
   "id": "49f6efd9-52d7-464b-a22f-5d4aaf26393f",
   "metadata": {},
   "outputs": [
    {
     "name": "stdout",
     "output_type": "stream",
     "text": [
      "['Gujarat', 'Vidyapith']\n",
      "2\n"
     ]
    }
   ],
   "source": [
    "#count word or split word in given string\n",
    "un = \"Gujarat Vidyapith\"                        \n",
    "print(un.split())\n",
    "print(len(un.split()))"
   ]
  },
  {
   "cell_type": "code",
   "execution_count": 15,
   "id": "0b3cb941-69d2-4854-b8f8-342ca065568e",
   "metadata": {},
   "outputs": [
    {
     "name": "stdout",
     "output_type": "stream",
     "text": [
      "12 and 21.5\n",
      "a and b\n"
     ]
    }
   ],
   "source": [
    "#replacement format\n",
    "a = 12                        \n",
    "b = 21.5\n",
    "print(\"{} and {}\".format(a,b))     #replace of variable value\n",
    "print(\"{} and {}\".format(\"a\",\"b\"))     #which value is replace "
   ]
  },
  {
   "cell_type": "code",
   "execution_count": 16,
   "id": "2e5eaafc-ba9c-47e3-9a39-44db265742e0",
   "metadata": {},
   "outputs": [
    {
     "name": "stdout",
     "output_type": "stream",
     "text": [
      "23 and 14.3\n",
      "j and i\n"
     ]
    }
   ],
   "source": [
    "#replacement format with index\n",
    "i, j = 14.3, 23                       \n",
    "print(\"{1} and {0}\".format(i,j))     #replace of variable value\n",
    "print(\"{1} and {0}\".format(\"i\",\"j\"))     #which value is replace "
   ]
  },
  {
   "cell_type": "code",
   "execution_count": 17,
   "id": "a0ede2bb-639c-499e-9cbb-1b1a8a7167f9",
   "metadata": {},
   "outputs": [
    {
     "name": "stdout",
     "output_type": "stream",
     "text": [
      "2\n",
      "12.6\n",
      "23.0\n"
     ]
    }
   ],
   "source": [
    "#type conversion\n",
    "i = int(2.5)       #float convert into int\n",
    "j = str(12.6)       #float convert into string\n",
    "k = float(23)       #int convert float string\n",
    "print(i)\n",
    "print(j)\n",
    "print(k)"
   ]
  },
  {
   "cell_type": "code",
   "execution_count": 18,
   "id": "4fce19fa-d988-4894-b93c-dd3f2ade2535",
   "metadata": {},
   "outputs": [
    {
     "name": "stdout",
     "output_type": "stream",
     "text": [
      "gvp GVP\n",
      "gvp   GVP\n",
      "  gvp GVP\n",
      "gvp   GVP\n"
     ]
    }
   ],
   "source": [
    "#string padding\n",
    "print(\"{} {}\".format(\"gvp\", \"GVP\"))          #by default padding by one space\n",
    "print(\"{:5} {}\".format(\"gvp\", \"GVP\"))          #padding with given space\n",
    "print(\"{:>5} {}\".format(\"gvp\", \"GVP\"))          #leftside padding with given space\n",
    "print(\"{:<5} {}\".format(\"gvp\", \"GVP\"))          #rightside padding with given space (by default for string)"
   ]
  },
  {
   "cell_type": "code",
   "execution_count": 19,
   "id": "dab1bff6-a94e-4281-a17f-ecce0e5c6f9a",
   "metadata": {},
   "outputs": [
    {
     "name": "stdout",
     "output_type": "stream",
     "text": [
      "2002 20\n",
      " 2002 20\n",
      " 2002 20\n",
      "2002  20\n"
     ]
    }
   ],
   "source": [
    "#numeric padding\n",
    "print(\"{} {}\".format(2002, 20))          #by default padding by one space\n",
    "print(\"{:5} {}\".format(2002, 20))          #padding with given space\n",
    "print(\"{:>5} {}\".format(2002, 20))          #leftside padding with given space (by default for numeric)\n",
    "print(\"{:<5} {}\".format(2002, 20))          #rightside padding with given space "
   ]
  },
  {
   "cell_type": "code",
   "execution_count": 20,
   "id": "ec96eae3-c409-4123-b140-9bdd54f08f34",
   "metadata": {},
   "outputs": [
    {
     "name": "stdout",
     "output_type": "stream",
     "text": [
      "3.1428\n",
      " 3.14\n",
      "     3.143\n"
     ]
    }
   ],
   "source": [
    "#decimal floating point padding\n",
    "pi = 3.1428\n",
    "print(pi)\n",
    "print(\"{:>5.2f}\".format(pi))     #in fractional part write 2 digit\n",
    "print(\"{:>10.3f}\".format(pi))     #in fractional part write 3 digit"
   ]
  },
  {
   "cell_type": "code",
   "execution_count": 21,
   "id": "8f513050-0c4c-45f6-a310-e7f6d9fd5916",
   "metadata": {},
   "outputs": [
    {
     "name": "stdout",
     "output_type": "stream",
     "text": [
      "<class 'list'>\n",
      "[1, 'a', 21.5, True]\n",
      "21.5\n",
      "4\n",
      "[1, 'b', 21.5, True]\n"
     ]
    }
   ],
   "source": [
    "#list\n",
    "l1 = []\n",
    "l2 = list()\n",
    "print(type(l1))              #print type of list\n",
    "l3 = [1, 'a', 21.5, True]     \n",
    "print(l3)              #print all elemet of list\n",
    "print(l3[2])              #print index of 2nd element of list (third element)\n",
    "print(len(l3))              #print lenght of list\n",
    "l3[1]=\"b\"              #change element of given index\n",
    "print(l3)              "
   ]
  },
  {
   "cell_type": "code",
   "execution_count": 22,
   "id": "aafa4068-a356-476b-aa9c-168ec5b6be73",
   "metadata": {},
   "outputs": [
    {
     "name": "stdout",
     "output_type": "stream",
     "text": [
      "[2, 'A', False, 23.4, 'GVP']\n",
      "['10', 'A', False, 23.4, 'GVP']\n",
      "['10', 'A', False, 23.4, 'Extra']\n",
      "['10', 'A', False, 23.4, 'Extra', 'Add']\n",
      "['10', 'A', 'B', False, 23.4, 'Extra', 'Add']\n",
      "['10', 'A', False, 23.4, 'Extra', 'Add']\n",
      "1\n"
     ]
    }
   ],
   "source": [
    "#quiz\n",
    "l4 = [2, 'A', False, 23.4, \"GVP\"]\n",
    "print(l4)              #print all element of list\n",
    "l4[0] = '10'              #change element of given index\n",
    "print(l4)              \n",
    "l4[4] = 'Extra'              #change element of given index\n",
    "print(l4)\n",
    "l4.append('Add')              #add element in list at end\n",
    "print(l4)\n",
    "l4.insert(2,\"B\")              #insert element at given index\n",
    "print(l4)\n",
    "l4.remove(\"B\")              #remove element at given index\n",
    "print(l4)\n",
    "print(l4.index(\"A\"))              #index of given element"
   ]
  },
  {
   "cell_type": "code",
   "execution_count": 23,
   "id": "7a709094-bb39-4b64-8599-53a7a0c4b727",
   "metadata": {},
   "outputs": [
    {
     "name": "stdout",
     "output_type": "stream",
     "text": [
      "Help on built-in function print in module builtins:\n",
      "\n",
      "print(...)\n",
      "    print(value, ..., sep=' ', end='\\n', file=sys.stdout, flush=False)\n",
      "    \n",
      "    Prints the values to a stream, or to sys.stdout by default.\n",
      "    Optional keyword arguments:\n",
      "    file:  a file-like object (stream); defaults to the current sys.stdout.\n",
      "    sep:   string inserted between values, default a space.\n",
      "    end:   string appended after the last value, default a newline.\n",
      "    flush: whether to forcibly flush the stream.\n",
      "\n"
     ]
    }
   ],
   "source": [
    "help(print)       #help to find any function description"
   ]
  },
  {
   "cell_type": "code",
   "execution_count": 24,
   "id": "10ba70a0-64cf-4c49-af93-f389fc3aca32",
   "metadata": {},
   "outputs": [
    {
     "name": "stdout",
     "output_type": "stream",
     "text": [
      "[1, 'b', 21.5, True, '10', 'A', False, 23.4, 'Extra', 'Add']\n"
     ]
    }
   ],
   "source": [
    "l5 = l3 + l4       #concatenation two list using '+'\n",
    "print(l5)"
   ]
  },
  {
   "cell_type": "code",
   "execution_count": 25,
   "id": "3e0f9906-587d-4d46-9182-4e3b25016c63",
   "metadata": {},
   "outputs": [
    {
     "name": "stdout",
     "output_type": "stream",
     "text": [
      "[1, 'b', 21.5, True, 1, 'b', 21.5, True, 1, 'b', 21.5, True, 1, 'b', 21.5, True]\n"
     ]
    }
   ],
   "source": [
    "l6 = l3 * 4       #repeated element of list\n",
    "print(l6)"
   ]
  },
  {
   "cell_type": "code",
   "execution_count": 26,
   "id": "02d25c1d-15a0-4e0d-ace1-f1d01461f7ec",
   "metadata": {},
   "outputs": [
    {
     "name": "stdout",
     "output_type": "stream",
     "text": [
      "['K', 3.4]\n",
      "['Vidyapith', 3.4, 'K', 34, 'Gujarat']\n",
      "['Vidyapith', 3.4]\n"
     ]
    }
   ],
   "source": [
    "#quiz\n",
    "l4 = ['Gujarat', 34, 'K', 3.4, \"Vidyapith\"]\n",
    "print(l4[2:4])       #print 2nd and 3rd element of list\n",
    "print(l4[::-1])       #print reverse list\n",
    "print(l4[:2:-1])       #print last 2 element reversely"
   ]
  },
  {
   "cell_type": "code",
   "execution_count": 27,
   "id": "5ce6aa31-ea57-4bf8-bc2e-902a3d6e4606",
   "metadata": {},
   "outputs": [
    {
     "name": "stdout",
     "output_type": "stream",
     "text": [
      "['a', 'B', 'c', 'c', 'f', 'F']\n"
     ]
    }
   ],
   "source": [
    "#sort\n",
    "l5 = ['a', 'B', 'c', 'f', 'c', 'F']\n",
    "l5.sort(key=str.lower)              #by default capital alphabet has more priority\n",
    "print(l5)"
   ]
  },
  {
   "cell_type": "code",
   "execution_count": 28,
   "id": "91427c23-c512-41e2-899d-9bc84e6dc2f1",
   "metadata": {},
   "outputs": [
    {
     "name": "stdout",
     "output_type": "stream",
     "text": [
      "[2.3, 3, 4, 5, 7, 8.5]\n"
     ]
    }
   ],
   "source": [
    "l6 = [5, 8.5, 3, 7, 4, 2.3]\n",
    "l6.sort()              #sort number in ascending order\n",
    "print(l6)"
   ]
  },
  {
   "cell_type": "code",
   "execution_count": 29,
   "id": "6df81c12-b6c1-4c86-b885-740348210c39",
   "metadata": {},
   "outputs": [
    {
     "name": "stdout",
     "output_type": "stream",
     "text": [
      "[8.5, 7, 5, 4, 3, 2.3]\n"
     ]
    }
   ],
   "source": [
    "#sorted\n",
    "l7 = [5, 8.5, 3, 7, 4, 2.3]\n",
    "print(sorted(l7, reverse=True))               #sort number in descending order"
   ]
  },
  {
   "cell_type": "code",
   "execution_count": 30,
   "id": "e3ba9caf-7617-4f77-9358-3ee47a4725c3",
   "metadata": {},
   "outputs": [
    {
     "name": "stdout",
     "output_type": "stream",
     "text": [
      "9\n",
      "-5\n"
     ]
    }
   ],
   "source": [
    "l6=[3, 5, 9, 1, -5]\n",
    "print(max(l6))               #find out max value from list\n",
    "print(min(l6))               #find out min value from list"
   ]
  },
  {
   "cell_type": "code",
   "execution_count": 31,
   "id": "b8715cdd-8030-4c50-9bb1-cf8c9989e2dd",
   "metadata": {},
   "outputs": [
    {
     "name": "stdout",
     "output_type": "stream",
     "text": [
      "('g', 'u', 'j', 'a', 'r', 'a', 't')\n",
      "('g', 'u', 'j', 'a', 'r', 'a', 't')\n"
     ]
    }
   ],
   "source": [
    "#tuples\n",
    "t1 = ('g', 'u', 'j', 'a', 'r', 'a', 't')               #tuples create using ()\n",
    "t2 = 'g', 'u', 'j', 'a', 'r', 'a', 't'               #tuples create directly\n",
    "print(t1)\n",
    "print(t2)"
   ]
  },
  {
   "cell_type": "code",
   "execution_count": 32,
   "id": "54139ac5-7a8a-4ae9-94fe-d12265d236db",
   "metadata": {},
   "outputs": [
    {
     "name": "stdout",
     "output_type": "stream",
     "text": [
      "j\n",
      "('g', 'u')\n"
     ]
    }
   ],
   "source": [
    "print(t1[2])               #indexing in tuple\n",
    "print(t1[:2])"
   ]
  },
  {
   "cell_type": "code",
   "execution_count": 33,
   "id": "3de85462-763b-46b5-a542-adb027203dae",
   "metadata": {},
   "outputs": [],
   "source": [
    "t2 = 1, 2, 5, 'k'               #for create tuple must be have two elements\n",
    "x = (12)               #if you write one elements its count as any other datatype\n",
    "y = 2, 4"
   ]
  },
  {
   "cell_type": "code",
   "execution_count": 34,
   "id": "901492e4-8740-4cec-b8e1-9fdc2f7e49f6",
   "metadata": {},
   "outputs": [
    {
     "name": "stdout",
     "output_type": "stream",
     "text": [
      "<class 'tuple'>\n",
      "<class 'int'>\n",
      "<class 'tuple'>\n"
     ]
    }
   ],
   "source": [
    "print(type(t2))\n",
    "print(type(x))\n",
    "print(type(y))"
   ]
  },
  {
   "cell_type": "code",
   "execution_count": 35,
   "id": "bd7b1692-62f6-4aaf-bf11-09cbd149b66b",
   "metadata": {},
   "outputs": [
    {
     "name": "stdout",
     "output_type": "stream",
     "text": [
      "3\n"
     ]
    }
   ],
   "source": [
    "print(t2.index('k'))"
   ]
  },
  {
   "cell_type": "code",
   "execution_count": 36,
   "id": "344c6cdd-7719-4b49-8cc1-a95d3d5a7b85",
   "metadata": {},
   "outputs": [
    {
     "name": "stdout",
     "output_type": "stream",
     "text": [
      "['bb', ['ccc', 'ddd'], 'ee', 'ff']\n",
      "['ccc', 'ddd']\n",
      "ee\n",
      "ccc\n",
      "['hxk', 'ii']\n",
      "hxk\n",
      "k\n"
     ]
    }
   ],
   "source": [
    "x = ['a', ['bb', ['ccc', 'ddd'], 'ee', 'ff'], 'g', ['hxk', 'ii'], 'j']\n",
    "print(x[1])          #show 1 index element\n",
    "print(x[1][1])          #show list within list elements\n",
    "print(x[1][1:3][1])          #show define indexing element\n",
    "print(x[1][1:3][0][0])          #show define indexing element list within list  \n",
    "print(x[3])          #show 3 index element\n",
    "print(x[3][0])          #print hxk from given list\n",
    "print(x[3][0:3][0][2])          #print k from given list"
   ]
  },
  {
   "cell_type": "code",
   "execution_count": 37,
   "id": "74ec6e02-f184-434b-a327-5ebd60634b65",
   "metadata": {},
   "outputs": [
    {
     "name": "stdout",
     "output_type": "stream",
     "text": [
      "[1, 2, 3, 'a', 'A', 1, 'A']\n",
      "{1, 'a', 2}\n",
      "{1, 'a', 2, 3, 'A'}\n"
     ]
    }
   ],
   "source": [
    "s1 = [1, 2, 3, 'a', 'A', 1, \"A\"]\n",
    "s = {1, 'a', 2}\n",
    "s2 = set(s1)\n",
    "print(s1)   \n",
    "print(s)\n",
    "print(s2)          #list convert into set"
   ]
  },
  {
   "cell_type": "code",
   "execution_count": 38,
   "id": "cbb67620-56b0-4ede-9c89-56546746968d",
   "metadata": {},
   "outputs": [
    {
     "name": "stdout",
     "output_type": "stream",
     "text": [
      "<class 'set'>\n",
      "set()\n"
     ]
    }
   ],
   "source": [
    "s = set({})          #empty set\n",
    "print(type(s))\n",
    "print(s)"
   ]
  },
  {
   "cell_type": "code",
   "execution_count": 39,
   "id": "f825fbb1-e645-41fd-8c67-e07b298192bc",
   "metadata": {},
   "outputs": [
    {
     "name": "stdout",
     "output_type": "stream",
     "text": [
      "<class 'tuple'>\n",
      "([1, 2], [7, 'b', 'c'])\n"
     ]
    }
   ],
   "source": [
    "a = ([1, 2], ['a', 'b', 'c'])\n",
    "a[1][0] = 7          #chabge element in set\n",
    "print(type(a))\n",
    "print(a)"
   ]
  },
  {
   "cell_type": "code",
   "execution_count": 40,
   "id": "8767d342-455b-4027-b67a-9f3e6bad1204",
   "metadata": {},
   "outputs": [
    {
     "name": "stdout",
     "output_type": "stream",
     "text": [
      "<class 'dict'>\n",
      "<class 'set'>\n"
     ]
    }
   ],
   "source": [
    "s1 = {}          #if blank curly bracket written in syntax count as dictionay\n",
    "s2 = set({})          #if blank curly bracket written in set constructor it count as set\n",
    "print(type(s1))\n",
    "print(type(s2))"
   ]
  },
  {
   "cell_type": "code",
   "execution_count": 41,
   "id": "9acf4232-e7c8-426b-a453-f7aba0fe6e1c",
   "metadata": {},
   "outputs": [
    {
     "name": "stdout",
     "output_type": "stream",
     "text": [
      "{'cat', 'cow', 'dog1'}\n",
      "{0, 2, 4, 6, 8}\n",
      "{1, 2, 3, 4, 5}\n",
      "{'Dog', 'cat2', 'dog1'}\n",
      "{0, 1, 2, 3, 4, 5, 6, 8}\n",
      "8\n",
      "{'cat', 'cow'}\n",
      "{'cat2', 'Dog'}\n",
      "{'dog1'}\n",
      "{'cat2', 'cat', 'cow', 'Dog'}\n",
      "False\n",
      "True\n"
     ]
    }
   ],
   "source": [
    "ss1 = {'cat', 'dog1', 'cow'}\n",
    "ss2 = {0, 2, 4, 6, 8}\n",
    "ss3 = {1, 2, 3, 4, 5}\n",
    "ss4 = {'cat2', 'dog1', 'Dog'}\n",
    "print(ss1)\n",
    "print(ss2)\n",
    "print(ss3)\n",
    "print(ss4)\n",
    "\n",
    "#mathematical operations for sets\n",
    "ss5 = ss2 | ss3         #all elements of both set : union of two sets\n",
    "print(ss5)         \n",
    "print(len(ss5))         #lenght of set\n",
    "ss5 = ss1 - ss4         #minus elements of set B from set A : A - B\n",
    "print(ss5)\n",
    "ss5 = ss4 - ss1         #minus elements of set A from set B : B - A\n",
    "print(ss5)\n",
    "ss5 = ss1 & ss4         #common elements from both sets : intersection of two sets\n",
    "print(ss5)\n",
    "ss5 = ss1 ^ ss4         #symmetrics difference : A union B - A intersect B\n",
    "print(ss5)\n",
    "ss5 = ss1 <= ss4         #supset : set A belongs to set B\n",
    "print(ss5)\n",
    "ss5 = ss4 >=ss4         #superset : set B belongs to set 1\n",
    "print(ss5)"
   ]
  },
  {
   "cell_type": "code",
   "execution_count": 42,
   "id": "e5e36f98-7848-4893-a76b-16b2a6ad530a",
   "metadata": {},
   "outputs": [
    {
     "name": "stdout",
     "output_type": "stream",
     "text": [
      "{1: 'aaa', 2: 'bbb', 3: 'ccc'}\n",
      "{1: 'Monday', 2: 'Tuesday', 3: 'Wednesday'}\n",
      "{1: 'Monday', 2: 'Tuesday', 3: 'Wednesday', 4: 'Thrusday'}\n",
      "{1: 'Monday', 2: 'Firday', 3: 'Wednesday', 4: 'Thrusday'}\n",
      "Monday\n",
      "Firday\n",
      "Tuesday\n",
      "Wednesday\n",
      "(4, 'Thrusday')\n",
      "{}\n"
     ]
    }
   ],
   "source": [
    "#dictionary container\n",
    "d = dict({1: 'aaa', 2: 'bbb', 3: 'ccc'})      #create dictionary using constructor\n",
    "print(d)\n",
    "d1 = {1: 'Monday', 2: 'Tuesday', 3: 'Wednesday'}      #create dictionary using sturcture\n",
    "print(d1)\n",
    "d1[4] = 'Thrusday'      #add element in dictionary\n",
    "print(d1)\n",
    "d1[2] = 'Firday'      #update or modify elements in dictionary\n",
    "print(d1)\n",
    "print(d1.get(1))      #get element of dictionary\n",
    "print(d1.get(2, 'Tuesday'))      #get element from define key dictionary\n",
    "print(d1.get(6, 'Tuesday'))      #if key is noy found, print by default value \n",
    "print(d1.pop(3))      #delete defined element from dictionary\n",
    "print(d1.popitem())      #delete last element from dictionary\n",
    "d1.clear()      #clear whole dictionary\n",
    "print(d1)\n",
    "del d1      #delete dictionary"
   ]
  },
  {
   "cell_type": "code",
   "execution_count": null,
   "id": "3dbb2ea1-3b3d-412d-bd85-e3d43a714409",
   "metadata": {},
   "outputs": [],
   "source": []
  }
 ],
 "metadata": {
  "kernelspec": {
   "display_name": "Python 3 (ipykernel)",
   "language": "python",
   "name": "python3"
  },
  "language_info": {
   "codemirror_mode": {
    "name": "ipython",
    "version": 3
   },
   "file_extension": ".py",
   "mimetype": "text/x-python",
   "name": "python",
   "nbconvert_exporter": "python",
   "pygments_lexer": "ipython3",
   "version": "3.10.7"
  }
 },
 "nbformat": 4,
 "nbformat_minor": 5
}
