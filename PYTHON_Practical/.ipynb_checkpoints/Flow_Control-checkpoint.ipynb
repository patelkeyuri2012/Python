{
 "cells": [
  {
   "cell_type": "markdown",
   "id": "98924d56-2d79-4369-a187-0655f25ce095",
   "metadata": {},
   "source": [
    "## Flow Control : which control execution of code"
   ]
  },
  {
   "cell_type": "markdown",
   "id": "f53d7b7b-401b-4995-9113-0f63491ab374",
   "metadata": {},
   "source": [
    "#### if-else Loop\n",
    "-  if-else loop is used to execute both the true part and the false part of a given condition\n",
    "-  If the condition is true, the if block code is executed and if the condition is false, the else block code is executed\n",
    "-  In if-else loop use logical operators (==, !=, <, >, <=, >=, and, or, not)\n",
    "-  Evaluation of logical operators is always boolean type\n",
    "-  if-else loop is decision making statement\n",
    "-  Non zero value consider as TURE in if-else loop and zero value consider as FALSE\n",
    "-  ':' is begin of block"
   ]
  },
  {
   "cell_type": "code",
   "execution_count": 1,
   "id": "f28d2324-d23b-47ce-b552-d9ffefb81f8e",
   "metadata": {},
   "outputs": [
    {
     "name": "stdout",
     "output_type": "stream",
     "text": [
      "Largest number is a : 30\n"
     ]
    }
   ],
   "source": [
    "# if-else loop\n",
    "a = 30\n",
    "b = 20 \n",
    "if a > b :\n",
    "    print(\"Largest number is a :\",a)\n",
    "else:\n",
    "    print(\"Largest number is b :\",b)"
   ]
  },
  {
   "cell_type": "markdown",
   "id": "0d8f3998-4017-4c18-acbd-0042564a9734",
   "metadata": {},
   "source": [
    "#### elif Loop\n",
    "-  elif loop allows you to check multiple expressions for TRUE and execute a block of code as soon as one of the conditions evaluates to TRUE\n",
    "-  Use the elif condition is used to include multiple conditional expressions after the if condition or between the if and else conditions\n",
    "-  Inner block must be complete first otherwise unreachable statment error is come \n",
    "-  ':' is begin of block"
   ]
  },
  {
   "cell_type": "code",
   "execution_count": 2,
   "id": "533d2afc-f4d2-46b0-bc02-a25155454a77",
   "metadata": {},
   "outputs": [
    {
     "name": "stdout",
     "output_type": "stream",
     "text": [
      "Largest number is z : 50\n"
     ]
    }
   ],
   "source": [
    "# elif loop\n",
    "x = 40\n",
    "y = 30\n",
    "z = 50\n",
    "if (x > y) and (x > z) :\n",
    "    print(\"Largest number is x :\",x)\n",
    "elif (y > z) and (y > x):\n",
    "    print(\"Largest number is y :\",y)\n",
    "else:\n",
    "    print(\"Largest number is z :\",z)"
   ]
  },
  {
   "cell_type": "markdown",
   "id": "bc352854-8fd2-4980-bb78-4217cce186e9",
   "metadata": {},
   "source": [
    "#### nested if Loop\n",
    "-  if-else loop inside another if loop\n",
    "-  One if loop have multiple elif loop but only one else loop and multiple nested if-else loop"
   ]
  },
  {
   "cell_type": "code",
   "execution_count": 3,
   "id": "090f0156-1e0d-424d-bf1f-d68374c640a0",
   "metadata": {},
   "outputs": [
    {
     "name": "stdout",
     "output_type": "stream",
     "text": [
      "Number is positive\n"
     ]
    }
   ],
   "source": [
    "# nested if loop\n",
    "a = 5\n",
    "if (a >= 0):\n",
    "    if (a == 0):\n",
    "      print('Number is 0')\n",
    "    else:\n",
    "        print('Number is positive')\n",
    "else:\n",
    "    print('Number is negative')"
   ]
  },
  {
   "cell_type": "markdown",
   "id": "ee87221a-35b9-41aa-959a-4b8393cb8905",
   "metadata": {},
   "source": [
    "##### steps to keep in mind when using if statements\n",
    "- also use one line statement\n",
    "- if common statement in both block, must be write that after if-else statment\n",
    "- do not hard coding in if statement\n",
    "- not write duplicate code in if-else statement\n",
    "- if use multiple expression as condition, write it in parentheses"
   ]
  },
  {
   "cell_type": "markdown",
   "id": "8cc192b3-aaad-4083-a795-97b7d03fcfd2",
   "metadata": {},
   "source": [
    "#### for Loop\n",
    "-  for loop is used when number of iterations are known in advance\n",
    "-  for loop is an entry controlled loop\n",
    "-  for loops can be thought of as shorthands for while loops which increment and test a loop variable.\n",
    "-  for loop supported any container but it is must be iterable\n",
    "-  for loop used range() function to increment value : range(start, stop, increament)\n",
    "-  ':' is begin of block\n",
    "\n",
    "###### Difference between for and while loop\n",
    "-  for loop is used when the number of iterations is already known, while loop is used when the number of iterations is already Unknown.\n",
    "-  for loop is used to iterate over a sequence of items, while loop is used to repeatedly execute a block of statements while a condition is true."
   ]
  },
  {
   "cell_type": "code",
   "execution_count": 4,
   "id": "b761e9b3-a71b-40a2-b3ba-2e58aaef91e9",
   "metadata": {},
   "outputs": [
    {
     "name": "stdout",
     "output_type": "stream",
     "text": [
      "1\n",
      "2\n",
      "3\n",
      "4\n",
      "<class 'tuple'>\n",
      "<class 'int'>\n"
     ]
    }
   ],
   "source": [
    "# for loop using tuple\n",
    "a = (1, 2, 3, 4)\n",
    "for i in a :\n",
    "    print(i)\n",
    "print(type(a))\n",
    "print(type(i))"
   ]
  },
  {
   "cell_type": "code",
   "execution_count": 5,
   "id": "e93f852f-d176-4a62-a996-ea6808ef24bc",
   "metadata": {},
   "outputs": [
    {
     "name": "stdout",
     "output_type": "stream",
     "text": [
      "a\n",
      "b\n",
      "c\n",
      "d\n",
      "<class 'list'>\n",
      "<class 'str'>\n"
     ]
    }
   ],
   "source": [
    "# for loop using list\n",
    "b = ['a', 'b', 'c', 'd']\n",
    "for i in b :\n",
    "    print(i)\n",
    "print(type(b))\n",
    "print(type(i))"
   ]
  },
  {
   "cell_type": "code",
   "execution_count": 6,
   "id": "eb82324f-7627-4101-ab06-c54f85f460e6",
   "metadata": {},
   "outputs": [
    {
     "name": "stdout",
     "output_type": "stream",
     "text": [
      "0\n",
      "1\n",
      "2\n",
      "3\n",
      "4\n",
      "<class 'int'>\n"
     ]
    }
   ],
   "source": [
    "# for loop using range() function\n",
    "for i in range(0,5) :\n",
    "    print(i)\n",
    "print(type(i))"
   ]
  },
  {
   "cell_type": "code",
   "execution_count": 7,
   "id": "368d2188-849a-45c0-a8cf-35b64111343a",
   "metadata": {},
   "outputs": [
    {
     "name": "stdout",
     "output_type": "stream",
     "text": [
      " \n",
      "1  \n",
      "2 2  \n",
      "3 3 3  \n",
      "4 4 4 4  \n"
     ]
    }
   ],
   "source": [
    "# for loop into for loop\n",
    "for num in range(5):\n",
    "    for i in range(num):\n",
    "        print(num, end = ' ')\n",
    "    print (' ')"
   ]
  },
  {
   "cell_type": "markdown",
   "id": "4809c1bb-ce67-4c2b-ab35-6dab9641fe43",
   "metadata": {},
   "source": [
    "#### pass Statement\n",
    "- The pass statement is used as a placeholder for future code\n",
    "- When the pass statement is executed, nothing happens, but you avoid getting an error when empty code is not allowed"
   ]
  },
  {
   "cell_type": "code",
   "execution_count": 8,
   "id": "c30367c0-bb39-4359-b860-01aa593257d2",
   "metadata": {},
   "outputs": [
    {
     "name": "stdout",
     "output_type": "stream",
     "text": [
      "b is not eighteen plus so it's risky to drive vehicle for them\n"
     ]
    }
   ],
   "source": [
    "# pass statement\n",
    "a = 18\n",
    "b = 12\n",
    "if (a > b):\n",
    "    print(\"b is not eighteen plus so it's risky to drive vehicle for them\")\n",
    "else:\n",
    "    pass"
   ]
  },
  {
   "cell_type": "markdown",
   "id": "6d7eaed0-1b2e-415c-ae07-608ba96be26f",
   "metadata": {},
   "source": [
    "#### break Statement\n",
    "- The break statement is put inside the loop body\n",
    "- break keyword used to terminate the execution of the loop\n",
    "- break keyword allows exit a loop when an external condition is complete"
   ]
  },
  {
   "cell_type": "code",
   "execution_count": 9,
   "id": "006b60fb-f250-414f-a90c-807f10dbf921",
   "metadata": {},
   "outputs": [
    {
     "name": "stdout",
     "output_type": "stream",
     "text": [
      "1\n",
      "2\n",
      "3\n"
     ]
    }
   ],
   "source": [
    "# break statement using tuple\n",
    "a = (1, 2, 3, 4, 5)\n",
    "for i in a:\n",
    "    if(i == 4):\n",
    "        break\n",
    "    print(i)"
   ]
  },
  {
   "cell_type": "code",
   "execution_count": 10,
   "id": "59ce689a-1817-4e6d-8021-41f56ad61ed4",
   "metadata": {},
   "outputs": [
    {
     "name": "stdout",
     "output_type": "stream",
     "text": [
      "Gujarat Vidya"
     ]
    }
   ],
   "source": [
    "# break statement using string\n",
    "s = \"Gujarat Vidyapith\"\n",
    "for c in s:\n",
    "    if (c == 'p'):\n",
    "        break\n",
    "    else:\n",
    "        print(c, end='')"
   ]
  },
  {
   "cell_type": "markdown",
   "id": "cc118d1d-6adb-49e9-9868-71d353a1e016",
   "metadata": {},
   "source": [
    "#### continue Statement\n",
    "- Continue statement is a loop control statement that forces to execute the next iteration of the loop while skipping the rest of the code inside the loop for the current iteration only\n",
    "- continue keyword is used to end the current iteration in a for loop and continues to the next iteration."
   ]
  },
  {
   "cell_type": "code",
   "execution_count": 11,
   "id": "246d85b7-2ec7-4603-be4d-c3df333f03c1",
   "metadata": {},
   "outputs": [
    {
     "name": "stdout",
     "output_type": "stream",
     "text": [
      "p"
     ]
    }
   ],
   "source": [
    "# continue statment using as not equal to \n",
    "s = \"Gujarat Vidyapith\"\n",
    "for c in s:\n",
    "    if (c != 'p'):\n",
    "        continue\n",
    "    else:\n",
    "        print(c, end = '')"
   ]
  },
  {
   "cell_type": "code",
   "execution_count": 12,
   "id": "b6308a3c-1689-4217-bf28-4562992a138c",
   "metadata": {},
   "outputs": [
    {
     "name": "stdout",
     "output_type": "stream",
     "text": [
      "Gujarat Vidyaith"
     ]
    }
   ],
   "source": [
    "# continue statment using as equal to \n",
    "s = \"Gujarat Vidyapith\"\n",
    "for c in s:\n",
    "    if (c == 'p'):\n",
    "        continue\n",
    "    else:\n",
    "        print(c, end='')"
   ]
  },
  {
   "cell_type": "markdown",
   "id": "2141312f-b021-40cc-93c9-355757673808",
   "metadata": {},
   "source": [
    "##### AND, OR and NOT operator\n",
    "- In AND statement, if all statements are true, return true\n",
    "- In OR statement, if one statement is true, return true\n",
    "- In NOT statement, if one statement is true, return false"
   ]
  },
  {
   "cell_type": "code",
   "execution_count": 13,
   "id": "64a82fb5-b335-4bfb-bad9-246b951e623e",
   "metadata": {},
   "outputs": [
    {
     "name": "stdout",
     "output_type": "stream",
     "text": [
      "AND statement : 40\n",
      "OR statement : 40\n"
     ]
    }
   ],
   "source": [
    "# AND, OR, NOT operator\n",
    "x = 40\n",
    "y = 20\n",
    "z = 30\n",
    "if (x > y) and (x > z) :\n",
    "    print(\"AND statement :\",x)\n",
    "if (x > y) or (x > z) :\n",
    "    print(\"OR statement :\",x)\n",
    "if not (x > y) :\n",
    "    print(\"NOT statement :\",y)"
   ]
  },
  {
   "cell_type": "markdown",
   "id": "670a2c42-5702-4e63-90a7-b48e863aeb5a",
   "metadata": {},
   "source": [
    "#### one line if-else loop\n",
    "- true and false both statements are written in one line\n",
    "- before condition true statement is written\n",
    "- after condition false statement is written"
   ]
  },
  {
   "cell_type": "code",
   "execution_count": 14,
   "id": "8b812fa1-254f-4c29-b093-8276c4ef5a85",
   "metadata": {},
   "outputs": [
    {
     "name": "stdout",
     "output_type": "stream",
     "text": [
      "b is large\n"
     ]
    }
   ],
   "source": [
    "# one line if-else loop\n",
    "a = 10\n",
    "b = 20\n",
    "print(\"a is large\" if a > b else \"b is large\")"
   ]
  },
  {
   "cell_type": "markdown",
   "id": "75a27fee-7e21-4e3b-b3f5-1a03901d5779",
   "metadata": {},
   "source": [
    "#### input() Function\n",
    "- input() function is to take input from the user\n",
    "- the input() function converts it into a string\n",
    "- type casting is necessary when use input() function because input function returns string datatype\n",
    "- up casting : byte -> short -> char -> int -> long -> float -> double\n",
    "- down casting : double -> float -> long -> int -> char -> short -> byte"
   ]
  },
  {
   "cell_type": "code",
   "execution_count": 15,
   "id": "e00fd849-b2e9-4e62-a765-c1a59b144137",
   "metadata": {},
   "outputs": [
    {
     "name": "stdin",
     "output_type": "stream",
     "text": [
      "Enter Your Name : Keyuri\n",
      "Enter Your Age : 20\n",
      "Enter Your Weight : 53.500\n"
     ]
    },
    {
     "name": "stdout",
     "output_type": "stream",
     "text": [
      "Your Name is : Keyuri\n",
      "Your Age is : 20\n",
      "Your Weight is : 53.5\n"
     ]
    }
   ],
   "source": [
    "# input() function to fetch input from user\n",
    "name = input(\"Enter Your Name :\")\n",
    "age = int(input(\"Enter Your Age :\"))\n",
    "weight = float(input(\"Enter Your Weight :\"))\n",
    "print(\"Your Name is :\",name)\n",
    "print(\"Your Age is :\",age)\n",
    "print(\"Your Weight is :\",weight)"
   ]
  },
  {
   "cell_type": "markdown",
   "id": "4278f147-f994-4aae-b0b6-f6f02d62384a",
   "metadata": {},
   "source": [
    "#### ord() Function\n",
    "- using ord() function find out ASCII value of any characters \n",
    "- American Standard Code for Information Interchange\n",
    "- ord('A') : 65\n",
    "- ord('a') : 97"
   ]
  },
  {
   "cell_type": "code",
   "execution_count": 16,
   "id": "652788d3-f610-4a4e-8207-86e52a7aab0b",
   "metadata": {},
   "outputs": [
    {
     "name": "stdout",
     "output_type": "stream",
     "text": [
      "ASCII value of 'P' is : 80\n",
      "ASCII value of 'p' is : 112\n"
     ]
    }
   ],
   "source": [
    "# ord() function to print ASCII value\n",
    "print(\"ASCII value of 'P' is :\",ord('P'))\n",
    "print(\"ASCII value of 'p' is :\",ord('p'))"
   ]
  },
  {
   "cell_type": "markdown",
   "id": "b5c23ce2-5596-42c8-ad31-978dc043844a",
   "metadata": {},
   "source": [
    "#### while Loop\n",
    "-  while loop is used to execute a block of statements repeatedly until a given condition is satisfied\n",
    "-  while loop is an entry controlled loop\n",
    "-  while loop executes a block of code at least once\n",
    "-  In while else loop, the else part is executed after the condition of the loop evaluates to FALSE\n",
    "-  ':' is begin of block\n",
    "\n",
    " \n",
    "###### Difference between for and while loop\n",
    "-  for loop is used when the number of iterations is already known, while loop is used when the number of iterations is already Unknown.\n",
    "-  for loop is used to iterate over a sequence of items, while loop is used to repeatedly execute a block of statements while a condition is true."
   ]
  },
  {
   "cell_type": "code",
   "execution_count": 17,
   "id": "34a8276d-3fce-4505-8a33-12e712cafc16",
   "metadata": {},
   "outputs": [
    {
     "name": "stdout",
     "output_type": "stream",
     "text": [
      "1 2 3 4 5 6 7 8 9 10 "
     ]
    }
   ],
   "source": [
    "# while loop\n",
    "i = 1  \n",
    "while i <= 10:  \n",
    "    print(i, end=' ')  \n",
    "    i += 1  "
   ]
  },
  {
   "cell_type": "code",
   "execution_count": 18,
   "id": "b130ff12-742d-4b8a-8b52-0e8e2ac303b7",
   "metadata": {},
   "outputs": [
    {
     "name": "stdout",
     "output_type": "stream",
     "text": [
      "condition for the 'while' loop is true 1\n",
      "condition for the 'while' loop is true 2\n",
      "condition for the 'while' loop is true 3\n",
      "condition for the 'while' loop is true 4\n",
      "condition for the 'while' loop is false\n"
     ]
    }
   ],
   "source": [
    "# while loop with else block\n",
    "i = 1\n",
    "while i < 5:\n",
    "    print(\"condition for the 'while' loop is true\",i)\n",
    "    i = i+1\n",
    "else:\n",
    "    print(\"condition for the 'while' loop is false\")"
   ]
  },
  {
   "cell_type": "code",
   "execution_count": null,
   "id": "e55c9372-4aac-4d37-b442-98a0ac54d509",
   "metadata": {},
   "outputs": [],
   "source": []
  }
 ],
 "metadata": {
  "kernelspec": {
   "display_name": "Python 3 (ipykernel)",
   "language": "python",
   "name": "python3"
  },
  "language_info": {
   "codemirror_mode": {
    "name": "ipython",
    "version": 3
   },
   "file_extension": ".py",
   "mimetype": "text/x-python",
   "name": "python",
   "nbconvert_exporter": "python",
   "pygments_lexer": "ipython3",
   "version": "3.10.7"
  }
 },
 "nbformat": 4,
 "nbformat_minor": 5
}
