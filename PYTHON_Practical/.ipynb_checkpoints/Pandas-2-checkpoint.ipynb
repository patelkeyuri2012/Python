{
 "cells": [
  {
   "cell_type": "markdown",
   "id": "049070b2-75c2-4fbc-a7bf-15b05e08779b",
   "metadata": {},
   "source": [
    "# access online data\n",
    "- To store big data sets used CSV files (comma separated files)\n",
    "- CSV files contains plain text\n",
    "- Pandas provides the read_csv() function to read data stored as a csv file into a pandas dataframe\n",
    "- It supports many different file formats (csv, excel, sql, json, …)"
   ]
  },
  {
   "cell_type": "code",
   "execution_count": 163,
   "id": "60176af1-78e1-4eff-89c9-d92fe429a62a",
   "metadata": {},
   "outputs": [],
   "source": [
    "import pandas as pd"
   ]
  },
  {
   "cell_type": "code",
   "execution_count": 164,
   "id": "1d9ebd23-cad6-425c-9d6b-78968813e9bb",
   "metadata": {},
   "outputs": [],
   "source": [
    "csvdf = pd.read_csv(\"DataSet/t.csv\")"
   ]
  },
  {
   "cell_type": "code",
   "execution_count": 165,
   "id": "c436a73e-0894-4b2c-9c4f-4b6cbe43fe21",
   "metadata": {},
   "outputs": [],
   "source": [
    "csvdf = pd.read_csv(\"http://bit.ly/kaggletrain\")"
   ]
  },
  {
   "cell_type": "code",
   "execution_count": 166,
   "id": "c170b511-b084-4ead-bddc-5c3c38ce7894",
   "metadata": {},
   "outputs": [
    {
     "data": {
      "text/html": [
       "<div>\n",
       "<style scoped>\n",
       "    .dataframe tbody tr th:only-of-type {\n",
       "        vertical-align: middle;\n",
       "    }\n",
       "\n",
       "    .dataframe tbody tr th {\n",
       "        vertical-align: top;\n",
       "    }\n",
       "\n",
       "    .dataframe thead th {\n",
       "        text-align: right;\n",
       "    }\n",
       "</style>\n",
       "<table border=\"1\" class=\"dataframe\">\n",
       "  <thead>\n",
       "    <tr style=\"text-align: right;\">\n",
       "      <th></th>\n",
       "      <th>PassengerId</th>\n",
       "      <th>Survived</th>\n",
       "      <th>Pclass</th>\n",
       "      <th>Name</th>\n",
       "      <th>Sex</th>\n",
       "      <th>Age</th>\n",
       "      <th>SibSp</th>\n",
       "      <th>Parch</th>\n",
       "      <th>Ticket</th>\n",
       "      <th>Fare</th>\n",
       "      <th>Cabin</th>\n",
       "      <th>Embarked</th>\n",
       "    </tr>\n",
       "  </thead>\n",
       "  <tbody>\n",
       "    <tr>\n",
       "      <th>0</th>\n",
       "      <td>1</td>\n",
       "      <td>0</td>\n",
       "      <td>3</td>\n",
       "      <td>Braund, Mr. Owen Harris</td>\n",
       "      <td>male</td>\n",
       "      <td>22.0</td>\n",
       "      <td>1</td>\n",
       "      <td>0</td>\n",
       "      <td>A/5 21171</td>\n",
       "      <td>7.2500</td>\n",
       "      <td>NaN</td>\n",
       "      <td>S</td>\n",
       "    </tr>\n",
       "    <tr>\n",
       "      <th>1</th>\n",
       "      <td>2</td>\n",
       "      <td>1</td>\n",
       "      <td>1</td>\n",
       "      <td>Cumings, Mrs. John Bradley (Florence Briggs Th...</td>\n",
       "      <td>female</td>\n",
       "      <td>38.0</td>\n",
       "      <td>1</td>\n",
       "      <td>0</td>\n",
       "      <td>PC 17599</td>\n",
       "      <td>71.2833</td>\n",
       "      <td>C85</td>\n",
       "      <td>C</td>\n",
       "    </tr>\n",
       "  </tbody>\n",
       "</table>\n",
       "</div>"
      ],
      "text/plain": [
       "   PassengerId  Survived  Pclass  \\\n",
       "0            1         0       3   \n",
       "1            2         1       1   \n",
       "\n",
       "                                                Name     Sex   Age  SibSp  \\\n",
       "0                            Braund, Mr. Owen Harris    male  22.0      1   \n",
       "1  Cumings, Mrs. John Bradley (Florence Briggs Th...  female  38.0      1   \n",
       "\n",
       "   Parch     Ticket     Fare Cabin Embarked  \n",
       "0      0  A/5 21171   7.2500   NaN        S  \n",
       "1      0   PC 17599  71.2833   C85        C  "
      ]
     },
     "execution_count": 166,
     "metadata": {},
     "output_type": "execute_result"
    }
   ],
   "source": [
    "csvdf.head(2)"
   ]
  },
  {
   "cell_type": "code",
   "execution_count": 167,
   "id": "017c818a-1f1f-453d-8d82-b650ba09de42",
   "metadata": {},
   "outputs": [
    {
     "data": {
      "text/html": [
       "<div>\n",
       "<style scoped>\n",
       "    .dataframe tbody tr th:only-of-type {\n",
       "        vertical-align: middle;\n",
       "    }\n",
       "\n",
       "    .dataframe tbody tr th {\n",
       "        vertical-align: top;\n",
       "    }\n",
       "\n",
       "    .dataframe thead th {\n",
       "        text-align: right;\n",
       "    }\n",
       "</style>\n",
       "<table border=\"1\" class=\"dataframe\">\n",
       "  <thead>\n",
       "    <tr style=\"text-align: right;\">\n",
       "      <th></th>\n",
       "      <th>PassengerId</th>\n",
       "      <th>Survived</th>\n",
       "      <th>Pclass</th>\n",
       "      <th>Name</th>\n",
       "      <th>Sex</th>\n",
       "      <th>Age</th>\n",
       "      <th>SibSp</th>\n",
       "      <th>Parch</th>\n",
       "      <th>Ticket</th>\n",
       "      <th>Fare</th>\n",
       "      <th>Cabin</th>\n",
       "      <th>Embarked</th>\n",
       "    </tr>\n",
       "  </thead>\n",
       "  <tbody>\n",
       "    <tr>\n",
       "      <th>889</th>\n",
       "      <td>890</td>\n",
       "      <td>1</td>\n",
       "      <td>1</td>\n",
       "      <td>Behr, Mr. Karl Howell</td>\n",
       "      <td>male</td>\n",
       "      <td>26.0</td>\n",
       "      <td>0</td>\n",
       "      <td>0</td>\n",
       "      <td>111369</td>\n",
       "      <td>30.00</td>\n",
       "      <td>C148</td>\n",
       "      <td>C</td>\n",
       "    </tr>\n",
       "    <tr>\n",
       "      <th>890</th>\n",
       "      <td>891</td>\n",
       "      <td>0</td>\n",
       "      <td>3</td>\n",
       "      <td>Dooley, Mr. Patrick</td>\n",
       "      <td>male</td>\n",
       "      <td>32.0</td>\n",
       "      <td>0</td>\n",
       "      <td>0</td>\n",
       "      <td>370376</td>\n",
       "      <td>7.75</td>\n",
       "      <td>NaN</td>\n",
       "      <td>Q</td>\n",
       "    </tr>\n",
       "  </tbody>\n",
       "</table>\n",
       "</div>"
      ],
      "text/plain": [
       "     PassengerId  Survived  Pclass                   Name   Sex   Age  SibSp  \\\n",
       "889          890         1       1  Behr, Mr. Karl Howell  male  26.0      0   \n",
       "890          891         0       3    Dooley, Mr. Patrick  male  32.0      0   \n",
       "\n",
       "     Parch  Ticket   Fare Cabin Embarked  \n",
       "889      0  111369  30.00  C148        C  \n",
       "890      0  370376   7.75   NaN        Q  "
      ]
     },
     "execution_count": 167,
     "metadata": {},
     "output_type": "execute_result"
    }
   ],
   "source": [
    "csvdf.tail(2)"
   ]
  },
  {
   "cell_type": "markdown",
   "id": "3440a2be-2fea-4fdd-8737-6cba14ce7ee0",
   "metadata": {},
   "source": [
    "### size() function\n",
    "- The size property returns the number of elements in the dataframe\n",
    "- The number of elements is the number of rows * the number of columns."
   ]
  },
  {
   "cell_type": "code",
   "execution_count": 168,
   "id": "fd7653a7-59a8-4d2d-9310-6fb779d0f6af",
   "metadata": {},
   "outputs": [
    {
     "data": {
      "text/plain": [
       "10692"
      ]
     },
     "execution_count": 168,
     "metadata": {},
     "output_type": "execute_result"
    }
   ],
   "source": [
    "csvdf.size"
   ]
  },
  {
   "cell_type": "markdown",
   "id": "7da29bf0-aeaf-4a44-ac5f-7c32f4c16c13",
   "metadata": {},
   "source": [
    "### shape function\n",
    "- shape function is used to get the shape of dataframe\n",
    "- The shape is nothing but a number of rows and columns of the DataFrame\n",
    "- It returns a tuple where the first element is the number of rows and the second is the number of columns"
   ]
  },
  {
   "cell_type": "code",
   "execution_count": 169,
   "id": "6e773dd4-a349-45f6-998b-bf4fba273b7e",
   "metadata": {},
   "outputs": [
    {
     "data": {
      "text/plain": [
       "(891, 12)"
      ]
     },
     "execution_count": 169,
     "metadata": {},
     "output_type": "execute_result"
    }
   ],
   "source": [
    "csvdf.shape"
   ]
  },
  {
   "cell_type": "code",
   "execution_count": 170,
   "id": "5ae72fed-0979-439d-81a6-d144089919d8",
   "metadata": {},
   "outputs": [
    {
     "data": {
      "text/plain": [
       "891"
      ]
     },
     "execution_count": 170,
     "metadata": {},
     "output_type": "execute_result"
    }
   ],
   "source": [
    "csvdf.shape[0]"
   ]
  },
  {
   "cell_type": "code",
   "execution_count": 171,
   "id": "8ba365ba-dd13-4b3d-82df-ed8ea3e4d1f7",
   "metadata": {},
   "outputs": [
    {
     "data": {
      "text/plain": [
       "12"
      ]
     },
     "execution_count": 171,
     "metadata": {},
     "output_type": "execute_result"
    }
   ],
   "source": [
    "csvdf.shape[1]"
   ]
  },
  {
   "cell_type": "markdown",
   "id": "742e6eba-9bda-49d6-9dd0-9dd6a33839f2",
   "metadata": {},
   "source": [
    "#### write a command to findout avarage age of the pasenger"
   ]
  },
  {
   "cell_type": "code",
   "execution_count": 172,
   "id": "2af7f9ce-d641-4593-a5f6-a92d163b17a3",
   "metadata": {},
   "outputs": [
    {
     "name": "stdout",
     "output_type": "stream",
     "text": [
      "21205.17\n",
      "23.79929292929293\n"
     ]
    }
   ],
   "source": [
    "b = csvdf[\"Age\"].sum()\n",
    "print(b)\n",
    "avg = b/891\n",
    "print(avg)"
   ]
  },
  {
   "cell_type": "code",
   "execution_count": 173,
   "id": "0203089d-14e0-4550-819a-2006f735fbd0",
   "metadata": {},
   "outputs": [
    {
     "name": "stdout",
     "output_type": "stream",
     "text": [
      "23.79929292929293\n"
     ]
    }
   ],
   "source": [
    "avg = csvdf[\"Age\"].sum() / csvdf.shape[0]\n",
    "print(avg)"
   ]
  },
  {
   "cell_type": "code",
   "execution_count": 174,
   "id": "10aa441c-ea72-46e7-b6f3-23334ece0b1f",
   "metadata": {},
   "outputs": [
    {
     "data": {
      "text/plain": [
       "29.69911764705882"
      ]
     },
     "execution_count": 174,
     "metadata": {},
     "output_type": "execute_result"
    }
   ],
   "source": [
    "csvdf[\"Age\"].mean()"
   ]
  },
  {
   "cell_type": "markdown",
   "id": "29c0e9f6-ffa5-4c5d-994d-e46af4d8e496",
   "metadata": {},
   "source": [
    "### unique() funtion\n",
    "- The unique function in pandas is used to find the unique values from a series\n",
    "- A series is a single column of a data frame\n",
    "- It values returned as a umy array"
   ]
  },
  {
   "cell_type": "code",
   "execution_count": 175,
   "id": "089b7aef-631c-4c84-ad11-d17104c23d29",
   "metadata": {},
   "outputs": [
    {
     "data": {
      "text/plain": [
       "array([3, 1, 2], dtype=int64)"
      ]
     },
     "execution_count": 175,
     "metadata": {},
     "output_type": "execute_result"
    }
   ],
   "source": [
    "csvdf[\"Pclass\"].unique()"
   ]
  },
  {
   "cell_type": "code",
   "execution_count": 176,
   "id": "1baf0430-8c2a-444e-9891-70b07a8d303b",
   "metadata": {},
   "outputs": [
    {
     "data": {
      "text/plain": [
       "array(['male', 'female'], dtype=object)"
      ]
     },
     "execution_count": 176,
     "metadata": {},
     "output_type": "execute_result"
    }
   ],
   "source": [
    "csvdf[\"Sex\"].unique()"
   ]
  },
  {
   "cell_type": "markdown",
   "id": "3b132b72-b697-4566-9c00-7f7f084ce1a2",
   "metadata": {},
   "source": [
    "### Series\n",
    "- Series is a type of list that can take integer values, string values, double values, and more\n",
    "- A Series is like a column in a table\n",
    "- It is a one-dimensional array holding data of any type\n",
    "- The row labels of series are called the index\n",
    "- It cannot contain multiple columns\n",
    "- Thus, say that a Dataframe is a collection of series that be used to analyze the datae."
   ]
  },
  {
   "cell_type": "markdown",
   "id": "e4d0cb84-0b81-40f7-ba6e-4f1470a081a1",
   "metadata": {},
   "source": [
    "#### Difference between series and dataframe\n",
    "- Series can only contain a single list with an index, whereas Dataframe can be made of more than one series\n",
    "- Series only has one data column, whereas DataFrame contains both a data column and an index\n",
    "- Series is an analog of a one-dimensional array, whereas DataFrame is an analog of a two-dimensional array\n",
    "- Series is like a column, whereas DataFrame is the whole table"
   ]
  },
  {
   "cell_type": "markdown",
   "id": "96063358-89e3-4e9d-9a42-3a145863d66f",
   "metadata": {},
   "source": [
    "#### How to convert the series into data frame?"
   ]
  },
  {
   "cell_type": "code",
   "execution_count": 177,
   "id": "127c0a4e-7168-4a14-a270-fd9133179d3c",
   "metadata": {},
   "outputs": [],
   "source": [
    "sub = ['JAVA', 'DS', 'PYTHON', 'DBMS']"
   ]
  },
  {
   "cell_type": "code",
   "execution_count": 178,
   "id": "340bc4f9-bb94-4f30-ad0c-320fc6a8592a",
   "metadata": {},
   "outputs": [],
   "source": [
    "subsr = pd.Series(sub)"
   ]
  },
  {
   "cell_type": "code",
   "execution_count": 179,
   "id": "a03b010b-ddc3-441f-a46d-0bd63ec21700",
   "metadata": {},
   "outputs": [
    {
     "data": {
      "text/plain": [
       "0      JAVA\n",
       "1        DS\n",
       "2    PYTHON\n",
       "3      DBMS\n",
       "dtype: object"
      ]
     },
     "execution_count": 179,
     "metadata": {},
     "output_type": "execute_result"
    }
   ],
   "source": [
    "subsr"
   ]
  },
  {
   "cell_type": "code",
   "execution_count": 180,
   "id": "1c29f3cb-7fb5-4361-b693-f5104ea9e152",
   "metadata": {},
   "outputs": [],
   "source": [
    "subdf = pd.DataFrame(subsr)"
   ]
  },
  {
   "cell_type": "code",
   "execution_count": 181,
   "id": "70d2720e-8b41-4220-b3f4-e2b877e7c43c",
   "metadata": {},
   "outputs": [
    {
     "data": {
      "text/html": [
       "<div>\n",
       "<style scoped>\n",
       "    .dataframe tbody tr th:only-of-type {\n",
       "        vertical-align: middle;\n",
       "    }\n",
       "\n",
       "    .dataframe tbody tr th {\n",
       "        vertical-align: top;\n",
       "    }\n",
       "\n",
       "    .dataframe thead th {\n",
       "        text-align: right;\n",
       "    }\n",
       "</style>\n",
       "<table border=\"1\" class=\"dataframe\">\n",
       "  <thead>\n",
       "    <tr style=\"text-align: right;\">\n",
       "      <th></th>\n",
       "      <th>0</th>\n",
       "    </tr>\n",
       "  </thead>\n",
       "  <tbody>\n",
       "    <tr>\n",
       "      <th>0</th>\n",
       "      <td>JAVA</td>\n",
       "    </tr>\n",
       "    <tr>\n",
       "      <th>1</th>\n",
       "      <td>DS</td>\n",
       "    </tr>\n",
       "    <tr>\n",
       "      <th>2</th>\n",
       "      <td>PYTHON</td>\n",
       "    </tr>\n",
       "    <tr>\n",
       "      <th>3</th>\n",
       "      <td>DBMS</td>\n",
       "    </tr>\n",
       "  </tbody>\n",
       "</table>\n",
       "</div>"
      ],
      "text/plain": [
       "        0\n",
       "0    JAVA\n",
       "1      DS\n",
       "2  PYTHON\n",
       "3    DBMS"
      ]
     },
     "execution_count": 181,
     "metadata": {},
     "output_type": "execute_result"
    }
   ],
   "source": [
    "subdf"
   ]
  },
  {
   "cell_type": "markdown",
   "id": "dbc830f8-bcbd-4db6-ab70-aadebaad4e2b",
   "metadata": {},
   "source": [
    "#### create 2 different dataframe based on the pacenger's sex (male, female)"
   ]
  },
  {
   "cell_type": "code",
   "execution_count": 182,
   "id": "6c5b1d67-0ed6-4c86-ac59-31dd098dde01",
   "metadata": {},
   "outputs": [],
   "source": [
    "maledf = csvdf[csvdf[\"Sex\"] == 'male']   "
   ]
  },
  {
   "cell_type": "code",
   "execution_count": 183,
   "id": "734b81f2-0791-4640-845d-dce8eff340fb",
   "metadata": {},
   "outputs": [
    {
     "data": {
      "text/html": [
       "<div>\n",
       "<style scoped>\n",
       "    .dataframe tbody tr th:only-of-type {\n",
       "        vertical-align: middle;\n",
       "    }\n",
       "\n",
       "    .dataframe tbody tr th {\n",
       "        vertical-align: top;\n",
       "    }\n",
       "\n",
       "    .dataframe thead th {\n",
       "        text-align: right;\n",
       "    }\n",
       "</style>\n",
       "<table border=\"1\" class=\"dataframe\">\n",
       "  <thead>\n",
       "    <tr style=\"text-align: right;\">\n",
       "      <th></th>\n",
       "      <th>PassengerId</th>\n",
       "      <th>Survived</th>\n",
       "      <th>Pclass</th>\n",
       "      <th>Name</th>\n",
       "      <th>Sex</th>\n",
       "      <th>Age</th>\n",
       "      <th>SibSp</th>\n",
       "      <th>Parch</th>\n",
       "      <th>Ticket</th>\n",
       "      <th>Fare</th>\n",
       "      <th>Cabin</th>\n",
       "      <th>Embarked</th>\n",
       "    </tr>\n",
       "  </thead>\n",
       "  <tbody>\n",
       "    <tr>\n",
       "      <th>0</th>\n",
       "      <td>1</td>\n",
       "      <td>0</td>\n",
       "      <td>3</td>\n",
       "      <td>Braund, Mr. Owen Harris</td>\n",
       "      <td>male</td>\n",
       "      <td>22.0</td>\n",
       "      <td>1</td>\n",
       "      <td>0</td>\n",
       "      <td>A/5 21171</td>\n",
       "      <td>7.25</td>\n",
       "      <td>NaN</td>\n",
       "      <td>S</td>\n",
       "    </tr>\n",
       "    <tr>\n",
       "      <th>4</th>\n",
       "      <td>5</td>\n",
       "      <td>0</td>\n",
       "      <td>3</td>\n",
       "      <td>Allen, Mr. William Henry</td>\n",
       "      <td>male</td>\n",
       "      <td>35.0</td>\n",
       "      <td>0</td>\n",
       "      <td>0</td>\n",
       "      <td>373450</td>\n",
       "      <td>8.05</td>\n",
       "      <td>NaN</td>\n",
       "      <td>S</td>\n",
       "    </tr>\n",
       "  </tbody>\n",
       "</table>\n",
       "</div>"
      ],
      "text/plain": [
       "   PassengerId  Survived  Pclass                      Name   Sex   Age  SibSp  \\\n",
       "0            1         0       3   Braund, Mr. Owen Harris  male  22.0      1   \n",
       "4            5         0       3  Allen, Mr. William Henry  male  35.0      0   \n",
       "\n",
       "   Parch     Ticket  Fare Cabin Embarked  \n",
       "0      0  A/5 21171  7.25   NaN        S  \n",
       "4      0     373450  8.05   NaN        S  "
      ]
     },
     "execution_count": 183,
     "metadata": {},
     "output_type": "execute_result"
    }
   ],
   "source": [
    "maledf.head(2)"
   ]
  },
  {
   "cell_type": "code",
   "execution_count": 184,
   "id": "b0bcf6fd-12fc-4126-80a3-44ff9b3bb8f1",
   "metadata": {},
   "outputs": [],
   "source": [
    "femaledf = csvdf[csvdf[\"Sex\"] == 'female']"
   ]
  },
  {
   "cell_type": "code",
   "execution_count": 185,
   "id": "1eab472a-76d2-445f-8bce-6a695c5d16b3",
   "metadata": {},
   "outputs": [
    {
     "data": {
      "text/html": [
       "<div>\n",
       "<style scoped>\n",
       "    .dataframe tbody tr th:only-of-type {\n",
       "        vertical-align: middle;\n",
       "    }\n",
       "\n",
       "    .dataframe tbody tr th {\n",
       "        vertical-align: top;\n",
       "    }\n",
       "\n",
       "    .dataframe thead th {\n",
       "        text-align: right;\n",
       "    }\n",
       "</style>\n",
       "<table border=\"1\" class=\"dataframe\">\n",
       "  <thead>\n",
       "    <tr style=\"text-align: right;\">\n",
       "      <th></th>\n",
       "      <th>PassengerId</th>\n",
       "      <th>Survived</th>\n",
       "      <th>Pclass</th>\n",
       "      <th>Name</th>\n",
       "      <th>Sex</th>\n",
       "      <th>Age</th>\n",
       "      <th>SibSp</th>\n",
       "      <th>Parch</th>\n",
       "      <th>Ticket</th>\n",
       "      <th>Fare</th>\n",
       "      <th>Cabin</th>\n",
       "      <th>Embarked</th>\n",
       "    </tr>\n",
       "  </thead>\n",
       "  <tbody>\n",
       "    <tr>\n",
       "      <th>1</th>\n",
       "      <td>2</td>\n",
       "      <td>1</td>\n",
       "      <td>1</td>\n",
       "      <td>Cumings, Mrs. John Bradley (Florence Briggs Th...</td>\n",
       "      <td>female</td>\n",
       "      <td>38.0</td>\n",
       "      <td>1</td>\n",
       "      <td>0</td>\n",
       "      <td>PC 17599</td>\n",
       "      <td>71.2833</td>\n",
       "      <td>C85</td>\n",
       "      <td>C</td>\n",
       "    </tr>\n",
       "    <tr>\n",
       "      <th>2</th>\n",
       "      <td>3</td>\n",
       "      <td>1</td>\n",
       "      <td>3</td>\n",
       "      <td>Heikkinen, Miss. Laina</td>\n",
       "      <td>female</td>\n",
       "      <td>26.0</td>\n",
       "      <td>0</td>\n",
       "      <td>0</td>\n",
       "      <td>STON/O2. 3101282</td>\n",
       "      <td>7.9250</td>\n",
       "      <td>NaN</td>\n",
       "      <td>S</td>\n",
       "    </tr>\n",
       "  </tbody>\n",
       "</table>\n",
       "</div>"
      ],
      "text/plain": [
       "   PassengerId  Survived  Pclass  \\\n",
       "1            2         1       1   \n",
       "2            3         1       3   \n",
       "\n",
       "                                                Name     Sex   Age  SibSp  \\\n",
       "1  Cumings, Mrs. John Bradley (Florence Briggs Th...  female  38.0      1   \n",
       "2                             Heikkinen, Miss. Laina  female  26.0      0   \n",
       "\n",
       "   Parch            Ticket     Fare Cabin Embarked  \n",
       "1      0          PC 17599  71.2833   C85        C  \n",
       "2      0  STON/O2. 3101282   7.9250   NaN        S  "
      ]
     },
     "execution_count": 185,
     "metadata": {},
     "output_type": "execute_result"
    }
   ],
   "source": [
    "femaledf.head(2)"
   ]
  },
  {
   "cell_type": "markdown",
   "id": "c3cf2dc6-2c6a-4b35-bd9d-837e1a5bd680",
   "metadata": {},
   "source": [
    "#### create 3 different dataframe based on the pacenger's class (1,2,3)"
   ]
  },
  {
   "cell_type": "code",
   "execution_count": 186,
   "id": "98273b30-05fe-4ba8-b749-4093496f6351",
   "metadata": {},
   "outputs": [],
   "source": [
    "d1df = csvdf[csvdf[\"Pclass\"] == 1]"
   ]
  },
  {
   "cell_type": "code",
   "execution_count": 187,
   "id": "eb13cfa9-1eb1-4597-a5b4-836e06899b77",
   "metadata": {},
   "outputs": [
    {
     "data": {
      "text/html": [
       "<div>\n",
       "<style scoped>\n",
       "    .dataframe tbody tr th:only-of-type {\n",
       "        vertical-align: middle;\n",
       "    }\n",
       "\n",
       "    .dataframe tbody tr th {\n",
       "        vertical-align: top;\n",
       "    }\n",
       "\n",
       "    .dataframe thead th {\n",
       "        text-align: right;\n",
       "    }\n",
       "</style>\n",
       "<table border=\"1\" class=\"dataframe\">\n",
       "  <thead>\n",
       "    <tr style=\"text-align: right;\">\n",
       "      <th></th>\n",
       "      <th>PassengerId</th>\n",
       "      <th>Survived</th>\n",
       "      <th>Pclass</th>\n",
       "      <th>Name</th>\n",
       "      <th>Sex</th>\n",
       "      <th>Age</th>\n",
       "      <th>SibSp</th>\n",
       "      <th>Parch</th>\n",
       "      <th>Ticket</th>\n",
       "      <th>Fare</th>\n",
       "      <th>Cabin</th>\n",
       "      <th>Embarked</th>\n",
       "    </tr>\n",
       "  </thead>\n",
       "  <tbody>\n",
       "    <tr>\n",
       "      <th>1</th>\n",
       "      <td>2</td>\n",
       "      <td>1</td>\n",
       "      <td>1</td>\n",
       "      <td>Cumings, Mrs. John Bradley (Florence Briggs Th...</td>\n",
       "      <td>female</td>\n",
       "      <td>38.0</td>\n",
       "      <td>1</td>\n",
       "      <td>0</td>\n",
       "      <td>PC 17599</td>\n",
       "      <td>71.2833</td>\n",
       "      <td>C85</td>\n",
       "      <td>C</td>\n",
       "    </tr>\n",
       "    <tr>\n",
       "      <th>3</th>\n",
       "      <td>4</td>\n",
       "      <td>1</td>\n",
       "      <td>1</td>\n",
       "      <td>Futrelle, Mrs. Jacques Heath (Lily May Peel)</td>\n",
       "      <td>female</td>\n",
       "      <td>35.0</td>\n",
       "      <td>1</td>\n",
       "      <td>0</td>\n",
       "      <td>113803</td>\n",
       "      <td>53.1000</td>\n",
       "      <td>C123</td>\n",
       "      <td>S</td>\n",
       "    </tr>\n",
       "  </tbody>\n",
       "</table>\n",
       "</div>"
      ],
      "text/plain": [
       "   PassengerId  Survived  Pclass  \\\n",
       "1            2         1       1   \n",
       "3            4         1       1   \n",
       "\n",
       "                                                Name     Sex   Age  SibSp  \\\n",
       "1  Cumings, Mrs. John Bradley (Florence Briggs Th...  female  38.0      1   \n",
       "3       Futrelle, Mrs. Jacques Heath (Lily May Peel)  female  35.0      1   \n",
       "\n",
       "   Parch    Ticket     Fare Cabin Embarked  \n",
       "1      0  PC 17599  71.2833   C85        C  \n",
       "3      0    113803  53.1000  C123        S  "
      ]
     },
     "execution_count": 187,
     "metadata": {},
     "output_type": "execute_result"
    }
   ],
   "source": [
    "d1df.head(2)"
   ]
  },
  {
   "cell_type": "code",
   "execution_count": 188,
   "id": "6861d176-6597-4b57-b26e-069bd22c25a8",
   "metadata": {},
   "outputs": [],
   "source": [
    "d2df = csvdf[csvdf[\"Pclass\"] == 2]"
   ]
  },
  {
   "cell_type": "code",
   "execution_count": 189,
   "id": "1d0b00d0-c23b-428b-8ea7-42ccc1e31f3a",
   "metadata": {},
   "outputs": [
    {
     "data": {
      "text/html": [
       "<div>\n",
       "<style scoped>\n",
       "    .dataframe tbody tr th:only-of-type {\n",
       "        vertical-align: middle;\n",
       "    }\n",
       "\n",
       "    .dataframe tbody tr th {\n",
       "        vertical-align: top;\n",
       "    }\n",
       "\n",
       "    .dataframe thead th {\n",
       "        text-align: right;\n",
       "    }\n",
       "</style>\n",
       "<table border=\"1\" class=\"dataframe\">\n",
       "  <thead>\n",
       "    <tr style=\"text-align: right;\">\n",
       "      <th></th>\n",
       "      <th>PassengerId</th>\n",
       "      <th>Survived</th>\n",
       "      <th>Pclass</th>\n",
       "      <th>Name</th>\n",
       "      <th>Sex</th>\n",
       "      <th>Age</th>\n",
       "      <th>SibSp</th>\n",
       "      <th>Parch</th>\n",
       "      <th>Ticket</th>\n",
       "      <th>Fare</th>\n",
       "      <th>Cabin</th>\n",
       "      <th>Embarked</th>\n",
       "    </tr>\n",
       "  </thead>\n",
       "  <tbody>\n",
       "    <tr>\n",
       "      <th>9</th>\n",
       "      <td>10</td>\n",
       "      <td>1</td>\n",
       "      <td>2</td>\n",
       "      <td>Nasser, Mrs. Nicholas (Adele Achem)</td>\n",
       "      <td>female</td>\n",
       "      <td>14.0</td>\n",
       "      <td>1</td>\n",
       "      <td>0</td>\n",
       "      <td>237736</td>\n",
       "      <td>30.0708</td>\n",
       "      <td>NaN</td>\n",
       "      <td>C</td>\n",
       "    </tr>\n",
       "    <tr>\n",
       "      <th>15</th>\n",
       "      <td>16</td>\n",
       "      <td>1</td>\n",
       "      <td>2</td>\n",
       "      <td>Hewlett, Mrs. (Mary D Kingcome)</td>\n",
       "      <td>female</td>\n",
       "      <td>55.0</td>\n",
       "      <td>0</td>\n",
       "      <td>0</td>\n",
       "      <td>248706</td>\n",
       "      <td>16.0000</td>\n",
       "      <td>NaN</td>\n",
       "      <td>S</td>\n",
       "    </tr>\n",
       "  </tbody>\n",
       "</table>\n",
       "</div>"
      ],
      "text/plain": [
       "    PassengerId  Survived  Pclass                                 Name  \\\n",
       "9            10         1       2  Nasser, Mrs. Nicholas (Adele Achem)   \n",
       "15           16         1       2     Hewlett, Mrs. (Mary D Kingcome)    \n",
       "\n",
       "       Sex   Age  SibSp  Parch  Ticket     Fare Cabin Embarked  \n",
       "9   female  14.0      1      0  237736  30.0708   NaN        C  \n",
       "15  female  55.0      0      0  248706  16.0000   NaN        S  "
      ]
     },
     "execution_count": 189,
     "metadata": {},
     "output_type": "execute_result"
    }
   ],
   "source": [
    "d2df.head(2)"
   ]
  },
  {
   "cell_type": "code",
   "execution_count": 190,
   "id": "9cf3ede9-7673-4f77-879a-1609c4d7666f",
   "metadata": {},
   "outputs": [],
   "source": [
    "d3df = csvdf[csvdf[\"Pclass\"] == 3]"
   ]
  },
  {
   "cell_type": "code",
   "execution_count": 191,
   "id": "d391d702-508e-4134-992d-a22f87ca18a3",
   "metadata": {},
   "outputs": [
    {
     "data": {
      "text/html": [
       "<div>\n",
       "<style scoped>\n",
       "    .dataframe tbody tr th:only-of-type {\n",
       "        vertical-align: middle;\n",
       "    }\n",
       "\n",
       "    .dataframe tbody tr th {\n",
       "        vertical-align: top;\n",
       "    }\n",
       "\n",
       "    .dataframe thead th {\n",
       "        text-align: right;\n",
       "    }\n",
       "</style>\n",
       "<table border=\"1\" class=\"dataframe\">\n",
       "  <thead>\n",
       "    <tr style=\"text-align: right;\">\n",
       "      <th></th>\n",
       "      <th>PassengerId</th>\n",
       "      <th>Survived</th>\n",
       "      <th>Pclass</th>\n",
       "      <th>Name</th>\n",
       "      <th>Sex</th>\n",
       "      <th>Age</th>\n",
       "      <th>SibSp</th>\n",
       "      <th>Parch</th>\n",
       "      <th>Ticket</th>\n",
       "      <th>Fare</th>\n",
       "      <th>Cabin</th>\n",
       "      <th>Embarked</th>\n",
       "    </tr>\n",
       "  </thead>\n",
       "  <tbody>\n",
       "    <tr>\n",
       "      <th>0</th>\n",
       "      <td>1</td>\n",
       "      <td>0</td>\n",
       "      <td>3</td>\n",
       "      <td>Braund, Mr. Owen Harris</td>\n",
       "      <td>male</td>\n",
       "      <td>22.0</td>\n",
       "      <td>1</td>\n",
       "      <td>0</td>\n",
       "      <td>A/5 21171</td>\n",
       "      <td>7.250</td>\n",
       "      <td>NaN</td>\n",
       "      <td>S</td>\n",
       "    </tr>\n",
       "    <tr>\n",
       "      <th>2</th>\n",
       "      <td>3</td>\n",
       "      <td>1</td>\n",
       "      <td>3</td>\n",
       "      <td>Heikkinen, Miss. Laina</td>\n",
       "      <td>female</td>\n",
       "      <td>26.0</td>\n",
       "      <td>0</td>\n",
       "      <td>0</td>\n",
       "      <td>STON/O2. 3101282</td>\n",
       "      <td>7.925</td>\n",
       "      <td>NaN</td>\n",
       "      <td>S</td>\n",
       "    </tr>\n",
       "  </tbody>\n",
       "</table>\n",
       "</div>"
      ],
      "text/plain": [
       "   PassengerId  Survived  Pclass                     Name     Sex   Age  \\\n",
       "0            1         0       3  Braund, Mr. Owen Harris    male  22.0   \n",
       "2            3         1       3   Heikkinen, Miss. Laina  female  26.0   \n",
       "\n",
       "   SibSp  Parch            Ticket   Fare Cabin Embarked  \n",
       "0      1      0         A/5 21171  7.250   NaN        S  \n",
       "2      0      0  STON/O2. 3101282  7.925   NaN        S  "
      ]
     },
     "execution_count": 191,
     "metadata": {},
     "output_type": "execute_result"
    }
   ],
   "source": [
    "d3df.head(2)"
   ]
  },
  {
   "cell_type": "markdown",
   "id": "2e2e7aa1-4150-4e82-b79a-b51195340e1b",
   "metadata": {},
   "source": [
    "### value_counts()\n",
    "- The value_counts() function returns an object containing counts of unique values\n",
    "- Return a Series containing the frequency of each distinct row in the Dataframe"
   ]
  },
  {
   "cell_type": "code",
   "execution_count": 192,
   "id": "ba7af8d0-db41-459f-b680-ae68207311d4",
   "metadata": {},
   "outputs": [
    {
     "data": {
      "text/plain": [
       "Pclass\n",
       "3    491\n",
       "1    216\n",
       "2    184\n",
       "Name: count, dtype: int64"
      ]
     },
     "execution_count": 192,
     "metadata": {},
     "output_type": "execute_result"
    }
   ],
   "source": [
    "csvdf['Pclass'].value_counts()"
   ]
  },
  {
   "cell_type": "code",
   "execution_count": 193,
   "id": "45d42dd8-98c8-44b1-9756-d9465c90251f",
   "metadata": {},
   "outputs": [
    {
     "data": {
      "text/plain": [
       "Sex\n",
       "male      577\n",
       "female    314\n",
       "Name: count, dtype: int64"
      ]
     },
     "execution_count": 193,
     "metadata": {},
     "output_type": "execute_result"
    }
   ],
   "source": [
    "csvdf['Sex'].value_counts()"
   ]
  },
  {
   "cell_type": "code",
   "execution_count": 194,
   "id": "36bdff82-0447-449f-b4e6-a56ce6f6ab32",
   "metadata": {},
   "outputs": [
    {
     "data": {
      "text/plain": [
       "Survived\n",
       "0    549\n",
       "1    342\n",
       "Name: count, dtype: int64"
      ]
     },
     "execution_count": 194,
     "metadata": {},
     "output_type": "execute_result"
    }
   ],
   "source": [
    "csvdf['Survived'].value_counts()"
   ]
  },
  {
   "cell_type": "markdown",
   "id": "2d2c392a-7dd2-44ce-9cbc-40df0a0b1e6d",
   "metadata": {},
   "source": [
    "### How to filter specific rows from a DataFrame?\n",
    "- For indexing or selecting elements from dataframe used []\n",
    "- () used to group of conditions within each set"
   ]
  },
  {
   "cell_type": "markdown",
   "id": "113c20ca-167a-4b0c-b643-ec65a29b7109",
   "metadata": {},
   "source": [
    "#### Create the dataframe with Pclass = 3 and Sex = female "
   ]
  },
  {
   "cell_type": "code",
   "execution_count": 195,
   "id": "2d001ade-e9bb-4f54-bd46-37ac65c909c6",
   "metadata": {},
   "outputs": [],
   "source": [
    "fdf = csvdf[(csvdf[\"Pclass\"] == 3) & (csvdf[\"Sex\"] == \"female\")]"
   ]
  },
  {
   "cell_type": "code",
   "execution_count": 196,
   "id": "74a3d5ae-1c0d-41fb-870e-cf2e57e26259",
   "metadata": {},
   "outputs": [
    {
     "data": {
      "text/html": [
       "<div>\n",
       "<style scoped>\n",
       "    .dataframe tbody tr th:only-of-type {\n",
       "        vertical-align: middle;\n",
       "    }\n",
       "\n",
       "    .dataframe tbody tr th {\n",
       "        vertical-align: top;\n",
       "    }\n",
       "\n",
       "    .dataframe thead th {\n",
       "        text-align: right;\n",
       "    }\n",
       "</style>\n",
       "<table border=\"1\" class=\"dataframe\">\n",
       "  <thead>\n",
       "    <tr style=\"text-align: right;\">\n",
       "      <th></th>\n",
       "      <th>PassengerId</th>\n",
       "      <th>Survived</th>\n",
       "      <th>Pclass</th>\n",
       "      <th>Name</th>\n",
       "      <th>Sex</th>\n",
       "      <th>Age</th>\n",
       "      <th>SibSp</th>\n",
       "      <th>Parch</th>\n",
       "      <th>Ticket</th>\n",
       "      <th>Fare</th>\n",
       "      <th>Cabin</th>\n",
       "      <th>Embarked</th>\n",
       "    </tr>\n",
       "  </thead>\n",
       "  <tbody>\n",
       "    <tr>\n",
       "      <th>2</th>\n",
       "      <td>3</td>\n",
       "      <td>1</td>\n",
       "      <td>3</td>\n",
       "      <td>Heikkinen, Miss. Laina</td>\n",
       "      <td>female</td>\n",
       "      <td>26.0</td>\n",
       "      <td>0</td>\n",
       "      <td>0</td>\n",
       "      <td>STON/O2. 3101282</td>\n",
       "      <td>7.9250</td>\n",
       "      <td>NaN</td>\n",
       "      <td>S</td>\n",
       "    </tr>\n",
       "    <tr>\n",
       "      <th>8</th>\n",
       "      <td>9</td>\n",
       "      <td>1</td>\n",
       "      <td>3</td>\n",
       "      <td>Johnson, Mrs. Oscar W (Elisabeth Vilhelmina Berg)</td>\n",
       "      <td>female</td>\n",
       "      <td>27.0</td>\n",
       "      <td>0</td>\n",
       "      <td>2</td>\n",
       "      <td>347742</td>\n",
       "      <td>11.1333</td>\n",
       "      <td>NaN</td>\n",
       "      <td>S</td>\n",
       "    </tr>\n",
       "  </tbody>\n",
       "</table>\n",
       "</div>"
      ],
      "text/plain": [
       "   PassengerId  Survived  Pclass  \\\n",
       "2            3         1       3   \n",
       "8            9         1       3   \n",
       "\n",
       "                                                Name     Sex   Age  SibSp  \\\n",
       "2                             Heikkinen, Miss. Laina  female  26.0      0   \n",
       "8  Johnson, Mrs. Oscar W (Elisabeth Vilhelmina Berg)  female  27.0      0   \n",
       "\n",
       "   Parch            Ticket     Fare Cabin Embarked  \n",
       "2      0  STON/O2. 3101282   7.9250   NaN        S  \n",
       "8      2            347742  11.1333   NaN        S  "
      ]
     },
     "execution_count": 196,
     "metadata": {},
     "output_type": "execute_result"
    }
   ],
   "source": [
    "fdf.head(2)"
   ]
  },
  {
   "cell_type": "markdown",
   "id": "e49be1ff-e8aa-4a03-80b6-ef716e19eff9",
   "metadata": {},
   "source": [
    "#### Create the dataframe with Pclass = 1 and Sex = male"
   ]
  },
  {
   "cell_type": "code",
   "execution_count": 197,
   "id": "1512207f-2ed3-4570-abe3-3c40557586f3",
   "metadata": {},
   "outputs": [],
   "source": [
    "mdf = csvdf[(csvdf[\"Pclass\"] == 1) & (csvdf[\"Sex\"] == \"male\")]"
   ]
  },
  {
   "cell_type": "code",
   "execution_count": 198,
   "id": "0adc1f18-ba9a-4e97-9e23-9cfab9c1bd9f",
   "metadata": {},
   "outputs": [
    {
     "data": {
      "text/html": [
       "<div>\n",
       "<style scoped>\n",
       "    .dataframe tbody tr th:only-of-type {\n",
       "        vertical-align: middle;\n",
       "    }\n",
       "\n",
       "    .dataframe tbody tr th {\n",
       "        vertical-align: top;\n",
       "    }\n",
       "\n",
       "    .dataframe thead th {\n",
       "        text-align: right;\n",
       "    }\n",
       "</style>\n",
       "<table border=\"1\" class=\"dataframe\">\n",
       "  <thead>\n",
       "    <tr style=\"text-align: right;\">\n",
       "      <th></th>\n",
       "      <th>PassengerId</th>\n",
       "      <th>Survived</th>\n",
       "      <th>Pclass</th>\n",
       "      <th>Name</th>\n",
       "      <th>Sex</th>\n",
       "      <th>Age</th>\n",
       "      <th>SibSp</th>\n",
       "      <th>Parch</th>\n",
       "      <th>Ticket</th>\n",
       "      <th>Fare</th>\n",
       "      <th>Cabin</th>\n",
       "      <th>Embarked</th>\n",
       "    </tr>\n",
       "  </thead>\n",
       "  <tbody>\n",
       "    <tr>\n",
       "      <th>6</th>\n",
       "      <td>7</td>\n",
       "      <td>0</td>\n",
       "      <td>1</td>\n",
       "      <td>McCarthy, Mr. Timothy J</td>\n",
       "      <td>male</td>\n",
       "      <td>54.0</td>\n",
       "      <td>0</td>\n",
       "      <td>0</td>\n",
       "      <td>17463</td>\n",
       "      <td>51.8625</td>\n",
       "      <td>E46</td>\n",
       "      <td>S</td>\n",
       "    </tr>\n",
       "    <tr>\n",
       "      <th>23</th>\n",
       "      <td>24</td>\n",
       "      <td>1</td>\n",
       "      <td>1</td>\n",
       "      <td>Sloper, Mr. William Thompson</td>\n",
       "      <td>male</td>\n",
       "      <td>28.0</td>\n",
       "      <td>0</td>\n",
       "      <td>0</td>\n",
       "      <td>113788</td>\n",
       "      <td>35.5000</td>\n",
       "      <td>A6</td>\n",
       "      <td>S</td>\n",
       "    </tr>\n",
       "  </tbody>\n",
       "</table>\n",
       "</div>"
      ],
      "text/plain": [
       "    PassengerId  Survived  Pclass                          Name   Sex   Age  \\\n",
       "6             7         0       1       McCarthy, Mr. Timothy J  male  54.0   \n",
       "23           24         1       1  Sloper, Mr. William Thompson  male  28.0   \n",
       "\n",
       "    SibSp  Parch  Ticket     Fare Cabin Embarked  \n",
       "6       0      0   17463  51.8625   E46        S  \n",
       "23      0      0  113788  35.5000    A6        S  "
      ]
     },
     "execution_count": 198,
     "metadata": {},
     "output_type": "execute_result"
    }
   ],
   "source": [
    "mdf.head(2)"
   ]
  },
  {
   "cell_type": "markdown",
   "id": "e1f0366b-5ecc-45fc-b7e0-72ae41b2cfdc",
   "metadata": {},
   "source": [
    "### apply() function\n",
    "- The apply() method allows you to apply a function along one of the axis of the dataframe\n",
    "- It takes a function as an input and applies this function to an entire DataFrame"
   ]
  },
  {
   "cell_type": "markdown",
   "id": "83431ee1-f742-44d7-95e3-7ae2dc97f921",
   "metadata": {},
   "source": [
    "#### write a command for surname that split from name column and insert a column"
   ]
  },
  {
   "cell_type": "code",
   "execution_count": 199,
   "id": "3830144b-720a-4103-94dd-af9c60a9a534",
   "metadata": {},
   "outputs": [],
   "source": [
    "def surname(x):\n",
    "    return x.split(',')[0]"
   ]
  },
  {
   "cell_type": "code",
   "execution_count": 200,
   "id": "d6859493-af83-484d-98e2-1c932ae17917",
   "metadata": {},
   "outputs": [],
   "source": [
    "csvdf.insert(4, 'Surname', csvdf['Name'].apply(surname))"
   ]
  },
  {
   "cell_type": "code",
   "execution_count": 201,
   "id": "59067c69-3456-4ebd-873a-c118e340ca9e",
   "metadata": {},
   "outputs": [
    {
     "data": {
      "text/html": [
       "<div>\n",
       "<style scoped>\n",
       "    .dataframe tbody tr th:only-of-type {\n",
       "        vertical-align: middle;\n",
       "    }\n",
       "\n",
       "    .dataframe tbody tr th {\n",
       "        vertical-align: top;\n",
       "    }\n",
       "\n",
       "    .dataframe thead th {\n",
       "        text-align: right;\n",
       "    }\n",
       "</style>\n",
       "<table border=\"1\" class=\"dataframe\">\n",
       "  <thead>\n",
       "    <tr style=\"text-align: right;\">\n",
       "      <th></th>\n",
       "      <th>PassengerId</th>\n",
       "      <th>Survived</th>\n",
       "      <th>Pclass</th>\n",
       "      <th>Name</th>\n",
       "      <th>Surname</th>\n",
       "      <th>Sex</th>\n",
       "      <th>Age</th>\n",
       "      <th>SibSp</th>\n",
       "      <th>Parch</th>\n",
       "      <th>Ticket</th>\n",
       "      <th>Fare</th>\n",
       "      <th>Cabin</th>\n",
       "      <th>Embarked</th>\n",
       "    </tr>\n",
       "  </thead>\n",
       "  <tbody>\n",
       "    <tr>\n",
       "      <th>0</th>\n",
       "      <td>1</td>\n",
       "      <td>0</td>\n",
       "      <td>3</td>\n",
       "      <td>Braund, Mr. Owen Harris</td>\n",
       "      <td>Braund</td>\n",
       "      <td>male</td>\n",
       "      <td>22.0</td>\n",
       "      <td>1</td>\n",
       "      <td>0</td>\n",
       "      <td>A/5 21171</td>\n",
       "      <td>7.2500</td>\n",
       "      <td>NaN</td>\n",
       "      <td>S</td>\n",
       "    </tr>\n",
       "    <tr>\n",
       "      <th>1</th>\n",
       "      <td>2</td>\n",
       "      <td>1</td>\n",
       "      <td>1</td>\n",
       "      <td>Cumings, Mrs. John Bradley (Florence Briggs Th...</td>\n",
       "      <td>Cumings</td>\n",
       "      <td>female</td>\n",
       "      <td>38.0</td>\n",
       "      <td>1</td>\n",
       "      <td>0</td>\n",
       "      <td>PC 17599</td>\n",
       "      <td>71.2833</td>\n",
       "      <td>C85</td>\n",
       "      <td>C</td>\n",
       "    </tr>\n",
       "  </tbody>\n",
       "</table>\n",
       "</div>"
      ],
      "text/plain": [
       "   PassengerId  Survived  Pclass  \\\n",
       "0            1         0       3   \n",
       "1            2         1       1   \n",
       "\n",
       "                                                Name  Surname     Sex   Age  \\\n",
       "0                            Braund, Mr. Owen Harris   Braund    male  22.0   \n",
       "1  Cumings, Mrs. John Bradley (Florence Briggs Th...  Cumings  female  38.0   \n",
       "\n",
       "   SibSp  Parch     Ticket     Fare Cabin Embarked  \n",
       "0      1      0  A/5 21171   7.2500   NaN        S  \n",
       "1      1      0   PC 17599  71.2833   C85        C  "
      ]
     },
     "execution_count": 201,
     "metadata": {},
     "output_type": "execute_result"
    }
   ],
   "source": [
    "csvdf.head(2)"
   ]
  },
  {
   "cell_type": "markdown",
   "id": "cdbdba2d-4685-40ff-a3fd-91f00be58c88",
   "metadata": {},
   "source": [
    "#### calculate half-age funtion and insert a column after the age into given data frame"
   ]
  },
  {
   "cell_type": "code",
   "execution_count": 202,
   "id": "b168172b-db72-4090-8116-89bfaa3e70ee",
   "metadata": {},
   "outputs": [],
   "source": [
    "def half_age(age):\n",
    "    return age/2"
   ]
  },
  {
   "cell_type": "code",
   "execution_count": 203,
   "id": "7a4766d3-49aa-42b4-96d9-55375b301f32",
   "metadata": {},
   "outputs": [],
   "source": [
    "csvdf.insert(7, 'Half Age', csvdf['Age'].apply(half_age))"
   ]
  },
  {
   "cell_type": "code",
   "execution_count": 204,
   "id": "e6e2df96-3b31-406f-bb8a-5f00e8dc4fca",
   "metadata": {},
   "outputs": [
    {
     "data": {
      "text/html": [
       "<div>\n",
       "<style scoped>\n",
       "    .dataframe tbody tr th:only-of-type {\n",
       "        vertical-align: middle;\n",
       "    }\n",
       "\n",
       "    .dataframe tbody tr th {\n",
       "        vertical-align: top;\n",
       "    }\n",
       "\n",
       "    .dataframe thead th {\n",
       "        text-align: right;\n",
       "    }\n",
       "</style>\n",
       "<table border=\"1\" class=\"dataframe\">\n",
       "  <thead>\n",
       "    <tr style=\"text-align: right;\">\n",
       "      <th></th>\n",
       "      <th>PassengerId</th>\n",
       "      <th>Survived</th>\n",
       "      <th>Pclass</th>\n",
       "      <th>Name</th>\n",
       "      <th>Surname</th>\n",
       "      <th>Sex</th>\n",
       "      <th>Age</th>\n",
       "      <th>Half Age</th>\n",
       "      <th>SibSp</th>\n",
       "      <th>Parch</th>\n",
       "      <th>Ticket</th>\n",
       "      <th>Fare</th>\n",
       "      <th>Cabin</th>\n",
       "      <th>Embarked</th>\n",
       "    </tr>\n",
       "  </thead>\n",
       "  <tbody>\n",
       "    <tr>\n",
       "      <th>0</th>\n",
       "      <td>1</td>\n",
       "      <td>0</td>\n",
       "      <td>3</td>\n",
       "      <td>Braund, Mr. Owen Harris</td>\n",
       "      <td>Braund</td>\n",
       "      <td>male</td>\n",
       "      <td>22.0</td>\n",
       "      <td>11.0</td>\n",
       "      <td>1</td>\n",
       "      <td>0</td>\n",
       "      <td>A/5 21171</td>\n",
       "      <td>7.2500</td>\n",
       "      <td>NaN</td>\n",
       "      <td>S</td>\n",
       "    </tr>\n",
       "    <tr>\n",
       "      <th>1</th>\n",
       "      <td>2</td>\n",
       "      <td>1</td>\n",
       "      <td>1</td>\n",
       "      <td>Cumings, Mrs. John Bradley (Florence Briggs Th...</td>\n",
       "      <td>Cumings</td>\n",
       "      <td>female</td>\n",
       "      <td>38.0</td>\n",
       "      <td>19.0</td>\n",
       "      <td>1</td>\n",
       "      <td>0</td>\n",
       "      <td>PC 17599</td>\n",
       "      <td>71.2833</td>\n",
       "      <td>C85</td>\n",
       "      <td>C</td>\n",
       "    </tr>\n",
       "  </tbody>\n",
       "</table>\n",
       "</div>"
      ],
      "text/plain": [
       "   PassengerId  Survived  Pclass  \\\n",
       "0            1         0       3   \n",
       "1            2         1       1   \n",
       "\n",
       "                                                Name  Surname     Sex   Age  \\\n",
       "0                            Braund, Mr. Owen Harris   Braund    male  22.0   \n",
       "1  Cumings, Mrs. John Bradley (Florence Briggs Th...  Cumings  female  38.0   \n",
       "\n",
       "   Half Age  SibSp  Parch     Ticket     Fare Cabin Embarked  \n",
       "0      11.0      1      0  A/5 21171   7.2500   NaN        S  \n",
       "1      19.0      1      0   PC 17599  71.2833   C85        C  "
      ]
     },
     "execution_count": 204,
     "metadata": {},
     "output_type": "execute_result"
    }
   ],
   "source": [
    "csvdf.head(2)"
   ]
  },
  {
   "cell_type": "markdown",
   "id": "a6357502-d8a9-4287-8c2a-a87c4d707c18",
   "metadata": {},
   "source": [
    "### map() function\n",
    "- Map function is works as an iterator to return a result after applying a function to every item of an iterable (tuple, lists, etc.)\n",
    "- It is used when you want to apply a single transformation function to all the iterable elements\n",
    "- The iterable and function are passed as arguments to the map in python"
   ]
  },
  {
   "cell_type": "code",
   "execution_count": 205,
   "id": "c136357c-3912-4005-977f-4fe682f0377c",
   "metadata": {},
   "outputs": [],
   "source": [
    "gender = csvdf['Sex'].map({'male' : 0, 'female' : 1})"
   ]
  },
  {
   "cell_type": "code",
   "execution_count": 206,
   "id": "4b85be37-00a4-46cc-bc67-70c260f050b5",
   "metadata": {},
   "outputs": [],
   "source": [
    "csvdf.insert(6, 'Gender', gender)"
   ]
  },
  {
   "cell_type": "code",
   "execution_count": 207,
   "id": "f7b0f075-e75e-4e6b-bffa-fc55b52020fb",
   "metadata": {},
   "outputs": [
    {
     "data": {
      "text/html": [
       "<div>\n",
       "<style scoped>\n",
       "    .dataframe tbody tr th:only-of-type {\n",
       "        vertical-align: middle;\n",
       "    }\n",
       "\n",
       "    .dataframe tbody tr th {\n",
       "        vertical-align: top;\n",
       "    }\n",
       "\n",
       "    .dataframe thead th {\n",
       "        text-align: right;\n",
       "    }\n",
       "</style>\n",
       "<table border=\"1\" class=\"dataframe\">\n",
       "  <thead>\n",
       "    <tr style=\"text-align: right;\">\n",
       "      <th></th>\n",
       "      <th>PassengerId</th>\n",
       "      <th>Survived</th>\n",
       "      <th>Pclass</th>\n",
       "      <th>Name</th>\n",
       "      <th>Surname</th>\n",
       "      <th>Sex</th>\n",
       "      <th>Gender</th>\n",
       "      <th>Age</th>\n",
       "      <th>Half Age</th>\n",
       "      <th>SibSp</th>\n",
       "      <th>Parch</th>\n",
       "      <th>Ticket</th>\n",
       "      <th>Fare</th>\n",
       "      <th>Cabin</th>\n",
       "      <th>Embarked</th>\n",
       "    </tr>\n",
       "  </thead>\n",
       "  <tbody>\n",
       "    <tr>\n",
       "      <th>0</th>\n",
       "      <td>1</td>\n",
       "      <td>0</td>\n",
       "      <td>3</td>\n",
       "      <td>Braund, Mr. Owen Harris</td>\n",
       "      <td>Braund</td>\n",
       "      <td>male</td>\n",
       "      <td>0</td>\n",
       "      <td>22.0</td>\n",
       "      <td>11.0</td>\n",
       "      <td>1</td>\n",
       "      <td>0</td>\n",
       "      <td>A/5 21171</td>\n",
       "      <td>7.2500</td>\n",
       "      <td>NaN</td>\n",
       "      <td>S</td>\n",
       "    </tr>\n",
       "    <tr>\n",
       "      <th>1</th>\n",
       "      <td>2</td>\n",
       "      <td>1</td>\n",
       "      <td>1</td>\n",
       "      <td>Cumings, Mrs. John Bradley (Florence Briggs Th...</td>\n",
       "      <td>Cumings</td>\n",
       "      <td>female</td>\n",
       "      <td>1</td>\n",
       "      <td>38.0</td>\n",
       "      <td>19.0</td>\n",
       "      <td>1</td>\n",
       "      <td>0</td>\n",
       "      <td>PC 17599</td>\n",
       "      <td>71.2833</td>\n",
       "      <td>C85</td>\n",
       "      <td>C</td>\n",
       "    </tr>\n",
       "  </tbody>\n",
       "</table>\n",
       "</div>"
      ],
      "text/plain": [
       "   PassengerId  Survived  Pclass  \\\n",
       "0            1         0       3   \n",
       "1            2         1       1   \n",
       "\n",
       "                                                Name  Surname     Sex  Gender  \\\n",
       "0                            Braund, Mr. Owen Harris   Braund    male       0   \n",
       "1  Cumings, Mrs. John Bradley (Florence Briggs Th...  Cumings  female       1   \n",
       "\n",
       "    Age  Half Age  SibSp  Parch     Ticket     Fare Cabin Embarked  \n",
       "0  22.0      11.0      1      0  A/5 21171   7.2500   NaN        S  \n",
       "1  38.0      19.0      1      0   PC 17599  71.2833   C85        C  "
      ]
     },
     "execution_count": 207,
     "metadata": {},
     "output_type": "execute_result"
    }
   ],
   "source": [
    "csvdf.head(2)"
   ]
  },
  {
   "cell_type": "markdown",
   "id": "464a0b81-6028-444f-896e-8caf5e3a0a51",
   "metadata": {},
   "source": [
    "#### write a python program to load different kind of the file (json, xml, excel etc)"
   ]
  },
  {
   "cell_type": "code",
   "execution_count": 208,
   "id": "503df4d8-0830-4775-9f1a-12363ff658ba",
   "metadata": {},
   "outputs": [],
   "source": [
    "jsondf = pd.read_json('DataSet\\j.json')"
   ]
  },
  {
   "cell_type": "code",
   "execution_count": 209,
   "id": "0686f4ec-5845-4295-ac73-d74d478d8071",
   "metadata": {},
   "outputs": [
    {
     "data": {
      "text/html": [
       "<div>\n",
       "<style scoped>\n",
       "    .dataframe tbody tr th:only-of-type {\n",
       "        vertical-align: middle;\n",
       "    }\n",
       "\n",
       "    .dataframe tbody tr th {\n",
       "        vertical-align: top;\n",
       "    }\n",
       "\n",
       "    .dataframe thead th {\n",
       "        text-align: right;\n",
       "    }\n",
       "</style>\n",
       "<table border=\"1\" class=\"dataframe\">\n",
       "  <thead>\n",
       "    <tr style=\"text-align: right;\">\n",
       "      <th></th>\n",
       "      <th>Roll No</th>\n",
       "      <th>First Name</th>\n",
       "      <th>Last Name</th>\n",
       "      <th>Gender</th>\n",
       "      <th>Age</th>\n",
       "    </tr>\n",
       "  </thead>\n",
       "  <tbody>\n",
       "    <tr>\n",
       "      <th>0</th>\n",
       "      <td>201</td>\n",
       "      <td>Keyuri</td>\n",
       "      <td>Patel</td>\n",
       "      <td>female</td>\n",
       "      <td>21</td>\n",
       "    </tr>\n",
       "    <tr>\n",
       "      <th>1</th>\n",
       "      <td>202</td>\n",
       "      <td>Yashvi</td>\n",
       "      <td>Joshi</td>\n",
       "      <td>female</td>\n",
       "      <td>20</td>\n",
       "    </tr>\n",
       "  </tbody>\n",
       "</table>\n",
       "</div>"
      ],
      "text/plain": [
       "   Roll No First Name Last Name  Gender  Age\n",
       "0      201     Keyuri     Patel  female   21\n",
       "1      202     Yashvi     Joshi  female   20"
      ]
     },
     "execution_count": 209,
     "metadata": {},
     "output_type": "execute_result"
    }
   ],
   "source": [
    "jsondf.head(2)"
   ]
  },
  {
   "cell_type": "code",
   "execution_count": 210,
   "id": "7a5de24f-d4e1-49f9-a5a6-c16dc00e8be7",
   "metadata": {},
   "outputs": [],
   "source": [
    "xmldf = pd.read_xml('DataSet\\\\x.xml')"
   ]
  },
  {
   "cell_type": "code",
   "execution_count": 211,
   "id": "bd04f543-e2cf-4ab7-b34c-bb75fb33b476",
   "metadata": {},
   "outputs": [
    {
     "data": {
      "text/html": [
       "<div>\n",
       "<style scoped>\n",
       "    .dataframe tbody tr th:only-of-type {\n",
       "        vertical-align: middle;\n",
       "    }\n",
       "\n",
       "    .dataframe tbody tr th {\n",
       "        vertical-align: top;\n",
       "    }\n",
       "\n",
       "    .dataframe thead th {\n",
       "        text-align: right;\n",
       "    }\n",
       "</style>\n",
       "<table border=\"1\" class=\"dataframe\">\n",
       "  <thead>\n",
       "    <tr style=\"text-align: right;\">\n",
       "      <th></th>\n",
       "      <th>Roll_No</th>\n",
       "      <th>First_Name</th>\n",
       "      <th>Last_Name</th>\n",
       "      <th>Gender</th>\n",
       "      <th>Age</th>\n",
       "    </tr>\n",
       "  </thead>\n",
       "  <tbody>\n",
       "    <tr>\n",
       "      <th>0</th>\n",
       "      <td>301</td>\n",
       "      <td>Keyuri</td>\n",
       "      <td>Patel</td>\n",
       "      <td>female</td>\n",
       "      <td>21</td>\n",
       "    </tr>\n",
       "    <tr>\n",
       "      <th>1</th>\n",
       "      <td>302</td>\n",
       "      <td>Yashvi</td>\n",
       "      <td>Joshi</td>\n",
       "      <td>female</td>\n",
       "      <td>20</td>\n",
       "    </tr>\n",
       "  </tbody>\n",
       "</table>\n",
       "</div>"
      ],
      "text/plain": [
       "   Roll_No First_Name Last_Name  Gender  Age\n",
       "0      301     Keyuri     Patel  female   21\n",
       "1      302     Yashvi     Joshi  female   20"
      ]
     },
     "execution_count": 211,
     "metadata": {},
     "output_type": "execute_result"
    }
   ],
   "source": [
    "xmldf.head(2)"
   ]
  },
  {
   "cell_type": "code",
   "execution_count": 212,
   "id": "2ff33007-8e49-4c8d-8bc6-819242e4265b",
   "metadata": {},
   "outputs": [],
   "source": [
    "xlsxdf = pd.read_excel(\"DataSet/x.xlsx\")"
   ]
  },
  {
   "cell_type": "code",
   "execution_count": 213,
   "id": "d028ba41-1101-4839-bd85-dd8916168d7a",
   "metadata": {},
   "outputs": [
    {
     "data": {
      "text/html": [
       "<div>\n",
       "<style scoped>\n",
       "    .dataframe tbody tr th:only-of-type {\n",
       "        vertical-align: middle;\n",
       "    }\n",
       "\n",
       "    .dataframe tbody tr th {\n",
       "        vertical-align: top;\n",
       "    }\n",
       "\n",
       "    .dataframe thead th {\n",
       "        text-align: right;\n",
       "    }\n",
       "</style>\n",
       "<table border=\"1\" class=\"dataframe\">\n",
       "  <thead>\n",
       "    <tr style=\"text-align: right;\">\n",
       "      <th></th>\n",
       "      <th>Roll No</th>\n",
       "      <th>First Name</th>\n",
       "      <th>Last Name</th>\n",
       "      <th>Gender</th>\n",
       "      <th>Age</th>\n",
       "    </tr>\n",
       "  </thead>\n",
       "  <tbody>\n",
       "    <tr>\n",
       "      <th>0</th>\n",
       "      <td>211</td>\n",
       "      <td>Keyuri</td>\n",
       "      <td>Patel</td>\n",
       "      <td>female</td>\n",
       "      <td>21</td>\n",
       "    </tr>\n",
       "    <tr>\n",
       "      <th>1</th>\n",
       "      <td>212</td>\n",
       "      <td>Yashvi</td>\n",
       "      <td>Joshi</td>\n",
       "      <td>female</td>\n",
       "      <td>20</td>\n",
       "    </tr>\n",
       "  </tbody>\n",
       "</table>\n",
       "</div>"
      ],
      "text/plain": [
       "   Roll No First Name Last Name  Gender  Age\n",
       "0      211     Keyuri     Patel  female   21\n",
       "1      212     Yashvi     Joshi  female   20"
      ]
     },
     "execution_count": 213,
     "metadata": {},
     "output_type": "execute_result"
    }
   ],
   "source": [
    "xlsxdf.head(2)"
   ]
  },
  {
   "cell_type": "markdown",
   "id": "b84b66ab-3fa9-4194-9c0b-faaaecca706a",
   "metadata": {},
   "source": [
    "## Before processing on data, clean the dataset with appropriate values\n",
    "- Data cleaning is the process of changing or eliminating garbage, incorrect, duplicate, corrupted, or incomplete data in a dataset\n",
    "- Most efficient steps to clean data\n",
    "  - Findout missing values\n",
    "  - Replace or handle missing values\n",
    "##### How find out missing values from dataset ?\n",
    "- To calculate total number of missing values use isnull() method that return boolean value\n",
    "- isnull() method followed by sum() method that count total missing values  \n",
    "##### How replace or handle missing values ?\n",
    "- Filling appropriate values based on their categories\n",
    "- Dropping unnecessary columns\n",
    "- Changing the index\n",
    "- Renaming columns to recognizable\n",
    "- Skipping unnecessary rows"
   ]
  },
  {
   "cell_type": "markdown",
   "id": "85178962-fa14-4314-8a1a-ceaa03e45a85",
   "metadata": {},
   "source": [
    "### Find out missing values from dataset"
   ]
  },
  {
   "cell_type": "markdown",
   "id": "8b74f97e-3c73-4541-8b40-7f403ebf4a95",
   "metadata": {},
   "source": [
    "#### isnull() function\n",
    "- isnull() function detect missing values in the given series object\n",
    "- It return a boolean same-sized object indicating if the values are NaN\n",
    "- It return true for missing values and false for missing values"
   ]
  },
  {
   "cell_type": "code",
   "execution_count": 214,
   "id": "77fcb628-2a83-47d6-9086-6b085e676abb",
   "metadata": {},
   "outputs": [
    {
     "data": {
      "text/html": [
       "<div>\n",
       "<style scoped>\n",
       "    .dataframe tbody tr th:only-of-type {\n",
       "        vertical-align: middle;\n",
       "    }\n",
       "\n",
       "    .dataframe tbody tr th {\n",
       "        vertical-align: top;\n",
       "    }\n",
       "\n",
       "    .dataframe thead th {\n",
       "        text-align: right;\n",
       "    }\n",
       "</style>\n",
       "<table border=\"1\" class=\"dataframe\">\n",
       "  <thead>\n",
       "    <tr style=\"text-align: right;\">\n",
       "      <th></th>\n",
       "      <th>PassengerId</th>\n",
       "      <th>Survived</th>\n",
       "      <th>Pclass</th>\n",
       "      <th>Name</th>\n",
       "      <th>Surname</th>\n",
       "      <th>Sex</th>\n",
       "      <th>Gender</th>\n",
       "      <th>Age</th>\n",
       "      <th>Half Age</th>\n",
       "      <th>SibSp</th>\n",
       "      <th>Parch</th>\n",
       "      <th>Ticket</th>\n",
       "      <th>Fare</th>\n",
       "      <th>Cabin</th>\n",
       "      <th>Embarked</th>\n",
       "    </tr>\n",
       "  </thead>\n",
       "  <tbody>\n",
       "    <tr>\n",
       "      <th>0</th>\n",
       "      <td>False</td>\n",
       "      <td>False</td>\n",
       "      <td>False</td>\n",
       "      <td>False</td>\n",
       "      <td>False</td>\n",
       "      <td>False</td>\n",
       "      <td>False</td>\n",
       "      <td>False</td>\n",
       "      <td>False</td>\n",
       "      <td>False</td>\n",
       "      <td>False</td>\n",
       "      <td>False</td>\n",
       "      <td>False</td>\n",
       "      <td>True</td>\n",
       "      <td>False</td>\n",
       "    </tr>\n",
       "    <tr>\n",
       "      <th>1</th>\n",
       "      <td>False</td>\n",
       "      <td>False</td>\n",
       "      <td>False</td>\n",
       "      <td>False</td>\n",
       "      <td>False</td>\n",
       "      <td>False</td>\n",
       "      <td>False</td>\n",
       "      <td>False</td>\n",
       "      <td>False</td>\n",
       "      <td>False</td>\n",
       "      <td>False</td>\n",
       "      <td>False</td>\n",
       "      <td>False</td>\n",
       "      <td>False</td>\n",
       "      <td>False</td>\n",
       "    </tr>\n",
       "    <tr>\n",
       "      <th>2</th>\n",
       "      <td>False</td>\n",
       "      <td>False</td>\n",
       "      <td>False</td>\n",
       "      <td>False</td>\n",
       "      <td>False</td>\n",
       "      <td>False</td>\n",
       "      <td>False</td>\n",
       "      <td>False</td>\n",
       "      <td>False</td>\n",
       "      <td>False</td>\n",
       "      <td>False</td>\n",
       "      <td>False</td>\n",
       "      <td>False</td>\n",
       "      <td>True</td>\n",
       "      <td>False</td>\n",
       "    </tr>\n",
       "    <tr>\n",
       "      <th>3</th>\n",
       "      <td>False</td>\n",
       "      <td>False</td>\n",
       "      <td>False</td>\n",
       "      <td>False</td>\n",
       "      <td>False</td>\n",
       "      <td>False</td>\n",
       "      <td>False</td>\n",
       "      <td>False</td>\n",
       "      <td>False</td>\n",
       "      <td>False</td>\n",
       "      <td>False</td>\n",
       "      <td>False</td>\n",
       "      <td>False</td>\n",
       "      <td>False</td>\n",
       "      <td>False</td>\n",
       "    </tr>\n",
       "    <tr>\n",
       "      <th>4</th>\n",
       "      <td>False</td>\n",
       "      <td>False</td>\n",
       "      <td>False</td>\n",
       "      <td>False</td>\n",
       "      <td>False</td>\n",
       "      <td>False</td>\n",
       "      <td>False</td>\n",
       "      <td>False</td>\n",
       "      <td>False</td>\n",
       "      <td>False</td>\n",
       "      <td>False</td>\n",
       "      <td>False</td>\n",
       "      <td>False</td>\n",
       "      <td>True</td>\n",
       "      <td>False</td>\n",
       "    </tr>\n",
       "    <tr>\n",
       "      <th>...</th>\n",
       "      <td>...</td>\n",
       "      <td>...</td>\n",
       "      <td>...</td>\n",
       "      <td>...</td>\n",
       "      <td>...</td>\n",
       "      <td>...</td>\n",
       "      <td>...</td>\n",
       "      <td>...</td>\n",
       "      <td>...</td>\n",
       "      <td>...</td>\n",
       "      <td>...</td>\n",
       "      <td>...</td>\n",
       "      <td>...</td>\n",
       "      <td>...</td>\n",
       "      <td>...</td>\n",
       "    </tr>\n",
       "    <tr>\n",
       "      <th>886</th>\n",
       "      <td>False</td>\n",
       "      <td>False</td>\n",
       "      <td>False</td>\n",
       "      <td>False</td>\n",
       "      <td>False</td>\n",
       "      <td>False</td>\n",
       "      <td>False</td>\n",
       "      <td>False</td>\n",
       "      <td>False</td>\n",
       "      <td>False</td>\n",
       "      <td>False</td>\n",
       "      <td>False</td>\n",
       "      <td>False</td>\n",
       "      <td>True</td>\n",
       "      <td>False</td>\n",
       "    </tr>\n",
       "    <tr>\n",
       "      <th>887</th>\n",
       "      <td>False</td>\n",
       "      <td>False</td>\n",
       "      <td>False</td>\n",
       "      <td>False</td>\n",
       "      <td>False</td>\n",
       "      <td>False</td>\n",
       "      <td>False</td>\n",
       "      <td>False</td>\n",
       "      <td>False</td>\n",
       "      <td>False</td>\n",
       "      <td>False</td>\n",
       "      <td>False</td>\n",
       "      <td>False</td>\n",
       "      <td>False</td>\n",
       "      <td>False</td>\n",
       "    </tr>\n",
       "    <tr>\n",
       "      <th>888</th>\n",
       "      <td>False</td>\n",
       "      <td>False</td>\n",
       "      <td>False</td>\n",
       "      <td>False</td>\n",
       "      <td>False</td>\n",
       "      <td>False</td>\n",
       "      <td>False</td>\n",
       "      <td>True</td>\n",
       "      <td>True</td>\n",
       "      <td>False</td>\n",
       "      <td>False</td>\n",
       "      <td>False</td>\n",
       "      <td>False</td>\n",
       "      <td>True</td>\n",
       "      <td>False</td>\n",
       "    </tr>\n",
       "    <tr>\n",
       "      <th>889</th>\n",
       "      <td>False</td>\n",
       "      <td>False</td>\n",
       "      <td>False</td>\n",
       "      <td>False</td>\n",
       "      <td>False</td>\n",
       "      <td>False</td>\n",
       "      <td>False</td>\n",
       "      <td>False</td>\n",
       "      <td>False</td>\n",
       "      <td>False</td>\n",
       "      <td>False</td>\n",
       "      <td>False</td>\n",
       "      <td>False</td>\n",
       "      <td>False</td>\n",
       "      <td>False</td>\n",
       "    </tr>\n",
       "    <tr>\n",
       "      <th>890</th>\n",
       "      <td>False</td>\n",
       "      <td>False</td>\n",
       "      <td>False</td>\n",
       "      <td>False</td>\n",
       "      <td>False</td>\n",
       "      <td>False</td>\n",
       "      <td>False</td>\n",
       "      <td>False</td>\n",
       "      <td>False</td>\n",
       "      <td>False</td>\n",
       "      <td>False</td>\n",
       "      <td>False</td>\n",
       "      <td>False</td>\n",
       "      <td>True</td>\n",
       "      <td>False</td>\n",
       "    </tr>\n",
       "  </tbody>\n",
       "</table>\n",
       "<p>891 rows × 15 columns</p>\n",
       "</div>"
      ],
      "text/plain": [
       "     PassengerId  Survived  Pclass   Name  Surname    Sex  Gender    Age  \\\n",
       "0          False     False   False  False    False  False   False  False   \n",
       "1          False     False   False  False    False  False   False  False   \n",
       "2          False     False   False  False    False  False   False  False   \n",
       "3          False     False   False  False    False  False   False  False   \n",
       "4          False     False   False  False    False  False   False  False   \n",
       "..           ...       ...     ...    ...      ...    ...     ...    ...   \n",
       "886        False     False   False  False    False  False   False  False   \n",
       "887        False     False   False  False    False  False   False  False   \n",
       "888        False     False   False  False    False  False   False   True   \n",
       "889        False     False   False  False    False  False   False  False   \n",
       "890        False     False   False  False    False  False   False  False   \n",
       "\n",
       "     Half Age  SibSp  Parch  Ticket   Fare  Cabin  Embarked  \n",
       "0       False  False  False   False  False   True     False  \n",
       "1       False  False  False   False  False  False     False  \n",
       "2       False  False  False   False  False   True     False  \n",
       "3       False  False  False   False  False  False     False  \n",
       "4       False  False  False   False  False   True     False  \n",
       "..        ...    ...    ...     ...    ...    ...       ...  \n",
       "886     False  False  False   False  False   True     False  \n",
       "887     False  False  False   False  False  False     False  \n",
       "888      True  False  False   False  False   True     False  \n",
       "889     False  False  False   False  False  False     False  \n",
       "890     False  False  False   False  False   True     False  \n",
       "\n",
       "[891 rows x 15 columns]"
      ]
     },
     "execution_count": 214,
     "metadata": {},
     "output_type": "execute_result"
    }
   ],
   "source": [
    "csvdf.isnull()"
   ]
  },
  {
   "cell_type": "code",
   "execution_count": 215,
   "id": "f3dd3f0d",
   "metadata": {},
   "outputs": [
    {
     "data": {
      "text/plain": [
       "PassengerId      0\n",
       "Survived         0\n",
       "Pclass           0\n",
       "Name             0\n",
       "Surname          0\n",
       "Sex              0\n",
       "Gender           0\n",
       "Age            177\n",
       "Half Age       177\n",
       "SibSp            0\n",
       "Parch            0\n",
       "Ticket           0\n",
       "Fare             0\n",
       "Cabin          687\n",
       "Embarked         2\n",
       "dtype: int64"
      ]
     },
     "execution_count": 215,
     "metadata": {},
     "output_type": "execute_result"
    }
   ],
   "source": [
    "csvdf.isnull().sum()"
   ]
  },
  {
   "cell_type": "markdown",
   "id": "ba7b4755-80f9-4b1c-a6cf-89072e9ca781",
   "metadata": {},
   "source": [
    "### Replace or handle missing values"
   ]
  },
  {
   "cell_type": "markdown",
   "id": "eee557be-765e-41e6-9fe6-d266bf5eda5b",
   "metadata": {},
   "source": [
    "#### remove unnecessary column"
   ]
  },
  {
   "cell_type": "code",
   "execution_count": 216,
   "id": "00171eed",
   "metadata": {},
   "outputs": [],
   "source": [
    "csvdf.drop(columns=[\"Cabin\"], inplace=True)"
   ]
  },
  {
   "cell_type": "code",
   "execution_count": 217,
   "id": "8bc5b7ea",
   "metadata": {},
   "outputs": [
    {
     "data": {
      "text/plain": [
       "Index(['PassengerId', 'Survived', 'Pclass', 'Name', 'Surname', 'Sex', 'Gender',\n",
       "       'Age', 'Half Age', 'SibSp', 'Parch', 'Ticket', 'Fare', 'Embarked'],\n",
       "      dtype='object')"
      ]
     },
     "execution_count": 217,
     "metadata": {},
     "output_type": "execute_result"
    }
   ],
   "source": [
    "csvdf.columns"
   ]
  },
  {
   "cell_type": "code",
   "execution_count": 218,
   "id": "69ae530f",
   "metadata": {},
   "outputs": [
    {
     "data": {
      "text/plain": [
       "PassengerId      0\n",
       "Survived         0\n",
       "Pclass           0\n",
       "Name             0\n",
       "Surname          0\n",
       "Sex              0\n",
       "Gender           0\n",
       "Age            177\n",
       "Half Age       177\n",
       "SibSp            0\n",
       "Parch            0\n",
       "Ticket           0\n",
       "Fare             0\n",
       "Embarked         2\n",
       "dtype: int64"
      ]
     },
     "execution_count": 218,
     "metadata": {},
     "output_type": "execute_result"
    }
   ],
   "source": [
    "csvdf.isnull().sum()"
   ]
  },
  {
   "cell_type": "markdown",
   "id": "ddd7bb18-69fc-43b8-aeba-de6424da9f66",
   "metadata": {},
   "source": [
    "#### Filling appropriate values based on their categories\n",
    "- Generally, replacing the missing values with the mean/median/mode is a crude way of treating missing values\n",
    "- For numerical data, find out mean of that data and replace that with mean value\n",
    "- For categorical data, find out mode of that data and replace that with mode value"
   ]
  },
  {
   "cell_type": "markdown",
   "id": "4aebb5f7-87e7-48b7-a7fe-10b363a66e7e",
   "metadata": {},
   "source": [
    "##### For filling missing value here find average of each age based on Pclass and create dataframes for each Pclass"
   ]
  },
  {
   "cell_type": "code",
   "execution_count": 219,
   "id": "c1d0fbd8",
   "metadata": {},
   "outputs": [
    {
     "data": {
      "text/plain": [
       "Pclass\n",
       "1    38.233441\n",
       "2    29.877630\n",
       "3    25.140620\n",
       "Name: Age, dtype: float64"
      ]
     },
     "execution_count": 219,
     "metadata": {},
     "output_type": "execute_result"
    }
   ],
   "source": [
    "csvdf.groupby(\"Pclass\")[\"Age\"].mean()"
   ]
  },
  {
   "cell_type": "code",
   "execution_count": 220,
   "id": "56f49c6f",
   "metadata": {},
   "outputs": [],
   "source": [
    "csvdf1 = csvdf[csvdf['Pclass'] == 1]\n",
    "csvdf2 = csvdf[csvdf['Pclass'] == 2]\n",
    "csvdf3 = csvdf[csvdf['Pclass'] == 3]"
   ]
  },
  {
   "cell_type": "markdown",
   "id": "878a8cda-9cd1-4238-950b-2f4e25f8f7bd",
   "metadata": {},
   "source": [
    "#### fillna() function\n",
    "- The fillna() method replaces the NULL values with a specified value\n",
    "- It returns a new dataframe object\n",
    "- If inplace parameter is set to true, in that case the fillna() method does the replacing in the original dataframe instead."
   ]
  },
  {
   "cell_type": "code",
   "execution_count": 227,
   "id": "0daf4a66-f21d-4822-a141-4974c6b79fa6",
   "metadata": {},
   "outputs": [],
   "source": [
    "csvdf1[\"Age\"] = csvdf1[\"Age\"].fillna(csvdf.groupby(\"Pclass\")[\"Age\"].mean()[1])\n",
    "csvdf2[\"Age\"] = csvdf2[\"Age\"].fillna(csvdf.groupby(\"Pclass\")[\"Age\"].mean()[2])\n",
    "csvdf3[\"Age\"] = csvdf3[\"Age\"].fillna(csvdf.groupby(\"Pclass\")[\"Age\"].mean()[3])"
   ]
  },
  {
   "cell_type": "markdown",
   "id": "534d0534-2735-4501-bde9-977890288503",
   "metadata": {},
   "source": [
    "#### concat() function\n",
    "- The concat() method is a powerful tool for combine dataframes or series along a particular axis (either rows or columns)\n",
    "- It’s especially useful for merging and analyzing datasets with similar structures\n",
    "- It used to concatenating two dataframe\n",
    "- Concatenate multiple dataframes using pandas.concat()\n",
    "- For concatigation, columns and dtype of columns are must be same for each dataframe"
   ]
  },
  {
   "cell_type": "code",
   "execution_count": 229,
   "id": "98436525",
   "metadata": {},
   "outputs": [],
   "source": [
    "csvdf = pd.concat((csvdf1, csvdf2, csvdf3), ignore_index=True)"
   ]
  },
  {
   "cell_type": "code",
   "execution_count": 230,
   "id": "01d4e179",
   "metadata": {},
   "outputs": [
    {
     "data": {
      "text/plain": [
       "Pclass\n",
       "1    38.233441\n",
       "2    29.877630\n",
       "3    25.140620\n",
       "Name: Age, dtype: float64"
      ]
     },
     "execution_count": 230,
     "metadata": {},
     "output_type": "execute_result"
    }
   ],
   "source": [
    "csvdf.groupby(\"Pclass\")[\"Age\"].mean()"
   ]
  },
  {
   "cell_type": "code",
   "execution_count": 224,
   "id": "474258b0",
   "metadata": {},
   "outputs": [
    {
     "data": {
      "text/html": [
       "<div>\n",
       "<style scoped>\n",
       "    .dataframe tbody tr th:only-of-type {\n",
       "        vertical-align: middle;\n",
       "    }\n",
       "\n",
       "    .dataframe tbody tr th {\n",
       "        vertical-align: top;\n",
       "    }\n",
       "\n",
       "    .dataframe thead th {\n",
       "        text-align: right;\n",
       "    }\n",
       "</style>\n",
       "<table border=\"1\" class=\"dataframe\">\n",
       "  <thead>\n",
       "    <tr style=\"text-align: right;\">\n",
       "      <th></th>\n",
       "      <th>PassengerId</th>\n",
       "      <th>Survived</th>\n",
       "      <th>Pclass</th>\n",
       "      <th>Name</th>\n",
       "      <th>Surname</th>\n",
       "      <th>Sex</th>\n",
       "      <th>Gender</th>\n",
       "      <th>Age</th>\n",
       "      <th>Half Age</th>\n",
       "      <th>SibSp</th>\n",
       "      <th>Parch</th>\n",
       "      <th>Ticket</th>\n",
       "      <th>Fare</th>\n",
       "      <th>Embarked</th>\n",
       "    </tr>\n",
       "  </thead>\n",
       "  <tbody>\n",
       "    <tr>\n",
       "      <th>0</th>\n",
       "      <td>2</td>\n",
       "      <td>1</td>\n",
       "      <td>1</td>\n",
       "      <td>Cumings, Mrs. John Bradley (Florence Briggs Th...</td>\n",
       "      <td>Cumings</td>\n",
       "      <td>female</td>\n",
       "      <td>1</td>\n",
       "      <td>38.0</td>\n",
       "      <td>19.0</td>\n",
       "      <td>1</td>\n",
       "      <td>0</td>\n",
       "      <td>PC 17599</td>\n",
       "      <td>71.2833</td>\n",
       "      <td>C</td>\n",
       "    </tr>\n",
       "    <tr>\n",
       "      <th>1</th>\n",
       "      <td>4</td>\n",
       "      <td>1</td>\n",
       "      <td>1</td>\n",
       "      <td>Futrelle, Mrs. Jacques Heath (Lily May Peel)</td>\n",
       "      <td>Futrelle</td>\n",
       "      <td>female</td>\n",
       "      <td>1</td>\n",
       "      <td>35.0</td>\n",
       "      <td>17.5</td>\n",
       "      <td>1</td>\n",
       "      <td>0</td>\n",
       "      <td>113803</td>\n",
       "      <td>53.1000</td>\n",
       "      <td>S</td>\n",
       "    </tr>\n",
       "  </tbody>\n",
       "</table>\n",
       "</div>"
      ],
      "text/plain": [
       "   PassengerId  Survived  Pclass  \\\n",
       "0            2         1       1   \n",
       "1            4         1       1   \n",
       "\n",
       "                                                Name   Surname     Sex  \\\n",
       "0  Cumings, Mrs. John Bradley (Florence Briggs Th...   Cumings  female   \n",
       "1       Futrelle, Mrs. Jacques Heath (Lily May Peel)  Futrelle  female   \n",
       "\n",
       "   Gender   Age  Half Age  SibSp  Parch    Ticket     Fare Embarked  \n",
       "0       1  38.0      19.0      1      0  PC 17599  71.2833        C  \n",
       "1       1  35.0      17.5      1      0    113803  53.1000        S  "
      ]
     },
     "execution_count": 224,
     "metadata": {},
     "output_type": "execute_result"
    }
   ],
   "source": [
    "csvdf.head(2)"
   ]
  },
  {
   "cell_type": "markdown",
   "id": "9cec96c7-4fb0-4664-8642-ac23817de929",
   "metadata": {},
   "source": [
    "#### Skipping unnecessary rows"
   ]
  },
  {
   "cell_type": "markdown",
   "id": "e4b02fdf-9b8c-4d7e-a5a9-d1233a7f193a",
   "metadata": {},
   "source": [
    "#### dropna() function\n",
    "- The dropna() method removes the rows that contains NULL values\n",
    "- It returns a new dataframe object\n",
    "- If inplace parameter is set to true, that case it does the removing in the original DataFrame instead."
   ]
  },
  {
   "cell_type": "code",
   "execution_count": 225,
   "id": "042f95d7",
   "metadata": {},
   "outputs": [],
   "source": [
    "csvdf = csvdf.dropna()"
   ]
  },
  {
   "cell_type": "code",
   "execution_count": 226,
   "id": "52f3f35d",
   "metadata": {},
   "outputs": [
    {
     "data": {
      "text/plain": [
       "PassengerId    0\n",
       "Survived       0\n",
       "Pclass         0\n",
       "Name           0\n",
       "Surname        0\n",
       "Sex            0\n",
       "Gender         0\n",
       "Age            0\n",
       "Half Age       0\n",
       "SibSp          0\n",
       "Parch          0\n",
       "Ticket         0\n",
       "Fare           0\n",
       "Embarked       0\n",
       "dtype: int64"
      ]
     },
     "execution_count": 226,
     "metadata": {},
     "output_type": "execute_result"
    }
   ],
   "source": [
    "csvdf.isnull().sum()"
   ]
  }
 ],
 "metadata": {
  "kernelspec": {
   "display_name": "Python 3 (ipykernel)",
   "language": "python",
   "name": "python3"
  },
  "language_info": {
   "codemirror_mode": {
    "name": "ipython",
    "version": 3
   },
   "file_extension": ".py",
   "mimetype": "text/x-python",
   "name": "python",
   "nbconvert_exporter": "python",
   "pygments_lexer": "ipython3",
   "version": "3.10.7"
  }
 },
 "nbformat": 4,
 "nbformat_minor": 5
}
