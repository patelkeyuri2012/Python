{
 "cells": [
  {
   "cell_type": "markdown",
   "id": "a43451de-e586-4bb5-b613-f14e7aaa1586",
   "metadata": {},
   "source": [
    "## Error"
   ]
  },
  {
   "cell_type": "markdown",
   "id": "4977b6d3-1fd3-488f-9e52-9a18221e9d7a",
   "metadata": {},
   "source": [
    "##### What is error?\n",
    "- Errors are the problems in a program due to which the program will stop the execution\n",
    "- On the other hand, exceptions are raised when some internal events occur which changes the normal flow of the program\n",
    "\n",
    "##### Two types of error occurs\n",
    "- Syntax errors : When the proper syntax of the language is not followed then a syntax error is thrown (compile time)\n",
    "- Logical errors (Exceptions) : A logical error occurs when the code runs without any syntax or runtime errors but produces incorrect results due to flawed logic in the code (run time)\n",
    "\n",
    "##### Difference between syntax error and logical error\n",
    "- Syntax errors occur when we violate the rules of writing the statements of the programming language\n",
    "- Logical errors occur due to our mistakes in programming logic"
   ]
  },
  {
   "cell_type": "code",
   "execution_count": 3,
   "id": "d85f8328-89ad-423e-8ae6-d8e8b6f28629",
   "metadata": {},
   "outputs": [
    {
     "name": "stdout",
     "output_type": "stream",
     "text": [
      "Fourth element :  45\n"
     ]
    },
    {
     "ename": "IndexError",
     "evalue": "list index out of range",
     "output_type": "error",
     "traceback": [
      "\u001b[1;31m---------------------------------------------------------------------------\u001b[0m",
      "\u001b[1;31mIndexError\u001b[0m                                Traceback (most recent call last)",
      "Cell \u001b[1;32mIn[3], line 3\u001b[0m\n\u001b[0;32m      1\u001b[0m a \u001b[38;5;241m=\u001b[39m [\u001b[38;5;241m23\u001b[39m, \u001b[38;5;241m14\u001b[39m, \u001b[38;5;241m63\u001b[39m, \u001b[38;5;241m45\u001b[39m, \u001b[38;5;241m39\u001b[39m] \n\u001b[0;32m      2\u001b[0m \u001b[38;5;28mprint\u001b[39m (\u001b[38;5;124m\"\u001b[39m\u001b[38;5;124mFourth element : \u001b[39m\u001b[38;5;124m\"\u001b[39m, a[\u001b[38;5;241m3\u001b[39m]) \n\u001b[1;32m----> 3\u001b[0m \u001b[38;5;28mprint\u001b[39m (\u001b[38;5;124m\"\u001b[39m\u001b[38;5;124mSixth element : \u001b[39m\u001b[38;5;124m\"\u001b[39m, \u001b[43ma\u001b[49m\u001b[43m[\u001b[49m\u001b[38;5;241;43m5\u001b[39;49m\u001b[43m]\u001b[49m) \n",
      "\u001b[1;31mIndexError\u001b[0m: list index out of range"
     ]
    }
   ],
   "source": [
    "a = [23, 14, 63, 45, 39] \n",
    "print (\"Fourth element : \", a[3]) \n",
    "print (\"Sixth element : \", a[5]) "
   ]
  },
  {
   "cell_type": "code",
   "execution_count": 2,
   "id": "63b207bd-c2ba-4b84-a9af-f330dccbfdfd",
   "metadata": {},
   "outputs": [
    {
     "ename": "ZeroDivisionError",
     "evalue": "division by zero",
     "output_type": "error",
     "traceback": [
      "\u001b[1;31m---------------------------------------------------------------------------\u001b[0m",
      "\u001b[1;31mZeroDivisionError\u001b[0m                         Traceback (most recent call last)",
      "Cell \u001b[1;32mIn[2], line 1\u001b[0m\n\u001b[1;32m----> 1\u001b[0m k \u001b[38;5;241m=\u001b[39m \u001b[38;5;241;43m5\u001b[39;49m\u001b[38;5;241;43m/\u001b[39;49m\u001b[38;5;241;43m0\u001b[39;49m \n\u001b[0;32m      2\u001b[0m \u001b[38;5;28mprint\u001b[39m(k) \n",
      "\u001b[1;31mZeroDivisionError\u001b[0m: division by zero"
     ]
    }
   ],
   "source": [
    "k = 5/0 \n",
    "print(k) "
   ]
  },
  {
   "cell_type": "markdown",
   "id": "fae16f74-abef-4ad5-bbdf-0ea7e651b616",
   "metadata": {},
   "source": [
    "## Exception"
   ]
  },
  {
   "cell_type": "markdown",
   "id": "f6d8bb37-4945-4e2c-9e37-728f7611d39c",
   "metadata": {},
   "source": [
    "##### What is exception?\n",
    "- Exceptions are raised when the program is syntactically correct, but the code results in an error\n",
    "- This error does not stop the execution of the program\n",
    "- However, it changes the normal flow of the program\n",
    "\n",
    "##### Difference between error and exception\n",
    "- An error is an issue in a program that prevents the program from completing its task (non obj --> procedur oriented)\n",
    "- An exception is a condition that interrupts the normal flow of the program (obj --> object oriented)\n",
    "\n",
    "##### What is exception handiling? \n",
    "- Try and except statements are used to catch and handle exceptions\n",
    "- Statements that can raise exceptions are kept inside the try clause and the statements that handle the exception are written inside except clause"
   ]
  },
  {
   "cell_type": "markdown",
   "id": "dfce1e6f-ffa6-4120-aeb0-1a5768a0ffa6",
   "metadata": {},
   "source": [
    "#### try and except statement\n",
    "- try and except statements are used to catch and handle exceptions\n",
    "- Statements that can raise exceptions are kept inside the try clause and the statements that handle the exception are written inside except clause\n",
    "- A try statement can have more than one except clause, to specify handlers for different exceptions"
   ]
  },
  {
   "cell_type": "markdown",
   "id": "ad54c607-999d-4e74-96fc-ac1c6d108391",
   "metadata": {},
   "source": [
    "### Syntax :\n",
    "- __try :     <br>\n",
    "  &emsp;&emsp; statement(s)     <br>\n",
    "  except error_type :     <br>\n",
    "  &emsp;&emsp; statement(s)__     <br>"
   ]
  },
  {
   "cell_type": "code",
   "execution_count": 2,
   "id": "70cbd0d2-8310-49ca-87d9-f8b8aa3af4a4",
   "metadata": {},
   "outputs": [
    {
     "name": "stdout",
     "output_type": "stream",
     "text": [
      "Fourth element :  45\n"
     ]
    },
    {
     "ename": "IndexError",
     "evalue": "list index out of range",
     "output_type": "error",
     "traceback": [
      "\u001b[1;31m---------------------------------------------------------------------------\u001b[0m",
      "\u001b[1;31mIndexError\u001b[0m                                Traceback (most recent call last)",
      "Cell \u001b[1;32mIn[2], line 4\u001b[0m\n\u001b[0;32m      1\u001b[0m a \u001b[38;5;241m=\u001b[39m [\u001b[38;5;241m23\u001b[39m, \u001b[38;5;241m14\u001b[39m, \u001b[38;5;241m63\u001b[39m, \u001b[38;5;241m45\u001b[39m, \u001b[38;5;241m39\u001b[39m] \n\u001b[0;32m      3\u001b[0m \u001b[38;5;28mprint\u001b[39m (\u001b[38;5;124m\"\u001b[39m\u001b[38;5;124mFourth element : \u001b[39m\u001b[38;5;124m\"\u001b[39m, a[\u001b[38;5;241m3\u001b[39m]) \n\u001b[1;32m----> 4\u001b[0m \u001b[38;5;28mprint\u001b[39m (\u001b[38;5;124m\"\u001b[39m\u001b[38;5;124mSixth element : \u001b[39m\u001b[38;5;124m\"\u001b[39m, \u001b[43ma\u001b[49m\u001b[43m[\u001b[49m\u001b[38;5;241;43m5\u001b[39;49m\u001b[43m]\u001b[49m) \n",
      "\u001b[1;31mIndexError\u001b[0m: list index out of range"
     ]
    }
   ],
   "source": [
    "a = [23, 14, 63, 45, 39] \n",
    " \n",
    "    print (\"Fourth element : \", a[3]) \n",
    "    print (\"Sixth element : \", a[5]) \n",
    "  \n"
   ]
  },
  {
   "cell_type": "markdown",
   "id": "ad8cf815-f9f2-472d-b20f-f7dbb88defbb",
   "metadata": {},
   "source": [
    "#### finally statement\n",
    "- finally is always executed after the try and except blocks\n",
    "- The final block always executes after the normal termination of the try block or after the try block terminates due to some exception"
   ]
  },
  {
   "cell_type": "markdown",
   "id": "ac957a5e-385b-4236-b1da-bea06263fc4f",
   "metadata": {},
   "source": [
    "### Syntax :\n",
    "- __try :     <br>\n",
    "  &emsp;&emsp; statement(s)     <br>\n",
    "  except error_type :     <br>\n",
    "  &emsp;&emsp; statement(s)     <br>\n",
    "  finally :     <br>\n",
    "  &emsp;&emsp; statement(s)__     <br>"
   ]
  },
  {
   "cell_type": "code",
   "execution_count": 6,
   "id": "09b78b82-5c7c-453c-badb-e159b55699be",
   "metadata": {},
   "outputs": [
    {
     "name": "stdout",
     "output_type": "stream",
     "text": [
      "Can't divide by zero\n",
      "This is always executed\n"
     ]
    }
   ],
   "source": [
    "try: \n",
    "    k = 5/0 \n",
    "    print(k) \n",
    "\n",
    "except ZeroDivisionError: \n",
    "    print(\"Can't divide by zero\") \n",
    "  \n",
    "finally: \n",
    "    print('This is always executed') \n"
   ]
  },
  {
   "cell_type": "markdown",
   "id": "4e059e65-8340-4e81-842c-61c3cbf368de",
   "metadata": {},
   "source": [
    "#### raise statement\n",
    "- The raise statement allows the programmer to force a specific exception to occur\n",
    "- The sole argument in raise indicates the exception to be raised."
   ]
  },
  {
   "cell_type": "markdown",
   "id": "49eb6899-0708-4f51-899f-e10aa1995c00",
   "metadata": {},
   "source": [
    "### Syntax :\n",
    "- __raise {exception_class}__"
   ]
  },
  {
   "cell_type": "code",
   "execution_count": 13,
   "id": "cd788af5-7638-4492-abdb-bf90287bcd1f",
   "metadata": {},
   "outputs": [
    {
     "ename": "Exception",
     "evalue": "Sorry, no numbers below zero",
     "output_type": "error",
     "traceback": [
      "\u001b[1;31m---------------------------------------------------------------------------\u001b[0m",
      "\u001b[1;31mException\u001b[0m                                 Traceback (most recent call last)",
      "Cell \u001b[1;32mIn[13], line 4\u001b[0m\n\u001b[0;32m      1\u001b[0m x \u001b[38;5;241m=\u001b[39m \u001b[38;5;241m-\u001b[39m\u001b[38;5;241m1\u001b[39m\n\u001b[0;32m      3\u001b[0m \u001b[38;5;28;01mif\u001b[39;00m x \u001b[38;5;241m<\u001b[39m \u001b[38;5;241m0\u001b[39m:\n\u001b[1;32m----> 4\u001b[0m   \u001b[38;5;28;01mraise\u001b[39;00m \u001b[38;5;167;01mException\u001b[39;00m(\u001b[38;5;124m\"\u001b[39m\u001b[38;5;124mSorry, no numbers below zero\u001b[39m\u001b[38;5;124m\"\u001b[39m)\n",
      "\u001b[1;31mException\u001b[0m: Sorry, no numbers below zero"
     ]
    }
   ],
   "source": [
    "x = -1\n",
    "\n",
    "if x < 0:\n",
    "  raise Exception(\"Sorry, no numbers below zero\")"
   ]
  },
  {
   "cell_type": "code",
   "execution_count": null,
   "id": "ec9b1842-46b5-49db-bdbf-90e95c414a9e",
   "metadata": {},
   "outputs": [],
   "source": []
  }
 ],
 "metadata": {
  "kernelspec": {
   "display_name": "Python 3 (ipykernel)",
   "language": "python",
   "name": "python3"
  },
  "language_info": {
   "codemirror_mode": {
    "name": "ipython",
    "version": 3
   },
   "file_extension": ".py",
   "mimetype": "text/x-python",
   "name": "python",
   "nbconvert_exporter": "python",
   "pygments_lexer": "ipython3",
   "version": "3.10.7"
  }
 },
 "nbformat": 4,
 "nbformat_minor": 5
}
