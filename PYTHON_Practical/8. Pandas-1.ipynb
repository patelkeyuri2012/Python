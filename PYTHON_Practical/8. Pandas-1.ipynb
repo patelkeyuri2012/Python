{
 "cells": [
  {
   "cell_type": "markdown",
   "id": "59d1490e-3f84-40bd-b317-5038c7e082e4",
   "metadata": {},
   "source": [
    "## Pandas\n",
    "- Pandas is a Python library used for working with data sets\n",
    "- It has functions for analyzing, cleaning, exploring, and manipulating data\n",
    "- The name \"Pandas\" has a reference to both \"Panel Data\", and \"Python Data Analysis\"\n",
    "- __pip install pandas__"
   ]
  },
  {
   "cell_type": "code",
   "execution_count": null,
   "metadata": {},
   "outputs": [],
   "source": []
  },
  {
   "cell_type": "markdown",
   "id": "d91af01e-b33a-4fa2-99f3-56a708d6e522",
   "metadata": {},
   "source": [
    "### What is Pandas?\n",
    "- Pandas is Python Data Analysis Library\n",
    "- It is a very important library used for working with data sets\n",
    "- It is used for handling data that convert data into rows and columns\n",
    "- It provide functions to load the data\n",
    "- It is built on top of the NumPy package"
   ]
  },
  {
   "cell_type": "markdown",
   "id": "40e35b08-6eeb-4826-aeca-5bf2d07effdd",
   "metadata": {},
   "source": [
    "### Importance of Pandas\n",
    "- Pandas allows us to analyze big data and make conclusions based on statistical theories\n",
    "- Pandas can clean messy data sets, and make them readable and relevant\n",
    "- Relevant data is very important in data science."
   ]
  },
  {
   "cell_type": "markdown",
   "id": "d9f237b8-a3eb-46e3-af94-5fb9a1798be8",
   "metadata": {},
   "source": [
    "### What is data frame in Pandas?\n",
    "- A DataFrame is a data structure that organizes data into a 2-dimensional table of rows and columns, much like a spreadsheet\n",
    "- DataFrames are one of the most common data structures used in modern data analytics\n",
    "- They are a flexible and intuitive way of storing and working with data.\n",
    "- __DataFrame = {\"Column_name\":[value]}__ <br>\n",
    "  &emsp; DataFrame - representing data frame dictionary name <br>\n",
    "  &emsp; Column_name - representing column name, that written in double quotation  <br>\n",
    "  &emsp; __:__ - column name and value separated by '__:__' <br>\n",
    "  &emsp; value - values wrritten in '[]', values are one kind of list, each values saperated by '__,__' <br>\n",
    "- Using DataFrame() function create an empty data frame"
   ]
  },
  {
   "cell_type": "code",
   "execution_count": 3,
   "id": "b132317d-0091-4c46-8413-3dc640803eb8",
   "metadata": {},
   "outputs": [],
   "source": [
    "import pandas as pd"
   ]
  },
  {
   "cell_type": "code",
   "execution_count": 4,
   "id": "4c35be51-3f62-4315-baa2-cedf38bfbcc9",
   "metadata": {},
   "outputs": [
    {
     "data": {
      "text/plain": [
       "pandas.core.frame.DataFrame"
      ]
     },
     "execution_count": 4,
     "metadata": {},
     "output_type": "execute_result"
    }
   ],
   "source": [
    "df = pd.DataFrame()\n",
    "type(df)"
   ]
  },
  {
   "cell_type": "code",
   "execution_count": 3,
   "id": "8601f5b9-fb37-4fe9-80b2-ab9b48198c94",
   "metadata": {},
   "outputs": [],
   "source": [
    "std_data = {\"Roll No\" : [101, 102, 103, 104, 105], \n",
    "          \"Subject-1 Marks\" : [68, 78, 91, 85, 66], \n",
    "          \"Subject-2 Marks\" : [83, 75, 84, 90, 92], \n",
    "          \"Subject-3 Marks\" : [84, 93, 75, 86, 84]}"
   ]
  },
  {
   "cell_type": "code",
   "execution_count": 4,
   "id": "f330c262-0992-44b7-855f-4755fdd4fba1",
   "metadata": {},
   "outputs": [],
   "source": [
    "df = pd.DataFrame(std_data)"
   ]
  },
  {
   "cell_type": "code",
   "execution_count": 5,
   "id": "8c6a23e0-f55e-4676-bf8a-a5a004428005",
   "metadata": {},
   "outputs": [
    {
     "data": {
      "text/html": [
       "<div>\n",
       "<style scoped>\n",
       "    .dataframe tbody tr th:only-of-type {\n",
       "        vertical-align: middle;\n",
       "    }\n",
       "\n",
       "    .dataframe tbody tr th {\n",
       "        vertical-align: top;\n",
       "    }\n",
       "\n",
       "    .dataframe thead th {\n",
       "        text-align: right;\n",
       "    }\n",
       "</style>\n",
       "<table border=\"1\" class=\"dataframe\">\n",
       "  <thead>\n",
       "    <tr style=\"text-align: right;\">\n",
       "      <th></th>\n",
       "      <th>Roll No</th>\n",
       "      <th>Subject-1 Marks</th>\n",
       "      <th>Subject-2 Marks</th>\n",
       "      <th>Subject-3 Marks</th>\n",
       "    </tr>\n",
       "  </thead>\n",
       "  <tbody>\n",
       "    <tr>\n",
       "      <th>0</th>\n",
       "      <td>101</td>\n",
       "      <td>68</td>\n",
       "      <td>83</td>\n",
       "      <td>84</td>\n",
       "    </tr>\n",
       "    <tr>\n",
       "      <th>1</th>\n",
       "      <td>102</td>\n",
       "      <td>78</td>\n",
       "      <td>75</td>\n",
       "      <td>93</td>\n",
       "    </tr>\n",
       "    <tr>\n",
       "      <th>2</th>\n",
       "      <td>103</td>\n",
       "      <td>91</td>\n",
       "      <td>84</td>\n",
       "      <td>75</td>\n",
       "    </tr>\n",
       "    <tr>\n",
       "      <th>3</th>\n",
       "      <td>104</td>\n",
       "      <td>85</td>\n",
       "      <td>90</td>\n",
       "      <td>86</td>\n",
       "    </tr>\n",
       "    <tr>\n",
       "      <th>4</th>\n",
       "      <td>105</td>\n",
       "      <td>66</td>\n",
       "      <td>92</td>\n",
       "      <td>84</td>\n",
       "    </tr>\n",
       "  </tbody>\n",
       "</table>\n",
       "</div>"
      ],
      "text/plain": [
       "   Roll No  Subject-1 Marks  Subject-2 Marks  Subject-3 Marks\n",
       "0      101               68               83               84\n",
       "1      102               78               75               93\n",
       "2      103               91               84               75\n",
       "3      104               85               90               86\n",
       "4      105               66               92               84"
      ]
     },
     "execution_count": 5,
     "metadata": {},
     "output_type": "execute_result"
    }
   ],
   "source": [
    "df"
   ]
  },
  {
   "cell_type": "code",
   "execution_count": 6,
   "id": "4b568314-24a2-4eb1-9e37-9b8236f507b7",
   "metadata": {},
   "outputs": [],
   "source": [
    "product = {\"Product No\" : [201, 202, 203, 204, 205], \n",
    "          \"Product Name\" : [\"Pen\", \"Pencil\", \"Scale\", \"Jel Pen\", \"Rounder\"], \n",
    "          \"Price\" : [10, 5, 10, 15, 20], \n",
    "           \"QTY\" : [5, 1, 4, 3, 2], \n",
    "          \"Manufacturing\" : [\"NOV-2023\", \"OCT-2023\", \"JUL-2023\", \"SEP-2023\", \"JUL-2023\"]}"
   ]
  },
  {
   "cell_type": "code",
   "execution_count": 7,
   "id": "8651c979-951d-48d1-96c3-6603b8849934",
   "metadata": {},
   "outputs": [],
   "source": [
    "pdf = pd.DataFrame(product)"
   ]
  },
  {
   "cell_type": "code",
   "execution_count": 8,
   "id": "29d38591-469c-4123-8e13-20851dba239e",
   "metadata": {},
   "outputs": [
    {
     "data": {
      "text/html": [
       "<div>\n",
       "<style scoped>\n",
       "    .dataframe tbody tr th:only-of-type {\n",
       "        vertical-align: middle;\n",
       "    }\n",
       "\n",
       "    .dataframe tbody tr th {\n",
       "        vertical-align: top;\n",
       "    }\n",
       "\n",
       "    .dataframe thead th {\n",
       "        text-align: right;\n",
       "    }\n",
       "</style>\n",
       "<table border=\"1\" class=\"dataframe\">\n",
       "  <thead>\n",
       "    <tr style=\"text-align: right;\">\n",
       "      <th></th>\n",
       "      <th>Product No</th>\n",
       "      <th>Product Name</th>\n",
       "      <th>Price</th>\n",
       "      <th>QTY</th>\n",
       "      <th>Manufacturing</th>\n",
       "    </tr>\n",
       "  </thead>\n",
       "  <tbody>\n",
       "    <tr>\n",
       "      <th>0</th>\n",
       "      <td>201</td>\n",
       "      <td>Pen</td>\n",
       "      <td>10</td>\n",
       "      <td>5</td>\n",
       "      <td>NOV-2023</td>\n",
       "    </tr>\n",
       "    <tr>\n",
       "      <th>1</th>\n",
       "      <td>202</td>\n",
       "      <td>Pencil</td>\n",
       "      <td>5</td>\n",
       "      <td>1</td>\n",
       "      <td>OCT-2023</td>\n",
       "    </tr>\n",
       "    <tr>\n",
       "      <th>2</th>\n",
       "      <td>203</td>\n",
       "      <td>Scale</td>\n",
       "      <td>10</td>\n",
       "      <td>4</td>\n",
       "      <td>JUL-2023</td>\n",
       "    </tr>\n",
       "    <tr>\n",
       "      <th>3</th>\n",
       "      <td>204</td>\n",
       "      <td>Jel Pen</td>\n",
       "      <td>15</td>\n",
       "      <td>3</td>\n",
       "      <td>SEP-2023</td>\n",
       "    </tr>\n",
       "    <tr>\n",
       "      <th>4</th>\n",
       "      <td>205</td>\n",
       "      <td>Rounder</td>\n",
       "      <td>20</td>\n",
       "      <td>2</td>\n",
       "      <td>JUL-2023</td>\n",
       "    </tr>\n",
       "  </tbody>\n",
       "</table>\n",
       "</div>"
      ],
      "text/plain": [
       "   Product No Product Name  Price  QTY Manufacturing\n",
       "0         201          Pen     10    5      NOV-2023\n",
       "1         202       Pencil      5    1      OCT-2023\n",
       "2         203        Scale     10    4      JUL-2023\n",
       "3         204      Jel Pen     15    3      SEP-2023\n",
       "4         205      Rounder     20    2      JUL-2023"
      ]
     },
     "execution_count": 8,
     "metadata": {},
     "output_type": "execute_result"
    }
   ],
   "source": [
    "pdf"
   ]
  },
  {
   "cell_type": "markdown",
   "id": "1f857a5b-25a8-4d93-8555-db0036a422af",
   "metadata": {},
   "source": [
    "### head() function\n",
    "- The head() function is primarily used to view the first n rows of a dataset\n",
    "- It helps users quickly get an overview of the data and its structure\n",
    "- Default value of head() function is 5"
   ]
  },
  {
   "cell_type": "code",
   "execution_count": 8,
   "id": "fd2bb6de-9ba1-4b6a-a575-f6d01dbb3dd8",
   "metadata": {},
   "outputs": [
    {
     "data": {
      "text/html": [
       "<div>\n",
       "<style scoped>\n",
       "    .dataframe tbody tr th:only-of-type {\n",
       "        vertical-align: middle;\n",
       "    }\n",
       "\n",
       "    .dataframe tbody tr th {\n",
       "        vertical-align: top;\n",
       "    }\n",
       "\n",
       "    .dataframe thead th {\n",
       "        text-align: right;\n",
       "    }\n",
       "</style>\n",
       "<table border=\"1\" class=\"dataframe\">\n",
       "  <thead>\n",
       "    <tr style=\"text-align: right;\">\n",
       "      <th></th>\n",
       "      <th>Roll No</th>\n",
       "      <th>Subject-1 Marks</th>\n",
       "      <th>Subject-2 Marks</th>\n",
       "      <th>Subject-3 Marks</th>\n",
       "    </tr>\n",
       "  </thead>\n",
       "  <tbody>\n",
       "    <tr>\n",
       "      <th>0</th>\n",
       "      <td>101</td>\n",
       "      <td>68</td>\n",
       "      <td>83</td>\n",
       "      <td>84</td>\n",
       "    </tr>\n",
       "    <tr>\n",
       "      <th>1</th>\n",
       "      <td>102</td>\n",
       "      <td>78</td>\n",
       "      <td>75</td>\n",
       "      <td>93</td>\n",
       "    </tr>\n",
       "  </tbody>\n",
       "</table>\n",
       "</div>"
      ],
      "text/plain": [
       "   Roll No  Subject-1 Marks  Subject-2 Marks  Subject-3 Marks\n",
       "0      101               68               83               84\n",
       "1      102               78               75               93"
      ]
     },
     "execution_count": 8,
     "metadata": {},
     "output_type": "execute_result"
    }
   ],
   "source": [
    "df.head(2)"
   ]
  },
  {
   "cell_type": "markdown",
   "id": "c4971487-922f-4a3b-9c26-c29f4286ae2b",
   "metadata": {},
   "source": [
    "### tail() function\n",
    "- The tail() function is primarily used to view the last n rows of a dataset\n",
    "- It helps users quickly verifying data\n",
    "- Default value of tail() function is 5"
   ]
  },
  {
   "cell_type": "code",
   "execution_count": 10,
   "id": "a17349b9-4872-4b5d-a569-f93b4eade733",
   "metadata": {},
   "outputs": [
    {
     "data": {
      "text/html": [
       "<div>\n",
       "<style scoped>\n",
       "    .dataframe tbody tr th:only-of-type {\n",
       "        vertical-align: middle;\n",
       "    }\n",
       "\n",
       "    .dataframe tbody tr th {\n",
       "        vertical-align: top;\n",
       "    }\n",
       "\n",
       "    .dataframe thead th {\n",
       "        text-align: right;\n",
       "    }\n",
       "</style>\n",
       "<table border=\"1\" class=\"dataframe\">\n",
       "  <thead>\n",
       "    <tr style=\"text-align: right;\">\n",
       "      <th></th>\n",
       "      <th>Roll No</th>\n",
       "      <th>Subject-1 Marks</th>\n",
       "      <th>Subject-2 Marks</th>\n",
       "      <th>Subject-3 Marks</th>\n",
       "    </tr>\n",
       "  </thead>\n",
       "  <tbody>\n",
       "    <tr>\n",
       "      <th>3</th>\n",
       "      <td>104</td>\n",
       "      <td>85</td>\n",
       "      <td>90</td>\n",
       "      <td>86</td>\n",
       "    </tr>\n",
       "    <tr>\n",
       "      <th>4</th>\n",
       "      <td>105</td>\n",
       "      <td>66</td>\n",
       "      <td>92</td>\n",
       "      <td>84</td>\n",
       "    </tr>\n",
       "  </tbody>\n",
       "</table>\n",
       "</div>"
      ],
      "text/plain": [
       "   Roll No  Subject-1 Marks  Subject-2 Marks  Subject-3 Marks\n",
       "3      104               85               90               86\n",
       "4      105               66               92               84"
      ]
     },
     "execution_count": 10,
     "metadata": {},
     "output_type": "execute_result"
    }
   ],
   "source": [
    "df.tail(2)"
   ]
  },
  {
   "cell_type": "markdown",
   "id": "ceb3b34e-4161-4703-8d44-5f7a58441dba",
   "metadata": {},
   "source": [
    "### columns function\n",
    "- columns is an attribute that provides access to the column labels of a data frame\n",
    "- It returns an Index object representing the names of the columns in the DataFrame"
   ]
  },
  {
   "cell_type": "code",
   "execution_count": 11,
   "id": "263e8a51-71ee-43ee-a20f-72c96e6451f3",
   "metadata": {},
   "outputs": [
    {
     "data": {
      "text/plain": [
       "Index(['Roll No', 'Subject-1 Marks', 'Subject-2 Marks', 'Subject-3 Marks'], dtype='object')"
      ]
     },
     "execution_count": 11,
     "metadata": {},
     "output_type": "execute_result"
    }
   ],
   "source": [
    "df.columns"
   ]
  },
  {
   "cell_type": "markdown",
   "id": "45c3e9ca-6295-4572-b79e-faf520466c20",
   "metadata": {},
   "source": [
    "##### List of a particular column data "
   ]
  },
  {
   "cell_type": "code",
   "execution_count": 12,
   "id": "180a59e5-8451-402b-a5e9-f8e1756a6b5c",
   "metadata": {},
   "outputs": [
    {
     "data": {
      "text/plain": [
       "0    101\n",
       "1    102\n",
       "2    103\n",
       "3    104\n",
       "4    105\n",
       "Name: Roll No, dtype: int64"
      ]
     },
     "execution_count": 12,
     "metadata": {},
     "output_type": "execute_result"
    }
   ],
   "source": [
    "df['Roll No']"
   ]
  },
  {
   "cell_type": "markdown",
   "id": "98c4f307-1ee1-473e-8248-2344db3cf434",
   "metadata": {},
   "source": [
    "### dtypes function\n",
    "- A data type object describes how the bytes in the fixed-size block of memory corresponding to an array item should be interpreted\n",
    "- It returns dtype of each column"
   ]
  },
  {
   "cell_type": "code",
   "execution_count": 13,
   "id": "190b4927-cf1a-420a-92eb-581d54414573",
   "metadata": {},
   "outputs": [
    {
     "data": {
      "text/plain": [
       "Roll No            int64\n",
       "Subject-1 Marks    int64\n",
       "Subject-2 Marks    int64\n",
       "Subject-3 Marks    int64\n",
       "dtype: object"
      ]
     },
     "execution_count": 13,
     "metadata": {},
     "output_type": "execute_result"
    }
   ],
   "source": [
    "df.dtypes"
   ]
  },
  {
   "cell_type": "markdown",
   "id": "33187560-1ff7-41be-92bf-59dcf9a2a7a9",
   "metadata": {},
   "source": [
    "### values function\n",
    "- The values property is used to get a numpy representation of the dataframe and returns a view object\n",
    "- It return numpy array"
   ]
  },
  {
   "cell_type": "code",
   "execution_count": 14,
   "id": "ae5cef63-5ad5-441e-a6d6-cae3ef0860fe",
   "metadata": {},
   "outputs": [
    {
     "data": {
      "text/plain": [
       "array([[101,  68,  83,  84],\n",
       "       [102,  78,  75,  93],\n",
       "       [103,  91,  84,  75],\n",
       "       [104,  85,  90,  86],\n",
       "       [105,  66,  92,  84]], dtype=int64)"
      ]
     },
     "execution_count": 14,
     "metadata": {},
     "output_type": "execute_result"
    }
   ],
   "source": [
    "df.values"
   ]
  },
  {
   "cell_type": "markdown",
   "id": "337bac59-a599-490e-a332-de7210dc1e60",
   "metadata": {},
   "source": [
    "### sum() function\n",
    "- The sum() method adds all values in each column and returns the sum for each column\n",
    "- It is used to return the sum of the values for the requested axis by the user\n",
    "- If the input value is an index axis, then it will add all the values in a column and works same for all the columns"
   ]
  },
  {
   "cell_type": "code",
   "execution_count": 15,
   "id": "d2dff092-51fd-4580-ae57-548f33f4bc8f",
   "metadata": {},
   "outputs": [
    {
     "data": {
      "text/plain": [
       "Roll No            515\n",
       "Subject-1 Marks    388\n",
       "Subject-2 Marks    424\n",
       "Subject-3 Marks    422\n",
       "dtype: int64"
      ]
     },
     "execution_count": 15,
     "metadata": {},
     "output_type": "execute_result"
    }
   ],
   "source": [
    "df.sum()"
   ]
  },
  {
   "cell_type": "code",
   "execution_count": 16,
   "id": "32bc8091-983b-49d4-b99b-d4f0fbf8ca20",
   "metadata": {},
   "outputs": [
    {
     "data": {
      "text/plain": [
       "388"
      ]
     },
     "execution_count": 16,
     "metadata": {},
     "output_type": "execute_result"
    }
   ],
   "source": [
    "df['Subject-1 Marks'].sum()"
   ]
  },
  {
   "cell_type": "markdown",
   "id": "08eb5e5f-fb20-4d2b-b865-0f53ef938e6a",
   "metadata": {},
   "source": [
    "### max() function\n",
    "- max() method finds the maximum of the values in the object and returns it\n",
    "- If the input is a series, the method will return a scalar which will be the maximum of the values in the series"
   ]
  },
  {
   "cell_type": "code",
   "execution_count": 17,
   "id": "17e621c5-5189-45f4-b783-ced6f9f4882b",
   "metadata": {},
   "outputs": [
    {
     "data": {
      "text/plain": [
       "Roll No            105\n",
       "Subject-1 Marks     91\n",
       "Subject-2 Marks     92\n",
       "Subject-3 Marks     93\n",
       "dtype: int64"
      ]
     },
     "execution_count": 17,
     "metadata": {},
     "output_type": "execute_result"
    }
   ],
   "source": [
    "df.max()"
   ]
  },
  {
   "cell_type": "code",
   "execution_count": 18,
   "id": "ac3769c2-9132-4884-987d-efb622347971",
   "metadata": {},
   "outputs": [
    {
     "data": {
      "text/plain": [
       "92"
      ]
     },
     "execution_count": 18,
     "metadata": {},
     "output_type": "execute_result"
    }
   ],
   "source": [
    "df[\"Subject-2 Marks\"].max()"
   ]
  },
  {
   "cell_type": "markdown",
   "id": "fca4c371-fefd-41c7-b985-aead09ca496d",
   "metadata": {},
   "source": [
    "### min() function\n",
    "- min() method returns a series with the minimum value of each column\n",
    "- By specifying the column axis ( axis='columns' ), the min() method searches column-wise and returns the minimum value for each row"
   ]
  },
  {
   "cell_type": "code",
   "execution_count": 19,
   "id": "32729340-b4c5-49bc-8d60-1159b9e5a544",
   "metadata": {},
   "outputs": [
    {
     "data": {
      "text/plain": [
       "Roll No            101\n",
       "Subject-1 Marks     66\n",
       "Subject-2 Marks     75\n",
       "Subject-3 Marks     75\n",
       "dtype: int64"
      ]
     },
     "execution_count": 19,
     "metadata": {},
     "output_type": "execute_result"
    }
   ],
   "source": [
    "df.min()"
   ]
  },
  {
   "cell_type": "code",
   "execution_count": 20,
   "id": "eeffc276-31ec-42ec-8fb8-6f30e892b1ba",
   "metadata": {},
   "outputs": [
    {
     "data": {
      "text/plain": [
       "75"
      ]
     },
     "execution_count": 20,
     "metadata": {},
     "output_type": "execute_result"
    }
   ],
   "source": [
    "df[\"Subject-3 Marks\"].min()"
   ]
  },
  {
   "cell_type": "markdown",
   "id": "7dcd819c-fb81-48b1-b28e-7374e144e8d8",
   "metadata": {},
   "source": [
    "### Insert column in table\n",
    "- A single column is nothing but a pandas series – that is a 1D homogenous array\n",
    "- DataFrame.insert()  gives the freedom to add a column at any position we like and not just at the end\n",
    "- It also provides different options for inserting the column values."
   ]
  },
  {
   "cell_type": "markdown",
   "id": "d583b4b1-7b5c-4a23-859c-9b68ebed87b9",
   "metadata": {},
   "source": [
    "#### add column in existing table at last"
   ]
  },
  {
   "cell_type": "code",
   "execution_count": 9,
   "id": "4fea9503-cd63-4080-9b19-fd531f31a504",
   "metadata": {},
   "outputs": [],
   "source": [
    "df[\"Subject-4 Marks\"] = [86, 80, 92, 85, 95]"
   ]
  },
  {
   "cell_type": "code",
   "execution_count": 10,
   "id": "073406ca-c7d9-4500-97b8-5866c31f5112",
   "metadata": {},
   "outputs": [
    {
     "data": {
      "text/html": [
       "<div>\n",
       "<style scoped>\n",
       "    .dataframe tbody tr th:only-of-type {\n",
       "        vertical-align: middle;\n",
       "    }\n",
       "\n",
       "    .dataframe tbody tr th {\n",
       "        vertical-align: top;\n",
       "    }\n",
       "\n",
       "    .dataframe thead th {\n",
       "        text-align: right;\n",
       "    }\n",
       "</style>\n",
       "<table border=\"1\" class=\"dataframe\">\n",
       "  <thead>\n",
       "    <tr style=\"text-align: right;\">\n",
       "      <th></th>\n",
       "      <th>Roll No</th>\n",
       "      <th>Subject-1 Marks</th>\n",
       "      <th>Subject-2 Marks</th>\n",
       "      <th>Subject-3 Marks</th>\n",
       "      <th>Subject-4 Marks</th>\n",
       "    </tr>\n",
       "  </thead>\n",
       "  <tbody>\n",
       "    <tr>\n",
       "      <th>0</th>\n",
       "      <td>101</td>\n",
       "      <td>68</td>\n",
       "      <td>83</td>\n",
       "      <td>84</td>\n",
       "      <td>86</td>\n",
       "    </tr>\n",
       "    <tr>\n",
       "      <th>1</th>\n",
       "      <td>102</td>\n",
       "      <td>78</td>\n",
       "      <td>75</td>\n",
       "      <td>93</td>\n",
       "      <td>80</td>\n",
       "    </tr>\n",
       "    <tr>\n",
       "      <th>2</th>\n",
       "      <td>103</td>\n",
       "      <td>91</td>\n",
       "      <td>84</td>\n",
       "      <td>75</td>\n",
       "      <td>92</td>\n",
       "    </tr>\n",
       "    <tr>\n",
       "      <th>3</th>\n",
       "      <td>104</td>\n",
       "      <td>85</td>\n",
       "      <td>90</td>\n",
       "      <td>86</td>\n",
       "      <td>85</td>\n",
       "    </tr>\n",
       "    <tr>\n",
       "      <th>4</th>\n",
       "      <td>105</td>\n",
       "      <td>66</td>\n",
       "      <td>92</td>\n",
       "      <td>84</td>\n",
       "      <td>95</td>\n",
       "    </tr>\n",
       "  </tbody>\n",
       "</table>\n",
       "</div>"
      ],
      "text/plain": [
       "   Roll No  Subject-1 Marks  Subject-2 Marks  Subject-3 Marks  Subject-4 Marks\n",
       "0      101               68               83               84               86\n",
       "1      102               78               75               93               80\n",
       "2      103               91               84               75               92\n",
       "3      104               85               90               86               85\n",
       "4      105               66               92               84               95"
      ]
     },
     "execution_count": 10,
     "metadata": {},
     "output_type": "execute_result"
    }
   ],
   "source": [
    "df"
   ]
  },
  {
   "cell_type": "markdown",
   "id": "83ddc15e-cd60-49ab-b190-d0b93c7b6fcf",
   "metadata": {},
   "source": [
    "#### add column for total of each subject in existing table"
   ]
  },
  {
   "cell_type": "code",
   "execution_count": 11,
   "id": "88052ec2-e3b3-44e2-8499-47a14a5ae6af",
   "metadata": {},
   "outputs": [],
   "source": [
    "df['Total'] = df['Subject-1 Marks'] + df['Subject-2 Marks'] + df['Subject-3 Marks'] + df['Subject-4 Marks']"
   ]
  },
  {
   "cell_type": "code",
   "execution_count": 12,
   "id": "30a52436-80b8-4bde-938b-2e0073b386de",
   "metadata": {},
   "outputs": [
    {
     "data": {
      "text/html": [
       "<div>\n",
       "<style scoped>\n",
       "    .dataframe tbody tr th:only-of-type {\n",
       "        vertical-align: middle;\n",
       "    }\n",
       "\n",
       "    .dataframe tbody tr th {\n",
       "        vertical-align: top;\n",
       "    }\n",
       "\n",
       "    .dataframe thead th {\n",
       "        text-align: right;\n",
       "    }\n",
       "</style>\n",
       "<table border=\"1\" class=\"dataframe\">\n",
       "  <thead>\n",
       "    <tr style=\"text-align: right;\">\n",
       "      <th></th>\n",
       "      <th>Roll No</th>\n",
       "      <th>Subject-1 Marks</th>\n",
       "      <th>Subject-2 Marks</th>\n",
       "      <th>Subject-3 Marks</th>\n",
       "      <th>Subject-4 Marks</th>\n",
       "      <th>Total</th>\n",
       "    </tr>\n",
       "  </thead>\n",
       "  <tbody>\n",
       "    <tr>\n",
       "      <th>0</th>\n",
       "      <td>101</td>\n",
       "      <td>68</td>\n",
       "      <td>83</td>\n",
       "      <td>84</td>\n",
       "      <td>86</td>\n",
       "      <td>321</td>\n",
       "    </tr>\n",
       "    <tr>\n",
       "      <th>1</th>\n",
       "      <td>102</td>\n",
       "      <td>78</td>\n",
       "      <td>75</td>\n",
       "      <td>93</td>\n",
       "      <td>80</td>\n",
       "      <td>326</td>\n",
       "    </tr>\n",
       "    <tr>\n",
       "      <th>2</th>\n",
       "      <td>103</td>\n",
       "      <td>91</td>\n",
       "      <td>84</td>\n",
       "      <td>75</td>\n",
       "      <td>92</td>\n",
       "      <td>342</td>\n",
       "    </tr>\n",
       "    <tr>\n",
       "      <th>3</th>\n",
       "      <td>104</td>\n",
       "      <td>85</td>\n",
       "      <td>90</td>\n",
       "      <td>86</td>\n",
       "      <td>85</td>\n",
       "      <td>346</td>\n",
       "    </tr>\n",
       "    <tr>\n",
       "      <th>4</th>\n",
       "      <td>105</td>\n",
       "      <td>66</td>\n",
       "      <td>92</td>\n",
       "      <td>84</td>\n",
       "      <td>95</td>\n",
       "      <td>337</td>\n",
       "    </tr>\n",
       "  </tbody>\n",
       "</table>\n",
       "</div>"
      ],
      "text/plain": [
       "   Roll No  Subject-1 Marks  Subject-2 Marks  Subject-3 Marks  \\\n",
       "0      101               68               83               84   \n",
       "1      102               78               75               93   \n",
       "2      103               91               84               75   \n",
       "3      104               85               90               86   \n",
       "4      105               66               92               84   \n",
       "\n",
       "   Subject-4 Marks  Total  \n",
       "0               86    321  \n",
       "1               80    326  \n",
       "2               92    342  \n",
       "3               85    346  \n",
       "4               95    337  "
      ]
     },
     "execution_count": 12,
     "metadata": {},
     "output_type": "execute_result"
    }
   ],
   "source": [
    "df"
   ]
  },
  {
   "cell_type": "markdown",
   "id": "a966dd31-b8ba-4ea4-82ae-d783a45de0e2",
   "metadata": {},
   "source": [
    "#### add column for total percentage for student marks in existing table"
   ]
  },
  {
   "cell_type": "code",
   "execution_count": 13,
   "id": "0ee4be04-08af-4f61-8940-a467f2df75a1",
   "metadata": {},
   "outputs": [],
   "source": [
    "df['Total Percentage'] = (df['Total'] * 100) / 400"
   ]
  },
  {
   "cell_type": "code",
   "execution_count": 14,
   "id": "2ffe3e5c-c73d-4162-b737-d56bb755dbd3",
   "metadata": {},
   "outputs": [
    {
     "data": {
      "text/html": [
       "<div>\n",
       "<style scoped>\n",
       "    .dataframe tbody tr th:only-of-type {\n",
       "        vertical-align: middle;\n",
       "    }\n",
       "\n",
       "    .dataframe tbody tr th {\n",
       "        vertical-align: top;\n",
       "    }\n",
       "\n",
       "    .dataframe thead th {\n",
       "        text-align: right;\n",
       "    }\n",
       "</style>\n",
       "<table border=\"1\" class=\"dataframe\">\n",
       "  <thead>\n",
       "    <tr style=\"text-align: right;\">\n",
       "      <th></th>\n",
       "      <th>Roll No</th>\n",
       "      <th>Subject-1 Marks</th>\n",
       "      <th>Subject-2 Marks</th>\n",
       "      <th>Subject-3 Marks</th>\n",
       "      <th>Subject-4 Marks</th>\n",
       "      <th>Total</th>\n",
       "      <th>Total Percentage</th>\n",
       "    </tr>\n",
       "  </thead>\n",
       "  <tbody>\n",
       "    <tr>\n",
       "      <th>0</th>\n",
       "      <td>101</td>\n",
       "      <td>68</td>\n",
       "      <td>83</td>\n",
       "      <td>84</td>\n",
       "      <td>86</td>\n",
       "      <td>321</td>\n",
       "      <td>80.25</td>\n",
       "    </tr>\n",
       "    <tr>\n",
       "      <th>1</th>\n",
       "      <td>102</td>\n",
       "      <td>78</td>\n",
       "      <td>75</td>\n",
       "      <td>93</td>\n",
       "      <td>80</td>\n",
       "      <td>326</td>\n",
       "      <td>81.50</td>\n",
       "    </tr>\n",
       "    <tr>\n",
       "      <th>2</th>\n",
       "      <td>103</td>\n",
       "      <td>91</td>\n",
       "      <td>84</td>\n",
       "      <td>75</td>\n",
       "      <td>92</td>\n",
       "      <td>342</td>\n",
       "      <td>85.50</td>\n",
       "    </tr>\n",
       "    <tr>\n",
       "      <th>3</th>\n",
       "      <td>104</td>\n",
       "      <td>85</td>\n",
       "      <td>90</td>\n",
       "      <td>86</td>\n",
       "      <td>85</td>\n",
       "      <td>346</td>\n",
       "      <td>86.50</td>\n",
       "    </tr>\n",
       "    <tr>\n",
       "      <th>4</th>\n",
       "      <td>105</td>\n",
       "      <td>66</td>\n",
       "      <td>92</td>\n",
       "      <td>84</td>\n",
       "      <td>95</td>\n",
       "      <td>337</td>\n",
       "      <td>84.25</td>\n",
       "    </tr>\n",
       "  </tbody>\n",
       "</table>\n",
       "</div>"
      ],
      "text/plain": [
       "   Roll No  Subject-1 Marks  Subject-2 Marks  Subject-3 Marks  \\\n",
       "0      101               68               83               84   \n",
       "1      102               78               75               93   \n",
       "2      103               91               84               75   \n",
       "3      104               85               90               86   \n",
       "4      105               66               92               84   \n",
       "\n",
       "   Subject-4 Marks  Total  Total Percentage  \n",
       "0               86    321             80.25  \n",
       "1               80    326             81.50  \n",
       "2               92    342             85.50  \n",
       "3               85    346             86.50  \n",
       "4               95    337             84.25  "
      ]
     },
     "execution_count": 14,
     "metadata": {},
     "output_type": "execute_result"
    }
   ],
   "source": [
    "df"
   ]
  },
  {
   "cell_type": "markdown",
   "id": "a99b80d5-0962-4db2-8c8d-02286c02e4cc",
   "metadata": {},
   "source": [
    "#### add column in existing table between two columns"
   ]
  },
  {
   "cell_type": "code",
   "execution_count": 15,
   "id": "cf42ead7-4b3b-4d1e-87f7-94c582b1f678",
   "metadata": {},
   "outputs": [],
   "source": [
    "a = [98, 89, 79, 83, 84]\n",
    "df.insert(5, \"Subject-5 Marks\", a)"
   ]
  },
  {
   "cell_type": "code",
   "execution_count": 16,
   "id": "62f5c4b5-a08d-47ec-9530-ae35072896c6",
   "metadata": {},
   "outputs": [
    {
     "data": {
      "text/html": [
       "<div>\n",
       "<style scoped>\n",
       "    .dataframe tbody tr th:only-of-type {\n",
       "        vertical-align: middle;\n",
       "    }\n",
       "\n",
       "    .dataframe tbody tr th {\n",
       "        vertical-align: top;\n",
       "    }\n",
       "\n",
       "    .dataframe thead th {\n",
       "        text-align: right;\n",
       "    }\n",
       "</style>\n",
       "<table border=\"1\" class=\"dataframe\">\n",
       "  <thead>\n",
       "    <tr style=\"text-align: right;\">\n",
       "      <th></th>\n",
       "      <th>Roll No</th>\n",
       "      <th>Subject-1 Marks</th>\n",
       "      <th>Subject-2 Marks</th>\n",
       "      <th>Subject-3 Marks</th>\n",
       "      <th>Subject-4 Marks</th>\n",
       "      <th>Subject-5 Marks</th>\n",
       "      <th>Total</th>\n",
       "      <th>Total Percentage</th>\n",
       "    </tr>\n",
       "  </thead>\n",
       "  <tbody>\n",
       "    <tr>\n",
       "      <th>0</th>\n",
       "      <td>101</td>\n",
       "      <td>68</td>\n",
       "      <td>83</td>\n",
       "      <td>84</td>\n",
       "      <td>86</td>\n",
       "      <td>98</td>\n",
       "      <td>321</td>\n",
       "      <td>80.25</td>\n",
       "    </tr>\n",
       "    <tr>\n",
       "      <th>1</th>\n",
       "      <td>102</td>\n",
       "      <td>78</td>\n",
       "      <td>75</td>\n",
       "      <td>93</td>\n",
       "      <td>80</td>\n",
       "      <td>89</td>\n",
       "      <td>326</td>\n",
       "      <td>81.50</td>\n",
       "    </tr>\n",
       "    <tr>\n",
       "      <th>2</th>\n",
       "      <td>103</td>\n",
       "      <td>91</td>\n",
       "      <td>84</td>\n",
       "      <td>75</td>\n",
       "      <td>92</td>\n",
       "      <td>79</td>\n",
       "      <td>342</td>\n",
       "      <td>85.50</td>\n",
       "    </tr>\n",
       "    <tr>\n",
       "      <th>3</th>\n",
       "      <td>104</td>\n",
       "      <td>85</td>\n",
       "      <td>90</td>\n",
       "      <td>86</td>\n",
       "      <td>85</td>\n",
       "      <td>83</td>\n",
       "      <td>346</td>\n",
       "      <td>86.50</td>\n",
       "    </tr>\n",
       "    <tr>\n",
       "      <th>4</th>\n",
       "      <td>105</td>\n",
       "      <td>66</td>\n",
       "      <td>92</td>\n",
       "      <td>84</td>\n",
       "      <td>95</td>\n",
       "      <td>84</td>\n",
       "      <td>337</td>\n",
       "      <td>84.25</td>\n",
       "    </tr>\n",
       "  </tbody>\n",
       "</table>\n",
       "</div>"
      ],
      "text/plain": [
       "   Roll No  Subject-1 Marks  Subject-2 Marks  Subject-3 Marks  \\\n",
       "0      101               68               83               84   \n",
       "1      102               78               75               93   \n",
       "2      103               91               84               75   \n",
       "3      104               85               90               86   \n",
       "4      105               66               92               84   \n",
       "\n",
       "   Subject-4 Marks  Subject-5 Marks  Total  Total Percentage  \n",
       "0               86               98    321             80.25  \n",
       "1               80               89    326             81.50  \n",
       "2               92               79    342             85.50  \n",
       "3               85               83    346             86.50  \n",
       "4               95               84    337             84.25  "
      ]
     },
     "execution_count": 16,
     "metadata": {},
     "output_type": "execute_result"
    }
   ],
   "source": [
    "df"
   ]
  },
  {
   "cell_type": "markdown",
   "id": "068fd053-cde5-410d-b24a-1c498d5e963d",
   "metadata": {},
   "source": [
    "### Remove column in table\n",
    "- drop() method used to remove one or more columns from DataFrame\n",
    "- It returns a new DataFrame with the specified rows or columns removed"
   ]
  },
  {
   "cell_type": "markdown",
   "id": "12d84ac7-d1b3-4bee-ad73-8ee7cad7e28a",
   "metadata": {},
   "source": [
    "#### remove column in existing table"
   ]
  },
  {
   "cell_type": "code",
   "execution_count": 29,
   "id": "0d5a79c2-0dee-4980-80f5-939bef3783e0",
   "metadata": {},
   "outputs": [],
   "source": [
    "df = df.drop(columns=['Subject-5 Marks'])"
   ]
  },
  {
   "cell_type": "code",
   "execution_count": 34,
   "id": "c4f2ff59-03ca-4856-bd39-9dbc8015f7ff",
   "metadata": {},
   "outputs": [
    {
     "data": {
      "text/html": [
       "<div>\n",
       "<style scoped>\n",
       "    .dataframe tbody tr th:only-of-type {\n",
       "        vertical-align: middle;\n",
       "    }\n",
       "\n",
       "    .dataframe tbody tr th {\n",
       "        vertical-align: top;\n",
       "    }\n",
       "\n",
       "    .dataframe thead th {\n",
       "        text-align: right;\n",
       "    }\n",
       "</style>\n",
       "<table border=\"1\" class=\"dataframe\">\n",
       "  <thead>\n",
       "    <tr style=\"text-align: right;\">\n",
       "      <th></th>\n",
       "      <th>Roll No</th>\n",
       "      <th>Subject-1 Marks</th>\n",
       "      <th>Subject-2 Marks</th>\n",
       "      <th>Subject-3 Marks</th>\n",
       "      <th>Subject-4 Marks</th>\n",
       "      <th>Total</th>\n",
       "      <th>Total Percentage</th>\n",
       "    </tr>\n",
       "  </thead>\n",
       "  <tbody>\n",
       "    <tr>\n",
       "      <th>0</th>\n",
       "      <td>101</td>\n",
       "      <td>68</td>\n",
       "      <td>83</td>\n",
       "      <td>84</td>\n",
       "      <td>86</td>\n",
       "      <td>319</td>\n",
       "      <td>79.75</td>\n",
       "    </tr>\n",
       "    <tr>\n",
       "      <th>1</th>\n",
       "      <td>102</td>\n",
       "      <td>78</td>\n",
       "      <td>75</td>\n",
       "      <td>93</td>\n",
       "      <td>80</td>\n",
       "      <td>339</td>\n",
       "      <td>84.75</td>\n",
       "    </tr>\n",
       "    <tr>\n",
       "      <th>2</th>\n",
       "      <td>103</td>\n",
       "      <td>91</td>\n",
       "      <td>84</td>\n",
       "      <td>75</td>\n",
       "      <td>92</td>\n",
       "      <td>325</td>\n",
       "      <td>81.25</td>\n",
       "    </tr>\n",
       "    <tr>\n",
       "      <th>3</th>\n",
       "      <td>104</td>\n",
       "      <td>85</td>\n",
       "      <td>90</td>\n",
       "      <td>86</td>\n",
       "      <td>85</td>\n",
       "      <td>347</td>\n",
       "      <td>86.75</td>\n",
       "    </tr>\n",
       "    <tr>\n",
       "      <th>4</th>\n",
       "      <td>105</td>\n",
       "      <td>66</td>\n",
       "      <td>92</td>\n",
       "      <td>84</td>\n",
       "      <td>95</td>\n",
       "      <td>326</td>\n",
       "      <td>81.50</td>\n",
       "    </tr>\n",
       "  </tbody>\n",
       "</table>\n",
       "</div>"
      ],
      "text/plain": [
       "   Roll No  Subject-1 Marks  Subject-2 Marks  Subject-3 Marks  \\\n",
       "0      101               68               83               84   \n",
       "1      102               78               75               93   \n",
       "2      103               91               84               75   \n",
       "3      104               85               90               86   \n",
       "4      105               66               92               84   \n",
       "\n",
       "   Subject-4 Marks  Total  Total Percentage  \n",
       "0               86    319             79.75  \n",
       "1               80    339             84.75  \n",
       "2               92    325             81.25  \n",
       "3               85    347             86.75  \n",
       "4               95    326             81.50  "
      ]
     },
     "execution_count": 34,
     "metadata": {},
     "output_type": "execute_result"
    }
   ],
   "source": [
    "df"
   ]
  },
  {
   "cell_type": "code",
   "execution_count": 36,
   "id": "db1b0da1-128c-4328-a403-f8ddf814f46e",
   "metadata": {},
   "outputs": [],
   "source": [
    "df.drop(columns=['Subject-4 Marks'], inplace=True)"
   ]
  },
  {
   "cell_type": "code",
   "execution_count": 37,
   "id": "398830c0-7abd-4e23-af27-7bf6e1d66c21",
   "metadata": {},
   "outputs": [
    {
     "data": {
      "text/html": [
       "<div>\n",
       "<style scoped>\n",
       "    .dataframe tbody tr th:only-of-type {\n",
       "        vertical-align: middle;\n",
       "    }\n",
       "\n",
       "    .dataframe tbody tr th {\n",
       "        vertical-align: top;\n",
       "    }\n",
       "\n",
       "    .dataframe thead th {\n",
       "        text-align: right;\n",
       "    }\n",
       "</style>\n",
       "<table border=\"1\" class=\"dataframe\">\n",
       "  <thead>\n",
       "    <tr style=\"text-align: right;\">\n",
       "      <th></th>\n",
       "      <th>Roll No</th>\n",
       "      <th>Subject-1 Marks</th>\n",
       "      <th>Subject-2 Marks</th>\n",
       "      <th>Subject-3 Marks</th>\n",
       "      <th>Total</th>\n",
       "      <th>Total Percentage</th>\n",
       "    </tr>\n",
       "  </thead>\n",
       "  <tbody>\n",
       "    <tr>\n",
       "      <th>0</th>\n",
       "      <td>101</td>\n",
       "      <td>68</td>\n",
       "      <td>83</td>\n",
       "      <td>84</td>\n",
       "      <td>319</td>\n",
       "      <td>79.75</td>\n",
       "    </tr>\n",
       "    <tr>\n",
       "      <th>1</th>\n",
       "      <td>102</td>\n",
       "      <td>78</td>\n",
       "      <td>75</td>\n",
       "      <td>93</td>\n",
       "      <td>339</td>\n",
       "      <td>84.75</td>\n",
       "    </tr>\n",
       "    <tr>\n",
       "      <th>2</th>\n",
       "      <td>103</td>\n",
       "      <td>91</td>\n",
       "      <td>84</td>\n",
       "      <td>75</td>\n",
       "      <td>325</td>\n",
       "      <td>81.25</td>\n",
       "    </tr>\n",
       "    <tr>\n",
       "      <th>3</th>\n",
       "      <td>104</td>\n",
       "      <td>85</td>\n",
       "      <td>90</td>\n",
       "      <td>86</td>\n",
       "      <td>347</td>\n",
       "      <td>86.75</td>\n",
       "    </tr>\n",
       "    <tr>\n",
       "      <th>4</th>\n",
       "      <td>105</td>\n",
       "      <td>66</td>\n",
       "      <td>92</td>\n",
       "      <td>84</td>\n",
       "      <td>326</td>\n",
       "      <td>81.50</td>\n",
       "    </tr>\n",
       "  </tbody>\n",
       "</table>\n",
       "</div>"
      ],
      "text/plain": [
       "   Roll No  Subject-1 Marks  Subject-2 Marks  Subject-3 Marks  Total  \\\n",
       "0      101               68               83               84    319   \n",
       "1      102               78               75               93    339   \n",
       "2      103               91               84               75    325   \n",
       "3      104               85               90               86    347   \n",
       "4      105               66               92               84    326   \n",
       "\n",
       "   Total Percentage  \n",
       "0             79.75  \n",
       "1             84.75  \n",
       "2             81.25  \n",
       "3             86.75  \n",
       "4             81.50  "
      ]
     },
     "execution_count": 37,
     "metadata": {},
     "output_type": "execute_result"
    }
   ],
   "source": [
    "df"
   ]
  },
  {
   "cell_type": "markdown",
   "id": "d4be3d52-daff-419d-a0e2-8e31376d9a58",
   "metadata": {},
   "source": [
    "### What is index in pandas?\n",
    "- The index of a DataFrame is a series of labels that identify each row\n",
    "- The labels can be integers, strings, or any other hashable type\n",
    "- The index is used for label-based access and alignment, and can be accessed or modified using this attribute"
   ]
  },
  {
   "cell_type": "code",
   "execution_count": 18,
   "id": "a3b893d3-c1f5-4afb-85a5-23701e30e01f",
   "metadata": {},
   "outputs": [],
   "source": [
    "df = pd.DataFrame({\"angle\" : [0, 3, 4], \"degrees\" : [360, 180, 360]}, \n",
    "                 index = ['circle', 'triangle', 'rectangle'])"
   ]
  },
  {
   "cell_type": "code",
   "execution_count": 19,
   "id": "5d91e03c-409e-4298-a47a-0f50ba70ac37",
   "metadata": {},
   "outputs": [
    {
     "data": {
      "text/html": [
       "<div>\n",
       "<style scoped>\n",
       "    .dataframe tbody tr th:only-of-type {\n",
       "        vertical-align: middle;\n",
       "    }\n",
       "\n",
       "    .dataframe tbody tr th {\n",
       "        vertical-align: top;\n",
       "    }\n",
       "\n",
       "    .dataframe thead th {\n",
       "        text-align: right;\n",
       "    }\n",
       "</style>\n",
       "<table border=\"1\" class=\"dataframe\">\n",
       "  <thead>\n",
       "    <tr style=\"text-align: right;\">\n",
       "      <th></th>\n",
       "      <th>angle</th>\n",
       "      <th>degrees</th>\n",
       "    </tr>\n",
       "  </thead>\n",
       "  <tbody>\n",
       "    <tr>\n",
       "      <th>circle</th>\n",
       "      <td>0</td>\n",
       "      <td>360</td>\n",
       "    </tr>\n",
       "    <tr>\n",
       "      <th>triangle</th>\n",
       "      <td>3</td>\n",
       "      <td>180</td>\n",
       "    </tr>\n",
       "    <tr>\n",
       "      <th>rectangle</th>\n",
       "      <td>4</td>\n",
       "      <td>360</td>\n",
       "    </tr>\n",
       "  </tbody>\n",
       "</table>\n",
       "</div>"
      ],
      "text/plain": [
       "           angle  degrees\n",
       "circle         0      360\n",
       "triangle       3      180\n",
       "rectangle      4      360"
      ]
     },
     "execution_count": 19,
     "metadata": {},
     "output_type": "execute_result"
    }
   ],
   "source": [
    "df"
   ]
  },
  {
   "cell_type": "markdown",
   "id": "6d3c817c-b204-49f4-b27a-133eca242c47",
   "metadata": {},
   "source": [
    "#### write a program to count a word in a given string"
   ]
  },
  {
   "cell_type": "code",
   "execution_count": 2,
   "id": "1f2770f7-4f85-4898-8a31-651f2ba2e87d",
   "metadata": {},
   "outputs": [
    {
     "name": "stdout",
     "output_type": "stream",
     "text": [
      "2\n"
     ]
    }
   ],
   "source": [
    "string = \"Gujarat Vidyapith\"\n",
    "res = len(string.split())\n",
    "print (str(res))"
   ]
  },
  {
   "cell_type": "markdown",
   "id": "8142e88a-a45f-4d17-9c0d-efb9e86812f9",
   "metadata": {},
   "source": [
    "## How create NaN values dataframe?\n",
    "- Create NaN values dataframe using numpy\n",
    "- Also use np.nan each time want to add a NaN value in dataframe"
   ]
  },
  {
   "cell_type": "code",
   "execution_count": 7,
   "id": "96cd217e-9af1-45f2-b8da-4eed4a2d2b02",
   "metadata": {},
   "outputs": [],
   "source": [
    "stddf = {\"Roll No\" : [4001, np.nan, 4003, 4004],\n",
    "         \"Name\" : ['Keyuri', 'Yashvi', np.nan, 'Jainil']}"
   ]
  },
  {
   "cell_type": "code",
   "execution_count": 6,
   "id": "82641009-1106-4d60-ad8e-9b26c8a91f6e",
   "metadata": {},
   "outputs": [],
   "source": [
    "df = df = pd.DataFrame(stddf)"
   ]
  },
  {
   "cell_type": "code",
   "execution_count": 7,
   "id": "87aa1fa6-4b3d-486a-b8ae-a5313d683b85",
   "metadata": {},
   "outputs": [
    {
     "data": {
      "text/html": [
       "<div>\n",
       "<style scoped>\n",
       "    .dataframe tbody tr th:only-of-type {\n",
       "        vertical-align: middle;\n",
       "    }\n",
       "\n",
       "    .dataframe tbody tr th {\n",
       "        vertical-align: top;\n",
       "    }\n",
       "\n",
       "    .dataframe thead th {\n",
       "        text-align: right;\n",
       "    }\n",
       "</style>\n",
       "<table border=\"1\" class=\"dataframe\">\n",
       "  <thead>\n",
       "    <tr style=\"text-align: right;\">\n",
       "      <th></th>\n",
       "      <th>Roll No</th>\n",
       "      <th>Name</th>\n",
       "    </tr>\n",
       "  </thead>\n",
       "  <tbody>\n",
       "    <tr>\n",
       "      <th>0</th>\n",
       "      <td>4001.0</td>\n",
       "      <td>Keyuri</td>\n",
       "    </tr>\n",
       "    <tr>\n",
       "      <th>1</th>\n",
       "      <td>NaN</td>\n",
       "      <td>Yashvi</td>\n",
       "    </tr>\n",
       "    <tr>\n",
       "      <th>2</th>\n",
       "      <td>4003.0</td>\n",
       "      <td>NaN</td>\n",
       "    </tr>\n",
       "    <tr>\n",
       "      <th>3</th>\n",
       "      <td>4004.0</td>\n",
       "      <td>Jainil</td>\n",
       "    </tr>\n",
       "  </tbody>\n",
       "</table>\n",
       "</div>"
      ],
      "text/plain": [
       "   Roll No    Name\n",
       "0   4001.0  Keyuri\n",
       "1      NaN  Yashvi\n",
       "2   4003.0     NaN\n",
       "3   4004.0  Jainil"
      ]
     },
     "execution_count": 7,
     "metadata": {},
     "output_type": "execute_result"
    }
   ],
   "source": [
    "df"
   ]
  },
  {
   "cell_type": "markdown",
   "id": "c6bcced9",
   "metadata": {},
   "source": [
    "#### Create a dataframe consisting two column A and B. A has a value 2, 3, null, 4, 2, 1 and B has a value 2, 4, 2, 1, 3, null"
   ]
  },
  {
   "cell_type": "code",
   "execution_count": 8,
   "id": "068b4bec",
   "metadata": {},
   "outputs": [],
   "source": [
    "data = {\"A\" : [2, 3, np.nan, 4, 2, 1], \n",
    "        \"B\" : [2, 4, 2, 1, 3, np.nan]}"
   ]
  },
  {
   "cell_type": "code",
   "execution_count": 9,
   "id": "315e09e8",
   "metadata": {},
   "outputs": [],
   "source": [
    "df = pd.DataFrame(data)"
   ]
  },
  {
   "cell_type": "code",
   "execution_count": 10,
   "id": "93103c14",
   "metadata": {},
   "outputs": [
    {
     "data": {
      "text/html": [
       "<div>\n",
       "<style scoped>\n",
       "    .dataframe tbody tr th:only-of-type {\n",
       "        vertical-align: middle;\n",
       "    }\n",
       "\n",
       "    .dataframe tbody tr th {\n",
       "        vertical-align: top;\n",
       "    }\n",
       "\n",
       "    .dataframe thead th {\n",
       "        text-align: right;\n",
       "    }\n",
       "</style>\n",
       "<table border=\"1\" class=\"dataframe\">\n",
       "  <thead>\n",
       "    <tr style=\"text-align: right;\">\n",
       "      <th></th>\n",
       "      <th>A</th>\n",
       "      <th>B</th>\n",
       "    </tr>\n",
       "  </thead>\n",
       "  <tbody>\n",
       "    <tr>\n",
       "      <th>0</th>\n",
       "      <td>2.0</td>\n",
       "      <td>2.0</td>\n",
       "    </tr>\n",
       "    <tr>\n",
       "      <th>1</th>\n",
       "      <td>3.0</td>\n",
       "      <td>4.0</td>\n",
       "    </tr>\n",
       "    <tr>\n",
       "      <th>2</th>\n",
       "      <td>NaN</td>\n",
       "      <td>2.0</td>\n",
       "    </tr>\n",
       "    <tr>\n",
       "      <th>3</th>\n",
       "      <td>4.0</td>\n",
       "      <td>1.0</td>\n",
       "    </tr>\n",
       "    <tr>\n",
       "      <th>4</th>\n",
       "      <td>2.0</td>\n",
       "      <td>3.0</td>\n",
       "    </tr>\n",
       "    <tr>\n",
       "      <th>5</th>\n",
       "      <td>1.0</td>\n",
       "      <td>NaN</td>\n",
       "    </tr>\n",
       "  </tbody>\n",
       "</table>\n",
       "</div>"
      ],
      "text/plain": [
       "     A    B\n",
       "0  2.0  2.0\n",
       "1  3.0  4.0\n",
       "2  NaN  2.0\n",
       "3  4.0  1.0\n",
       "4  2.0  3.0\n",
       "5  1.0  NaN"
      ]
     },
     "execution_count": 10,
     "metadata": {},
     "output_type": "execute_result"
    }
   ],
   "source": [
    "df"
   ]
  },
  {
   "cell_type": "markdown",
   "id": "68a6eb8d-be22-49ea-a019-30df7b761549",
   "metadata": {},
   "source": [
    "#### Create 3 dataframe and explian concat(), reset_index(), sort_values(), drop()3"
   ]
  },
  {
   "cell_type": "code",
   "execution_count": 11,
   "id": "c9fa6f0e",
   "metadata": {},
   "outputs": [],
   "source": [
    "zx = {\"a\" : [0, 1, 2, 3, 4,5 ], \n",
    "      \"b\" : ['a', 'd', 'g', 'j', 'm', 'p']}\n",
    "dfzx = pd.DataFrame(zx)"
   ]
  },
  {
   "cell_type": "code",
   "execution_count": 12,
   "id": "5f622e9a",
   "metadata": {},
   "outputs": [
    {
     "data": {
      "text/html": [
       "<div>\n",
       "<style scoped>\n",
       "    .dataframe tbody tr th:only-of-type {\n",
       "        vertical-align: middle;\n",
       "    }\n",
       "\n",
       "    .dataframe tbody tr th {\n",
       "        vertical-align: top;\n",
       "    }\n",
       "\n",
       "    .dataframe thead th {\n",
       "        text-align: right;\n",
       "    }\n",
       "</style>\n",
       "<table border=\"1\" class=\"dataframe\">\n",
       "  <thead>\n",
       "    <tr style=\"text-align: right;\">\n",
       "      <th></th>\n",
       "      <th>a</th>\n",
       "      <th>b</th>\n",
       "    </tr>\n",
       "  </thead>\n",
       "  <tbody>\n",
       "    <tr>\n",
       "      <th>0</th>\n",
       "      <td>0</td>\n",
       "      <td>a</td>\n",
       "    </tr>\n",
       "    <tr>\n",
       "      <th>1</th>\n",
       "      <td>1</td>\n",
       "      <td>d</td>\n",
       "    </tr>\n",
       "    <tr>\n",
       "      <th>2</th>\n",
       "      <td>2</td>\n",
       "      <td>g</td>\n",
       "    </tr>\n",
       "    <tr>\n",
       "      <th>3</th>\n",
       "      <td>3</td>\n",
       "      <td>j</td>\n",
       "    </tr>\n",
       "    <tr>\n",
       "      <th>4</th>\n",
       "      <td>4</td>\n",
       "      <td>m</td>\n",
       "    </tr>\n",
       "    <tr>\n",
       "      <th>5</th>\n",
       "      <td>5</td>\n",
       "      <td>p</td>\n",
       "    </tr>\n",
       "  </tbody>\n",
       "</table>\n",
       "</div>"
      ],
      "text/plain": [
       "   a  b\n",
       "0  0  a\n",
       "1  1  d\n",
       "2  2  g\n",
       "3  3  j\n",
       "4  4  m\n",
       "5  5  p"
      ]
     },
     "execution_count": 12,
     "metadata": {},
     "output_type": "execute_result"
    }
   ],
   "source": [
    "dfzx"
   ]
  },
  {
   "cell_type": "code",
   "execution_count": 13,
   "id": "f974a8ff",
   "metadata": {},
   "outputs": [],
   "source": [
    "zy = {\"a\" : [0, 1, 2, 3, 4,5 ], \n",
    "      \"b\" : ['b', 'e', 'h', 'k', 'n', 'q']}\n",
    "dfzy = pd.DataFrame(zy)"
   ]
  },
  {
   "cell_type": "code",
   "execution_count": 14,
   "id": "af92dc8c",
   "metadata": {},
   "outputs": [
    {
     "data": {
      "text/html": [
       "<div>\n",
       "<style scoped>\n",
       "    .dataframe tbody tr th:only-of-type {\n",
       "        vertical-align: middle;\n",
       "    }\n",
       "\n",
       "    .dataframe tbody tr th {\n",
       "        vertical-align: top;\n",
       "    }\n",
       "\n",
       "    .dataframe thead th {\n",
       "        text-align: right;\n",
       "    }\n",
       "</style>\n",
       "<table border=\"1\" class=\"dataframe\">\n",
       "  <thead>\n",
       "    <tr style=\"text-align: right;\">\n",
       "      <th></th>\n",
       "      <th>a</th>\n",
       "      <th>b</th>\n",
       "    </tr>\n",
       "  </thead>\n",
       "  <tbody>\n",
       "    <tr>\n",
       "      <th>0</th>\n",
       "      <td>0</td>\n",
       "      <td>b</td>\n",
       "    </tr>\n",
       "    <tr>\n",
       "      <th>1</th>\n",
       "      <td>1</td>\n",
       "      <td>e</td>\n",
       "    </tr>\n",
       "    <tr>\n",
       "      <th>2</th>\n",
       "      <td>2</td>\n",
       "      <td>h</td>\n",
       "    </tr>\n",
       "    <tr>\n",
       "      <th>3</th>\n",
       "      <td>3</td>\n",
       "      <td>k</td>\n",
       "    </tr>\n",
       "    <tr>\n",
       "      <th>4</th>\n",
       "      <td>4</td>\n",
       "      <td>n</td>\n",
       "    </tr>\n",
       "    <tr>\n",
       "      <th>5</th>\n",
       "      <td>5</td>\n",
       "      <td>q</td>\n",
       "    </tr>\n",
       "  </tbody>\n",
       "</table>\n",
       "</div>"
      ],
      "text/plain": [
       "   a  b\n",
       "0  0  b\n",
       "1  1  e\n",
       "2  2  h\n",
       "3  3  k\n",
       "4  4  n\n",
       "5  5  q"
      ]
     },
     "execution_count": 14,
     "metadata": {},
     "output_type": "execute_result"
    }
   ],
   "source": [
    "dfzy"
   ]
  },
  {
   "cell_type": "code",
   "execution_count": 15,
   "id": "5f3d2aee",
   "metadata": {},
   "outputs": [],
   "source": [
    "zz = {\"a\" : [0, 1, 2, 3, 4,5 ], \n",
    "      \"b\" : ['c', 'f', 'i', 'l', 'o', 'r']}\n",
    "dfzz = pd.DataFrame(zz)"
   ]
  },
  {
   "cell_type": "code",
   "execution_count": 16,
   "id": "8cccecc8",
   "metadata": {},
   "outputs": [
    {
     "data": {
      "text/html": [
       "<div>\n",
       "<style scoped>\n",
       "    .dataframe tbody tr th:only-of-type {\n",
       "        vertical-align: middle;\n",
       "    }\n",
       "\n",
       "    .dataframe tbody tr th {\n",
       "        vertical-align: top;\n",
       "    }\n",
       "\n",
       "    .dataframe thead th {\n",
       "        text-align: right;\n",
       "    }\n",
       "</style>\n",
       "<table border=\"1\" class=\"dataframe\">\n",
       "  <thead>\n",
       "    <tr style=\"text-align: right;\">\n",
       "      <th></th>\n",
       "      <th>a</th>\n",
       "      <th>b</th>\n",
       "    </tr>\n",
       "  </thead>\n",
       "  <tbody>\n",
       "    <tr>\n",
       "      <th>0</th>\n",
       "      <td>0</td>\n",
       "      <td>c</td>\n",
       "    </tr>\n",
       "    <tr>\n",
       "      <th>1</th>\n",
       "      <td>1</td>\n",
       "      <td>f</td>\n",
       "    </tr>\n",
       "    <tr>\n",
       "      <th>2</th>\n",
       "      <td>2</td>\n",
       "      <td>i</td>\n",
       "    </tr>\n",
       "    <tr>\n",
       "      <th>3</th>\n",
       "      <td>3</td>\n",
       "      <td>l</td>\n",
       "    </tr>\n",
       "    <tr>\n",
       "      <th>4</th>\n",
       "      <td>4</td>\n",
       "      <td>o</td>\n",
       "    </tr>\n",
       "    <tr>\n",
       "      <th>5</th>\n",
       "      <td>5</td>\n",
       "      <td>r</td>\n",
       "    </tr>\n",
       "  </tbody>\n",
       "</table>\n",
       "</div>"
      ],
      "text/plain": [
       "   a  b\n",
       "0  0  c\n",
       "1  1  f\n",
       "2  2  i\n",
       "3  3  l\n",
       "4  4  o\n",
       "5  5  r"
      ]
     },
     "execution_count": 16,
     "metadata": {},
     "output_type": "execute_result"
    }
   ],
   "source": [
    "dfzz"
   ]
  },
  {
   "cell_type": "markdown",
   "id": "5c03eea6-4153-47d8-82b5-7a6067a72f46",
   "metadata": {},
   "source": [
    "#### concat() function\n",
    "- concat() function used to Concatenating two dataframe\n",
    "- Concatenate multiple dataframes using pandas.concat()\n",
    "- For concatigation, columns and dtype of columns are must be same for each dataframe"
   ]
  },
  {
   "cell_type": "code",
   "execution_count": 17,
   "id": "841efc58",
   "metadata": {},
   "outputs": [
    {
     "data": {
      "text/html": [
       "<div>\n",
       "<style scoped>\n",
       "    .dataframe tbody tr th:only-of-type {\n",
       "        vertical-align: middle;\n",
       "    }\n",
       "\n",
       "    .dataframe tbody tr th {\n",
       "        vertical-align: top;\n",
       "    }\n",
       "\n",
       "    .dataframe thead th {\n",
       "        text-align: right;\n",
       "    }\n",
       "</style>\n",
       "<table border=\"1\" class=\"dataframe\">\n",
       "  <thead>\n",
       "    <tr style=\"text-align: right;\">\n",
       "      <th></th>\n",
       "      <th>a</th>\n",
       "      <th>b</th>\n",
       "    </tr>\n",
       "  </thead>\n",
       "  <tbody>\n",
       "    <tr>\n",
       "      <th>0</th>\n",
       "      <td>0</td>\n",
       "      <td>a</td>\n",
       "    </tr>\n",
       "    <tr>\n",
       "      <th>1</th>\n",
       "      <td>1</td>\n",
       "      <td>d</td>\n",
       "    </tr>\n",
       "    <tr>\n",
       "      <th>2</th>\n",
       "      <td>2</td>\n",
       "      <td>g</td>\n",
       "    </tr>\n",
       "    <tr>\n",
       "      <th>3</th>\n",
       "      <td>3</td>\n",
       "      <td>j</td>\n",
       "    </tr>\n",
       "    <tr>\n",
       "      <th>4</th>\n",
       "      <td>4</td>\n",
       "      <td>m</td>\n",
       "    </tr>\n",
       "    <tr>\n",
       "      <th>5</th>\n",
       "      <td>5</td>\n",
       "      <td>p</td>\n",
       "    </tr>\n",
       "    <tr>\n",
       "      <th>0</th>\n",
       "      <td>0</td>\n",
       "      <td>b</td>\n",
       "    </tr>\n",
       "    <tr>\n",
       "      <th>1</th>\n",
       "      <td>1</td>\n",
       "      <td>e</td>\n",
       "    </tr>\n",
       "    <tr>\n",
       "      <th>2</th>\n",
       "      <td>2</td>\n",
       "      <td>h</td>\n",
       "    </tr>\n",
       "    <tr>\n",
       "      <th>3</th>\n",
       "      <td>3</td>\n",
       "      <td>k</td>\n",
       "    </tr>\n",
       "    <tr>\n",
       "      <th>4</th>\n",
       "      <td>4</td>\n",
       "      <td>n</td>\n",
       "    </tr>\n",
       "    <tr>\n",
       "      <th>5</th>\n",
       "      <td>5</td>\n",
       "      <td>q</td>\n",
       "    </tr>\n",
       "    <tr>\n",
       "      <th>0</th>\n",
       "      <td>0</td>\n",
       "      <td>c</td>\n",
       "    </tr>\n",
       "    <tr>\n",
       "      <th>1</th>\n",
       "      <td>1</td>\n",
       "      <td>f</td>\n",
       "    </tr>\n",
       "    <tr>\n",
       "      <th>2</th>\n",
       "      <td>2</td>\n",
       "      <td>i</td>\n",
       "    </tr>\n",
       "    <tr>\n",
       "      <th>3</th>\n",
       "      <td>3</td>\n",
       "      <td>l</td>\n",
       "    </tr>\n",
       "    <tr>\n",
       "      <th>4</th>\n",
       "      <td>4</td>\n",
       "      <td>o</td>\n",
       "    </tr>\n",
       "    <tr>\n",
       "      <th>5</th>\n",
       "      <td>5</td>\n",
       "      <td>r</td>\n",
       "    </tr>\n",
       "  </tbody>\n",
       "</table>\n",
       "</div>"
      ],
      "text/plain": [
       "   a  b\n",
       "0  0  a\n",
       "1  1  d\n",
       "2  2  g\n",
       "3  3  j\n",
       "4  4  m\n",
       "5  5  p\n",
       "0  0  b\n",
       "1  1  e\n",
       "2  2  h\n",
       "3  3  k\n",
       "4  4  n\n",
       "5  5  q\n",
       "0  0  c\n",
       "1  1  f\n",
       "2  2  i\n",
       "3  3  l\n",
       "4  4  o\n",
       "5  5  r"
      ]
     },
     "execution_count": 17,
     "metadata": {},
     "output_type": "execute_result"
    }
   ],
   "source": [
    "pd.concat((dfzx, dfzy, dfzz))"
   ]
  },
  {
   "cell_type": "markdown",
   "id": "9ca2c646-cf66-4ca6-b63a-0cff3ca4ed44",
   "metadata": {},
   "source": [
    "#### reset_index() function \n",
    "- reset_index() method used to reset the index back to the default 0, 1, 2 etc indexes\n",
    "- By default it will keep old indexs in a column index, to avoid this, used drop parameter\n",
    "- It is useful when index is need to be as column or when index is meaningless, needs to be reset to defalut index before another operations"
   ]
  },
  {
   "cell_type": "code",
   "execution_count": 87,
   "id": "d5d564d6",
   "metadata": {},
   "outputs": [
    {
     "data": {
      "text/html": [
       "<div>\n",
       "<style scoped>\n",
       "    .dataframe tbody tr th:only-of-type {\n",
       "        vertical-align: middle;\n",
       "    }\n",
       "\n",
       "    .dataframe tbody tr th {\n",
       "        vertical-align: top;\n",
       "    }\n",
       "\n",
       "    .dataframe thead th {\n",
       "        text-align: right;\n",
       "    }\n",
       "</style>\n",
       "<table border=\"1\" class=\"dataframe\">\n",
       "  <thead>\n",
       "    <tr style=\"text-align: right;\">\n",
       "      <th></th>\n",
       "      <th>index</th>\n",
       "      <th>a</th>\n",
       "      <th>b</th>\n",
       "    </tr>\n",
       "  </thead>\n",
       "  <tbody>\n",
       "    <tr>\n",
       "      <th>0</th>\n",
       "      <td>0</td>\n",
       "      <td>0</td>\n",
       "      <td>a</td>\n",
       "    </tr>\n",
       "    <tr>\n",
       "      <th>1</th>\n",
       "      <td>1</td>\n",
       "      <td>1</td>\n",
       "      <td>d</td>\n",
       "    </tr>\n",
       "    <tr>\n",
       "      <th>2</th>\n",
       "      <td>2</td>\n",
       "      <td>2</td>\n",
       "      <td>g</td>\n",
       "    </tr>\n",
       "    <tr>\n",
       "      <th>3</th>\n",
       "      <td>3</td>\n",
       "      <td>3</td>\n",
       "      <td>j</td>\n",
       "    </tr>\n",
       "    <tr>\n",
       "      <th>4</th>\n",
       "      <td>4</td>\n",
       "      <td>4</td>\n",
       "      <td>m</td>\n",
       "    </tr>\n",
       "    <tr>\n",
       "      <th>5</th>\n",
       "      <td>5</td>\n",
       "      <td>5</td>\n",
       "      <td>p</td>\n",
       "    </tr>\n",
       "    <tr>\n",
       "      <th>6</th>\n",
       "      <td>0</td>\n",
       "      <td>0</td>\n",
       "      <td>b</td>\n",
       "    </tr>\n",
       "    <tr>\n",
       "      <th>7</th>\n",
       "      <td>1</td>\n",
       "      <td>1</td>\n",
       "      <td>e</td>\n",
       "    </tr>\n",
       "    <tr>\n",
       "      <th>8</th>\n",
       "      <td>2</td>\n",
       "      <td>2</td>\n",
       "      <td>h</td>\n",
       "    </tr>\n",
       "    <tr>\n",
       "      <th>9</th>\n",
       "      <td>3</td>\n",
       "      <td>3</td>\n",
       "      <td>k</td>\n",
       "    </tr>\n",
       "    <tr>\n",
       "      <th>10</th>\n",
       "      <td>4</td>\n",
       "      <td>4</td>\n",
       "      <td>n</td>\n",
       "    </tr>\n",
       "    <tr>\n",
       "      <th>11</th>\n",
       "      <td>5</td>\n",
       "      <td>5</td>\n",
       "      <td>q</td>\n",
       "    </tr>\n",
       "    <tr>\n",
       "      <th>12</th>\n",
       "      <td>0</td>\n",
       "      <td>0</td>\n",
       "      <td>c</td>\n",
       "    </tr>\n",
       "    <tr>\n",
       "      <th>13</th>\n",
       "      <td>1</td>\n",
       "      <td>1</td>\n",
       "      <td>f</td>\n",
       "    </tr>\n",
       "    <tr>\n",
       "      <th>14</th>\n",
       "      <td>2</td>\n",
       "      <td>2</td>\n",
       "      <td>i</td>\n",
       "    </tr>\n",
       "    <tr>\n",
       "      <th>15</th>\n",
       "      <td>3</td>\n",
       "      <td>3</td>\n",
       "      <td>l</td>\n",
       "    </tr>\n",
       "    <tr>\n",
       "      <th>16</th>\n",
       "      <td>4</td>\n",
       "      <td>4</td>\n",
       "      <td>o</td>\n",
       "    </tr>\n",
       "    <tr>\n",
       "      <th>17</th>\n",
       "      <td>5</td>\n",
       "      <td>5</td>\n",
       "      <td>r</td>\n",
       "    </tr>\n",
       "  </tbody>\n",
       "</table>\n",
       "</div>"
      ],
      "text/plain": [
       "    index  a  b\n",
       "0       0  0  a\n",
       "1       1  1  d\n",
       "2       2  2  g\n",
       "3       3  3  j\n",
       "4       4  4  m\n",
       "5       5  5  p\n",
       "6       0  0  b\n",
       "7       1  1  e\n",
       "8       2  2  h\n",
       "9       3  3  k\n",
       "10      4  4  n\n",
       "11      5  5  q\n",
       "12      0  0  c\n",
       "13      1  1  f\n",
       "14      2  2  i\n",
       "15      3  3  l\n",
       "16      4  4  o\n",
       "17      5  5  r"
      ]
     },
     "execution_count": 87,
     "metadata": {},
     "output_type": "execute_result"
    }
   ],
   "source": [
    "pd.concat((dfzx, dfzy, dfzz)).reset_index()"
   ]
  },
  {
   "cell_type": "markdown",
   "id": "09d7434a-4714-4afd-8450-aa1141ceae09",
   "metadata": {},
   "source": [
    "#### sort_values() function\n",
    "- sort_values() function sorts values in a dataframe along the selected axis and returns a dataframe with sorted values or none\n",
    "- ignore_index parameter enables you to control the index of the new output pandas object\n",
    "- By default, this is set to ignore_index = False"
   ]
  },
  {
   "cell_type": "code",
   "execution_count": 88,
   "id": "9bfd3936",
   "metadata": {},
   "outputs": [
    {
     "data": {
      "text/html": [
       "<div>\n",
       "<style scoped>\n",
       "    .dataframe tbody tr th:only-of-type {\n",
       "        vertical-align: middle;\n",
       "    }\n",
       "\n",
       "    .dataframe tbody tr th {\n",
       "        vertical-align: top;\n",
       "    }\n",
       "\n",
       "    .dataframe thead th {\n",
       "        text-align: right;\n",
       "    }\n",
       "</style>\n",
       "<table border=\"1\" class=\"dataframe\">\n",
       "  <thead>\n",
       "    <tr style=\"text-align: right;\">\n",
       "      <th></th>\n",
       "      <th>index</th>\n",
       "      <th>a</th>\n",
       "      <th>b</th>\n",
       "    </tr>\n",
       "  </thead>\n",
       "  <tbody>\n",
       "    <tr>\n",
       "      <th>0</th>\n",
       "      <td>0</td>\n",
       "      <td>0</td>\n",
       "      <td>a</td>\n",
       "    </tr>\n",
       "    <tr>\n",
       "      <th>1</th>\n",
       "      <td>0</td>\n",
       "      <td>0</td>\n",
       "      <td>c</td>\n",
       "    </tr>\n",
       "    <tr>\n",
       "      <th>2</th>\n",
       "      <td>0</td>\n",
       "      <td>0</td>\n",
       "      <td>b</td>\n",
       "    </tr>\n",
       "    <tr>\n",
       "      <th>3</th>\n",
       "      <td>1</td>\n",
       "      <td>1</td>\n",
       "      <td>d</td>\n",
       "    </tr>\n",
       "    <tr>\n",
       "      <th>4</th>\n",
       "      <td>1</td>\n",
       "      <td>1</td>\n",
       "      <td>f</td>\n",
       "    </tr>\n",
       "    <tr>\n",
       "      <th>5</th>\n",
       "      <td>1</td>\n",
       "      <td>1</td>\n",
       "      <td>e</td>\n",
       "    </tr>\n",
       "    <tr>\n",
       "      <th>6</th>\n",
       "      <td>2</td>\n",
       "      <td>2</td>\n",
       "      <td>i</td>\n",
       "    </tr>\n",
       "    <tr>\n",
       "      <th>7</th>\n",
       "      <td>2</td>\n",
       "      <td>2</td>\n",
       "      <td>h</td>\n",
       "    </tr>\n",
       "    <tr>\n",
       "      <th>8</th>\n",
       "      <td>2</td>\n",
       "      <td>2</td>\n",
       "      <td>g</td>\n",
       "    </tr>\n",
       "    <tr>\n",
       "      <th>9</th>\n",
       "      <td>3</td>\n",
       "      <td>3</td>\n",
       "      <td>k</td>\n",
       "    </tr>\n",
       "    <tr>\n",
       "      <th>10</th>\n",
       "      <td>3</td>\n",
       "      <td>3</td>\n",
       "      <td>j</td>\n",
       "    </tr>\n",
       "    <tr>\n",
       "      <th>11</th>\n",
       "      <td>3</td>\n",
       "      <td>3</td>\n",
       "      <td>l</td>\n",
       "    </tr>\n",
       "    <tr>\n",
       "      <th>12</th>\n",
       "      <td>4</td>\n",
       "      <td>4</td>\n",
       "      <td>o</td>\n",
       "    </tr>\n",
       "    <tr>\n",
       "      <th>13</th>\n",
       "      <td>4</td>\n",
       "      <td>4</td>\n",
       "      <td>n</td>\n",
       "    </tr>\n",
       "    <tr>\n",
       "      <th>14</th>\n",
       "      <td>4</td>\n",
       "      <td>4</td>\n",
       "      <td>m</td>\n",
       "    </tr>\n",
       "    <tr>\n",
       "      <th>15</th>\n",
       "      <td>5</td>\n",
       "      <td>5</td>\n",
       "      <td>q</td>\n",
       "    </tr>\n",
       "    <tr>\n",
       "      <th>16</th>\n",
       "      <td>5</td>\n",
       "      <td>5</td>\n",
       "      <td>p</td>\n",
       "    </tr>\n",
       "    <tr>\n",
       "      <th>17</th>\n",
       "      <td>5</td>\n",
       "      <td>5</td>\n",
       "      <td>r</td>\n",
       "    </tr>\n",
       "  </tbody>\n",
       "</table>\n",
       "</div>"
      ],
      "text/plain": [
       "    index  a  b\n",
       "0       0  0  a\n",
       "1       0  0  c\n",
       "2       0  0  b\n",
       "3       1  1  d\n",
       "4       1  1  f\n",
       "5       1  1  e\n",
       "6       2  2  i\n",
       "7       2  2  h\n",
       "8       2  2  g\n",
       "9       3  3  k\n",
       "10      3  3  j\n",
       "11      3  3  l\n",
       "12      4  4  o\n",
       "13      4  4  n\n",
       "14      4  4  m\n",
       "15      5  5  q\n",
       "16      5  5  p\n",
       "17      5  5  r"
      ]
     },
     "execution_count": 88,
     "metadata": {},
     "output_type": "execute_result"
    }
   ],
   "source": [
    "pd.concat((dfzx, dfzy, dfzz)).reset_index().sort_values('index', ignore_index=True)"
   ]
  },
  {
   "cell_type": "markdown",
   "id": "293b96a2-eeea-4565-8367-31011420072a",
   "metadata": {},
   "source": [
    "#### drop() function : \n",
    "- drop() used to remove one or more rows or columns from a DataFrame\n",
    "- axis=0 (or axis='rows') is horizontal axis\n",
    "- axis=1 (or axis='columns') is vertical axis"
   ]
  },
  {
   "cell_type": "code",
   "execution_count": 89,
   "id": "3ed7c544",
   "metadata": {},
   "outputs": [
    {
     "data": {
      "text/html": [
       "<div>\n",
       "<style scoped>\n",
       "    .dataframe tbody tr th:only-of-type {\n",
       "        vertical-align: middle;\n",
       "    }\n",
       "\n",
       "    .dataframe tbody tr th {\n",
       "        vertical-align: top;\n",
       "    }\n",
       "\n",
       "    .dataframe thead th {\n",
       "        text-align: right;\n",
       "    }\n",
       "</style>\n",
       "<table border=\"1\" class=\"dataframe\">\n",
       "  <thead>\n",
       "    <tr style=\"text-align: right;\">\n",
       "      <th></th>\n",
       "      <th>a</th>\n",
       "      <th>b</th>\n",
       "    </tr>\n",
       "  </thead>\n",
       "  <tbody>\n",
       "    <tr>\n",
       "      <th>0</th>\n",
       "      <td>0</td>\n",
       "      <td>a</td>\n",
       "    </tr>\n",
       "    <tr>\n",
       "      <th>1</th>\n",
       "      <td>0</td>\n",
       "      <td>c</td>\n",
       "    </tr>\n",
       "    <tr>\n",
       "      <th>2</th>\n",
       "      <td>0</td>\n",
       "      <td>b</td>\n",
       "    </tr>\n",
       "    <tr>\n",
       "      <th>3</th>\n",
       "      <td>1</td>\n",
       "      <td>d</td>\n",
       "    </tr>\n",
       "    <tr>\n",
       "      <th>4</th>\n",
       "      <td>1</td>\n",
       "      <td>f</td>\n",
       "    </tr>\n",
       "    <tr>\n",
       "      <th>5</th>\n",
       "      <td>1</td>\n",
       "      <td>e</td>\n",
       "    </tr>\n",
       "    <tr>\n",
       "      <th>6</th>\n",
       "      <td>2</td>\n",
       "      <td>i</td>\n",
       "    </tr>\n",
       "    <tr>\n",
       "      <th>7</th>\n",
       "      <td>2</td>\n",
       "      <td>h</td>\n",
       "    </tr>\n",
       "    <tr>\n",
       "      <th>8</th>\n",
       "      <td>2</td>\n",
       "      <td>g</td>\n",
       "    </tr>\n",
       "    <tr>\n",
       "      <th>9</th>\n",
       "      <td>3</td>\n",
       "      <td>k</td>\n",
       "    </tr>\n",
       "    <tr>\n",
       "      <th>10</th>\n",
       "      <td>3</td>\n",
       "      <td>j</td>\n",
       "    </tr>\n",
       "    <tr>\n",
       "      <th>11</th>\n",
       "      <td>3</td>\n",
       "      <td>l</td>\n",
       "    </tr>\n",
       "    <tr>\n",
       "      <th>12</th>\n",
       "      <td>4</td>\n",
       "      <td>o</td>\n",
       "    </tr>\n",
       "    <tr>\n",
       "      <th>13</th>\n",
       "      <td>4</td>\n",
       "      <td>n</td>\n",
       "    </tr>\n",
       "    <tr>\n",
       "      <th>14</th>\n",
       "      <td>4</td>\n",
       "      <td>m</td>\n",
       "    </tr>\n",
       "    <tr>\n",
       "      <th>15</th>\n",
       "      <td>5</td>\n",
       "      <td>q</td>\n",
       "    </tr>\n",
       "    <tr>\n",
       "      <th>16</th>\n",
       "      <td>5</td>\n",
       "      <td>p</td>\n",
       "    </tr>\n",
       "    <tr>\n",
       "      <th>17</th>\n",
       "      <td>5</td>\n",
       "      <td>r</td>\n",
       "    </tr>\n",
       "  </tbody>\n",
       "</table>\n",
       "</div>"
      ],
      "text/plain": [
       "    a  b\n",
       "0   0  a\n",
       "1   0  c\n",
       "2   0  b\n",
       "3   1  d\n",
       "4   1  f\n",
       "5   1  e\n",
       "6   2  i\n",
       "7   2  h\n",
       "8   2  g\n",
       "9   3  k\n",
       "10  3  j\n",
       "11  3  l\n",
       "12  4  o\n",
       "13  4  n\n",
       "14  4  m\n",
       "15  5  q\n",
       "16  5  p\n",
       "17  5  r"
      ]
     },
     "execution_count": 89,
     "metadata": {},
     "output_type": "execute_result"
    }
   ],
   "source": [
    "pd.concat((dfzx, dfzy, dfzz)).reset_index().sort_values('index', ignore_index=True).drop('index', axis=1)"
   ]
  }
 ],
 "metadata": {
  "kernelspec": {
   "display_name": "Python 3 (ipykernel)",
   "language": "python",
   "name": "python3"
  },
  "language_info": {
   "codemirror_mode": {
    "name": "ipython",
    "version": 3
   },
   "file_extension": ".py",
   "mimetype": "text/x-python",
   "name": "python",
   "nbconvert_exporter": "python",
   "pygments_lexer": "ipython3",
   "version": "3.10.7"
  }
 },
 "nbformat": 4,
 "nbformat_minor": 5
}
