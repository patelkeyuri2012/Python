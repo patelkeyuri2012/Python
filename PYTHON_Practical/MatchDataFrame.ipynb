{
 "cells": [
  {
   "cell_type": "markdown",
   "id": "98c03d23-b5d8-489b-aaa4-3db65293dd66",
   "metadata": {},
   "source": [
    "## match dataframe"
   ]
  },
  {
   "cell_type": "code",
   "execution_count": 25,
   "id": "8089815a-0c18-4049-9924-7cfa666e9c6b",
   "metadata": {},
   "outputs": [],
   "source": [
    "import pandas as pd"
   ]
  },
  {
   "cell_type": "code",
   "execution_count": 26,
   "id": "a239705f-eb37-4a5a-94ef-a2b09b85fa84",
   "metadata": {},
   "outputs": [],
   "source": [
    "matchdf = pd.read_csv(\"DataSet\\IPL Matches 2008-2020.csv\")"
   ]
  },
  {
   "cell_type": "code",
   "execution_count": 53,
   "id": "dbb9e166-a0c8-462b-8290-b63b6f313eb6",
   "metadata": {},
   "outputs": [
    {
     "data": {
      "text/html": [
       "<div>\n",
       "<style scoped>\n",
       "    .dataframe tbody tr th:only-of-type {\n",
       "        vertical-align: middle;\n",
       "    }\n",
       "\n",
       "    .dataframe tbody tr th {\n",
       "        vertical-align: top;\n",
       "    }\n",
       "\n",
       "    .dataframe thead th {\n",
       "        text-align: right;\n",
       "    }\n",
       "</style>\n",
       "<table border=\"1\" class=\"dataframe\">\n",
       "  <thead>\n",
       "    <tr style=\"text-align: right;\">\n",
       "      <th></th>\n",
       "      <th>id</th>\n",
       "      <th>city</th>\n",
       "      <th>date</th>\n",
       "      <th>player_of_match</th>\n",
       "      <th>venue</th>\n",
       "      <th>neutral_venue</th>\n",
       "      <th>team1</th>\n",
       "      <th>team2</th>\n",
       "      <th>toss_winner</th>\n",
       "      <th>toss_decision</th>\n",
       "      <th>winner</th>\n",
       "      <th>result</th>\n",
       "      <th>result_margin</th>\n",
       "      <th>eliminator</th>\n",
       "      <th>method</th>\n",
       "      <th>umpire1</th>\n",
       "      <th>umpire2</th>\n",
       "    </tr>\n",
       "  </thead>\n",
       "  <tbody>\n",
       "    <tr>\n",
       "      <th>0</th>\n",
       "      <td>335982</td>\n",
       "      <td>Bangalore</td>\n",
       "      <td>2008-04-18</td>\n",
       "      <td>BB McCullum</td>\n",
       "      <td>M Chinnaswamy Stadium</td>\n",
       "      <td>0</td>\n",
       "      <td>Royal Challengers Bangalore</td>\n",
       "      <td>Kolkata Knight Riders</td>\n",
       "      <td>Royal Challengers Bangalore</td>\n",
       "      <td>field</td>\n",
       "      <td>Kolkata Knight Riders</td>\n",
       "      <td>runs</td>\n",
       "      <td>140.0</td>\n",
       "      <td>N</td>\n",
       "      <td>NaN</td>\n",
       "      <td>Asad Rauf</td>\n",
       "      <td>RE Koertzen</td>\n",
       "    </tr>\n",
       "    <tr>\n",
       "      <th>1</th>\n",
       "      <td>335983</td>\n",
       "      <td>Chandigarh</td>\n",
       "      <td>2008-04-19</td>\n",
       "      <td>MEK Hussey</td>\n",
       "      <td>Punjab Cricket Association Stadium, Mohali</td>\n",
       "      <td>0</td>\n",
       "      <td>Kings XI Punjab</td>\n",
       "      <td>Chennai Super Kings</td>\n",
       "      <td>Chennai Super Kings</td>\n",
       "      <td>bat</td>\n",
       "      <td>Chennai Super Kings</td>\n",
       "      <td>runs</td>\n",
       "      <td>33.0</td>\n",
       "      <td>N</td>\n",
       "      <td>NaN</td>\n",
       "      <td>MR Benson</td>\n",
       "      <td>SL Shastri</td>\n",
       "    </tr>\n",
       "  </tbody>\n",
       "</table>\n",
       "</div>"
      ],
      "text/plain": [
       "       id        city        date player_of_match  \\\n",
       "0  335982   Bangalore  2008-04-18     BB McCullum   \n",
       "1  335983  Chandigarh  2008-04-19      MEK Hussey   \n",
       "\n",
       "                                        venue  neutral_venue  \\\n",
       "0                       M Chinnaswamy Stadium              0   \n",
       "1  Punjab Cricket Association Stadium, Mohali              0   \n",
       "\n",
       "                         team1                  team2  \\\n",
       "0  Royal Challengers Bangalore  Kolkata Knight Riders   \n",
       "1              Kings XI Punjab    Chennai Super Kings   \n",
       "\n",
       "                   toss_winner toss_decision                 winner result  \\\n",
       "0  Royal Challengers Bangalore         field  Kolkata Knight Riders   runs   \n",
       "1          Chennai Super Kings           bat    Chennai Super Kings   runs   \n",
       "\n",
       "   result_margin eliminator method    umpire1      umpire2  \n",
       "0          140.0          N    NaN  Asad Rauf  RE Koertzen  \n",
       "1           33.0          N    NaN  MR Benson   SL Shastri  "
      ]
     },
     "execution_count": 53,
     "metadata": {},
     "output_type": "execute_result"
    }
   ],
   "source": [
    "matchdf.head(2)"
   ]
  },
  {
   "cell_type": "code",
   "execution_count": 54,
   "id": "2203b2c6-21c8-4af9-8c89-d453c4608800",
   "metadata": {},
   "outputs": [
    {
     "data": {
      "text/html": [
       "<div>\n",
       "<style scoped>\n",
       "    .dataframe tbody tr th:only-of-type {\n",
       "        vertical-align: middle;\n",
       "    }\n",
       "\n",
       "    .dataframe tbody tr th {\n",
       "        vertical-align: top;\n",
       "    }\n",
       "\n",
       "    .dataframe thead th {\n",
       "        text-align: right;\n",
       "    }\n",
       "</style>\n",
       "<table border=\"1\" class=\"dataframe\">\n",
       "  <thead>\n",
       "    <tr style=\"text-align: right;\">\n",
       "      <th></th>\n",
       "      <th>id</th>\n",
       "      <th>city</th>\n",
       "      <th>date</th>\n",
       "      <th>player_of_match</th>\n",
       "      <th>venue</th>\n",
       "      <th>neutral_venue</th>\n",
       "      <th>team1</th>\n",
       "      <th>team2</th>\n",
       "      <th>toss_winner</th>\n",
       "      <th>toss_decision</th>\n",
       "      <th>winner</th>\n",
       "      <th>result</th>\n",
       "      <th>result_margin</th>\n",
       "      <th>eliminator</th>\n",
       "      <th>method</th>\n",
       "      <th>umpire1</th>\n",
       "      <th>umpire2</th>\n",
       "    </tr>\n",
       "  </thead>\n",
       "  <tbody>\n",
       "    <tr>\n",
       "      <th>814</th>\n",
       "      <td>1237180</td>\n",
       "      <td>Abu Dhabi</td>\n",
       "      <td>2020-11-08</td>\n",
       "      <td>MP Stoinis</td>\n",
       "      <td>Sheikh Zayed Stadium</td>\n",
       "      <td>0</td>\n",
       "      <td>Delhi Capitals</td>\n",
       "      <td>Sunrisers Hyderabad</td>\n",
       "      <td>Delhi Capitals</td>\n",
       "      <td>bat</td>\n",
       "      <td>Delhi Capitals</td>\n",
       "      <td>runs</td>\n",
       "      <td>17.0</td>\n",
       "      <td>N</td>\n",
       "      <td>NaN</td>\n",
       "      <td>PR Reiffel</td>\n",
       "      <td>S Ravi</td>\n",
       "    </tr>\n",
       "    <tr>\n",
       "      <th>815</th>\n",
       "      <td>1237181</td>\n",
       "      <td>Dubai</td>\n",
       "      <td>2020-11-10</td>\n",
       "      <td>TA Boult</td>\n",
       "      <td>Dubai International Cricket Stadium</td>\n",
       "      <td>0</td>\n",
       "      <td>Delhi Capitals</td>\n",
       "      <td>Mumbai Indians</td>\n",
       "      <td>Delhi Capitals</td>\n",
       "      <td>bat</td>\n",
       "      <td>Mumbai Indians</td>\n",
       "      <td>wickets</td>\n",
       "      <td>5.0</td>\n",
       "      <td>N</td>\n",
       "      <td>NaN</td>\n",
       "      <td>CB Gaffaney</td>\n",
       "      <td>Nitin Menon</td>\n",
       "    </tr>\n",
       "  </tbody>\n",
       "</table>\n",
       "</div>"
      ],
      "text/plain": [
       "          id       city        date player_of_match  \\\n",
       "814  1237180  Abu Dhabi  2020-11-08      MP Stoinis   \n",
       "815  1237181      Dubai  2020-11-10        TA Boult   \n",
       "\n",
       "                                   venue  neutral_venue           team1  \\\n",
       "814                 Sheikh Zayed Stadium              0  Delhi Capitals   \n",
       "815  Dubai International Cricket Stadium              0  Delhi Capitals   \n",
       "\n",
       "                   team2     toss_winner toss_decision          winner  \\\n",
       "814  Sunrisers Hyderabad  Delhi Capitals           bat  Delhi Capitals   \n",
       "815       Mumbai Indians  Delhi Capitals           bat  Mumbai Indians   \n",
       "\n",
       "      result  result_margin eliminator method      umpire1      umpire2  \n",
       "814     runs           17.0          N    NaN   PR Reiffel       S Ravi  \n",
       "815  wickets            5.0          N    NaN  CB Gaffaney  Nitin Menon  "
      ]
     },
     "execution_count": 54,
     "metadata": {},
     "output_type": "execute_result"
    }
   ],
   "source": [
    "matchdf.tail(2)"
   ]
  },
  {
   "cell_type": "markdown",
   "id": "999ad3d8-7b0d-41ac-aa1b-87359f2ae865",
   "metadata": {},
   "source": [
    "#### total number of match"
   ]
  },
  {
   "cell_type": "code",
   "execution_count": 6,
   "id": "91f9a046-7f99-4676-aa70-5bde6721d989",
   "metadata": {},
   "outputs": [
    {
     "name": "stdout",
     "output_type": "stream",
     "text": [
      "The total number of match is : 816\n"
     ]
    }
   ],
   "source": [
    "print(\"The total number of match is :\", matchdf.shape[0])"
   ]
  },
  {
   "cell_type": "markdown",
   "id": "ded0f8b1-008c-4c46-ae3f-04a2ebb64d82",
   "metadata": {},
   "source": [
    "#### team won by maximum runs"
   ]
  },
  {
   "cell_type": "code",
   "execution_count": 12,
   "id": "acc36ef4-666b-4b4a-b873-4b6b08d96169",
   "metadata": {},
   "outputs": [],
   "source": [
    "max_runs = matchdf.loc[matchdf['result_margin'].idxmax()]"
   ]
  },
  {
   "cell_type": "code",
   "execution_count": 13,
   "id": "adbe2828-f381-4a4d-9b43-d71c37900828",
   "metadata": {},
   "outputs": [
    {
     "name": "stdout",
     "output_type": "stream",
     "text": [
      "The team that won by the maximum number of runs is : Mumbai Indians\n"
     ]
    }
   ],
   "source": [
    "team = max_runs['winner']\n",
    "print(\"The team that won by the maximum number of runs is :\", team)"
   ]
  },
  {
   "cell_type": "markdown",
   "id": "d0d36af6-8d41-4d69-9ef7-2cae64218116",
   "metadata": {},
   "source": [
    "#### team won by minimum runs"
   ]
  },
  {
   "cell_type": "code",
   "execution_count": 14,
   "id": "3eecc1e5-23c2-4c0f-bbd2-6c380052c97c",
   "metadata": {},
   "outputs": [],
   "source": [
    "min_runs = matchdf.loc[matchdf['result_margin'].idxmin()]"
   ]
  },
  {
   "cell_type": "code",
   "execution_count": 15,
   "id": "176e69e7-aaf2-4534-a6bb-3a894cd7329a",
   "metadata": {},
   "outputs": [
    {
     "name": "stdout",
     "output_type": "stream",
     "text": [
      "The team that won by the minimum number of runs is : Kings XI Punjab\n"
     ]
    }
   ],
   "source": [
    "team = min_runs['winner']\n",
    "print(\"The team that won by the minimum number of runs is :\", team)"
   ]
  },
  {
   "cell_type": "markdown",
   "id": "54b31767-6f53-49b6-9fc5-3aeb5ebaf402",
   "metadata": {},
   "source": [
    "#### team won by maximum wickets"
   ]
  },
  {
   "cell_type": "code",
   "execution_count": 18,
   "id": "fd7cbe04-a049-48ad-bbaf-409329b17bf4",
   "metadata": {},
   "outputs": [],
   "source": [
    "max_wickets = matchdf.loc[matchdf['result_margin'].idxmax()]"
   ]
  },
  {
   "cell_type": "code",
   "execution_count": 19,
   "id": "f03e79d8-91f3-40ca-a636-d788a69f8690",
   "metadata": {},
   "outputs": [
    {
     "name": "stdout",
     "output_type": "stream",
     "text": [
      "The team that won by the maximum number of wickets is : Mumbai Indians\n"
     ]
    }
   ],
   "source": [
    "team = max_wickets['winner']\n",
    "print(\"The team that won by the maximum number of wickets is :\", team)"
   ]
  },
  {
   "cell_type": "markdown",
   "id": "ee725ce5-2441-4b28-94f1-5e192ad01fbf",
   "metadata": {},
   "source": [
    "#### team won by minimum wickets"
   ]
  },
  {
   "cell_type": "code",
   "execution_count": 20,
   "id": "15c763e1-475a-4696-bc9e-d1e7497dc72b",
   "metadata": {},
   "outputs": [],
   "source": [
    "min_wickets = matchdf.loc[matchdf['result_margin'].idxmin()]"
   ]
  },
  {
   "cell_type": "code",
   "execution_count": 21,
   "id": "5f34e1c4-d972-4127-8b0a-3eea2ea83d45",
   "metadata": {},
   "outputs": [
    {
     "name": "stdout",
     "output_type": "stream",
     "text": [
      "The team that won by the minimum number of wickets is : Kings XI Punjab\n"
     ]
    }
   ],
   "source": [
    "team = min_wickets['winner']\n",
    "print(\"The team that won by the minimum number of wickets is :\", team)"
   ]
  },
  {
   "cell_type": "markdown",
   "id": "8d56c5ec-6413-42da-8202-3808763d1a63",
   "metadata": {},
   "source": [
    "#### most successful team"
   ]
  },
  {
   "cell_type": "code",
   "execution_count": 24,
   "id": "faea7039-4a31-4b6f-bcd3-f5d6409059d7",
   "metadata": {},
   "outputs": [],
   "source": [
    "team_wins = matchdf['winner'].value_counts()"
   ]
  },
  {
   "cell_type": "code",
   "execution_count": 25,
   "id": "78a6b0d3-adb4-4b6d-a7f3-d2a9bbf44084",
   "metadata": {},
   "outputs": [
    {
     "name": "stdout",
     "output_type": "stream",
     "text": [
      "The most successful team is : Mumbai Indians\n"
     ]
    }
   ],
   "source": [
    "most_successful_team = team_wins.idxmax()\n",
    "print(\"The most successful team is :\", most_successful_team)"
   ]
  },
  {
   "cell_type": "markdown",
   "id": "f30fb9d1-9b37-4f63-9713-4f95eb17a55a",
   "metadata": {},
   "source": [
    "#### most successful player"
   ]
  },
  {
   "cell_type": "code",
   "execution_count": 26,
   "id": "5e83aa3b-e6af-47c1-8d45-fe3f3da6d5e8",
   "metadata": {},
   "outputs": [],
   "source": [
    "player_of_match_counts = matchdf['player_of_match'].value_counts()"
   ]
  },
  {
   "cell_type": "code",
   "execution_count": 27,
   "id": "63d2bd93-a720-4375-9c92-45e9a55765fb",
   "metadata": {},
   "outputs": [
    {
     "name": "stdout",
     "output_type": "stream",
     "text": [
      "The most successful player is : AB de Villiers\n"
     ]
    }
   ],
   "source": [
    "most_successful_player = player_of_match_counts.idxmax()\n",
    "print(\"The most successful player is :\", most_successful_player)"
   ]
  },
  {
   "cell_type": "markdown",
   "id": "0dcef83f-77e4-45ff-a5f0-1657a30c8631",
   "metadata": {},
   "source": [
    "#### %ge of winner if they also won the toss"
   ]
  },
  {
   "cell_type": "code",
   "execution_count": 28,
   "id": "cba9cb2f-0860-49f1-811b-03d03eb2178d",
   "metadata": {},
   "outputs": [],
   "source": [
    "total_matches = len(matchdf)"
   ]
  },
  {
   "cell_type": "code",
   "execution_count": 31,
   "id": "458b8f40-65e8-4836-9327-dbb7f881a2ac",
   "metadata": {},
   "outputs": [],
   "source": [
    "won_by_toss = matchdf[matchdf['toss_winner'] == matchdf['winner']]"
   ]
  },
  {
   "cell_type": "code",
   "execution_count": 32,
   "id": "adc5df21-fa98-4bbc-93a9-0b5f8415b3f5",
   "metadata": {},
   "outputs": [],
   "source": [
    "total_won_by_toss = len(won_by_toss)"
   ]
  },
  {
   "cell_type": "code",
   "execution_count": 33,
   "id": "a6d79944-9fa4-498f-be2d-51bf813890f8",
   "metadata": {},
   "outputs": [
    {
     "name": "stdout",
     "output_type": "stream",
     "text": [
      "The percentage of matches won by the toss winner is : 51.225490196078425\n"
     ]
    }
   ],
   "source": [
    "percentage = (total_won_by_toss / total_matches) * 100\n",
    "print(\"The percentage of matches won by the toss winner is :\", percentage)"
   ]
  },
  {
   "cell_type": "markdown",
   "id": "9c803631-b705-46f5-96f0-77f96db4af22",
   "metadata": {},
   "source": [
    "#### %ge of winner if did batting first"
   ]
  },
  {
   "cell_type": "code",
   "execution_count": 34,
   "id": "f1577678-65d7-4b95-b6ab-862af48331c2",
   "metadata": {},
   "outputs": [],
   "source": [
    "total_matches = len(matchdf)"
   ]
  },
  {
   "cell_type": "code",
   "execution_count": 38,
   "id": "7c3bfb6a-c4ae-42bb-bd6c-7f38df3d7933",
   "metadata": {},
   "outputs": [
    {
     "name": "stderr",
     "output_type": "stream",
     "text": [
      "C:\\Users\\91942\\AppData\\Local\\Temp\\ipykernel_11484\\3834431319.py:1: UserWarning: Boolean Series key will be reindexed to match DataFrame index.\n",
      "  won_by_batting = matchdf[matchdf['toss_decision'] == 'bat'][matchdf['team1'] == matchdf['winner']]\n"
     ]
    }
   ],
   "source": [
    "won_by_batting = matchdf[matchdf['toss_decision'] == 'bat'][matchdf['team1'] == matchdf['winner']]"
   ]
  },
  {
   "cell_type": "code",
   "execution_count": 44,
   "id": "a2190996-867a-4e6d-ae5b-462a59aaeea9",
   "metadata": {},
   "outputs": [],
   "source": [
    "total_won_by_batting = len(won_by_batting)"
   ]
  },
  {
   "cell_type": "code",
   "execution_count": 45,
   "id": "477681e1-ea38-44d6-8c98-1437c1385d8e",
   "metadata": {},
   "outputs": [
    {
     "name": "stdout",
     "output_type": "stream",
     "text": [
      "The percentage of matches won by the team batting first is : 22.916666666666664\n"
     ]
    }
   ],
   "source": [
    "percentage = (total_won_by_batting / total_matches) * 100\n",
    "print(\"The percentage of matches won by the team batting first is :\", percentage)"
   ]
  },
  {
   "cell_type": "markdown",
   "id": "6de484d5-3993-4e76-99f4-ddf546cf9e7c",
   "metadata": {},
   "source": [
    "#### %ge of winner if did bowling first"
   ]
  },
  {
   "cell_type": "code",
   "execution_count": 4,
   "id": "4a2a37d9-2cb6-4d79-91a4-90c17150d4ad",
   "metadata": {},
   "outputs": [],
   "source": [
    "total_matches = len(matchdf)"
   ]
  },
  {
   "cell_type": "code",
   "execution_count": 5,
   "id": "df5a453e-4d59-4899-a876-c70b80b389c2",
   "metadata": {},
   "outputs": [
    {
     "name": "stderr",
     "output_type": "stream",
     "text": [
      "C:\\Users\\91942\\AppData\\Local\\Temp\\ipykernel_10344\\271668222.py:1: UserWarning: Boolean Series key will be reindexed to match DataFrame index.\n",
      "  won_by_bowling = matchdf[matchdf['toss_decision'] == 'field'][matchdf['team2'] == matchdf['winner']]\n"
     ]
    }
   ],
   "source": [
    "won_by_bowling = matchdf[matchdf['toss_decision'] == 'field'][matchdf['team2'] == matchdf['winner']]"
   ]
  },
  {
   "cell_type": "code",
   "execution_count": 6,
   "id": "813f57ed-f336-4397-aca7-2a384507d63d",
   "metadata": {},
   "outputs": [],
   "source": [
    "total_won_by_bowling = len(won_by_bowling)"
   ]
  },
  {
   "cell_type": "code",
   "execution_count": 7,
   "id": "9faa6dd4-2fa2-4c1d-a203-15fe87d0a5ff",
   "metadata": {},
   "outputs": [
    {
     "name": "stdout",
     "output_type": "stream",
     "text": [
      "The percentage of matches won by the team bowling first is : 28.799019607843135\n"
     ]
    }
   ],
   "source": [
    "percentage_won_by_bowling_first = (total_won_by_bowling / total_matches) * 100\n",
    "print(\"The percentage of matches won by the team bowling first is :\", percentage_won_by_bowling_first)"
   ]
  },
  {
   "cell_type": "markdown",
   "id": "9f1d4a66-7e61-4f16-a606-7ccdfb2dec78",
   "metadata": {},
   "source": [
    "#### findout the null value from dataframe and replaced with apropriate value"
   ]
  },
  {
   "cell_type": "code",
   "execution_count": 27,
   "id": "702972b4-f91d-42de-ad6d-67701bf5a009",
   "metadata": {},
   "outputs": [
    {
     "data": {
      "text/plain": [
       "id                   0\n",
       "city                13\n",
       "date                 0\n",
       "player_of_match      4\n",
       "venue                0\n",
       "neutral_venue        0\n",
       "team1                0\n",
       "team2                0\n",
       "toss_winner          0\n",
       "toss_decision        0\n",
       "winner               4\n",
       "result               4\n",
       "result_margin       17\n",
       "eliminator           4\n",
       "method             797\n",
       "umpire1              0\n",
       "umpire2              0\n",
       "dtype: int64"
      ]
     },
     "execution_count": 27,
     "metadata": {},
     "output_type": "execute_result"
    }
   ],
   "source": [
    "matchdf.isnull().sum()"
   ]
  },
  {
   "cell_type": "code",
   "execution_count": 28,
   "id": "9a41a432-0203-4c8b-9fcb-164a373f5382",
   "metadata": {},
   "outputs": [],
   "source": [
    "matchdf_mode = matchdf['city'].mode().iloc[0]"
   ]
  },
  {
   "cell_type": "code",
   "execution_count": 29,
   "id": "98c5b209-e02e-4b81-bbb9-236e8a6ab800",
   "metadata": {},
   "outputs": [
    {
     "data": {
      "text/plain": [
       "'Mumbai'"
      ]
     },
     "execution_count": 29,
     "metadata": {},
     "output_type": "execute_result"
    }
   ],
   "source": [
    "matchdf_mode"
   ]
  },
  {
   "cell_type": "code",
   "execution_count": 33,
   "id": "45dfabad",
   "metadata": {},
   "outputs": [],
   "source": [
    "matchdf[\"city\"] = matchdf['city'].fillna(matchdf_mode)"
   ]
  },
  {
   "cell_type": "code",
   "execution_count": 34,
   "id": "42ff3f67-3606-4f29-a569-798f15ae2109",
   "metadata": {},
   "outputs": [
    {
     "data": {
      "text/plain": [
       "id                   0\n",
       "city                 0\n",
       "date                 0\n",
       "player_of_match      4\n",
       "venue                0\n",
       "neutral_venue        0\n",
       "team1                0\n",
       "team2                0\n",
       "toss_winner          0\n",
       "toss_decision        0\n",
       "winner               4\n",
       "result               4\n",
       "result_margin       17\n",
       "eliminator           4\n",
       "method             797\n",
       "umpire1              0\n",
       "umpire2              0\n",
       "dtype: int64"
      ]
     },
     "execution_count": 34,
     "metadata": {},
     "output_type": "execute_result"
    }
   ],
   "source": [
    "matchdf.isnull().sum()"
   ]
  },
  {
   "cell_type": "code",
   "execution_count": 40,
   "id": "a3feb738",
   "metadata": {},
   "outputs": [],
   "source": [
    "matchdf_mode = matchdf['player_of_match'].mode().iloc[0]"
   ]
  },
  {
   "cell_type": "code",
   "execution_count": 41,
   "id": "38518799",
   "metadata": {},
   "outputs": [
    {
     "data": {
      "text/plain": [
       "'AB de Villiers'"
      ]
     },
     "execution_count": 41,
     "metadata": {},
     "output_type": "execute_result"
    }
   ],
   "source": [
    "matchdf_mode"
   ]
  },
  {
   "cell_type": "code",
   "execution_count": 42,
   "id": "bd429554-1a39-4d9c-a9c7-b23f6745a8a9",
   "metadata": {},
   "outputs": [],
   "source": [
    "matchdf[\"player_of_match\"] = matchdf['player_of_match'].fillna(matchdf_mode)"
   ]
  },
  {
   "cell_type": "code",
   "execution_count": 43,
   "id": "08feb35a-4b21-41ef-bd53-d4859fc5aa0e",
   "metadata": {},
   "outputs": [
    {
     "data": {
      "text/plain": [
       "id                   0\n",
       "city                 0\n",
       "date                 0\n",
       "player_of_match      0\n",
       "venue                0\n",
       "neutral_venue        0\n",
       "team1                0\n",
       "team2                0\n",
       "toss_winner          0\n",
       "toss_decision        0\n",
       "winner               4\n",
       "result               4\n",
       "result_margin       17\n",
       "eliminator           4\n",
       "method             797\n",
       "umpire1              0\n",
       "umpire2              0\n",
       "dtype: int64"
      ]
     },
     "execution_count": 43,
     "metadata": {},
     "output_type": "execute_result"
    }
   ],
   "source": [
    "matchdf.isnull().sum()"
   ]
  },
  {
   "cell_type": "code",
   "execution_count": 44,
   "id": "ee47ea51",
   "metadata": {},
   "outputs": [],
   "source": [
    "matchdf_mode = matchdf['winner'].mode().iloc[0]"
   ]
  },
  {
   "cell_type": "code",
   "execution_count": 45,
   "id": "488a880f",
   "metadata": {},
   "outputs": [
    {
     "data": {
      "text/plain": [
       "'Mumbai Indians'"
      ]
     },
     "execution_count": 45,
     "metadata": {},
     "output_type": "execute_result"
    }
   ],
   "source": [
    "matchdf_mode"
   ]
  },
  {
   "cell_type": "code",
   "execution_count": 46,
   "id": "ad09da72",
   "metadata": {},
   "outputs": [],
   "source": [
    "matchdf[\"winner\"] = matchdf['winner'].fillna(matchdf_mode)"
   ]
  },
  {
   "cell_type": "code",
   "execution_count": 47,
   "id": "1e516fe4-7bcd-41fb-94c2-52454649d9a6",
   "metadata": {},
   "outputs": [
    {
     "data": {
      "text/plain": [
       "id                   0\n",
       "city                 0\n",
       "date                 0\n",
       "player_of_match      0\n",
       "venue                0\n",
       "neutral_venue        0\n",
       "team1                0\n",
       "team2                0\n",
       "toss_winner          0\n",
       "toss_decision        0\n",
       "winner               0\n",
       "result               4\n",
       "result_margin       17\n",
       "eliminator           4\n",
       "method             797\n",
       "umpire1              0\n",
       "umpire2              0\n",
       "dtype: int64"
      ]
     },
     "execution_count": 47,
     "metadata": {},
     "output_type": "execute_result"
    }
   ],
   "source": [
    "matchdf.isnull().sum()"
   ]
  },
  {
   "cell_type": "code",
   "execution_count": 49,
   "id": "7d301906-8f7a-4853-9c4b-bdf966209884",
   "metadata": {},
   "outputs": [],
   "source": [
    "matchdf_mode = matchdf['winner'].mode().iloc[0]"
   ]
  },
  {
   "cell_type": "code",
   "execution_count": 50,
   "id": "d9aa0359-fc0c-42cf-a1d4-b3d78474b3b1",
   "metadata": {},
   "outputs": [
    {
     "data": {
      "text/plain": [
       "'Mumbai Indians'"
      ]
     },
     "execution_count": 50,
     "metadata": {},
     "output_type": "execute_result"
    }
   ],
   "source": [
    "matchdf_mode"
   ]
  },
  {
   "cell_type": "code",
   "execution_count": 53,
   "id": "a3689247-323f-4063-80ab-b2fedcb90b1c",
   "metadata": {},
   "outputs": [],
   "source": [
    "matchdf[\"winner\"] = matchdf['winner'].fillna(matchdf_mode)"
   ]
  },
  {
   "cell_type": "code",
   "execution_count": 54,
   "id": "b7c438a1-20f4-452f-83fc-a7a747d22d2a",
   "metadata": {},
   "outputs": [
    {
     "data": {
      "text/plain": [
       "id                   0\n",
       "city                 0\n",
       "date                 0\n",
       "player_of_match      0\n",
       "venue                0\n",
       "neutral_venue        0\n",
       "team1                0\n",
       "team2                0\n",
       "toss_winner          0\n",
       "toss_decision        0\n",
       "winner               0\n",
       "result               4\n",
       "result_margin       17\n",
       "eliminator           4\n",
       "method             797\n",
       "umpire1              0\n",
       "umpire2              0\n",
       "dtype: int64"
      ]
     },
     "execution_count": 54,
     "metadata": {},
     "output_type": "execute_result"
    }
   ],
   "source": [
    "matchdf.isnull().sum()"
   ]
  },
  {
   "cell_type": "code",
   "execution_count": 55,
   "id": "5b658d0b-1627-4664-80f8-8fdde2dde341",
   "metadata": {},
   "outputs": [],
   "source": [
    "matchdf_mode = matchdf['result'].mode().iloc[0]"
   ]
  },
  {
   "cell_type": "code",
   "execution_count": 56,
   "id": "1c1e2606-c970-44f2-8535-013ca82415d6",
   "metadata": {},
   "outputs": [
    {
     "data": {
      "text/plain": [
       "'wickets'"
      ]
     },
     "execution_count": 56,
     "metadata": {},
     "output_type": "execute_result"
    }
   ],
   "source": [
    "matchdf_mode"
   ]
  },
  {
   "cell_type": "code",
   "execution_count": 57,
   "id": "5fc6b1ca-405e-4c66-b517-ad8d24e3b8f8",
   "metadata": {},
   "outputs": [],
   "source": [
    "matchdf[\"result\"] = matchdf['result'].fillna(matchdf_mode)"
   ]
  },
  {
   "cell_type": "code",
   "execution_count": 58,
   "id": "5f7d9178-2eeb-40c3-8393-5bf68638803f",
   "metadata": {},
   "outputs": [
    {
     "data": {
      "text/plain": [
       "id                   0\n",
       "city                 0\n",
       "date                 0\n",
       "player_of_match      0\n",
       "venue                0\n",
       "neutral_venue        0\n",
       "team1                0\n",
       "team2                0\n",
       "toss_winner          0\n",
       "toss_decision        0\n",
       "winner               0\n",
       "result               0\n",
       "result_margin       17\n",
       "eliminator           4\n",
       "method             797\n",
       "umpire1              0\n",
       "umpire2              0\n",
       "dtype: int64"
      ]
     },
     "execution_count": 58,
     "metadata": {},
     "output_type": "execute_result"
    }
   ],
   "source": [
    "matchdf.isnull().sum()"
   ]
  },
  {
   "cell_type": "code",
   "execution_count": 66,
   "id": "a0ab8b92-75a5-4b11-9a3b-5db9db1b210a",
   "metadata": {},
   "outputs": [],
   "source": [
    "matchdf[\"result_margin\"] = matchdf['result_margin'].fillna(matchdf[\"result_margin\"].mean())"
   ]
  },
  {
   "cell_type": "code",
   "execution_count": 67,
   "id": "44f44a45-d6bd-4ac4-b31e-ede889e4a34d",
   "metadata": {},
   "outputs": [
    {
     "data": {
      "text/plain": [
       "id                   0\n",
       "city                 0\n",
       "date                 0\n",
       "player_of_match      0\n",
       "venue                0\n",
       "neutral_venue        0\n",
       "team1                0\n",
       "team2                0\n",
       "toss_winner          0\n",
       "toss_decision        0\n",
       "winner               0\n",
       "result               0\n",
       "result_margin        0\n",
       "eliminator           0\n",
       "method             797\n",
       "umpire1              0\n",
       "umpire2              0\n",
       "dtype: int64"
      ]
     },
     "execution_count": 67,
     "metadata": {},
     "output_type": "execute_result"
    }
   ],
   "source": [
    "matchdf.isnull().sum()"
   ]
  },
  {
   "cell_type": "code",
   "execution_count": 59,
   "id": "d7987dce-dc7b-43cf-8d3f-6a86cfa4d928",
   "metadata": {},
   "outputs": [],
   "source": [
    "matchdf_mode = matchdf['eliminator'].mode().iloc[0]"
   ]
  },
  {
   "cell_type": "code",
   "execution_count": 60,
   "id": "b17cd7c2-37dd-4020-b8ac-3c686ed5cfbe",
   "metadata": {},
   "outputs": [
    {
     "data": {
      "text/plain": [
       "'N'"
      ]
     },
     "execution_count": 60,
     "metadata": {},
     "output_type": "execute_result"
    }
   ],
   "source": [
    "matchdf_mode"
   ]
  },
  {
   "cell_type": "code",
   "execution_count": 61,
   "id": "9cc65e98-c6fd-46a1-9592-bb58c0336602",
   "metadata": {},
   "outputs": [],
   "source": [
    "matchdf[\"eliminator\"] = matchdf['eliminator'].fillna(matchdf_mode)"
   ]
  },
  {
   "cell_type": "code",
   "execution_count": 62,
   "id": "214c9563-a87e-4ab0-8a72-0b25bbba1d97",
   "metadata": {},
   "outputs": [
    {
     "data": {
      "text/plain": [
       "id                   0\n",
       "city                 0\n",
       "date                 0\n",
       "player_of_match      0\n",
       "venue                0\n",
       "neutral_venue        0\n",
       "team1                0\n",
       "team2                0\n",
       "toss_winner          0\n",
       "toss_decision        0\n",
       "winner               0\n",
       "result               0\n",
       "result_margin       17\n",
       "eliminator           0\n",
       "method             797\n",
       "umpire1              0\n",
       "umpire2              0\n",
       "dtype: int64"
      ]
     },
     "execution_count": 62,
     "metadata": {},
     "output_type": "execute_result"
    }
   ],
   "source": [
    "matchdf.isnull().sum()"
   ]
  },
  {
   "cell_type": "code",
   "execution_count": 70,
   "id": "68e617a6-899e-440a-bfc4-7f1c52642ec0",
   "metadata": {},
   "outputs": [],
   "source": [
    "matchdf = matchdf.dropna()"
   ]
  },
  {
   "cell_type": "code",
   "execution_count": 71,
   "id": "b4fe3fb6-f84c-43da-8cfb-193e8698aea2",
   "metadata": {},
   "outputs": [
    {
     "data": {
      "text/plain": [
       "id                 0\n",
       "city               0\n",
       "date               0\n",
       "player_of_match    0\n",
       "venue              0\n",
       "neutral_venue      0\n",
       "team1              0\n",
       "team2              0\n",
       "toss_winner        0\n",
       "toss_decision      0\n",
       "winner             0\n",
       "result             0\n",
       "result_margin      0\n",
       "eliminator         0\n",
       "method             0\n",
       "umpire1            0\n",
       "umpire2            0\n",
       "dtype: int64"
      ]
     },
     "execution_count": 71,
     "metadata": {},
     "output_type": "execute_result"
    }
   ],
   "source": [
    "matchdf.isnull().sum()"
   ]
  }
 ],
 "metadata": {
  "kernelspec": {
   "display_name": "Python 3 (ipykernel)",
   "language": "python",
   "name": "python3"
  },
  "language_info": {
   "codemirror_mode": {
    "name": "ipython",
    "version": 3
   },
   "file_extension": ".py",
   "mimetype": "text/x-python",
   "name": "python",
   "nbconvert_exporter": "python",
   "pygments_lexer": "ipython3",
   "version": "3.10.7"
  }
 },
 "nbformat": 4,
 "nbformat_minor": 5
}
