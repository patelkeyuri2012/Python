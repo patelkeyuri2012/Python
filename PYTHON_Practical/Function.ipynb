{
 "cells": [
  {
   "cell_type": "markdown",
   "id": "4069989a-3076-4d2a-8a2e-1f4a956a16f6",
   "metadata": {},
   "source": [
    "## Function"
   ]
  },
  {
   "cell_type": "markdown",
   "id": "856e2bc8-0b0b-4764-9d3d-058bfa1f4ebd",
   "metadata": {},
   "source": [
    "- It is a block of statements that return the specific task\n",
    "- It helps break our program into smaller modular\n",
    "- It used for one task for multiple time\n",
    "- It do avoid repetition and makes the code reusable"
   ]
  },
  {
   "cell_type": "markdown",
   "id": "9ec39b8e-7877-47c2-acc2-3ef074e7ce99",
   "metadata": {},
   "source": [
    "#### synatx :\n",
    "- __def function_name (parameter): <br>\n",
    "  &emsp;&emsp; \"\"\"doctring\"\"\" <br>\n",
    "  &emsp;&emsp; function block__\n",
    "\n",
    "  def : keyword to define function <br>\n",
    "  function_name : function name for perform specific task <br>\n",
    "  (parameter) : that contains n number of arguments or parameters <br>"
   ]
  },
  {
   "cell_type": "markdown",
   "id": "44a5b743-1e93-4b52-b272-6fdd0b119e1d",
   "metadata": {},
   "source": [
    "##### Types of Functions"
   ]
  },
  {
   "cell_type": "markdown",
   "id": "af5cfc37-f37f-4013-9be2-dd18422d736f",
   "metadata": {},
   "source": [
    "- Build-In function : pre-defined functions in python"
   ]
  },
  {
   "cell_type": "code",
   "execution_count": 1,
   "id": "3167396f-fe6e-47c3-8912-3540a605376b",
   "metadata": {},
   "outputs": [
    {
     "name": "stdout",
     "output_type": "stream",
     "text": [
      "Build-In function : \n",
      "print message, variable : [32, 12, 23, 37, 15]\n",
      "max number is : 37\n",
      "min number is : 12\n"
     ]
    }
   ],
   "source": [
    "a = [32, 12, 23, 37, 15]\n",
    "print(\"Build-In function : \")\n",
    "print(\"print message, variable :\",a)\n",
    "print(\"max number is :\",max(a))\n",
    "print(\"min number is :\",min(a))"
   ]
  },
  {
   "cell_type": "markdown",
   "id": "9cc0307f-4292-49ed-9701-dc37a690038c",
   "metadata": {},
   "source": [
    "- User-Defined function : defined by the user to perform a specific task"
   ]
  },
  {
   "cell_type": "code",
   "execution_count": 2,
   "id": "b71e519c-7d46-4e47-8676-accf530209d1",
   "metadata": {},
   "outputs": [
    {
     "name": "stdout",
     "output_type": "stream",
     "text": [
      "Use-Define function : \n",
      "max number is : 16\n",
      "min number is : 14\n"
     ]
    }
   ],
   "source": [
    "def max_no(a,b):\n",
    "    print(a) if a > b else print(b)\n",
    "def min_no(a,b):\n",
    "    print(a) if a < b else print(b)\n",
    "\n",
    "print(\"Use-Define function : \")\n",
    "print(\"max number is :\", end = ' ')\n",
    "max_no(16,14)\n",
    "print(\"min number is :\", end = ' ')\n",
    "min_no(16,14)"
   ]
  },
  {
   "cell_type": "markdown",
   "id": "e0e0746e-8d9e-46c7-aaae-48da724621e7",
   "metadata": {},
   "source": [
    "##### Documentation of function : docstrings\n",
    "- docstring is a string used to document of function\n",
    "- Using __\"\"\". . . . . . . . .\"\"\"__ create document of function\n",
    "- Using __print(function_name.ˍˍdocˍˍ)__ read document of that function"
   ]
  },
  {
   "cell_type": "markdown",
   "id": "d4e281fa-910b-43be-a239-3f570efbe18f",
   "metadata": {},
   "source": [
    "##### Zero Parameter Function\n",
    "- A function that has no arguments is called a zero argument function\n",
    "- Mainly zero argument function not return any value\n",
    "- It is used for print any message"
   ]
  },
  {
   "cell_type": "code",
   "execution_count": 7,
   "id": "94eb68a9-0e6a-4481-9370-dc497a786b0a",
   "metadata": {},
   "outputs": [
    {
     "name": "stdout",
     "output_type": "stream",
     "text": [
      "Memoey location of my_add() : <function my_add at 0x000002961B2DDB40>\n",
      "\n",
      "My address is :\n",
      "\tDev Parijat, Behind Gorbandh Hotel, Vaishnovdevi Circle, Ahmedabad - 382421\n",
      "\n",
      "Documentation of my_add() : \t \n",
      "    This Function has no arguments so it's called zero argument function\n",
      "    It is created for print the address\n",
      "    It is declare as : my_add()\n",
      "    \n"
     ]
    }
   ],
   "source": [
    "def my_add():\n",
    "    \"\"\"\n",
    "    This Function has no arguments so it's called zero argument function\n",
    "    It is created for print the address\n",
    "    It is declare as : my_add()\n",
    "    \"\"\"\n",
    "    print(\"\\tDev Parijat, Behind Gorbandh Hotel, Vaishnovdevi Circle, Ahmedabad - 382421\")\n",
    "\n",
    "print(\"Memoey location of my_add() :\",my_add)\n",
    "print(\"\\nMy address is :\")\n",
    "my_add()\n",
    "#print(\"My address is :\",my_add())\n",
    "print(\"\\nDocumentation of my_add() : \\t\", my_add.__doc__)"
   ]
  },
  {
   "cell_type": "markdown",
   "id": "fb4cc14d-a4b3-4efd-afc3-39d70ffc2105",
   "metadata": {},
   "source": [
    "##### Parameter Function\n",
    "- A function that have arguments is called a parameter function\n",
    "- Mainly parameter function returns a value\n",
    "- It is mainly used for calculation"
   ]
  },
  {
   "cell_type": "code",
   "execution_count": 4,
   "id": "86f2308f-95ac-4abb-bc7d-bc07a4531598",
   "metadata": {},
   "outputs": [
    {
     "name": "stdout",
     "output_type": "stream",
     "text": [
      "sum of a and b is : 10\n",
      "sum of a and b is : 25\n",
      "\n",
      "Memory location of sum_no() : <function sum_no at 0x0000019D30CC1E10>\n",
      "\n",
      "Documentation of sum_no() : \t \n",
      "    This function have two parameter, both parameter are numeric\n",
      "    It created for find sum of two numbers\n",
      "    It is declare as : sum_no(arg1, arg2)\n",
      "    \n"
     ]
    }
   ],
   "source": [
    "def sum_no(a,b):\n",
    "    \"\"\"\n",
    "    This function have two parameter, both parameter are numeric\n",
    "    It created for find sum of two numbers\n",
    "    It is declare as : sum_no(arg1, arg2)\n",
    "    \"\"\"\n",
    "    c = a + b\n",
    "    return c\n",
    "\n",
    "a = 10\n",
    "b = 15\n",
    "print(\"sum of a and b is :\",sum_no(6,4))\n",
    "print(\"sum of a and b is :\",sum_no(a,b))\n",
    "print(\"\\nMemory location of sum_no() :\",sum_no)\n",
    "print(\"\\nDocumentation of sum_no() : \\t\", sum_no.__doc__)"
   ]
  },
  {
   "cell_type": "markdown",
   "id": "8d47f1a8-ef15-486c-858a-41c04cefc7f5",
   "metadata": {},
   "source": [
    "##### Rules for declare function\n",
    "- not allow space\n",
    "- not allow pre-define functions\n",
    "- start with def keyword\n",
    "- () contain parameter of functions\n",
    "- end with ':', that is begin of block \n",
    "- name of function is must be unique\n",
    "- argument pass by value or pass by reference\n",
    "- return statement or return value occurs once in the function, that is declared at the end of the function\n",
    "- during a function call, the size of parameters are must be same as declared parameter at creating function"
   ]
  },
  {
   "cell_type": "markdown",
   "id": "f2f7f0bf-82d2-4486-97c2-f003f25d2c0b",
   "metadata": {},
   "source": [
    "- Function called by their name\n",
    "- Function may have parameters or may not parameter\n",
    "- Function may have return value or may not return value"
   ]
  },
  {
   "cell_type": "markdown",
   "id": "be5db37e-6d83-4b43-9af1-9af2ca711245",
   "metadata": {},
   "source": [
    "#### ASSIGNMENT"
   ]
  },
  {
   "cell_type": "markdown",
   "id": "d6a92857-c2ea-40b7-92b9-e50ae35a5f84",
   "metadata": {},
   "source": [
    "##### function for addition of two numbers"
   ]
  },
  {
   "cell_type": "code",
   "execution_count": 5,
   "id": "4bf37646-243b-4503-a908-c39d1171cc6a",
   "metadata": {},
   "outputs": [
    {
     "name": "stdin",
     "output_type": "stream",
     "text": [
      "Enter first number : 5\n",
      "Enter second number : 6\n"
     ]
    },
    {
     "name": "stdout",
     "output_type": "stream",
     "text": [
      "\n",
      "Addition of both number is : 11\n"
     ]
    }
   ],
   "source": [
    "def add_no(a, b):\n",
    "    if(a<0) or (b<0):\n",
    "        k = print(\"\\nPlease enter only postive and valid numbers for addition\")\n",
    "    else:\n",
    "        k = (a+b)\n",
    "    return(k)\n",
    "    \n",
    "a = int(input(\"Enter first number :\"))\n",
    "b = int(input(\"Enter second number :\"))\n",
    "addno = add_no(a, b)\n",
    "print(\"\\nAddition of both number is :\",addno)"
   ]
  },
  {
   "cell_type": "markdown",
   "id": "8d71bb43-93d3-41ed-a0e7-ebad7b2459f4",
   "metadata": {},
   "source": [
    "##### function for substraction of two numbers"
   ]
  },
  {
   "cell_type": "code",
   "execution_count": 6,
   "id": "89162790-4700-49dc-a562-e2a442ccd5d1",
   "metadata": {},
   "outputs": [
    {
     "name": "stdin",
     "output_type": "stream",
     "text": [
      "Enter first number : 6\n",
      "Enter second number : 3\n"
     ]
    },
    {
     "name": "stdout",
     "output_type": "stream",
     "text": [
      "\n",
      "Substraction of both number is : 3\n"
     ]
    }
   ],
   "source": [
    "def sub_no(a, b):\n",
    "    if(b>a or a<0 or b<0):\n",
    "        k = print(\"\\nPlease enter only postive and valid numbers for substraction\")\n",
    "    else:\n",
    "        k = (a-b)\n",
    "    return(k)\n",
    "    \n",
    "a = int(input(\"Enter first number :\"))\n",
    "b = int(input(\"Enter second number :\"))\n",
    "subno = sub_no(a, b)\n",
    "print(\"\\nSubstraction of both number is :\",subno)"
   ]
  },
  {
   "cell_type": "markdown",
   "id": "62397f55-f064-407a-ad40-944e8366dd98",
   "metadata": {},
   "source": [
    "##### function for multiplication of two numbers"
   ]
  },
  {
   "cell_type": "code",
   "execution_count": 7,
   "id": "3d238448-9047-4cd6-be71-9f7b639d8983",
   "metadata": {},
   "outputs": [
    {
     "name": "stdin",
     "output_type": "stream",
     "text": [
      "Enter first number : 4\n",
      "Enter second number : 5\n"
     ]
    },
    {
     "name": "stdout",
     "output_type": "stream",
     "text": [
      "\n",
      "Multiplication of both number is : 20\n"
     ]
    }
   ],
   "source": [
    "def mul_no(a, b):\n",
    "    if(a<=0) or (b<=0):\n",
    "        k = print(\"\\nPlease enter only postive and valid numbers for multiplication\")\n",
    "    else:\n",
    "        k = (a*b)\n",
    "    return(k)\n",
    "    \n",
    "a = int(input(\"Enter first number :\"))\n",
    "b = int(input(\"Enter second number :\"))\n",
    "mulno = mul_no(a, b)\n",
    "print(\"\\nMultiplication of both number is :\",mulno)"
   ]
  },
  {
   "cell_type": "markdown",
   "id": "f4f42a52-890a-45e8-a62b-f7eccef8064c",
   "metadata": {},
   "source": [
    "##### function for division of two numbers"
   ]
  },
  {
   "cell_type": "code",
   "execution_count": 8,
   "id": "5c585f0c-4802-4e07-8de2-3fe3589e74ae",
   "metadata": {},
   "outputs": [
    {
     "name": "stdin",
     "output_type": "stream",
     "text": [
      "Enter first number : 6\n",
      "Enter second number : 2\n"
     ]
    },
    {
     "name": "stdout",
     "output_type": "stream",
     "text": [
      "\n",
      "Division of both number is : 3.0\n"
     ]
    }
   ],
   "source": [
    "def div_no(a, b):\n",
    "    if(b>a or a<=0 or b<=0):\n",
    "        k = print(\"\\nPlease enter only positive and valid numbers for division\")\n",
    "    else:\n",
    "        k = (a/b)\n",
    "    return(k)\n",
    "    \n",
    "a = int(input(\"Enter first number :\"))\n",
    "b = int(input(\"Enter second number :\"))\n",
    "divno = div_no(a, b)\n",
    "print(\"\\nDivision of both number is :\",divno)"
   ]
  },
  {
   "cell_type": "markdown",
   "id": "ea253394-a492-438c-8096-7a42aa19876a",
   "metadata": {},
   "source": [
    "##### function for check number is odd or not"
   ]
  },
  {
   "cell_type": "code",
   "execution_count": 9,
   "id": "8de29ee0-641d-4407-b1b1-6701d1736141",
   "metadata": {},
   "outputs": [
    {
     "name": "stdin",
     "output_type": "stream",
     "text": [
      "Enter number to check number is odd or not : 4\n"
     ]
    },
    {
     "name": "stdout",
     "output_type": "stream",
     "text": [
      "4  is not an odd number\n"
     ]
    }
   ],
   "source": [
    "def odd_no(a):\n",
    "    if(a%2 != 0):\n",
    "        k = print(a,\" is an odd number\")\n",
    "    else:\n",
    "        k = print(a,\" is not an odd number\")\n",
    "    return (k)\n",
    "\n",
    "a = int(input(\"Enter number to check number is odd or not :\"))\n",
    "odd_no(a)\n",
    "#print(odd_no(a))"
   ]
  },
  {
   "cell_type": "markdown",
   "id": "13a96fb4-2b0f-4398-8143-e2207c5f33e2",
   "metadata": {},
   "source": [
    "##### function for check number is even or not"
   ]
  },
  {
   "cell_type": "code",
   "execution_count": 10,
   "id": "bf9dd313-88e7-4933-96c1-eeb86adbdf02",
   "metadata": {},
   "outputs": [
    {
     "name": "stdin",
     "output_type": "stream",
     "text": [
      "Enter number to check number is even or not : 5\n"
     ]
    },
    {
     "name": "stdout",
     "output_type": "stream",
     "text": [
      "5  is not an even number\n"
     ]
    }
   ],
   "source": [
    "def even_no(a):\n",
    "    if(a%2 == 0):\n",
    "        k = print(a,\" is an even number\")\n",
    "    else:\n",
    "        k = print(a,\" is not an even number\")\n",
    "    return (k)\n",
    "\n",
    "a = int(input(\"Enter number to check number is even or not :\"))\n",
    "even_no(a)\n",
    "#print(even_no(a))"
   ]
  },
  {
   "cell_type": "markdown",
   "id": "1f5b7f82-5423-4da1-95f2-28ea71175b83",
   "metadata": {},
   "source": [
    "##### function for check number is prime or not"
   ]
  },
  {
   "cell_type": "code",
   "execution_count": 11,
   "id": "8c244fa0-d10e-443f-900c-ae55319b05e7",
   "metadata": {},
   "outputs": [
    {
     "name": "stdin",
     "output_type": "stream",
     "text": [
      "Enter number to check number is prime or not : 25\n"
     ]
    },
    {
     "name": "stdout",
     "output_type": "stream",
     "text": [
      "25 is not a prime number\n"
     ]
    }
   ],
   "source": [
    "def prime_no(a):\n",
    "    if a>1:\n",
    "        for i in range(2, int(a/2)+1):\n",
    "            if (a%i == 0):\n",
    "                print(a, \"is not a prime number\")\n",
    "                break\n",
    "        else:\n",
    "            print(a, \"is a prime number\")\n",
    "    else:\n",
    "        print(a, \"is not a prime number\")\n",
    "\n",
    "a = int(input(\"Enter number to check number is prime or not :\"))\n",
    "prime_no(a)"
   ]
  },
  {
   "cell_type": "markdown",
   "id": "3bf7bde0-c15e-451a-82b2-688993e0470d",
   "metadata": {},
   "source": [
    "#### Scope and lifeline of variable"
   ]
  },
  {
   "cell_type": "markdown",
   "id": "7d46edab-d232-4d27-ab91-2c62546cdfb4",
   "metadata": {},
   "source": [
    "##### local variable\n",
    "- Local variables are those that are initialized within a function and are unique to that function\n",
    "- It cannot be accessed outside of the function\n",
    "- The scope of a local variable is the BEGIN ... END block within which it is declared"
   ]
  },
  {
   "cell_type": "code",
   "execution_count": 12,
   "id": "415bc660-9b25-4d97-843e-59fbf0231ac3",
   "metadata": {},
   "outputs": [
    {
     "name": "stdout",
     "output_type": "stream",
     "text": [
      "I am local variable\n"
     ]
    }
   ],
   "source": [
    "def local_var():\n",
    "    local = \"I am local variable\"\n",
    "    print(local)\n",
    "\n",
    "local_var()"
   ]
  },
  {
   "cell_type": "markdown",
   "id": "a4024d5d-4f51-4b70-9b2a-c9f4fc45356f",
   "metadata": {},
   "source": [
    "##### global variable\n",
    "- Global variables are the ones that are defined and declared outside any function and are not specified to any function\n",
    "- A variable that is declared outside of all the functions in a program"
   ]
  },
  {
   "cell_type": "code",
   "execution_count": 13,
   "id": "a0313813-4838-4b01-a4ca-7f5efab0b789",
   "metadata": {},
   "outputs": [
    {
     "name": "stdout",
     "output_type": "stream",
     "text": [
      "I am local variable\n",
      "I am global variable\n"
     ]
    }
   ],
   "source": [
    "globvar = \"I am global variable\"\n",
    "def global_var():\n",
    "    localvar = \"I am local variable\"\n",
    "    print(localvar)\n",
    "    print(globvar)\n",
    "\n",
    "global_var()"
   ]
  },
  {
   "cell_type": "markdown",
   "id": "3233292e-be81-4271-a57e-5d1465ab99bf",
   "metadata": {},
   "source": [
    "- If local and global variables with the same name, it will print the value given inside the function only and not the global value\n",
    "- That means it override the variable's value"
   ]
  },
  {
   "cell_type": "code",
   "execution_count": 14,
   "id": "37e38415-288c-4966-8070-d3b7558a7361",
   "metadata": {},
   "outputs": [
    {
     "name": "stdout",
     "output_type": "stream",
     "text": [
      "I am local variable\n"
     ]
    }
   ],
   "source": [
    "var = \"I am global variable\"\n",
    "def var():\n",
    "    var = \"I am local variable\"\n",
    "    print(var)\n",
    "    \n",
    "var()"
   ]
  },
  {
   "cell_type": "markdown",
   "id": "423afbb2-4366-41eb-bba4-48720fa1fdbb",
   "metadata": {},
   "source": [
    "#### nested function\n",
    "- Functions that you define inside the function\n",
    "- Here, inner() is declared inside the outer(), making it an inner()\n",
    "- Must first call outer() before we can call inner()\n",
    "- The outer() will then call the inner(), which is defined within it."
   ]
  },
  {
   "cell_type": "code",
   "execution_count": 15,
   "id": "9a5e7d65-0da2-4d8b-84dc-7a2a542bffed",
   "metadata": {},
   "outputs": [
    {
     "name": "stdout",
     "output_type": "stream",
     "text": [
      "inner() : I am inner function\n",
      "outer() : I am outer function\n"
     ]
    }
   ],
   "source": [
    "def outer():\n",
    "    x = \"I am outer function\"\n",
    "    def inner():\n",
    "        x = \"I am inner function\"\n",
    "        print(\"inner() :\",x)\n",
    "        x = \"I am nested function\"\n",
    "    inner()\n",
    "    print(\"outer() :\",x)\n",
    "outer()"
   ]
  },
  {
   "cell_type": "markdown",
   "id": "ca96c3a5-fc60-4efc-9e94-ea57e20fad25",
   "metadata": {},
   "source": [
    "##### nonlocal keyword \n",
    "- The nonlocal keyword is used to work with variables inside nested functions, where the variable should not belong to the inner ()"
   ]
  },
  {
   "cell_type": "code",
   "execution_count": 16,
   "id": "f67520f6-e149-443c-b796-c049917cefd5",
   "metadata": {},
   "outputs": [
    {
     "name": "stdout",
     "output_type": "stream",
     "text": [
      "inner() : I am inner function\n",
      "outer() : I am nonlocal keyword\n"
     ]
    }
   ],
   "source": [
    "def outer():\n",
    "    x = \"I am outer function\"\n",
    "    def inner():\n",
    "        nonlocal x\n",
    "        x = \"I am inner function\"\n",
    "        print(\"inner() :\",x)\n",
    "        x = \"I am nonlocal keyword\"\n",
    "    inner()\n",
    "    print(\"outer() :\",x)\n",
    "outer()"
   ]
  },
  {
   "cell_type": "markdown",
   "id": "7e09fa13-e99a-4ce1-8bdf-0beece9a7051",
   "metadata": {},
   "source": [
    "##### global keyword\n",
    "- A global keyword is a keyword that allows a user to modify a variable outside the current scope"
   ]
  },
  {
   "cell_type": "code",
   "execution_count": 17,
   "id": "fd8974f7-e319-4f88-ba11-db31506adc7c",
   "metadata": {},
   "outputs": [
    {
     "name": "stdout",
     "output_type": "stream",
     "text": [
      "I am global variable  GVP\n",
      "I am square of number 25\n",
      "I am global keyword  GVPGVP\n"
     ]
    }
   ],
   "source": [
    "x = \"GVP\"\n",
    "def square(y):\n",
    "    global x\n",
    "    x=x*2\n",
    "    return y*y\n",
    "print(\"I am global variable \",x)\n",
    "print(\"I am square of number\",square(5))\n",
    "print(\"I am global keyword \",x)"
   ]
  },
  {
   "cell_type": "markdown",
   "id": "84a846c9-49c3-4e5c-91fc-7af5e54e1494",
   "metadata": {},
   "source": [
    "#### Arguments"
   ]
  },
  {
   "cell_type": "markdown",
   "id": "99cfc886-2b73-4c28-a2dc-403f7911a7d5",
   "metadata": {},
   "source": [
    "##### default argument\n",
    "- A default argument is a parameter that assumes a default value if a value is not provided in the function call for that argument"
   ]
  },
  {
   "cell_type": "code",
   "execution_count": 18,
   "id": "f5b98acf-a97b-41ce-b01b-6d97d791587c",
   "metadata": {},
   "outputs": [
    {
     "name": "stdout",
     "output_type": "stream",
     "text": [
      "sum of two number is : 30\n",
      "sum of two number is : 38\n"
     ]
    }
   ],
   "source": [
    "def add_num(a, b, c=5):\n",
    "    if(c == None):\n",
    "        d = a+b\n",
    "    else:\n",
    "        d = a+b+c\n",
    "    return d\n",
    "\n",
    "print(\"sum of two number is :\", add_num(10,15))          #taken default value\n",
    "print(\"sum of two number is :\", add_num(10,15,13))          #override default value"
   ]
  },
  {
   "cell_type": "markdown",
   "id": "43ab5428-a7a2-4f56-ae8f-dd9aa440d446",
   "metadata": {},
   "source": [
    "##### keyword arguments\n",
    "- The keyword argument is a parameter that defines the value of each argument, so there is no need to remember the order of the arguments"
   ]
  },
  {
   "cell_type": "code",
   "execution_count": 19,
   "id": "d0f6b08d-7b04-4e6e-9cb1-db555d8b1e68",
   "metadata": {},
   "outputs": [
    {
     "name": "stdout",
     "output_type": "stream",
     "text": [
      "Student Details\n",
      "Entrollment No : 07\n",
      "Name : Keyuri\n",
      "Age : 20\n",
      "Date of Birth : 20/12/2002\n",
      "Fiels : MCA\n",
      "\n",
      "Student Details\n",
      "Entrollment No : 33\n",
      "Name : Yashvi\n",
      "Age : 20\n",
      "Date of Birth : 28/01/2003\n",
      "Fiels : MCA\n",
      "\n"
     ]
    }
   ],
   "source": [
    "#keyword argument\n",
    "def stu_detail(no, name, age, dob, field):\n",
    "    print(\"Student Details\")\n",
    "    print(\"Entrollment No :\", no)\n",
    "    print(\"Name :\", name)\n",
    "    print(\"Age :\", age)\n",
    "    print(\"Date of Birth :\",dob)\n",
    "    print(\"Fiels :\", field)\n",
    "    print()\n",
    "    \n",
    "stu_detail(no=\"07\", name=\"Keyuri\", age=\"20\", dob=\"20/12/2002\", field=\"MCA\")          #taken arguments in order\n",
    "stu_detail(name=\"Yashvi\", dob=\"28/01/2003\", no=\"33\", field=\"MCA\", age=\"20\")          #taken arguments in unorder"
   ]
  },
  {
   "cell_type": "markdown",
   "id": "c2371930-6a9e-4080-bb0b-ca567894eabf",
   "metadata": {},
   "source": [
    "##### positional arguments\n",
    "- In positional arguments, the arguments can be placed in any order according to position, positional arguments are used when the order of the arguments is not remembered.\n",
    "- Incorrect order of arguments in the position argument produces unexpected results"
   ]
  },
  {
   "cell_type": "code",
   "execution_count": 20,
   "id": "3b24622b-6507-4b7f-8a32-7b4552b05d5b",
   "metadata": {},
   "outputs": [
    {
     "name": "stdout",
     "output_type": "stream",
     "text": [
      "Student Details\n",
      "Entrollment No : 7\n",
      "Name : Keyuri\n",
      "Age : 20\n",
      "Date of Birth : 20/12/2002\n",
      "Fiels : MCA\n",
      "\n",
      "Student Details\n",
      "Entrollment No : 20\n",
      "Name : MCA\n",
      "Age : 7\n",
      "Date of Birth : Keyuri\n",
      "Fiels : 20/12/2002\n",
      "\n"
     ]
    }
   ],
   "source": [
    "def stu_info(no, name, age, dob, field):\n",
    "    print(\"Student Details\")\n",
    "    print(\"Entrollment No :\", no)\n",
    "    print(\"Name :\", name)\n",
    "    print(\"Age :\", age)\n",
    "    print(\"Date of Birth :\",dob)\n",
    "    print(\"Fiels :\", field)\n",
    "    print()\n",
    "    \n",
    "    \n",
    "stu_info(7, 'Keyuri', 20, '20/12/2002', 'MCA')          #taken arguments in order\n",
    "stu_info(20, 'MCA', 7, 'Keyuri', '20/12/2002')          #taken arguments in unorder"
   ]
  },
  {
   "cell_type": "markdown",
   "id": "ddc04d24-547d-4769-8ade-7d5d94fa6901",
   "metadata": {},
   "source": [
    "##### arbitrary arguments"
   ]
  },
  {
   "cell_type": "markdown",
   "id": "569ca11c-86a2-4990-bd39-60680106c3d0",
   "metadata": {},
   "source": [
    "###### __*args__\n",
    "- When no. of arguments are not known in advance\n",
    "- '*' means that the argument is repeated, which is used repeatedly but it is not known in advance\n",
    "- *args receives arguments as a tuple\r\n"
   ]
  },
  {
   "cell_type": "code",
   "execution_count": 21,
   "id": "7e671ab0-e0ba-404e-893a-2ff3b0972043",
   "metadata": {},
   "outputs": [
    {
     "name": "stdout",
     "output_type": "stream",
     "text": [
      "Keyuri\n",
      "Yashvi\n",
      "Parikshit\n",
      "Drashti\n"
     ]
    }
   ],
   "source": [
    "def student(*name):\n",
    "    for arg in name:\n",
    "        print(arg)\n",
    "\n",
    "student('Keyuri', 'Yashvi', 'Parikshit', 'Drashti')"
   ]
  },
  {
   "cell_type": "code",
   "execution_count": 22,
   "id": "c2a8c340-6ee9-4e8a-9c3b-7439704eca1c",
   "metadata": {},
   "outputs": [
    {
     "name": "stdout",
     "output_type": "stream",
     "text": [
      "Name of student is : Keyuri Vijaybhai Patel "
     ]
    }
   ],
   "source": [
    "def name(fname, *lname):\n",
    "    print(\"Name of student is :\",fname, end = ' ')\n",
    "    for names in lname:\n",
    "        print(names, end = ' ')\n",
    "\n",
    "name('Keyuri', 'Vijaybhai', 'Patel')"
   ]
  },
  {
   "cell_type": "markdown",
   "id": "b83e48ce-ae2d-4363-ab0f-ce5aed9207a0",
   "metadata": {},
   "source": [
    "###### __**kwargs__ \n",
    "- A keyword argument is where you provide a name to the variable as you pass it into the function\n",
    "- **kwargs receives arguments as a dictionary"
   ]
  },
  {
   "cell_type": "code",
   "execution_count": 23,
   "id": "c31a4807-f880-41f0-89fb-7076629435bb",
   "metadata": {},
   "outputs": [
    {
     "name": "stdout",
     "output_type": "stream",
     "text": [
      "dict_keys(['a', 'b'])\n",
      "dict_values([1, 2])\n",
      "dict_items([('a', 1), ('b', 2)])\n"
     ]
    }
   ],
   "source": [
    "ex = {\"a\":1, \"b\":2}\n",
    "print(ex.keys())\n",
    "print(ex.values())\n",
    "print(ex.items())"
   ]
  },
  {
   "cell_type": "code",
   "execution_count": 24,
   "id": "6d5475fc-817f-4d85-9731-b7e41da6757a",
   "metadata": {},
   "outputs": [
    {
     "name": "stdout",
     "output_type": "stream",
     "text": [
      "first >=60%\n",
      "second >=49%\n",
      "third >=35%\n",
      "fail <=35%\n"
     ]
    }
   ],
   "source": [
    "def marks_distributed(**marks):\n",
    "    for key,val in marks.items():\n",
    "        print(key, val)\n",
    "\n",
    "marks_distributed(first='>=60%', second='>=49%', third='>=35%', fail='<=35%')"
   ]
  },
  {
   "cell_type": "code",
   "execution_count": 25,
   "id": "3e68c2b5-475e-40e9-98f5-14e052515abd",
   "metadata": {},
   "outputs": [
    {
     "name": "stdout",
     "output_type": "stream",
     "text": [
      "Details of Entrollment no : 7\n",
      "name : Keyuri\n",
      "age : 20\n",
      "dob : 20/12/2002\n",
      "fiels : MCA\n"
     ]
    }
   ],
   "source": [
    "def stu_details(no, **kwargs):\n",
    "    print(\"Details of Entrollment no :\", no)\n",
    "    for key, value in kwargs.items():\n",
    "        print(\"%s : %s\" %(key, value))\n",
    "\n",
    "stu_details(7, name='Keyuri', age=20, dob='20/12/2002', fiels='MCA')  "
   ]
  },
  {
   "cell_type": "code",
   "execution_count": 26,
   "id": "6222eb68-e441-416d-9e64-cf6ed59c0dd3",
   "metadata": {},
   "outputs": [
    {
     "name": "stdout",
     "output_type": "stream",
     "text": [
      "sum = 8, sub = 4, mul = 12, div = 3.0, "
     ]
    }
   ],
   "source": [
    "def cals(**kwargs):\n",
    "     for key, value in kwargs.items():\n",
    "         print(\"%s = %s\" %(key, value), end = ', ')\n",
    "         sum=a+b\n",
    "         sub=a-b\n",
    "         mul=a*b\n",
    "         div=a/b\n",
    "a = 6\n",
    "b = 2\n",
    "cals(sum=a+b, sub=a-b, mul=a*b, div=a/b)"
   ]
  },
  {
   "cell_type": "markdown",
   "id": "bedc65f9-02b8-4032-b54a-e413d1b30671",
   "metadata": {},
   "source": [
    "##### example of optional argument, default argument"
   ]
  },
  {
   "cell_type": "code",
   "execution_count": 27,
   "id": "afa68e4d-7383-4332-950a-17e82379acc5",
   "metadata": {},
   "outputs": [
    {
     "name": "stdout",
     "output_type": "stream",
     "text": [
      "1 :  4\n",
      "2 :  4\n",
      "3 :  4\n",
      "4 :  -2\n",
      "Function not perform\n",
      "5 :  None\n",
      "Function not perform\n",
      "6 :  None\n",
      "7 :  4\n",
      "8 :  4\n"
     ]
    }
   ],
   "source": [
    "def air_cal(a,b,flag=True,c='add'):          \n",
    "    '''\n",
    "    Here,\n",
    "    flag is optional argument\n",
    "    c is default argument\n",
    "    '''\n",
    "    if(flag):\n",
    "        if(c=='add'):\n",
    "            c = a+b\n",
    "        else:\n",
    "            c = a-b\n",
    "        return c\n",
    "    else:\n",
    "        print(\"Function not perform\")\n",
    "\n",
    "print(\"1 : \",air_cal(1,3,True,'add'))\n",
    "print(\"2 : \",air_cal(1,3,True))\n",
    "print(\"3 : \",air_cal(1,3,'add'))\n",
    "print(\"4 : \",air_cal(1,3,True,'sub'))\n",
    "print(\"5 : \",air_cal(1,3,False,'add'))\n",
    "print(\"6 : \",air_cal(1,3,False))\n",
    "print(\"7 : \",air_cal(1,3,'sub'))\n",
    "print(\"8 : \",air_cal(1,3))"
   ]
  },
  {
   "cell_type": "markdown",
   "id": "aa5db39c-1f20-46ee-9a3a-65bd6730b281",
   "metadata": {},
   "source": [
    "#### Recursion Function"
   ]
  },
  {
   "cell_type": "markdown",
   "id": "6800e15c-bf28-4565-9b33-b36c10edb0f9",
   "metadata": {},
   "source": [
    "- It is the process of defining something in terms of itself\n",
    "- In recursion, a function calls another function\n",
    "- These type of construct are termed as recursive function\n",
    "- Sometimes recursion function is execute infinite times, so must be careful to use recursion in code"
   ]
  },
  {
   "cell_type": "markdown",
   "id": "ee84191b-20af-45f3-8e35-5597bed0fd99",
   "metadata": {},
   "source": [
    "#### Syntax : \n",
    "- __def function_name (parameter): <br>\n",
    "  &emsp;&emsp; function_name() <br>\n",
    "  function_name()__"
   ]
  },
  {
   "cell_type": "markdown",
   "id": "8f539b5f-58bc-4437-9b36-6688c1cac7ed",
   "metadata": {},
   "source": [
    "##### Advantages of recursion\n",
    "- The code may be easier to write.\n",
    "- Reduce unnecessary calling of function.\n",
    "- Recursion reduce the length of code.\n",
    "- It is very useful in solving the data structure problem."
   ]
  },
  {
   "cell_type": "markdown",
   "id": "bf9398aa-fc85-46d6-b555-3f14e3db22d1",
   "metadata": {},
   "source": [
    "##### Disadvantages of recursion\n",
    "- It may require a lot of memory space to hold intermediate results on the system stacks.\n",
    "- Hard to analyze or understand the code.\n",
    "- It is not more efficient in terms of space and time complexity."
   ]
  },
  {
   "cell_type": "code",
   "execution_count": 12,
   "id": "6d823976-3ae0-42be-b6e0-8da43fa6dadb",
   "metadata": {},
   "outputs": [
    {
     "name": "stdin",
     "output_type": "stream",
     "text": [
      "Enter Number 5\n"
     ]
    },
    {
     "name": "stdout",
     "output_type": "stream",
     "text": [
      "Factorial of Number is : 120\n"
     ]
    }
   ],
   "source": [
    "def factorial(no):\n",
    "    if(no == 1):\n",
    "        fact = 1\n",
    "    else:\n",
    "        fact = no*factorial(no-1)\n",
    "    return fact\n",
    "no = int(input(\"Enter Number\"))\n",
    "print(\"Factorial of Number is :\", factorial(no))"
   ]
  },
  {
   "cell_type": "markdown",
   "id": "5dff9326-3922-482c-94ed-2aad81639c69",
   "metadata": {},
   "source": [
    "#### Anonymous Function"
   ]
  },
  {
   "cell_type": "markdown",
   "id": "66ad12ee-6ab4-4036-8c37-f71c29a9bebb",
   "metadata": {},
   "source": [
    "- A function without a name is called anonymous function\n",
    "- Anonymous functions are also known as lambda functions\n",
    "- A lambda function can take any number of arguments, but can only have one expression"
   ]
  },
  {
   "cell_type": "markdown",
   "id": "2606ac4c-c7b5-4c76-b9f2-4df0ca224739",
   "metadata": {},
   "source": [
    "#### synatx :\n",
    "- __function_name = lambda (parameter) : expression__\n",
    "\n",
    "  function_name : function name for perform specific task <br>\n",
    "  lambda : keyword to define anonymous function <br>\n",
    "  (parameter) : that contains n number of arguments or parameters <br>\n",
    "  expression : lambda function contains only one expression <br>"
   ]
  },
  {
   "cell_type": "markdown",
   "id": "507f0a0b-57f1-4fc6-ab64-12afe2e8fe4e",
   "metadata": {},
   "source": [
    "- A lampda function is called by function object\n",
    "- Every lambda expression defines a function that returns an function object\n",
    "- A lampda function is single line function and usually of dict type"
   ]
  },
  {
   "cell_type": "code",
   "execution_count": 29,
   "id": "93c39470-d8db-44a8-ac94-cbcb1ba19127",
   "metadata": {},
   "outputs": [
    {
     "name": "stdout",
     "output_type": "stream",
     "text": [
      "Maximum number is : 12\n"
     ]
    }
   ],
   "source": [
    "max_num = lambda a, b : a if a > b else b\n",
    "a = 10\n",
    "b = 12\n",
    "print(\"Maximum number is :\", max_num(a,b))"
   ]
  },
  {
   "cell_type": "code",
   "execution_count": 30,
   "id": "1e426f08-6354-4efc-ae93-5a70662ab263",
   "metadata": {},
   "outputs": [
    {
     "name": "stdout",
     "output_type": "stream",
     "text": [
      "83.6\n"
     ]
    }
   ],
   "source": [
    "marks = [49, 45, 38, 35, 42]\n",
    "subtotal = sum(marks)  \n",
    "total = 50 * len(marks)\n",
    "per = lambda subtotal: (subtotal * 100) / total\n",
    "print(per(subtotal))"
   ]
  },
  {
   "cell_type": "markdown",
   "id": "0730c5cb-2b06-4a16-a999-0a6d4a4414f3",
   "metadata": {},
   "source": [
    "#### map() Function"
   ]
  },
  {
   "cell_type": "markdown",
   "id": "2c2f63f0-a2cd-47aa-a009-0ff47b381083",
   "metadata": {},
   "source": [
    "- map() function is returns a map object of the results after applying the given function to each item of a given iterable\n",
    "- Iterable is an object which can be iterated over with the help of a for loop\n",
    "- lists, tuples, sets, dictionaries, strings are called iterablesed"
   ]
  },
  {
   "cell_type": "markdown",
   "id": "e833ec49-a1f3-4e82-ba76-ebf98cc95f70",
   "metadata": {},
   "source": [
    "####  synatx : \n",
    "- __map(fun, iter)__\n",
    "\n",
    "&emsp;&emsp; fun : function to which map passes each element of given iterable <br>\n",
    "&emsp;&emsp; iter : iterable which is to be mapped"
   ]
  },
  {
   "cell_type": "code",
   "execution_count": 31,
   "id": "206904ba-6cde-4866-988d-a7cd49d650f2",
   "metadata": {},
   "outputs": [
    {
     "name": "stdout",
     "output_type": "stream",
     "text": [
      "[2, 4, 6, 8]\n"
     ]
    }
   ],
   "source": [
    "no = (1, 2, 3, 4) \n",
    "result = map(lambda x: x * 2, no) \n",
    "print(list(result)) "
   ]
  },
  {
   "cell_type": "code",
   "execution_count": 32,
   "id": "6afe4a21-7460-496a-9d2a-d1538b7706d2",
   "metadata": {},
   "outputs": [
    {
     "name": "stdout",
     "output_type": "stream",
     "text": [
      "[2, 4, 3]\n"
     ]
    }
   ],
   "source": [
    "list1 = [17, 14, 19] \n",
    "list2 = [15, 10, 16] \n",
    "  \n",
    "result = map(lambda x, y: x - y, list1, list2) \n",
    "print(list(result)) "
   ]
  },
  {
   "cell_type": "code",
   "execution_count": null,
   "id": "8e0e8fbc-2a28-4d86-a8c2-9d1ca8a11b90",
   "metadata": {},
   "outputs": [],
   "source": []
  }
 ],
 "metadata": {
  "kernelspec": {
   "display_name": "Python 3 (ipykernel)",
   "language": "python",
   "name": "python3"
  },
  "language_info": {
   "codemirror_mode": {
    "name": "ipython",
    "version": 3
   },
   "file_extension": ".py",
   "mimetype": "text/x-python",
   "name": "python",
   "nbconvert_exporter": "python",
   "pygments_lexer": "ipython3",
   "version": "3.10.7"
  }
 },
 "nbformat": 4,
 "nbformat_minor": 5
}
