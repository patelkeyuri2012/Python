{
 "cells": [
  {
   "cell_type": "markdown",
   "id": "2496340b-8a2f-4d66-80de-e701d667c576",
   "metadata": {},
   "source": [
    "## NumPy"
   ]
  },
  {
   "cell_type": "markdown",
   "id": "1649c869-f64b-4b73-9d1c-de4339119057",
   "metadata": {},
   "source": [
    "- Numpy library is special and very useful for data science\n",
    "- It is most fundamentale and core scientific library\n",
    "- It is supported numarical operations and large multidimentional array of object\n",
    "- Numpy array are called ndarray and n dimentional array\n",
    "- A array one dimentional is called a vector while having two dimentional is called matrix\n",
    "- __pip install numpy__"
   ]
  },
  {
   "cell_type": "markdown",
   "id": "3ec0cd14-a351-465a-b739-a2e652c10b9b",
   "metadata": {},
   "source": [
    "### What is NumPy?\n",
    "- Numpy is very useful for performing logical and mathematical calculations on arrays and matrices\n",
    "- This tool performs these operations much faster and more efficiently than lists\n",
    "- Numpy uses less memory and storage space, which is the main advantage"
   ]
  },
  {
   "cell_type": "markdown",
   "id": "771c8f1d-4af8-408b-a192-465241b8406a",
   "metadata": {},
   "source": [
    "### Why NumPy?\n",
    "- Numpy arrays are faster and more compact than lists\n",
    "- An array consumes less memory and is convenient to use\n",
    "- Numpy uses much less memory to store data and it provides a mechanism of specifying the data types"
   ]
  },
  {
   "cell_type": "markdown",
   "id": "87385361-0d61-4d0f-a327-c8f508b986d3",
   "metadata": {},
   "source": [
    "### Difference between python list and numpy array\n",
    "- Numpy can contain similar datatypes while List contains different types of datatypes\n",
    "- Numpy is homogeneous while List is both homogeneous and heterogeneous\n",
    "- Numpy requires smaller memory consumption as compared to list while List requires more memory as compared to numpy array\n",
    "- In Numpy, each item is stored in a sequential manner while List stores item in random location of  the memory\n",
    "- Numpy is faster as compared to list while List is slow as compared to numpy array"
   ]
  },
  {
   "cell_type": "code",
   "execution_count": 11,
   "id": "5fd02e15-bf06-45c4-8e83-67ce200f7877",
   "metadata": {},
   "outputs": [],
   "source": [
    "import numpy as np"
   ]
  },
  {
   "cell_type": "markdown",
   "id": "33956f3a-31ae-4606-82d9-e8e6f9ee4726",
   "metadata": {},
   "source": [
    "#### one dimentional array"
   ]
  },
  {
   "cell_type": "code",
   "execution_count": 3,
   "id": "5717c890-1cd7-408a-88b7-07c1ca31f5ab",
   "metadata": {},
   "outputs": [
    {
     "name": "stdout",
     "output_type": "stream",
     "text": [
      "[3 4 5 6 7]\n",
      "Type of n1 : <class 'numpy.ndarray'>\n"
     ]
    }
   ],
   "source": [
    "n1 = np.array([3, 4, 5, 6, 7])\n",
    "print(n1)\n",
    "print(\"Type of n1 :\", type(n1))"
   ]
  },
  {
   "cell_type": "code",
   "execution_count": 4,
   "id": "c28fc814-6102-47b6-815e-9d22c71e4b6a",
   "metadata": {},
   "outputs": [
    {
     "name": "stdout",
     "output_type": "stream",
     "text": [
      "Shape of numpy array n1 : (5,)\n",
      "Size of numpy array n1 : 5\n",
      "No of dimentional of numpy array n1 : 1\n"
     ]
    }
   ],
   "source": [
    "print(\"Shape of numpy array n1 :\", n1.shape)\n",
    "print(\"Size of numpy array n1 :\", n1.size)\n",
    "print(\"No of dimentional of numpy array n1 :\", n1.ndim)"
   ]
  },
  {
   "cell_type": "markdown",
   "id": "c09095a5-7265-4f09-9eb6-2a30f84ad88d",
   "metadata": {},
   "source": [
    "#### two dimentional array"
   ]
  },
  {
   "cell_type": "code",
   "execution_count": 49,
   "id": "7a9edc97-5fd7-4dfd-b7d5-f1948166245d",
   "metadata": {},
   "outputs": [
    {
     "name": "stdout",
     "output_type": "stream",
     "text": [
      "[[ 3  4  5  6  7]\n",
      " [13 14 15 16 17]\n",
      " [23 24 25 26 27]]\n"
     ]
    }
   ],
   "source": [
    "n2 = np.array([[3, 4, 5, 6, 7], [13, 14, 15, 16, 17], [23, 24, 25, 26, 27]])        \n",
    "print(n2)"
   ]
  },
  {
   "cell_type": "code",
   "execution_count": 50,
   "id": "785f63af-f6c9-4602-84ff-3038846c13d3",
   "metadata": {},
   "outputs": [
    {
     "name": "stdout",
     "output_type": "stream",
     "text": [
      "Shape of numpy array n2 : (3, 5)\n",
      "Size of numpy array n2 : 15\n",
      "No of dimentional of numpy array n2 : 2\n"
     ]
    }
   ],
   "source": [
    "print(\"Shape of numpy array n2 :\", n2.shape)\n",
    "print(\"Size of numpy array n2 :\", n2.size)\n",
    "print(\"No of dimentional of numpy array n2 :\", n2.ndim)"
   ]
  },
  {
   "cell_type": "code",
   "execution_count": 60,
   "id": "1389d3b0-1e96-4b26-887d-892c5be98e60",
   "metadata": {},
   "outputs": [
    {
     "name": "stdout",
     "output_type": "stream",
     "text": [
      "Access 3 element : 3\n",
      "Access 17 element : 17\n",
      "Access 24 element : 24\n"
     ]
    }
   ],
   "source": [
    "print(\"Access 3 element :\", n2[0,0])\n",
    "print(\"Access 17 element :\", n2[1,4])\n",
    "print(\"Access 24 element :\", n2[2,1])"
   ]
  },
  {
   "cell_type": "markdown",
   "id": "f4ffd28a-caeb-42a9-acd4-b067db8adb78",
   "metadata": {},
   "source": [
    "##### convert row vector to column vector using numpy"
   ]
  },
  {
   "cell_type": "code",
   "execution_count": 7,
   "id": "958c2487-0a19-4f0f-b469-9ce4fa300124",
   "metadata": {},
   "outputs": [
    {
     "name": "stdout",
     "output_type": "stream",
     "text": [
      "[[ 3  4  5]\n",
      " [ 6  7 13]\n",
      " [14 15 16]\n",
      " [17 23 24]\n",
      " [25 26 27]]\n"
     ]
    }
   ],
   "source": [
    "n3 = np.array([[3, 4, 5, 6, 7], [13, 14, 15, 16, 17], [23, 24, 25, 26, 27]])\n",
    "print(n3.reshape(5,3))"
   ]
  },
  {
   "cell_type": "markdown",
   "id": "0387ccd5-38ec-43c9-878d-181acbd647d5",
   "metadata": {},
   "source": [
    "##### create an array column wise"
   ]
  },
  {
   "cell_type": "code",
   "execution_count": 35,
   "id": "debd7144-6eb3-4efd-ada8-ac4e6439a3a3",
   "metadata": {},
   "outputs": [
    {
     "name": "stdout",
     "output_type": "stream",
     "text": [
      "[[ 3 13 23]\n",
      " [ 4 14 24]\n",
      " [ 5 15 25]\n",
      " [ 6 16 26]\n",
      " [ 7 17 27]]\n"
     ]
    }
   ],
   "source": [
    "n4 = np.array([[3, 4, 5, 6, 7], [13, 14, 15, 16, 17], [23, 24, 25, 26, 27]])\n",
    "print(np.column_stack(n4))"
   ]
  },
  {
   "cell_type": "markdown",
   "id": "c0414391-e0dd-440a-b526-00d16f3ab94a",
   "metadata": {},
   "source": [
    "#### three dimentional array"
   ]
  },
  {
   "cell_type": "code",
   "execution_count": 56,
   "id": "ad5eab78-697e-4c9f-8b51-c6b964c5a365",
   "metadata": {},
   "outputs": [
    {
     "name": "stdout",
     "output_type": "stream",
     "text": [
      "[[[ 3  4  5  6  7]\n",
      "  [13 14 15 16 17]\n",
      "  [31 41 51 61 71]]\n",
      "\n",
      " [[23 24 25 26 27]\n",
      "  [32 42 52 62 72]\n",
      "  [33 34 35 36 37]]\n",
      "\n",
      " [[43 44 45 46 47]\n",
      "  [53 54 55 56 57]\n",
      "  [36 46 56 66 76]]]\n"
     ]
    }
   ],
   "source": [
    "n6 = np.array([[[3, 4, 5, 6, 7],[13, 14, 15, 16, 17],[31, 41, 51, 61, 71]],\n",
    "       [[23, 24, 25, 26, 27],[32, 42, 52, 62, 72],[33, 34, 35, 36, 37]],\n",
    "       [[43, 44, 45, 46, 47],[53, 54, 55, 56, 57],[36, 46, 56, 66, 76]]])\n",
    "print(n6)"
   ]
  },
  {
   "cell_type": "code",
   "execution_count": 57,
   "id": "baba1f2f-5717-4e7e-a76f-c04094862844",
   "metadata": {},
   "outputs": [
    {
     "name": "stdout",
     "output_type": "stream",
     "text": [
      "Shape of numpy array n6 : (3, 3, 5)\n",
      "Size of numpy array n6 : 45\n",
      "No of dimentional of numpy array n6 : 3\n"
     ]
    }
   ],
   "source": [
    "print(\"Shape of numpy array n6 :\", n6.shape)\n",
    "print(\"Size of numpy array n6 :\", n6.size)\n",
    "print(\"No of dimentional of numpy array n6 :\", n6.ndim)"
   ]
  },
  {
   "cell_type": "code",
   "execution_count": 65,
   "id": "13b2bdb8-4350-4bf9-a8b2-3e75161ee0d5",
   "metadata": {},
   "outputs": [
    {
     "name": "stdout",
     "output_type": "stream",
     "text": [
      "Access 24 element : 24\n",
      "Access 45 element : 45\n",
      "Access 36 element : 36\n",
      "Access first array of second matrix array : [23 24 25 26 27]\n"
     ]
    }
   ],
   "source": [
    "print(\"Access 24 element :\", n6[1][0][1])\n",
    "print(\"Access 45 element :\", n6[2][0][2])\n",
    "print(\"Access 36 element :\", n6[1][2][3])\n",
    "print(\"Access first array of second matrix array :\", n6[1,0])"
   ]
  },
  {
   "cell_type": "markdown",
   "id": "bfd29801-0997-4563-9925-69059a6e1a78",
   "metadata": {},
   "source": [
    "#### four dimentional array"
   ]
  },
  {
   "cell_type": "code",
   "execution_count": 62,
   "id": "f4f421b3-2e9e-4b44-8b17-5fdb5d05f760",
   "metadata": {},
   "outputs": [
    {
     "name": "stdout",
     "output_type": "stream",
     "text": [
      "[[[[2 3 4 5]\n",
      "   [3 4 5 3]\n",
      "   [5 6 7 2]]\n",
      "\n",
      "  [[1 2 3 2]\n",
      "   [5 6 7 1]\n",
      "   [8 9 0 4]]\n",
      "\n",
      "  [[0 2 6 1]\n",
      "   [4 6 8 3]\n",
      "   [5 4 6 1]]]\n",
      "\n",
      "\n",
      " [[[2 7 2 7]\n",
      "   [5 1 6 2]\n",
      "   [7 6 2 4]]\n",
      "\n",
      "  [[5 6 2 1]\n",
      "   [0 2 7 5]\n",
      "   [4 1 5 0]]\n",
      "\n",
      "  [[0 2 6 4]\n",
      "   [5 4 1 1]\n",
      "   [1 0 4 5]]]]\n"
     ]
    }
   ],
   "source": [
    "n7 = np.array([[[[2, 3, 4, 5],[3, 4, 5, 3],[5, 6, 7, 2]],\n",
    "               [[1, 2, 3, 2],[5, 6, 7, 1],[8, 9, 0, 4]],\n",
    "               [[0, 2, 6, 1],[4, 6, 8, 3],[5, 4, 6, 1]]],\n",
    "               \n",
    "               [[[2, 7, 2, 7],[5, 1, 6, 2],[7, 6, 2, 4]],\n",
    "               [[5, 6, 2, 1],[0, 2, 7, 5],[4, 1, 5, 0]],\n",
    "               [[0, 2, 6, 4],[5, 4, 1, 1],[1, 0, 4, 5]]]])\n",
    "print(n7)"
   ]
  },
  {
   "cell_type": "code",
   "execution_count": 63,
   "id": "209ebc0d-3f1c-4f80-bcc0-cdec744e6b4b",
   "metadata": {},
   "outputs": [
    {
     "name": "stdout",
     "output_type": "stream",
     "text": [
      "Shape of numpy array n7 : (2, 3, 3, 4)\n",
      "Size of numpy array n7 : 72\n",
      "No of dimentional of numpy array n7 : 4\n"
     ]
    }
   ],
   "source": [
    "print(\"Shape of numpy array n7 :\", n7.shape)\n",
    "print(\"Size of numpy array n7 :\", n7.size)\n",
    "print(\"No of dimentional of numpy array n7 :\", n7.ndim)"
   ]
  },
  {
   "cell_type": "code",
   "execution_count": 69,
   "id": "00e4a265-0258-4e20-b822-757dec2c17e6",
   "metadata": {},
   "outputs": [
    {
     "name": "stdout",
     "output_type": "stream",
     "text": [
      "Access first set :\n",
      " [[[2 3 4 5]\n",
      "  [3 4 5 3]\n",
      "  [5 6 7 2]]\n",
      "\n",
      " [[1 2 3 2]\n",
      "  [5 6 7 1]\n",
      "  [8 9 0 4]]\n",
      "\n",
      " [[0 2 6 1]\n",
      "  [4 6 8 3]\n",
      "  [5 4 6 1]]]\n",
      "\n",
      "Access fisrt matrix of second set :\n",
      " [[2 7 2 7]\n",
      " [5 1 6 2]\n",
      " [7 6 2 4]]\n",
      "\n",
      "Access third array of first set of second set array : [7 6 2 4]\n",
      "Access 4 element : 4\n"
     ]
    }
   ],
   "source": [
    "print(\"Access first set :\\n\", n7[0])\n",
    "print(\"\\nAccess fisrt matrix of second set :\\n\", n7[1][0])\n",
    "print(\"\\nAccess third array of first set of second set array :\", n7[1][0][2])\n",
    "print(\"Access 4 element :\", n7[1,0,2,3])"
   ]
  },
  {
   "cell_type": "markdown",
   "id": "a478befb-7683-4479-a375-79e517771762",
   "metadata": {},
   "source": [
    "#### covert list into array"
   ]
  },
  {
   "cell_type": "code",
   "execution_count": 16,
   "id": "c8e20e6c-c2ac-4d23-b29d-b10337c4e325",
   "metadata": {},
   "outputs": [
    {
     "name": "stdout",
     "output_type": "stream",
     "text": [
      "[[3 4 5 2 1]\n",
      " [5 1 2 4 9]]\n"
     ]
    }
   ],
   "source": [
    "a = [3, 4, 5, 2, 1]\n",
    "b = [5, 1, 2, 4, 9]\n",
    "c = np.array((a,b))\n",
    "print(c)"
   ]
  },
  {
   "cell_type": "code",
   "execution_count": 18,
   "id": "36771fa5-9681-451d-980b-fba4cb9819d7",
   "metadata": {},
   "outputs": [
    {
     "name": "stdout",
     "output_type": "stream",
     "text": [
      "[['a' 'b' 'c' 'd']\n",
      " ['e' 'f' 'g' 'h']]\n"
     ]
    }
   ],
   "source": [
    "a = ['a', 'b', 'c', 'd']\n",
    "b = ['e', 'f', 'g', 'h']\n",
    "d = np.array((a,b))\n",
    "print(d)"
   ]
  },
  {
   "cell_type": "markdown",
   "id": "4be6091c-d461-4819-a65e-a0178c8437c7",
   "metadata": {},
   "source": [
    "#### zero() funtion\n",
    "It is used for create zero matrix <br>\n",
    "If all the elements are zero in a matrix, then it is called a zero matrix and generally denoted by 0."
   ]
  },
  {
   "cell_type": "code",
   "execution_count": 9,
   "id": "7ac69695-c1ff-43ef-a8d6-a676392d4983",
   "metadata": {},
   "outputs": [
    {
     "name": "stdout",
     "output_type": "stream",
     "text": [
      "[[0. 0. 0.]\n",
      " [0. 0. 0.]\n",
      " [0. 0. 0.]]\n"
     ]
    }
   ],
   "source": [
    "a = np.zeros((3,3))\n",
    "print(a)"
   ]
  },
  {
   "cell_type": "markdown",
   "id": "35788767-dea5-4ac6-acd3-296a021a7637",
   "metadata": {},
   "source": [
    "#### full() function\n",
    "It is used to return a new array of a given shape and data type filled with fill_value"
   ]
  },
  {
   "cell_type": "code",
   "execution_count": 66,
   "id": "a3c8bc00-0422-409d-ab3c-9b262ac3d223",
   "metadata": {},
   "outputs": [
    {
     "name": "stdout",
     "output_type": "stream",
     "text": [
      "[[0 0]\n",
      " [0 0]]\n"
     ]
    }
   ],
   "source": [
    "a = np.full((2,2),0)\n",
    "print(a)"
   ]
  },
  {
   "cell_type": "markdown",
   "id": "54c64cae-d91b-429f-95d5-2b2776e70141",
   "metadata": {},
   "source": [
    "#### eye() function\n",
    "It is used for create identity matrix <br>\n",
    "A square matrix in which all elements of the principal diagonal are 1 and all the other elements are 0 is called a identity matrix"
   ]
  },
  {
   "cell_type": "code",
   "execution_count": 30,
   "id": "303ec0f0-2422-4906-bedf-b170ef8c5977",
   "metadata": {},
   "outputs": [
    {
     "name": "stdout",
     "output_type": "stream",
     "text": [
      "[[1. 0. 0.]\n",
      " [0. 1. 0.]\n",
      " [0. 0. 1.]]\n"
     ]
    }
   ],
   "source": [
    "a = np.eye(3)\n",
    "print(a)"
   ]
  },
  {
   "cell_type": "markdown",
   "id": "19d972dc-d06a-4e65-9cce-c6b46a3994b2",
   "metadata": {},
   "source": [
    "Parameter k determines whether the diagonal is main, upper, or lower <br>\n",
    "the main diagonal is assigned by 0 k (default) <br>\n",
    "the upper diagonal by a positive k <br>\n",
    "the lower diagonal by a negative k <br>"
   ]
  },
  {
   "cell_type": "code",
   "execution_count": 29,
   "id": "31c73dbc-e2b0-4429-a80d-4797256e9e86",
   "metadata": {},
   "outputs": [
    {
     "name": "stdout",
     "output_type": "stream",
     "text": [
      "[[0. 1. 0.]\n",
      " [0. 0. 1.]\n",
      " [0. 0. 0.]]\n"
     ]
    }
   ],
   "source": [
    "a = np.eye(3, k=1)\n",
    "print(a)"
   ]
  },
  {
   "cell_type": "code",
   "execution_count": 28,
   "id": "d0533ff8-d640-4107-b2a3-aea2f1a1ffec",
   "metadata": {},
   "outputs": [
    {
     "name": "stdout",
     "output_type": "stream",
     "text": [
      "[[0. 0. 0.]\n",
      " [0. 0. 0.]\n",
      " [1. 0. 0.]]\n"
     ]
    }
   ],
   "source": [
    "a = np.eye(3, k=-2)\n",
    "print(a)"
   ]
  },
  {
   "cell_type": "markdown",
   "id": "37eef2a6-240b-4af2-b789-604b05b8b0a2",
   "metadata": {},
   "source": [
    "#### transpose of matrix\n",
    "The transpose of a matrix is obtained by moving the rows data to the column and columns data to the rows"
   ]
  },
  {
   "cell_type": "code",
   "execution_count": 16,
   "id": "0702d370-38e6-4141-b2f5-6a0937e4eb26",
   "metadata": {},
   "outputs": [
    {
     "name": "stdout",
     "output_type": "stream",
     "text": [
      "[[3 2 4]\n",
      " [5 2 3]]\n"
     ]
    }
   ],
   "source": [
    "m = np.array([[3, 2, 4],[5, 2, 3]])\n",
    "print(m)"
   ]
  },
  {
   "cell_type": "code",
   "execution_count": 17,
   "id": "6d505a35-f652-42b9-b4d9-15cafb6b2960",
   "metadata": {},
   "outputs": [
    {
     "name": "stdout",
     "output_type": "stream",
     "text": [
      "[[3 5]\n",
      " [2 2]\n",
      " [4 3]]\n"
     ]
    }
   ],
   "source": [
    "k = m.T               \n",
    "print(k)"
   ]
  },
  {
   "cell_type": "markdown",
   "id": "391c6bae-ce58-4002-b714-1241de019cca",
   "metadata": {},
   "source": [
    "#### arange() function\n",
    "It is used for create an array <br> __np.arange(start, stop, step)__ <br> This function generates a sequence of numbers within the specified range"
   ]
  },
  {
   "cell_type": "code",
   "execution_count": 74,
   "id": "38a47a09-8483-465f-94cf-c3b8d3d54c12",
   "metadata": {},
   "outputs": [
    {
     "name": "stdout",
     "output_type": "stream",
     "text": [
      "[2 3 4 5 6 7]\n"
     ]
    }
   ],
   "source": [
    "a = np.arange(2, 8)\n",
    "print(a)"
   ]
  },
  {
   "cell_type": "code",
   "execution_count": 19,
   "id": "5f2e6acf-a6d5-47af-ab2b-149c5758f50a",
   "metadata": {},
   "outputs": [
    {
     "name": "stdout",
     "output_type": "stream",
     "text": [
      "[10 15 20 25 30 35 40 45 50 55 60 65 70 75 80 85 90 95]\n"
     ]
    }
   ],
   "source": [
    "b = np.arange(10, 100, 5)\n",
    "print(b)"
   ]
  },
  {
   "cell_type": "markdown",
   "id": "73cb39c9-50c4-4150-aa18-312c0ce5a11c",
   "metadata": {},
   "source": [
    "##### print even number using arange() function"
   ]
  },
  {
   "cell_type": "code",
   "execution_count": 12,
   "id": "1f727977-c7fa-4aa1-bb8f-492e677fe3e9",
   "metadata": {},
   "outputs": [
    {
     "name": "stdout",
     "output_type": "stream",
     "text": [
      "[ 0  2  4  6  8 10 12 14 16 18]\n"
     ]
    }
   ],
   "source": [
    "a1 = np.arange(0, 20, 2)\n",
    "print(a1)         "
   ]
  },
  {
   "cell_type": "markdown",
   "id": "8fe3b4f2-ca1e-473c-a375-f8010b384f98",
   "metadata": {},
   "source": [
    "##### print odd number using arange() function"
   ]
  },
  {
   "cell_type": "code",
   "execution_count": 13,
   "id": "8e4667c6-6210-4f34-8f71-c5d31e9784d4",
   "metadata": {},
   "outputs": [
    {
     "name": "stdout",
     "output_type": "stream",
     "text": [
      "[ 1  3  5  7  9 11 13 15 17 19]\n"
     ]
    }
   ],
   "source": [
    "a1 = np.arange(1, 20, 2)\n",
    "print(a1)         "
   ]
  },
  {
   "cell_type": "markdown",
   "id": "6c6354c1-bc44-4de6-8f03-890647736ed2",
   "metadata": {},
   "source": [
    "#### reshape() function\n",
    "It is used to create a new array of the same size but of different dimensions <br> That means changing the shape of an array."
   ]
  },
  {
   "cell_type": "code",
   "execution_count": 76,
   "id": "fb6337e7-4955-4ae2-a8da-c0c976b1db91",
   "metadata": {},
   "outputs": [
    {
     "name": "stdout",
     "output_type": "stream",
     "text": [
      "[[2 3 4]\n",
      " [5 6 7]]\n"
     ]
    }
   ],
   "source": [
    "print(a.reshape(2,3))    "
   ]
  },
  {
   "cell_type": "code",
   "execution_count": 22,
   "id": "cb3294f2-c4a1-46a9-9dbd-7788f25f878d",
   "metadata": {},
   "outputs": [
    {
     "name": "stdout",
     "output_type": "stream",
     "text": [
      "[[[10 15 20]\n",
      "  [25 30 35]\n",
      "  [40 45 50]]\n",
      "\n",
      " [[55 60 65]\n",
      "  [70 75 80]\n",
      "  [85 90 95]]]\n"
     ]
    }
   ],
   "source": [
    "print(b.reshape(2, 3, 3))"
   ]
  },
  {
   "cell_type": "markdown",
   "id": "66373df2-c113-42ad-b23a-9b4e5f29ec57",
   "metadata": {},
   "source": [
    "##### create one array using arange funtion and reshape into two & three dimentional array (minimum 30 elements)"
   ]
  },
  {
   "cell_type": "code",
   "execution_count": 17,
   "id": "97d95d39-3c28-4248-916a-bbcbb1eb984b",
   "metadata": {},
   "outputs": [
    {
     "name": "stdout",
     "output_type": "stream",
     "text": [
      "[ 6  7  8  9 10 11 12 13 14 15 16 17 18 19 20 21 22 23 24 25 26 27 28 29\n",
      " 30 31 32 33 34 35]\n"
     ]
    }
   ],
   "source": [
    "a1 = np.arange(6, 36)\n",
    "print(a1)"
   ]
  },
  {
   "cell_type": "code",
   "execution_count": 18,
   "id": "a45767d6-e4b4-4ba2-b962-23c9305321b2",
   "metadata": {},
   "outputs": [
    {
     "name": "stdout",
     "output_type": "stream",
     "text": [
      "[[ 6  7  8  9 10]\n",
      " [11 12 13 14 15]\n",
      " [16 17 18 19 20]\n",
      " [21 22 23 24 25]\n",
      " [26 27 28 29 30]\n",
      " [31 32 33 34 35]]\n"
     ]
    },
    {
     "data": {
      "text/plain": [
       "2"
      ]
     },
     "execution_count": 18,
     "metadata": {},
     "output_type": "execute_result"
    }
   ],
   "source": [
    "a2 = a1.reshape(6,5)\n",
    "print(a2)\n",
    "a2.ndim"
   ]
  },
  {
   "cell_type": "code",
   "execution_count": 81,
   "id": "6ed5202d-1c85-43f0-b801-3f593e770427",
   "metadata": {},
   "outputs": [
    {
     "name": "stdout",
     "output_type": "stream",
     "text": [
      "[[[ 6  7  8  9 10]\n",
      "  [11 12 13 14 15]\n",
      "  [16 17 18 19 20]]\n",
      "\n",
      " [[21 22 23 24 25]\n",
      "  [26 27 28 29 30]\n",
      "  [31 32 33 34 35]]]\n"
     ]
    },
    {
     "data": {
      "text/plain": [
       "3"
      ]
     },
     "execution_count": 81,
     "metadata": {},
     "output_type": "execute_result"
    }
   ],
   "source": [
    "a3 = a1.reshape(2, 3, 5)\n",
    "print(a3)\n",
    "a3.ndim"
   ]
  },
  {
   "cell_type": "markdown",
   "id": "99655b89-5e38-4ab5-b28f-d69dc4aca5f8",
   "metadata": {},
   "source": [
    "#### transpose() function\n",
    "The transpose of a matrix is obtained by moving the rows data to the column and columns data to the rows"
   ]
  },
  {
   "cell_type": "code",
   "execution_count": 82,
   "id": "9950d341-5175-4818-bc49-e56066b58bf9",
   "metadata": {},
   "outputs": [
    {
     "name": "stdout",
     "output_type": "stream",
     "text": [
      "[[3 8 1 2]\n",
      " [4 5 2 7]\n",
      " [2 7 5 6]]\n"
     ]
    }
   ],
   "source": [
    "m = np.array([[3, 4, 2],[8, 5, 7],[1, 2, 5],[2, 7, 6]])\n",
    "print(np.transpose(m))"
   ]
  },
  {
   "cell_type": "code",
   "execution_count": 26,
   "id": "f3a53d91-f296-47d3-bc01-c40fa1797b5d",
   "metadata": {},
   "outputs": [
    {
     "name": "stdout",
     "output_type": "stream",
     "text": [
      "[[12 14 11 13]]\n"
     ]
    }
   ],
   "source": [
    "m = np.array([[12],[14],[11],[13]])\n",
    "print(np.transpose(m))"
   ]
  },
  {
   "cell_type": "markdown",
   "id": "c8c5082c-92c1-477e-90d2-8cee27ef75ea",
   "metadata": {},
   "source": [
    "#### dot() function\n",
    "It used to compute dot products of two given matrix <br> It is multiplies each value from one row with the values from another column and adds them together"
   ]
  },
  {
   "cell_type": "code",
   "execution_count": 84,
   "id": "fde0ce71-9716-4b7b-9e15-9d709426634e",
   "metadata": {},
   "outputs": [
    {
     "name": "stdout",
     "output_type": "stream",
     "text": [
      "[[24 29]\n",
      " [10 13]\n",
      " [43 46]]\n"
     ]
    }
   ],
   "source": [
    "a = np.array([[3, 4],[1, 2],[7, 5]])\n",
    "b = np.array([[4, 3],[3, 5]])\n",
    "print(np.dot(a,b))"
   ]
  },
  {
   "cell_type": "code",
   "execution_count": 88,
   "id": "7e08c61c-5386-4133-9579-6f73637b359c",
   "metadata": {},
   "outputs": [
    {
     "name": "stdout",
     "output_type": "stream",
     "text": [
      "[[180]\n",
      " [120]\n",
      " [130]]\n"
     ]
    }
   ],
   "source": [
    "a = np.array([[10],[20]])\n",
    "b = np.array([[4,7],[8,2],[1,6]])\n",
    "print(np.dot(b,a))"
   ]
  },
  {
   "cell_type": "markdown",
   "id": "2548ff59-12ac-4589-9244-c2cb7cbe2ef9",
   "metadata": {},
   "source": [
    "#### linalg.inv() function\n",
    "It is used to calculate the inverse of a matrix <br> inv() belongs to linalg() that stand for linear algebra"
   ]
  },
  {
   "cell_type": "code",
   "execution_count": 92,
   "id": "422de8e7-3736-4dc9-8bcc-d3686f4b8e42",
   "metadata": {},
   "outputs": [
    {
     "name": "stdout",
     "output_type": "stream",
     "text": [
      "[[-0.14285714  0.28571429]\n",
      " [ 0.57142857 -0.14285714]]\n"
     ]
    }
   ],
   "source": [
    "A = np.array([[1, 2],[4, 1]])\n",
    "A_inv = np.linalg.inv(A)\n",
    "print(A_inv)"
   ]
  },
  {
   "cell_type": "code",
   "execution_count": 91,
   "id": "c59e7fd1-8e96-41e1-819b-ff6a8b5f4d42",
   "metadata": {},
   "outputs": [
    {
     "name": "stdout",
     "output_type": "stream",
     "text": [
      "[[ 0.5 -0.5  0.5]\n",
      " [-4.   3.  -1. ]\n",
      " [ 2.5 -1.5  0.5]]\n"
     ]
    }
   ],
   "source": [
    "B = np.array([[0, 1, 2],[1, 2, 3],[3, 1, 1]])\n",
    "B_inv = np.linalg.inv(B)\n",
    "print(B_inv)"
   ]
  },
  {
   "cell_type": "markdown",
   "id": "35eb80af-4003-48e1-aeb8-43378701edda",
   "metadata": {},
   "source": [
    "#### sort() function\n",
    "##### What is the sort() function in numpy? \n",
    "- It is used to sort an array in ascending order or descending order\n",
    "- It returns a sorted copy of an array <br><br>\n",
    "__numpy.sort(a, axis=-1, kind=None, order=None)__\n",
    "##### Parameters of sort() function\n",
    "- __a -__ array-like object <br>\n",
    "&emsp; The input array to be sorted\n",
    "- __axis -__ 0, -1 or none <br>\n",
    "&emsp;&emsp;&emsp; The axis along which the array has to be sort <br>\n",
    "&emsp;&emsp;&emsp; If nothing is mentioned, then the array is flattened before sorting <br>\n",
    "&emsp;&emsp;&emsp; By default, the array is sorted along the last axis that denoted by axis = -1\n",
    "- __kind -__ {‘quicksort’, ‘mergesort’, ‘heapsort’, ‘stable’} <br>\n",
    "&emsp;&emsp;&emsp;&nbsp; In numpy, choose any sorting algorithms {‘quicksort’, ‘mergesort’, ‘heapsort’, ‘stable’} <br>\n",
    "&emsp;&emsp;&emsp;&nbsp; By default, the input array will be sorted by using quicksort\n",
    "- __order -__ order of sorting {string or list} <br>\n",
    "&emsp;&emsp;&emsp;&nbsp; This parameter specifies the field along which the sorting has to be done <br>\n",
    "&emsp;&emsp;&emsp;&nbsp; It usually used when we have a field defined array."
   ]
  },
  {
   "cell_type": "code",
   "execution_count": 11,
   "id": "ccc05143-2efc-41dd-83ab-6453a39f2213",
   "metadata": {},
   "outputs": [
    {
     "name": "stdout",
     "output_type": "stream",
     "text": [
      "[[20 22 25]\n",
      " [20 21 24]\n",
      " [23 26 27]]\n"
     ]
    }
   ],
   "source": [
    "A = np.array([[25, 20, 22],[21, 24, 20],[26, 27, 23]])\n",
    "print(np.sort(A))"
   ]
  },
  {
   "cell_type": "code",
   "execution_count": 27,
   "id": "c16ec432-07e7-4ba6-a04e-79cc91bc5a42",
   "metadata": {},
   "outputs": [
    {
     "name": "stdout",
     "output_type": "stream",
     "text": [
      "Sort using axis = -1 : \n",
      " [[1 2 3 5 8]\n",
      " [3 4 5 7 9]]\n",
      "Sort using axis = 0 : \n",
      " [[5 2 4 1 3]\n",
      " [7 3 8 9 5]]\n",
      "Sort using axis = None : \n",
      " [1 2 3 3 4 5 5 7 8 9]\n",
      "Sort using merge sort : \n",
      " [[1 2 3 5 8]\n",
      " [3 4 5 7 9]]\n"
     ]
    }
   ],
   "source": [
    "B = np.array([[5, 2, 8, 1, 3],[7, 3, 4, 9, 5]])\n",
    "print(\"Sort using axis = -1 : \\n\", np.sort(B, axis = -1))\n",
    "print(\"Sort using axis = 0 : \\n\", np.sort(B, axis = 0))\n",
    "print(\"Sort using axis = None : \\n\", np.sort(B, axis = None))\n",
    "print(\"Sort using merge sort : \\n\", np.sort(B, kind = 'mergesort'))"
   ]
  },
  {
   "cell_type": "markdown",
   "id": "2b2dd2fd-441b-4043-adb1-0351b63212cd",
   "metadata": {},
   "source": [
    "#### where() function\n",
    "It is used for selecting elements based on a condition"
   ]
  },
  {
   "cell_type": "code",
   "execution_count": 20,
   "id": "c50893d5-7bdd-40bc-9ac1-6ecfbcfdcfd9",
   "metadata": {},
   "outputs": [
    {
     "name": "stdout",
     "output_type": "stream",
     "text": [
      "(array([0], dtype=int64), array([3], dtype=int64))\n"
     ]
    }
   ],
   "source": [
    "m = np.array([[1, 9, 2, 8],[4, 7, 5, 6]])\n",
    "print(np.where(m == 8))"
   ]
  },
  {
   "cell_type": "code",
   "execution_count": 25,
   "id": "51129add-33cd-4d02-aa95-bbadf58b21d0",
   "metadata": {},
   "outputs": [
    {
     "name": "stdout",
     "output_type": "stream",
     "text": [
      "(array([1, 1, 1], dtype=int64), array([0, 1, 2], dtype=int64), array([2, 1, 0], dtype=int64))\n"
     ]
    }
   ],
   "source": [
    "m = np.array([[[2, 4, 6],[4, 6,  8],[6, 8, 0]],[[1, 3, 5],[3, 5, 7],[5, 7, 9]]])\n",
    "print(np.where(m == 5))"
   ]
  },
  {
   "cell_type": "markdown",
   "id": "909a9c0e-805e-47d1-826f-9f9613c0d9da",
   "metadata": {},
   "source": [
    "##### write a python statemnet to find out the position of 16 and 4"
   ]
  },
  {
   "cell_type": "code",
   "execution_count": 45,
   "id": "e0684eb6-013b-4fdd-9ff9-869c1bfedd53",
   "metadata": {},
   "outputs": [
    {
     "name": "stdout",
     "output_type": "stream",
     "text": [
      "Position of element 16 : [1] [3]\n",
      "Position of element 4 : [0] [1]\n"
     ]
    }
   ],
   "source": [
    "C = np.array([[3, 4, 5, 6, 7],[13, 14, 15, 16, 17],[23, 24, 25, 26, 27]])\n",
    "print(\"Position of element 16 :\", np.where(C == 16)[0],np.where(C == 16)[1])\n",
    "print(\"Position of element 4 :\", np.where(C == 4)[0],np.where(C == 4)[1])"
   ]
  },
  {
   "cell_type": "markdown",
   "id": "3c955c5a-9653-446f-ba61-96f0d59652e3",
   "metadata": {},
   "source": [
    "__Method &emsp;&emsp; | &emsp;&emsp; Function Description__<br>\n",
    "sum() &emsp;&emsp;&emsp;&nbsp; | &emsp;&emsp; It returns the sum of the array elements <br>\n",
    "prod() &emsp;&emsp;&emsp; | &emsp;&emsp; It returns the product(multiplication) of the array elements <br>\n",
    "max() &emsp;&emsp;&emsp;&nbsp; | &emsp;&emsp; It returns the maximum value of the array elements <br>\n",
    "min() &emsp;&emsp;&emsp;&nbsp; | &emsp;&emsp; It returns the minimum value of the array elements <br>\n",
    "mean() &emsp;&emsp;&nbsp;&nbsp; | &emsp;&emsp; It returns the mean of the array elements <br>\n",
    "std() &emsp;&emsp;&emsp;&nbsp;&nbsp; | &emsp;&emsp; It returns the standard deviation of the array elements <br>\n",
    "argmax() &emsp;&nbsp;&nbsp; | &emsp;&emsp; It returns the index of the maximum value in the array.<br>\n",
    "argmin() &emsp;&nbsp;&nbsp; | &emsp;&emsp; It returns the index of the maximum value in the array.<br>"
   ]
  },
  {
   "cell_type": "code",
   "execution_count": 4,
   "id": "a667d8f6-fb92-4568-8256-b2a4627b84e9",
   "metadata": {},
   "outputs": [
    {
     "name": "stdout",
     "output_type": "stream",
     "text": [
      "[[2 3 4 5]\n",
      " [3 4 5 3]\n",
      " [5 6 7 2]]\n"
     ]
    }
   ],
   "source": [
    "B = np.array([[2, 3, 4, 5],[3, 4, 5, 3],[5, 6, 7, 2]])\n",
    "print(B)"
   ]
  },
  {
   "cell_type": "code",
   "execution_count": 7,
   "id": "c13ad2b7-0e6d-4d04-ace6-96dd7dcc8690",
   "metadata": {},
   "outputs": [
    {
     "name": "stdout",
     "output_type": "stream",
     "text": [
      "Sum of elements of array :  49\n",
      "Product(multiplication) of elements of array :  9072000\n",
      "Maximum element of array :  7\n",
      "Minimum element of array :  2\n",
      "Mean of array elements :  4.083333333333333\n",
      "Standard deviation of array elements :  1.4976833963009524\n",
      "Position of maximum element of array :  10\n",
      "Position of minimum element of array :  0\n"
     ]
    }
   ],
   "source": [
    "print(\"Sum of elements of array : \", B.sum())\n",
    "print(\"Product(multiplication) of elements of array : \", B.prod())\n",
    "print(\"Maximum element of array : \", B.max())\n",
    "print(\"Minimum element of array : \", B.min())\n",
    "print(\"Mean of array elements : \", B.mean())\n",
    "print(\"Standard deviation of array elements : \", B.std())\n",
    "print(\"Position of maximum element of array : \", B.argmax())\n",
    "print(\"Position of minimum element of array : \", B.argmin())"
   ]
  },
  {
   "cell_type": "markdown",
   "id": "1ff4d611-0787-4e19-9274-6dce911242d5",
   "metadata": {},
   "source": []
  },
  {
   "cell_type": "code",
   "execution_count": 3,
   "id": "bfc8da85-5ba0-4cad-bd35-482eef9a8463",
   "metadata": {},
   "outputs": [],
   "source": [
    "n7 = np.array([[[[55, 65, 75, 85, 95], [50, 60, 70, 80, 90], [56, 57, 58, 59, 60]],\n",
    "                [[11, 21, 31, 41, 51], [33, 44, 55, 66, 77], [83, 89, 84, 85, 81]],\n",
    "                [[32, 42, 52, 62, 72], [34, 43, 54, 65, 76], [10, 20, 30, 40, 50]]],\n",
    "\n",
    "               [[[10, 29, 38, 47, 56], [76, 67, 85, 58, 94], [31, 32, 33, 34, 35]],\n",
    "                [[15, 26, 37, 48, 59], [27, 38, 49, 50, 16], [54, 63, 72, 81, 90]],\n",
    "                [[5, 15, 25, 35, 45], [10, 20, 30, 40, 50], [13, 23, 33, 43, 53]]]])"
   ]
  },
  {
   "cell_type": "code",
   "execution_count": 5,
   "id": "87be3dd3-7364-4ad8-94d2-525785a844a4",
   "metadata": {},
   "outputs": [
    {
     "name": "stdout",
     "output_type": "stream",
     "text": [
      "[27 38 49 50 16]\n",
      "[81 85 84 89 83]\n",
      "[76 67 85]\n",
      "[[32 42 52 62 72]\n",
      " [34 43 54 65 76]\n",
      " [10 20 30 40 50]]\n",
      "30\n",
      "30\n",
      "56\n",
      "56\n",
      "77\n",
      "67\n"
     ]
    }
   ],
   "source": [
    "print(n7[1][1][1])\n",
    "print(n7[0][1][2][::-1])\n",
    "print(n7[1][0][1][:3])\n",
    "print(n7[0][2])\n",
    "print(n7[0][2][2][2])\n",
    "print(n7[1][2][1][2])\n",
    "print(n7[0][0][2][0])\n",
    "print(n7[1][0][0][4])\n",
    "print(n7[0][1][1][4])\n",
    "print(n7[1][0][1][1])"
   ]
  },
  {
   "cell_type": "code",
   "execution_count": 7,
   "id": "345b9651-3d71-4bc3-ab05-800b2a401693",
   "metadata": {},
   "outputs": [],
   "source": [
    "n4 = np.array([[[[3,4,5,6],[5,4,7,4],[5,7,9,8]],\n",
    "                [[34,23,35,33],[22,23,24,25],[45,34,54,56]],\n",
    "                [[21,22,23,24],[26,28,21,29],[25,23,27,22]]],\n",
    "               \n",
    "               [[[53,54,55,56],[51,44,47,14],[15,17,19,18]],\n",
    "                [[64,63,65,13],[62,66,61,35],[67,68,69,71]],\n",
    "                [[70,72,73,74],[81,84,82,88],[78,77,75,79]]]])"
   ]
  },
  {
   "cell_type": "code",
   "execution_count": 19,
   "id": "ac74c6ff-4d52-4abf-9305-2267aa968d9f",
   "metadata": {},
   "outputs": [
    {
     "name": "stdout",
     "output_type": "stream",
     "text": [
      "[[[53 54 55 56]\n",
      "  [51 44 47 14]\n",
      "  [15 17 19 18]]\n",
      "\n",
      " [[64 63 65 13]\n",
      "  [62 66 61 35]\n",
      "  [67 68 69 71]]\n",
      "\n",
      " [[70 72 73 74]\n",
      "  [81 84 82 88]\n",
      "  [78 77 75 79]]]\n",
      "[34 23 35 33]\n",
      "[26 28 21]\n",
      "[81 84 82 88]\n",
      "[[21 22 23 24]\n",
      " [26 28 21 29]\n",
      " [25 23 27 22]]\n",
      "79\n",
      "61\n",
      "56\n",
      "56\n",
      "44\n",
      "18\n"
     ]
    }
   ],
   "source": [
    "print(n4[1]) \n",
    "print(n4[0][1][0])\n",
    "print(n4[0][2][1][:3])\n",
    "print(n4[1][2][1])\n",
    "print(n4[0][2])\n",
    "print(n4[1][2][2][3])\n",
    "print(n4[1][1][1][2])\n",
    "print(n4[0][1][2][3])\n",
    "print(n4[1][0][0][3])\n",
    "print(n4[1][0][1][1])\n",
    "print(n4[1][0][2][3])"
   ]
  }
 ],
 "metadata": {
  "kernelspec": {
   "display_name": "Python 3 (ipykernel)",
   "language": "python",
   "name": "python3"
  },
  "language_info": {
   "codemirror_mode": {
    "name": "ipython",
    "version": 3
   },
   "file_extension": ".py",
   "mimetype": "text/x-python",
   "name": "python",
   "nbconvert_exporter": "python",
   "pygments_lexer": "ipython3",
   "version": "3.10.7"
  }
 },
 "nbformat": 4,
 "nbformat_minor": 5
}
