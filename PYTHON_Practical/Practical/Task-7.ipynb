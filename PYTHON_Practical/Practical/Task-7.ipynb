{
 "cells": [
  {
   "cell_type": "markdown",
   "id": "5f1a2697-9fcf-4fc0-8b8b-afdb99583452",
   "metadata": {},
   "source": [
    "### Task-7\n",
    "#### Write a Python program using Pandas Series to create a series, and perform some basic operations with the following tasks"
   ]
  },
  {
   "cell_type": "code",
   "execution_count": 109,
   "id": "928daef0",
   "metadata": {},
   "outputs": [],
   "source": [
    "import pandas as pd"
   ]
  },
  {
   "cell_type": "markdown",
   "id": "325380d4",
   "metadata": {},
   "source": [
    "##### Create a Pandas Series (series) from a list"
   ]
  },
  {
   "cell_type": "code",
   "execution_count": 117,
   "id": "09e5003e",
   "metadata": {},
   "outputs": [
    {
     "name": "stdout",
     "output_type": "stream",
     "text": [
      "0    34\n",
      "1    34\n",
      "2    45\n",
      "3    23\n",
      "4    46\n",
      "dtype: int64\n"
     ]
    }
   ],
   "source": [
    "no = []\n",
    "ele = int(input(\"Enter the size of list: \"))\n",
    "for i in range(ele):\n",
    "    element = int(input(\"Enter element: \"))\n",
    "    no.append(element)\n",
    "\n",
    "ser = pd.Series(no)\n",
    "print(ser)"
   ]
  },
  {
   "cell_type": "markdown",
   "id": "9037d398",
   "metadata": {},
   "source": [
    "##### Access an element by index (series[2])"
   ]
  },
  {
   "cell_type": "code",
   "execution_count": 118,
   "id": "1ae24b84",
   "metadata": {},
   "outputs": [
    {
     "name": "stdout",
     "output_type": "stream",
     "text": [
      "\n",
      "Element at index (Series[2]) : 45\n"
     ]
    }
   ],
   "source": [
    "print(\"\\nElement at index (Series[2]) :\", ser[2])"
   ]
  },
  {
   "cell_type": "markdown",
   "id": "fb1e476b",
   "metadata": {},
   "source": [
    "##### Perform element-wise operations (squaring) on the Series (squared_series)"
   ]
  },
  {
   "cell_type": "code",
   "execution_count": 119,
   "id": "bd1a2fd9",
   "metadata": {},
   "outputs": [
    {
     "name": "stdout",
     "output_type": "stream",
     "text": [
      "0    1156\n",
      "1    1156\n",
      "2    2025\n",
      "3     529\n",
      "4    2116\n",
      "dtype: int64\n"
     ]
    }
   ],
   "source": [
    "squared_series = ser.pow(2)\n",
    "print(squared_series)"
   ]
  },
  {
   "cell_type": "markdown",
   "id": "d7956ccd",
   "metadata": {},
   "source": [
    "##### Filter elements in the Series based on a condition (filtered_series)"
   ]
  },
  {
   "cell_type": "code",
   "execution_count": 120,
   "id": "0fe45726",
   "metadata": {},
   "outputs": [
    {
     "name": "stdout",
     "output_type": "stream",
     "text": [
      "0    34\n",
      "1    34\n",
      "3    23\n",
      "dtype: int64\n"
     ]
    }
   ],
   "source": [
    "ele = int(input(\"Enter number to fetch elements lessthan number from given series :\"))\n",
    "print(ser[ser<ele])"
   ]
  },
  {
   "cell_type": "code",
   "execution_count": 121,
   "id": "e2930568",
   "metadata": {},
   "outputs": [
    {
     "name": "stdout",
     "output_type": "stream",
     "text": [
      "0     True\n",
      "1     True\n",
      "2    False\n",
      "3    False\n",
      "4    False\n",
      "dtype: bool\n"
     ]
    }
   ],
   "source": [
    "ele = int(input(\"Enter number to check elements is in or not from given series :\"))\n",
    "print(ser.isin([ele]))"
   ]
  },
  {
   "cell_type": "markdown",
   "id": "7f6f73de",
   "metadata": {},
   "source": [
    "##### Calculate descriptive statistics like the mean and maximum value of the Series"
   ]
  },
  {
   "cell_type": "code",
   "execution_count": 122,
   "id": "dc9323bb",
   "metadata": {},
   "outputs": [
    {
     "name": "stdout",
     "output_type": "stream",
     "text": [
      "Mean of given series is : 36.4\n",
      "\n",
      "Median of given series is : 34.0\n",
      "\n",
      "Mode of given series is :\n",
      "0    34\n",
      "dtype: int64\n",
      "\n",
      "Min element of given series is : 23\n",
      "\n",
      "Max element of given series is : 46\n"
     ]
    }
   ],
   "source": [
    "print(\"Mean of given series is :\", ser.mean())\n",
    "print(\"\\nMedian of given series is :\", ser.median())\n",
    "print(\"\\nMode of given series is :\")\n",
    "print(ser.mode())\n",
    "print(\"\\nMin element of given series is :\", ser.min())\n",
    "print(\"\\nMax element of given series is :\", ser.max())"
   ]
  }
 ],
 "metadata": {
  "kernelspec": {
   "display_name": "Python 3 (ipykernel)",
   "language": "python",
   "name": "python3"
  },
  "language_info": {
   "codemirror_mode": {
    "name": "ipython",
    "version": 3
   },
   "file_extension": ".py",
   "mimetype": "text/x-python",
   "name": "python",
   "nbconvert_exporter": "python",
   "pygments_lexer": "ipython3",
   "version": "3.10.7"
  }
 },
 "nbformat": 4,
 "nbformat_minor": 5
}
