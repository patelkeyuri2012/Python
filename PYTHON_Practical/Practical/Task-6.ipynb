{
 "cells": [
  {
   "cell_type": "markdown",
   "id": "5f1a2697-9fcf-4fc0-8b8b-afdb99583452",
   "metadata": {},
   "source": [
    "### Task-6\n",
    "#### Write a Python program in NumPy to find out Eigenvalues and Eigenvectors"
   ]
  },
  {
   "cell_type": "code",
   "execution_count": 1,
   "id": "aee27f10-b043-434c-96a3-60c8c4f82504",
   "metadata": {},
   "outputs": [],
   "source": [
    "import numpy as np"
   ]
  },
  {
   "cell_type": "code",
   "execution_count": 2,
   "id": "5d2f5cfb-2272-4144-9842-e6fa6b6c06e4",
   "metadata": {},
   "outputs": [
    {
     "name": "stdout",
     "output_type": "stream",
     "text": [
      "Array a :\n",
      " [[-6  3]\n",
      " [ 4  5]]\n"
     ]
    }
   ],
   "source": [
    "a = np.array([[-6, 3], [4, 5]])\n",
    "print(\"Array a :\\n\", a)"
   ]
  },
  {
   "cell_type": "code",
   "execution_count": 3,
   "id": "f68271d5-7b57-4393-8578-dc4dc327bd77",
   "metadata": {},
   "outputs": [
    {
     "name": "stdout",
     "output_type": "stream",
     "text": [
      "Eigen value of array a :\n",
      " [-7.  6.]\n",
      "\n",
      "Eigen vector of array a :\n",
      " [[-0.9486833  -0.24253563]\n",
      " [ 0.31622777 -0.9701425 ]]\n"
     ]
    }
   ],
   "source": [
    "w, v = np.linalg.eig(a)\n",
    "print(\"Eigen value of array a :\\n\", w)\n",
    "print(\"\\nEigen vector of array a :\\n\", v)"
   ]
  }
 ],
 "metadata": {
  "kernelspec": {
   "display_name": "Python 3 (ipykernel)",
   "language": "python",
   "name": "python3"
  },
  "language_info": {
   "codemirror_mode": {
    "name": "ipython",
    "version": 3
   },
   "file_extension": ".py",
   "mimetype": "text/x-python",
   "name": "python",
   "nbconvert_exporter": "python",
   "pygments_lexer": "ipython3",
   "version": "3.10.7"
  }
 },
 "nbformat": 4,
 "nbformat_minor": 5
}
