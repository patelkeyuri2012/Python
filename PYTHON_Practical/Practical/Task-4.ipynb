{
 "cells": [
  {
   "cell_type": "markdown",
   "id": "b4fcb88e-fd78-4c42-8f08-71846b45eca3",
   "metadata": {},
   "source": [
    "### Task-4\n",
    "#### Write a Python program to create an array with numerical ranges in NumPy using 'np. arrange ()', 'np. linspace()' and 'np. logspace()'"
   ]
  },
  {
   "cell_type": "markdown",
   "id": "d12c533f-0b69-40ad-9e53-fde9c19e9ecd",
   "metadata": {},
   "source": [
    "##### Start from 1, stop before 11, step by 2"
   ]
  },
  {
   "cell_type": "code",
   "execution_count": 1,
   "id": "9ea572c7-a982-4e2b-86af-2d52dbd1e2e6",
   "metadata": {},
   "outputs": [],
   "source": [
    "import numpy as np"
   ]
  },
  {
   "cell_type": "markdown",
   "id": "430696fa-8db4-4e0c-8c1e-3707915faaa1",
   "metadata": {},
   "source": [
    "##### np.arange()"
   ]
  },
  {
   "cell_type": "code",
   "execution_count": 16,
   "id": "33862cd6-21df-4f07-bba3-56b457bef7eb",
   "metadata": {},
   "outputs": [
    {
     "name": "stdout",
     "output_type": "stream",
     "text": [
      "Array using np.arange() : [1 3 5 7 9]\n"
     ]
    }
   ],
   "source": [
    "array_arange = np.arange(1, 11, 2)\n",
    "print(\"Array using np.arange() :\", array_arange)"
   ]
  },
  {
   "cell_type": "markdown",
   "id": "6d115782-1f06-4d3b-9441-205573d9346a",
   "metadata": {},
   "source": [
    "##### np.linspace()"
   ]
  },
  {
   "cell_type": "code",
   "execution_count": 15,
   "id": "940d4cb1-25c3-4b6a-bdc0-1c6f1b1a2e7f",
   "metadata": {},
   "outputs": [
    {
     "name": "stdout",
     "output_type": "stream",
     "text": [
      "Array using np.linspace() : [ 1. 11.]\n"
     ]
    }
   ],
   "source": [
    "array_linspace = np.linspace(1, 11, 2) \n",
    "print(\"Array using np.linspace() :\", array_linspace)"
   ]
  },
  {
   "cell_type": "code",
   "execution_count": 14,
   "id": "6687148e-69c3-48e5-914e-8c973e6b5532",
   "metadata": {},
   "outputs": [
    {
     "name": "stdout",
     "output_type": "stream",
     "text": [
      "Array using np.linspace() : [ 1.   3.5  6.   8.5 11. ]\n"
     ]
    }
   ],
   "source": [
    "array_linspace = np.linspace(1, 11, 5) \n",
    "print(\"Array using np.linspace() :\", array_linspace)"
   ]
  },
  {
   "cell_type": "markdown",
   "id": "507513c3-3436-4eb5-af5a-526ab2cacc6a",
   "metadata": {},
   "source": [
    "##### np.logspace()"
   ]
  },
  {
   "cell_type": "code",
   "execution_count": 13,
   "id": "e2c0f908-a462-44aa-b27a-d5d31285bbf1",
   "metadata": {},
   "outputs": [
    {
     "name": "stdout",
     "output_type": "stream",
     "text": [
      "Array using np.logspace() : [1.e+01 1.e+11]\n"
     ]
    }
   ],
   "source": [
    "array_logspace = np.logspace(1, 11, 2) \n",
    "print(\"Array using np.logspace() :\", array_logspace)"
   ]
  },
  {
   "cell_type": "code",
   "execution_count": 17,
   "id": "856df64d-9db2-4476-b049-be93a11fe516",
   "metadata": {},
   "outputs": [
    {
     "name": "stdout",
     "output_type": "stream",
     "text": [
      "Array using np.logspace() :\n",
      " [1.00000000e+01 3.16227766e+03 1.00000000e+06 3.16227766e+08\n",
      " 1.00000000e+11]\n"
     ]
    }
   ],
   "source": [
    "array_logspace = np.logspace(1, 11, 5) \n",
    "print(\"Array using np.logspace() :\\n\", array_logspace)"
   ]
  }
 ],
 "metadata": {
  "kernelspec": {
   "display_name": "Python 3 (ipykernel)",
   "language": "python",
   "name": "python3"
  },
  "language_info": {
   "codemirror_mode": {
    "name": "ipython",
    "version": 3
   },
   "file_extension": ".py",
   "mimetype": "text/x-python",
   "name": "python",
   "nbconvert_exporter": "python",
   "pygments_lexer": "ipython3",
   "version": "3.10.7"
  }
 },
 "nbformat": 4,
 "nbformat_minor": 5
}
