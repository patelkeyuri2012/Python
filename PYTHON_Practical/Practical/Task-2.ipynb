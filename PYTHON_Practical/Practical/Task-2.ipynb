{
 "cells": [
  {
   "cell_type": "markdown",
   "id": "541d6706-ac73-40b5-b15b-227d771767d6",
   "metadata": {},
   "source": [
    "### Task-2\n",
    "#### Write a Python program in NumPy to create an array with low-level ndarray with perform the following tasks"
   ]
  },
  {
   "cell_type": "code",
   "execution_count": 4,
   "id": "359e45e0-1655-4062-8e51-3b17ee5cdef1",
   "metadata": {},
   "outputs": [],
   "source": [
    "import numpy as np"
   ]
  },
  {
   "cell_type": "markdown",
   "id": "ad32864b-ec97-4de8-954c-03487f2d99c8",
   "metadata": {},
   "source": [
    "##### Creating an array using the low-level 'ndarray' constructor in NumPy involves specifying the array's shape, and data type, and optionally providing initial data"
   ]
  },
  {
   "cell_type": "code",
   "execution_count": 15,
   "id": "eee6dd36-27b1-45ca-8c33-f1305634c1f5",
   "metadata": {},
   "outputs": [],
   "source": [
    "shape = (3, 4)\n",
    "dtype = np.int32\n",
    "initial_data = np.arange(12).reshape(shape)"
   ]
  },
  {
   "cell_type": "code",
   "execution_count": 16,
   "id": "1daa69a3-f324-4da5-8dcd-5960086c4299",
   "metadata": {},
   "outputs": [
    {
     "name": "stdout",
     "output_type": "stream",
     "text": [
      "Array custom_array :\n",
      " [[ 0  1  2  3]\n",
      " [ 4  5  6  7]\n",
      " [ 8  9 10 11]]\n"
     ]
    }
   ],
   "source": [
    "custom_array = np.ndarray(shape=shape, dtype=dtype, buffer=initial_data)\n",
    "print(\"Array custom_array :\\n\", custom_array)"
   ]
  },
  {
   "cell_type": "markdown",
   "id": "a14ff654-41e5-4b91-b8b0-66ca36146f08",
   "metadata": {},
   "source": [
    "##### Modify an element in the array (custom_array[2] = 10)"
   ]
  },
  {
   "cell_type": "code",
   "execution_count": 17,
   "id": "a76d33e0-b011-4295-8a31-c031011fb61e",
   "metadata": {},
   "outputs": [
    {
     "name": "stdout",
     "output_type": "stream",
     "text": [
      "Array custom_array :\n",
      " [[ 0  1  2  3]\n",
      " [ 4  5  6  7]\n",
      " [10 10 10 10]]\n"
     ]
    }
   ],
   "source": [
    "custom_array[2] = 10\n",
    "print(\"Array custom_array :\\n\", custom_array)"
   ]
  },
  {
   "cell_type": "markdown",
   "id": "d11337f5-d144-486a-a295-42b8157d18e6",
   "metadata": {},
   "source": [
    "##### Reshape the array into a 2D array (reshaped_array = custom_array.reshape((1, 5)))"
   ]
  },
  {
   "cell_type": "code",
   "execution_count": 18,
   "id": "9f34ce11-38cd-4284-b0bd-ebab6d7170f9",
   "metadata": {},
   "outputs": [
    {
     "ename": "ValueError",
     "evalue": "cannot reshape array of size 12 into shape (1,5)",
     "output_type": "error",
     "traceback": [
      "\u001b[1;31m---------------------------------------------------------------------------\u001b[0m",
      "\u001b[1;31mValueError\u001b[0m                                Traceback (most recent call last)",
      "Cell \u001b[1;32mIn[18], line 1\u001b[0m\n\u001b[1;32m----> 1\u001b[0m reshaped_array \u001b[38;5;241m=\u001b[39m \u001b[43mcustom_array\u001b[49m\u001b[38;5;241;43m.\u001b[39;49m\u001b[43mreshape\u001b[49m\u001b[43m(\u001b[49m\u001b[38;5;241;43m1\u001b[39;49m\u001b[43m,\u001b[49m\u001b[43m \u001b[49m\u001b[38;5;241;43m5\u001b[39;49m\u001b[43m)\u001b[49m\n\u001b[0;32m      2\u001b[0m \u001b[38;5;28mprint\u001b[39m(\u001b[38;5;124m\"\u001b[39m\u001b[38;5;124mArray reshaped_array :\u001b[39m\u001b[38;5;130;01m\\n\u001b[39;00m\u001b[38;5;124m\"\u001b[39m, reshaped_array)\n",
      "\u001b[1;31mValueError\u001b[0m: cannot reshape array of size 12 into shape (1,5)"
     ]
    }
   ],
   "source": [
    "reshaped_array = custom_array.reshape(1, 5)\n",
    "print(\"Array reshaped_array :\\n\", reshaped_array)"
   ]
  },
  {
   "cell_type": "code",
   "execution_count": 19,
   "id": "68cc754c-ce42-4a11-8a21-d7010fc9d4a7",
   "metadata": {},
   "outputs": [
    {
     "name": "stdout",
     "output_type": "stream",
     "text": [
      "[[4]\n",
      " [5]\n",
      " [7]\n",
      " [8]\n",
      " [9]]\n"
     ]
    }
   ],
   "source": [
    "custom_array = np.array([[4],[5],[7],[8],[9]])\n",
    "print(custom_array)"
   ]
  },
  {
   "cell_type": "code",
   "execution_count": 20,
   "id": "19af35d9-fb76-44ba-83ba-31b2717c014e",
   "metadata": {},
   "outputs": [
    {
     "name": "stdout",
     "output_type": "stream",
     "text": [
      "Array reshaped_array :\n",
      " [[4 5 7 8 9]]\n"
     ]
    }
   ],
   "source": [
    "reshaped_array = custom_array.reshape(1, 5)\n",
    "print(\"Array reshaped_array :\\n\", reshaped_array)"
   ]
  }
 ],
 "metadata": {
  "kernelspec": {
   "display_name": "Python 3 (ipykernel)",
   "language": "python",
   "name": "python3"
  },
  "language_info": {
   "codemirror_mode": {
    "name": "ipython",
    "version": 3
   },
   "file_extension": ".py",
   "mimetype": "text/x-python",
   "name": "python",
   "nbconvert_exporter": "python",
   "pygments_lexer": "ipython3",
   "version": "3.10.7"
  }
 },
 "nbformat": 4,
 "nbformat_minor": 5
}
