{
 "cells": [
  {
   "cell_type": "markdown",
   "id": "ab0dd97b-f8ea-4f31-8af9-019b884fc854",
   "metadata": {},
   "source": [
    "#### 3. Write a program to find sum of 'n' number"
   ]
  },
  {
   "cell_type": "code",
   "execution_count": 3,
   "id": "93d7015a-e5a1-4406-a00c-e750e5799458",
   "metadata": {},
   "outputs": [
    {
     "name": "stdin",
     "output_type": "stream",
     "text": [
      "Enter number :  4\n"
     ]
    },
    {
     "name": "stdout",
     "output_type": "stream",
     "text": [
      "Sum of 4 number is : 10\n"
     ]
    }
   ],
   "source": [
    "a = int(input(\"Enter number : \"))\n",
    "b = a + 1\n",
    "sum = 0\n",
    "for i in range (0,b):\n",
    "    sum += int(i)\n",
    "print(\"Sum of\",a,\"number is :\",sum)"
   ]
  },
  {
   "cell_type": "code",
   "execution_count": null,
   "id": "52285aea-e2ce-4513-b2af-4a929fe7f579",
   "metadata": {},
   "outputs": [],
   "source": []
  },
  {
   "cell_type": "code",
   "execution_count": null,
   "id": "d8b96c29-9d86-47cb-ba1a-deac64489271",
   "metadata": {},
   "outputs": [],
   "source": []
  }
 ],
 "metadata": {
  "kernelspec": {
   "display_name": "Python 3 (ipykernel)",
   "language": "python",
   "name": "python3"
  },
  "language_info": {
   "codemirror_mode": {
    "name": "ipython",
    "version": 3
   },
   "file_extension": ".py",
   "mimetype": "text/x-python",
   "name": "python",
   "nbconvert_exporter": "python",
   "pygments_lexer": "ipython3",
   "version": "3.10.7"
  }
 },
 "nbformat": 4,
 "nbformat_minor": 5
}
