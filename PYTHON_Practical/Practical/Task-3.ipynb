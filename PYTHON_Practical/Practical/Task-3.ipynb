{
 "cells": [
  {
   "cell_type": "markdown",
   "id": "e74cc23f-9ef7-45d9-96e6-d3c3bcfa3688",
   "metadata": {},
   "source": [
    "### Task-3\n",
    "#### Write a Python program in NumPy to create an array with existing data and perform the following tasks"
   ]
  },
  {
   "cell_type": "code",
   "execution_count": 1,
   "id": "315445a5-8008-4486-9cf0-50ee0b31b08e",
   "metadata": {},
   "outputs": [],
   "source": [
    "import numpy as np"
   ]
  },
  {
   "cell_type": "markdown",
   "id": "81b69958-6518-4c59-8c41-0afb0c0c5b05",
   "metadata": {},
   "source": [
    "##### Create an array ('array1') using the 'np. array()' function with existing data ('data1')"
   ]
  },
  {
   "cell_type": "code",
   "execution_count": 9,
   "id": "e4b4c2ff-b614-4f6f-89e6-1b0ed694a416",
   "metadata": {},
   "outputs": [
    {
     "name": "stdout",
     "output_type": "stream",
     "text": [
      "Array 1 : [16 26 36 46 56]\n"
     ]
    }
   ],
   "source": [
    "data1 = [16, 26, 36, 46, 56]\n",
    "array1 = np.array(data1)\n",
    "print(\"Array 1 :\" ,array1)"
   ]
  },
  {
   "cell_type": "markdown",
   "id": "cc913886-994f-4835-85f0-eaa1e8044977",
   "metadata": {},
   "source": [
    "##### Create another array ('array2') using the 'np.asarray()' function with different data ('data2')"
   ]
  },
  {
   "cell_type": "code",
   "execution_count": 10,
   "id": "73e7bbc3-bf8c-4f0e-8117-8e3c789a1f53",
   "metadata": {},
   "outputs": [
    {
     "name": "stdout",
     "output_type": "stream",
     "text": [
      "Array 2 : [10 20 30 40 50]\n"
     ]
    }
   ],
   "source": [
    "data2 = [10, 20, 30, 40, 50]\n",
    "array2 = np.asarray(data2)\n",
    "print(\"Array 2 :\" ,array2)"
   ]
  },
  {
   "cell_type": "markdown",
   "id": "573c15a6-09a5-4689-ab03-51f7bfc5a0c6",
   "metadata": {},
   "source": [
    "##### Modify the original data ('data1[2] = 100') and observe that the 'np. array()' array ('array1') remains unchanged, as it creates a new copy of the data"
   ]
  },
  {
   "cell_type": "code",
   "execution_count": 11,
   "id": "2e5d37b1-4b45-44c2-8435-01607285818d",
   "metadata": {},
   "outputs": [],
   "source": [
    "data1[2] = 100"
   ]
  },
  {
   "cell_type": "code",
   "execution_count": 15,
   "id": "b766df51-cd8b-4c73-bac0-177124c00579",
   "metadata": {},
   "outputs": [
    {
     "name": "stdout",
     "output_type": "stream",
     "text": [
      "Array 1 : [16 26 36 46 56]\n"
     ]
    }
   ],
   "source": [
    "print(\"Array 1 :\" ,array1)"
   ]
  },
  {
   "cell_type": "code",
   "execution_count": 16,
   "id": "d9f6c848-975a-4152-90d0-1f803e10a7ac",
   "metadata": {},
   "outputs": [
    {
     "name": "stdout",
     "output_type": "stream",
     "text": [
      "Data 1 : [16, 26, 100, 46, 56]\n"
     ]
    }
   ],
   "source": [
    "print(\"Data 1 :\" ,data1)"
   ]
  }
 ],
 "metadata": {
  "kernelspec": {
   "display_name": "Python 3 (ipykernel)",
   "language": "python",
   "name": "python3"
  },
  "language_info": {
   "codemirror_mode": {
    "name": "ipython",
    "version": 3
   },
   "file_extension": ".py",
   "mimetype": "text/x-python",
   "name": "python",
   "nbconvert_exporter": "python",
   "pygments_lexer": "ipython3",
   "version": "3.10.7"
  }
 },
 "nbformat": 4,
 "nbformat_minor": 5
}
