{
 "cells": [
  {
   "cell_type": "markdown",
   "id": "bb403b81-00b0-4951-976c-b12c70cbaa39",
   "metadata": {},
   "source": [
    "#### 8. Write a program using user-define function to find out mean"
   ]
  },
  {
   "cell_type": "code",
   "execution_count": 3,
   "id": "891a56d4-056a-4b79-9442-4e0a7416f372",
   "metadata": {},
   "outputs": [
    {
     "name": "stdin",
     "output_type": "stream",
     "text": [
      "Enter the size of list:  5\n",
      "Enter element:  34\n",
      "Enter element:  23\n",
      "Enter element:  54\n",
      "Enter element:  35\n",
      "Enter element:  46\n"
     ]
    },
    {
     "name": "stdout",
     "output_type": "stream",
     "text": [
      "Elements of list: [34, 23, 54, 35, 46]\n",
      "Mean of given numbers : 38.4\n"
     ]
    }
   ],
   "source": [
    "def mean(data):\n",
    "    if len(data) == 0:\n",
    "        mean = 0\n",
    "    else:\n",
    "        sum = 0\n",
    "        for i in data :\n",
    "            sum += int(i)\n",
    "        mean = sum / len(data)\n",
    "    return mean\n",
    "\n",
    "data = []\n",
    "ele = int(input(\"Enter the size of list: \"))\n",
    "for i in range(ele):\n",
    "    element = int(input(\"Enter element: \"))\n",
    "    data.append(element)\n",
    "print(\"Elements of list:\", data)\n",
    "\n",
    "print(\"Mean of given numbers :\", mean(data))"
   ]
  }
 ],
 "metadata": {
  "kernelspec": {
   "display_name": "Python 3 (ipykernel)",
   "language": "python",
   "name": "python3"
  },
  "language_info": {
   "codemirror_mode": {
    "name": "ipython",
    "version": 3
   },
   "file_extension": ".py",
   "mimetype": "text/x-python",
   "name": "python",
   "nbconvert_exporter": "python",
   "pygments_lexer": "ipython3",
   "version": "3.10.7"
  }
 },
 "nbformat": 4,
 "nbformat_minor": 5
}
