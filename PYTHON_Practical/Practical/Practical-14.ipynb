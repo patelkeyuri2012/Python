{
 "cells": [
  {
   "cell_type": "markdown",
   "id": "6f5ae106-3dbe-4245-836a-7c7f4ff0e296",
   "metadata": {},
   "source": [
    "#### 14. Write a program to copy content one txt file to another txt file"
   ]
  },
  {
   "cell_type": "code",
   "execution_count": 2,
   "id": "7c657179-7f90-4652-8e92-bca003bd7057",
   "metadata": {},
   "outputs": [
    {
     "name": "stdout",
     "output_type": "stream",
     "text": [
      "Content copied successfully\n"
     ]
    }
   ],
   "source": [
    "import os\n",
    "import shutil as sh\n",
    "\n",
    "file1 = \"D:\\\\KEYURI\\\\MCA\\\\SEM-I\\\\PYTHON\\\\PYTHON_Practical\\\\Files\\\\file1.txt\"  \n",
    "file2 = \"D:\\\\KEYURI\\\\MCA\\\\SEM-I\\\\PYTHON\\\\PYTHON_Practical\\\\Files\\\\file2.txt\"  \n",
    "\n",
    "sh.copyfile(file1, file2)\n",
    "\n",
    "print(\"Content copied successfully\")"
   ]
  }
 ],
 "metadata": {
  "kernelspec": {
   "display_name": "Python 3 (ipykernel)",
   "language": "python",
   "name": "python3"
  },
  "language_info": {
   "codemirror_mode": {
    "name": "ipython",
    "version": 3
   },
   "file_extension": ".py",
   "mimetype": "text/x-python",
   "name": "python",
   "nbconvert_exporter": "python",
   "pygments_lexer": "ipython3",
   "version": "3.10.7"
  }
 },
 "nbformat": 4,
 "nbformat_minor": 5
}
