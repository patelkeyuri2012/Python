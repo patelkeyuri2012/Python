{
 "cells": [
  {
   "cell_type": "markdown",
   "id": "80010dcc-d668-40df-acc4-f63f293b487e",
   "metadata": {},
   "source": [
    "#### 4. Write a program to print digit in pyramid"
   ]
  },
  {
   "cell_type": "code",
   "execution_count": 10,
   "id": "e05941cf-7796-430a-b450-e77b238aa1cb",
   "metadata": {},
   "outputs": [
    {
     "name": "stdin",
     "output_type": "stream",
     "text": [
      "Enter number of rows to print pyramid: 5\n"
     ]
    },
    {
     "name": "stdout",
     "output_type": "stream",
     "text": [
      "       \n",
      "     1  \n",
      "    2 2  \n",
      "   3 3 3  \n",
      "  4 4 4 4  \n",
      " 5 5 5 5 5  \n"
     ]
    }
   ],
   "source": [
    "end = int(input(\"Enter number of rows to print pyramid:\"))\n",
    "end = end+1\n",
    "for num in range(end):\n",
    "    for j in range (end):\n",
    "        print(end = \" \")\n",
    "    end = end - 1\n",
    "    for i in range(num):\n",
    "        print(num, end=\" \")\n",
    "    print (' ')"
   ]
  },
  {
   "cell_type": "code",
   "execution_count": 2,
   "id": "4fedea79-38e0-4992-a8c6-39aa181301c1",
   "metadata": {},
   "outputs": [
    {
     "name": "stdin",
     "output_type": "stream",
     "text": [
      "Enter number of rows to print pyramid: 5\n"
     ]
    },
    {
     "name": "stdout",
     "output_type": "stream",
     "text": [
      " \n",
      "1  \n",
      "2 2  \n",
      "3 3 3  \n",
      "4 4 4 4  \n",
      "5 5 5 5 5  \n"
     ]
    }
   ],
   "source": [
    "end = int(input(\"Enter number of rows to print pyramid:\"))\n",
    "end = end+1\n",
    "for num in range(end):\n",
    "    for i in range(num):\n",
    "        print(num, end = ' ')\n",
    "    print (' ')"
   ]
  },
  {
   "cell_type": "code",
   "execution_count": 3,
   "id": "4b5b6a8f-c0ab-48f8-ab97-b60c8d694842",
   "metadata": {},
   "outputs": [
    {
     "name": "stdin",
     "output_type": "stream",
     "text": [
      "Enter number of rows to print pyramid: 5\n"
     ]
    },
    {
     "name": "stdout",
     "output_type": "stream",
     "text": [
      "                   \n",
      "               1   \n",
      "            2  2   \n",
      "         3  3  3   \n",
      "      4  4  4  4   \n",
      "   5  5  5  5  5   \n"
     ]
    }
   ],
   "source": [
    "end = int(input(\"Enter number of rows to print pyramid:\"))\n",
    "end = end+1\n",
    "for num in range(end):\n",
    "    for j in range (end):\n",
    "        print(end = \"   \")\n",
    "    end = end - 1\n",
    "    for i in range(num):\n",
    "        print(num, end=\"  \")\n",
    "    print (' ')"
   ]
  }
 ],
 "metadata": {
  "kernelspec": {
   "display_name": "Python 3 (ipykernel)",
   "language": "python",
   "name": "python3"
  },
  "language_info": {
   "codemirror_mode": {
    "name": "ipython",
    "version": 3
   },
   "file_extension": ".py",
   "mimetype": "text/x-python",
   "name": "python",
   "nbconvert_exporter": "python",
   "pygments_lexer": "ipython3",
   "version": "3.10.7"
  }
 },
 "nbformat": 4,
 "nbformat_minor": 5
}
