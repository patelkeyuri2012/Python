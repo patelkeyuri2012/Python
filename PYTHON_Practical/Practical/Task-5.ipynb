{
 "cells": [
  {
   "cell_type": "markdown",
   "id": "5624df26-f289-4776-b8b1-efde48b7f774",
   "metadata": {},
   "source": [
    "### Task-5\n",
    "#### Write a Python program in NumPy to perform a vectorization operation on the entire array with the following steps"
   ]
  },
  {
   "cell_type": "code",
   "execution_count": 2,
   "id": "70fd1d05-2bf7-4c6d-9e93-1a975e10debe",
   "metadata": {},
   "outputs": [],
   "source": [
    "import numpy as np"
   ]
  },
  {
   "cell_type": "markdown",
   "id": "4591e254-17de-4ca6-8189-b82c7032e770",
   "metadata": {},
   "source": [
    "##### Create two arrays ('array1' and 'array2')"
   ]
  },
  {
   "cell_type": "code",
   "execution_count": 32,
   "id": "ab38b867-6fb7-4b64-848e-9a008b42b767",
   "metadata": {},
   "outputs": [
    {
     "name": "stdout",
     "output_type": "stream",
     "text": [
      "Array 1 :\n",
      " [[3 7 8 5 6]\n",
      " [3 2 6 7 5]]\n"
     ]
    }
   ],
   "source": [
    "array1 = np.array([[3, 7, 8, 5, 6], [3, 2, 6, 7, 5]])\n",
    "print(\"Array 1 :\\n\", array1)"
   ]
  },
  {
   "cell_type": "code",
   "execution_count": 33,
   "id": "648622b9-7fa0-4633-b208-68ed8de39e69",
   "metadata": {},
   "outputs": [
    {
     "name": "stdout",
     "output_type": "stream",
     "text": [
      "Array 2 :\n",
      " [[4 6 3 2 1]\n",
      " [8 2 3 8 2]]\n"
     ]
    }
   ],
   "source": [
    "array2 = np.array([[4, 6, 3, 2, 1], [8, 2, 3, 8, 2]])\n",
    "print(\"Array 2 :\\n\", array2)"
   ]
  },
  {
   "cell_type": "markdown",
   "id": "76f47423-1fcc-46a1-a2ca-9eddb7be1fe0",
   "metadata": {},
   "source": [
    "##### Perform vectorized addition ('array1 + array2'), multiplication ('array1 * array2'), and square root ('np.sqrt(array1)')."
   ]
  },
  {
   "cell_type": "markdown",
   "id": "f771a740-a26c-4e0f-a73b-378488bf3f5f",
   "metadata": {},
   "source": [
    "###### addition ('array1 + array2')"
   ]
  },
  {
   "cell_type": "code",
   "execution_count": 34,
   "id": "480f3b42-a469-4f72-ab17-29f76f7b68d8",
   "metadata": {},
   "outputs": [
    {
     "name": "stdout",
     "output_type": "stream",
     "text": [
      "Vectorized Addition Result :\n",
      " [[ 7 13 11  7  7]\n",
      " [11  4  9 15  7]]\n"
     ]
    }
   ],
   "source": [
    "addition = array1 + array2\n",
    "print(\"Vectorized Addition Result :\\n\", addition)"
   ]
  },
  {
   "cell_type": "markdown",
   "id": "c3b7a0a1-8dbe-4792-bd85-568b34665f05",
   "metadata": {},
   "source": [
    "###### multiplication ('array1 * array2')"
   ]
  },
  {
   "cell_type": "code",
   "execution_count": 35,
   "id": "213a6722-bd18-4d94-8383-8df87dc65cde",
   "metadata": {},
   "outputs": [
    {
     "name": "stdout",
     "output_type": "stream",
     "text": [
      "Vectorized Multiplication Result :\n",
      " [[12 42 24 10  6]\n",
      " [24  4 18 56 10]]\n"
     ]
    }
   ],
   "source": [
    "multiplication = array1 * array2\n",
    "print(\"Vectorized Multiplication Result :\\n\", multiplication)"
   ]
  },
  {
   "cell_type": "markdown",
   "id": "f12dc407-bba7-4bf9-a15a-8f9ef97f6bfe",
   "metadata": {},
   "source": [
    "###### square root ('np.sqrt(array1))"
   ]
  },
  {
   "cell_type": "code",
   "execution_count": 36,
   "id": "1997c83d-6a59-40fa-acee-2174babc3e12",
   "metadata": {},
   "outputs": [
    {
     "name": "stdout",
     "output_type": "stream",
     "text": [
      "Vectorized Square Root Result :\n",
      " [[1.73205081 2.64575131 2.82842712 2.23606798 2.44948974]\n",
      " [1.73205081 1.41421356 2.44948974 2.64575131 2.23606798]]\n"
     ]
    }
   ],
   "source": [
    "square_root = np.sqrt(array1)\n",
    "print(\"Vectorized Square Root Result :\\n\", square_root)"
   ]
  }
 ],
 "metadata": {
  "kernelspec": {
   "display_name": "Python 3 (ipykernel)",
   "language": "python",
   "name": "python3"
  },
  "language_info": {
   "codemirror_mode": {
    "name": "ipython",
    "version": 3
   },
   "file_extension": ".py",
   "mimetype": "text/x-python",
   "name": "python",
   "nbconvert_exporter": "python",
   "pygments_lexer": "ipython3",
   "version": "3.10.7"
  }
 },
 "nbformat": 4,
 "nbformat_minor": 5
}
