{
 "cells": [
  {
   "cell_type": "markdown",
   "id": "f2c84d9b-029f-4164-bd77-4c4f693af94e",
   "metadata": {},
   "source": [
    "### Task-1\n",
    "#### Write a NumPy program to perform efficient array operations as below"
   ]
  },
  {
   "cell_type": "code",
   "execution_count": 3,
   "id": "39d8c319-f8ed-4cc6-ad82-4aae0b6eae30",
   "metadata": {},
   "outputs": [],
   "source": [
    "import numpy as np"
   ]
  },
  {
   "cell_type": "markdown",
   "id": "a02eb2fa-784d-4be5-9330-7e295e4b74f6",
   "metadata": {},
   "source": [
    "##### Create a NumPy array using the 'np.array' function "
   ]
  },
  {
   "cell_type": "code",
   "execution_count": 5,
   "id": "eef321aa-b118-4521-9fc3-81a930f9ff8f",
   "metadata": {},
   "outputs": [
    {
     "name": "stdout",
     "output_type": "stream",
     "text": [
      "Array a :\n",
      " [[ 3  4  5  6  7]\n",
      " [13 14 15 16 17]\n",
      " [23 24 25 26 27]]\n"
     ]
    }
   ],
   "source": [
    "a = np.array([[3, 4, 5, 6, 7], [13, 14, 15, 16, 17], [23, 24, 25, 26, 27]])\n",
    "print(\"Array a :\\n\", a)"
   ]
  },
  {
   "cell_type": "markdown",
   "id": "c53092e1-559e-4797-a19f-40170915ed35",
   "metadata": {},
   "source": [
    "##### Perform array operations such as squaring each element and calculating the sum using NumPy functions"
   ]
  },
  {
   "cell_type": "code",
   "execution_count": 6,
   "id": "c48ed205-c805-4199-a51e-1f0e24bc443e",
   "metadata": {},
   "outputs": [
    {
     "name": "stdout",
     "output_type": "stream",
     "text": [
      "[[  9  16  25  36  49]\n",
      " [169 196 225 256 289]\n",
      " [529 576 625 676 729]]\n"
     ]
    }
   ],
   "source": [
    "b = np.square(a)\n",
    "print(b)"
   ]
  },
  {
   "cell_type": "code",
   "execution_count": 7,
   "id": "4c7cdbbc-794d-45e5-8ad4-86a80c61416c",
   "metadata": {},
   "outputs": [
    {
     "name": "stdout",
     "output_type": "stream",
     "text": [
      "[[ 12  20  30  42  56]\n",
      " [182 210 240 272 306]\n",
      " [552 600 650 702 756]]\n"
     ]
    }
   ],
   "source": [
    "sum = np.add(a,b)\n",
    "print(sum)"
   ]
  },
  {
   "cell_type": "markdown",
   "id": "a4ee23c0-2674-448d-9023-35baf301b59b",
   "metadata": {},
   "source": [
    "##### Reshaped the array into a 2D array using the 'reshape' method"
   ]
  },
  {
   "cell_type": "code",
   "execution_count": 10,
   "id": "14003248-582f-40fa-8364-f61ba3ac7659",
   "metadata": {},
   "outputs": [
    {
     "name": "stdout",
     "output_type": "stream",
     "text": [
      "1D Array b : [2 3 4 5 6 7]\n"
     ]
    }
   ],
   "source": [
    "b = np.arange(2, 8)\n",
    "print(\"1D Array b :\", b)"
   ]
  },
  {
   "cell_type": "code",
   "execution_count": 16,
   "id": "03909217-bd5e-4b48-b853-138ac18bb229",
   "metadata": {},
   "outputs": [
    {
     "name": "stdout",
     "output_type": "stream",
     "text": [
      "2D Array b :\n",
      " [[2 3 4]\n",
      " [5 6 7]]\n"
     ]
    }
   ],
   "source": [
    "print(\"2D Array b :\\n\", b.reshape(2,3))"
   ]
  }
 ],
 "metadata": {
  "kernelspec": {
   "display_name": "Python 3 (ipykernel)",
   "language": "python",
   "name": "python3"
  },
  "language_info": {
   "codemirror_mode": {
    "name": "ipython",
    "version": 3
   },
   "file_extension": ".py",
   "mimetype": "text/x-python",
   "name": "python",
   "nbconvert_exporter": "python",
   "pygments_lexer": "ipython3",
   "version": "3.10.7"
  }
 },
 "nbformat": 4,
 "nbformat_minor": 5
}
