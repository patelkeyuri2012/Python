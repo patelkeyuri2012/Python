{
 "cells": [
  {
   "cell_type": "markdown",
   "id": "8bf4546c-7e3b-4896-9347-d511ca4f260c",
   "metadata": {},
   "source": [
    "#### 7. Write a program using user-define function to print string except special characters in given string"
   ]
  },
  {
   "cell_type": "code",
   "execution_count": 1,
   "id": "cbe123e9-5067-4d93-9496-082e469b986a",
   "metadata": {},
   "outputs": [
    {
     "name": "stdin",
     "output_type": "stream",
     "text": [
      "Enter String to remove articles :  patelkeyuri@gmail.com\n"
     ]
    },
    {
     "name": "stdout",
     "output_type": "stream",
     "text": [
      "String after remove articals :  patelkeyurigmailcom\n"
     ]
    }
   ],
   "source": [
    "def rem_art(string):\n",
    "    a = ['~', '`', '!', '@', '#', '$', '%', '^', '&', '*', '£','.']\n",
    "    r = ' '\n",
    "    for i in range (len(string)):\n",
    "        if string[i] not in a:\n",
    "            r = r + string[i]\n",
    "    return (r)\n",
    "\n",
    "string = input(\"Enter String to remove articles : \")\n",
    "print(\"String after remove articals :\",rem_art(string))"
   ]
  }
 ],
 "metadata": {
  "kernelspec": {
   "display_name": "Python 3 (ipykernel)",
   "language": "python",
   "name": "python3"
  },
  "language_info": {
   "codemirror_mode": {
    "name": "ipython",
    "version": 3
   },
   "file_extension": ".py",
   "mimetype": "text/x-python",
   "name": "python",
   "nbconvert_exporter": "python",
   "pygments_lexer": "ipython3",
   "version": "3.10.7"
  }
 },
 "nbformat": 4,
 "nbformat_minor": 5
}
