{
 "cells": [
  {
   "cell_type": "markdown",
   "id": "79561e13-6abb-4f26-a959-269940a60db9",
   "metadata": {},
   "source": [
    "#### 10. Write a program using user-define function to find out mode"
   ]
  },
  {
   "cell_type": "code",
   "execution_count": 2,
   "id": "7901446d-42cb-489d-b2f3-6d697bf74b30",
   "metadata": {},
   "outputs": [
    {
     "name": "stdin",
     "output_type": "stream",
     "text": [
      "Enter the size of list:  4\n",
      "Enter element:  23\n",
      "Enter element:  43\n",
      "Enter element:  23\n",
      "Enter element:  34\n"
     ]
    },
    {
     "name": "stdout",
     "output_type": "stream",
     "text": [
      "Elements of list: [23, 43, 23, 34]\n",
      "Mode of given numbers : 23\n"
     ]
    }
   ],
   "source": [
    "def mode(data):\n",
    "    if len(data) == 0:\n",
    "        mode = 0\n",
    "    else:\n",
    "        max_freq = 0 \n",
    "        for i in data:\n",
    "            freq = data.count(i)  \n",
    "            if freq > max_freq :\n",
    "                max_freq = freq\n",
    "                f = data.index(i) \n",
    "        mode = data[f]\n",
    "    return mode  \n",
    "\n",
    "data = []\n",
    "ele = int(input(\"Enter the size of list: \"))\n",
    "for i in range(ele):\n",
    "    element = int(input(\"Enter element: \"))\n",
    "    data.append(element)\n",
    "print(\"Elements of list:\", data)\n",
    "\n",
    "print(\"Mode of given numbers :\", mode(data))"
   ]
  }
 ],
 "metadata": {
  "kernelspec": {
   "display_name": "Python 3 (ipykernel)",
   "language": "python",
   "name": "python3"
  },
  "language_info": {
   "codemirror_mode": {
    "name": "ipython",
    "version": 3
   },
   "file_extension": ".py",
   "mimetype": "text/x-python",
   "name": "python",
   "nbconvert_exporter": "python",
   "pygments_lexer": "ipython3",
   "version": "3.10.7"
  }
 },
 "nbformat": 4,
 "nbformat_minor": 5
}
