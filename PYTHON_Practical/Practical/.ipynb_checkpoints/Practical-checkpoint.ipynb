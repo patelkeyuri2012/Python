{
 "cells": [
  {
   "cell_type": "markdown",
   "id": "f2c84d9b-029f-4164-bd77-4c4f693af94e",
   "metadata": {},
   "source": [
    "### Task-1\n",
    "#### Write a NumPy program to perform efficient array operations as below"
   ]
  },
  {
   "cell_type": "markdown",
   "id": "a02eb2fa-784d-4be5-9330-7e295e4b74f6",
   "metadata": {},
   "source": [
    "##### Create a NumPy array using the 'np.array' function "
   ]
  },
  {
   "cell_type": "code",
   "execution_count": 1,
   "id": "39d8c319-f8ed-4cc6-ad82-4aae0b6eae30",
   "metadata": {},
   "outputs": [],
   "source": [
    "import numpy as np"
   ]
  },
  {
   "cell_type": "code",
   "execution_count": 2,
   "id": "eef321aa-b118-4521-9fc3-81a930f9ff8f",
   "metadata": {},
   "outputs": [
    {
     "name": "stdout",
     "output_type": "stream",
     "text": [
      "Array a :\n",
      " [[ 3  4  5  6  7]\n",
      " [13 14 15 16 17]\n",
      " [23 24 25 26 27]]\n"
     ]
    }
   ],
   "source": [
    "a = np.array([[3, 4, 5, 6, 7], [13, 14, 15, 16, 17], [23, 24, 25, 26, 27]])\n",
    "print(\"Array a :\\n\", a)"
   ]
  },
  {
   "cell_type": "markdown",
   "id": "c53092e1-559e-4797-a19f-40170915ed35",
   "metadata": {},
   "source": [
    "##### Perform array operations such as squaring each element and calculating the sum using NumPy functions"
   ]
  },
  {
   "cell_type": "code",
   "execution_count": 3,
   "id": "c48ed205-c805-4199-a51e-1f0e24bc443e",
   "metadata": {},
   "outputs": [
    {
     "name": "stdout",
     "output_type": "stream",
     "text": [
      "[[  9  16  25  36  49]\n",
      " [169 196 225 256 289]\n",
      " [529 576 625 676 729]]\n"
     ]
    }
   ],
   "source": [
    "b = np.square(a)\n",
    "print(b)"
   ]
  },
  {
   "cell_type": "code",
   "execution_count": 4,
   "id": "4c7cdbbc-794d-45e5-8ad4-86a80c61416c",
   "metadata": {},
   "outputs": [
    {
     "name": "stdout",
     "output_type": "stream",
     "text": [
      "[[ 12  20  30  42  56]\n",
      " [182 210 240 272 306]\n",
      " [552 600 650 702 756]]\n"
     ]
    }
   ],
   "source": [
    "sum = np.add(a,b)\n",
    "print(sum)"
   ]
  },
  {
   "cell_type": "markdown",
   "id": "a4ee23c0-2674-448d-9023-35baf301b59b",
   "metadata": {},
   "source": [
    "##### Reshaped the array into a 2D array using the 'reshape' method"
   ]
  },
  {
   "cell_type": "code",
   "execution_count": 5,
   "id": "14003248-582f-40fa-8364-f61ba3ac7659",
   "metadata": {},
   "outputs": [
    {
     "name": "stdout",
     "output_type": "stream",
     "text": [
      "1D Array b : [2 3 4 5 6 7]\n"
     ]
    }
   ],
   "source": [
    "b = np.arange(2, 8)\n",
    "print(\"1D Array b :\", b)"
   ]
  },
  {
   "cell_type": "code",
   "execution_count": 6,
   "id": "03909217-bd5e-4b48-b853-138ac18bb229",
   "metadata": {},
   "outputs": [
    {
     "name": "stdout",
     "output_type": "stream",
     "text": [
      "2D Array b :\n",
      " [[2 3 4]\n",
      " [5 6 7]]\n"
     ]
    }
   ],
   "source": [
    "print(\"2D Array b :\\n\", b.reshape(2,3))"
   ]
  },
  {
   "cell_type": "markdown",
   "id": "541d6706-ac73-40b5-b15b-227d771767d6",
   "metadata": {},
   "source": [
    "### Task-2\n",
    "#### Write a Python program in NumPy to create an array with low-level ndarray with perform the following tasks"
   ]
  },
  {
   "cell_type": "markdown",
   "id": "ad32864b-ec97-4de8-954c-03487f2d99c8",
   "metadata": {},
   "source": [
    "##### Creating an array using the low-level 'ndarray' constructor in NumPy involves specifying the array's shape, and data type, and optionally providing initial data"
   ]
  },
  {
   "cell_type": "code",
   "execution_count": null,
   "id": "eee6dd36-27b1-45ca-8c33-f1305634c1f5",
   "metadata": {},
   "outputs": [],
   "source": []
  },
  {
   "cell_type": "markdown",
   "id": "a14ff654-41e5-4b91-b8b0-66ca36146f08",
   "metadata": {},
   "source": [
    "##### Modify an element in the array (custom_array[2] = 10)"
   ]
  },
  {
   "cell_type": "code",
   "execution_count": null,
   "id": "a76d33e0-b011-4295-8a31-c031011fb61e",
   "metadata": {},
   "outputs": [],
   "source": []
  },
  {
   "cell_type": "markdown",
   "id": "d11337f5-d144-486a-a295-42b8157d18e6",
   "metadata": {},
   "source": [
    "##### Reshape the array into a 2D array (reshaped_array = custom_array.reshape((1, 5)))"
   ]
  },
  {
   "cell_type": "code",
   "execution_count": null,
   "id": "b4fba3b8-e8de-4d72-ada2-174438cf20ff",
   "metadata": {},
   "outputs": [],
   "source": []
  },
  {
   "cell_type": "markdown",
   "id": "e74cc23f-9ef7-45d9-96e6-d3c3bcfa3688",
   "metadata": {},
   "source": [
    "### Task-3\n",
    "#### Write a Python program in NumPy to create an array with existing data and perform the following tasks"
   ]
  },
  {
   "cell_type": "markdown",
   "id": "81b69958-6518-4c59-8c41-0afb0c0c5b05",
   "metadata": {},
   "source": [
    "##### Create an array ('array1') using the 'np. array()' function with existing data ('data1')"
   ]
  },
  {
   "cell_type": "code",
   "execution_count": null,
   "id": "e4b4c2ff-b614-4f6f-89e6-1b0ed694a416",
   "metadata": {},
   "outputs": [],
   "source": []
  },
  {
   "cell_type": "markdown",
   "id": "cc913886-994f-4835-85f0-eaa1e8044977",
   "metadata": {},
   "source": [
    "##### Create another array ('array2') using the 'np.asarray()' function with different data ('data2')"
   ]
  },
  {
   "cell_type": "code",
   "execution_count": null,
   "id": "73e7bbc3-bf8c-4f0e-8117-8e3c789a1f53",
   "metadata": {},
   "outputs": [],
   "source": []
  },
  {
   "cell_type": "markdown",
   "id": "573c15a6-09a5-4689-ab03-51f7bfc5a0c6",
   "metadata": {},
   "source": [
    "##### Modify the original data ('data1[2] = 100') and observe that the 'np. array()' array ('array1') remains unchanged, as it creates a new copy of the data"
   ]
  },
  {
   "cell_type": "code",
   "execution_count": null,
   "id": "c9c0b188-665b-45b9-b73b-49c105a0d265",
   "metadata": {},
   "outputs": [],
   "source": []
  },
  {
   "cell_type": "markdown",
   "id": "b4fcb88e-fd78-4c42-8f08-71846b45eca3",
   "metadata": {},
   "source": [
    "### Task-4\n",
    "#### Write a Python program to create an array with numerical ranges in NumPy using 'np. arrange ()', 'np. linspace()' and 'np. logspace()'"
   ]
  },
  {
   "cell_type": "markdown",
   "id": "d12c533f-0b69-40ad-9e53-fde9c19e9ecd",
   "metadata": {},
   "source": [
    "##### Start from 1, stop before 11, step by 2"
   ]
  },
  {
   "cell_type": "code",
   "execution_count": null,
   "id": "9ea572c7-a982-4e2b-86af-2d52dbd1e2e6",
   "metadata": {},
   "outputs": [],
   "source": []
  },
  {
   "cell_type": "markdown",
   "id": "5624df26-f289-4776-b8b1-efde48b7f774",
   "metadata": {},
   "source": [
    "### Task-5\n",
    "#### Write a Python program in NumPy to perform a vectorization operation on the entire array with the following steps"
   ]
  },
  {
   "cell_type": "markdown",
   "id": "4591e254-17de-4ca6-8189-b82c7032e770",
   "metadata": {},
   "source": [
    "##### Create two arrays ('array1' and 'array2')"
   ]
  },
  {
   "cell_type": "code",
   "execution_count": null,
   "id": "ab38b867-6fb7-4b64-848e-9a008b42b767",
   "metadata": {},
   "outputs": [],
   "source": []
  },
  {
   "cell_type": "markdown",
   "id": "76f47423-1fcc-46a1-a2ca-9eddb7be1fe0",
   "metadata": {},
   "source": [
    "##### Perform vectorized addition ('array1 + array2'), multiplication ('array1 * array2'), and square root ('np.sqrt(array1)')."
   ]
  },
  {
   "cell_type": "code",
   "execution_count": null,
   "id": "07d01cef-68a4-4dca-a0d1-0a298d384503",
   "metadata": {},
   "outputs": [],
   "source": []
  }
 ],
 "metadata": {
  "kernelspec": {
   "display_name": "Python 3 (ipykernel)",
   "language": "python",
   "name": "python3"
  },
  "language_info": {
   "codemirror_mode": {
    "name": "ipython",
    "version": 3
   },
   "file_extension": ".py",
   "mimetype": "text/x-python",
   "name": "python",
   "nbconvert_exporter": "python",
   "pygments_lexer": "ipython3",
   "version": "3.10.7"
  }
 },
 "nbformat": 4,
 "nbformat_minor": 5
}
