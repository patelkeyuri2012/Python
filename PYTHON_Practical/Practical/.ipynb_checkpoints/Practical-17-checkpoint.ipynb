{
 "cells": [
  {
   "cell_type": "markdown",
   "id": "fd98bf16-d91d-4769-a756-a5181da8482c",
   "metadata": {},
   "source": [
    "#### 17. Write a program to solve the system of linear equation using python (minimum 3 equation)"
   ]
  },
  {
   "cell_type": "markdown",
   "id": "109c9c81-4ba5-48a9-aad9-0e8ef1bf0316",
   "metadata": {},
   "source": [
    "- 2x + 3y + 5z = 25\n",
    "- x + 2y + z = 15\n",
    "- 3x + y + 7z = 17"
   ]
  },
  {
   "cell_type": "code",
   "execution_count": 2,
   "id": "db146774-1bc8-4eb6-b05f-a28ce557f4a3",
   "metadata": {},
   "outputs": [],
   "source": [
    "import numpy as np"
   ]
  },
  {
   "cell_type": "code",
   "execution_count": 4,
   "id": "d9581f36-d568-4ac1-9ba1-3bfbc94801a1",
   "metadata": {},
   "outputs": [
    {
     "name": "stdout",
     "output_type": "stream",
     "text": [
      "[[3.09090909]\n",
      " [5.81818182]\n",
      " [0.27272727]]\n"
     ]
    }
   ],
   "source": [
    "A = np.array([[2, 3, 5], [1, 2, 1], [3, 1, 7]])\n",
    "k = np.array([['x'],['y'],['z']])\n",
    "B = np.array([[25],[15],[17]])\n",
    "\n",
    "A_inv = np.linalg.inv(A)\n",
    "k = np.dot(A_inv, B)\n",
    "print(k)"
   ]
  },
  {
   "cell_type": "markdown",
   "id": "d36e6a2a-705d-424c-b04b-fc21f46626a8",
   "metadata": {},
   "source": [
    "<center><h5> arrange the equation into matrix </h5></center>\n",
    "\n",
    "$$\n",
    "\\begin{bmatrix} 2 & 3 & 5 \\\\ 1 & 2 & 1 \\\\ 3 & 1 & 7 \\end{bmatrix} \n",
    "\\begin{bmatrix} x \\\\ y \\\\ z \\end{bmatrix} =\n",
    "\\begin{bmatrix} 25 \\\\ 15 \\\\ 17 \\end{bmatrix} \n",
    "$$\n",
    "\n",
    "<center><h5> that means, A.k = B &emsp;&emsp; for find value of k, k = A¯.B &emsp;&emsp; so first find A¯ &emsp;&emsp; then find k = A¯.B </h5></center>"
   ]
  }
 ],
 "metadata": {
  "kernelspec": {
   "display_name": "Python 3 (ipykernel)",
   "language": "python",
   "name": "python3"
  },
  "language_info": {
   "codemirror_mode": {
    "name": "ipython",
    "version": 3
   },
   "file_extension": ".py",
   "mimetype": "text/x-python",
   "name": "python",
   "nbconvert_exporter": "python",
   "pygments_lexer": "ipython3",
   "version": "3.10.7"
  }
 },
 "nbformat": 4,
 "nbformat_minor": 5
}
