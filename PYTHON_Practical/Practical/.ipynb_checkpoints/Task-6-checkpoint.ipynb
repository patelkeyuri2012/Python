{
 "cells": [
  {
   "cell_type": "markdown",
   "id": "5f1a2697-9fcf-4fc0-8b8b-afdb99583452",
   "metadata": {},
   "source": [
    "### Task-6\n",
    "#### Write a Python program in NumPy to find out Eigenvalues and Eigenvectors"
   ]
  },
  {
   "cell_type": "code",
   "execution_count": 2,
   "id": "aee27f10-b043-434c-96a3-60c8c4f82504",
   "metadata": {},
   "outputs": [],
   "source": [
    "import numpy as np"
   ]
  },
  {
   "cell_type": "code",
   "execution_count": 16,
   "id": "5d2f5cfb-2272-4144-9842-e6fa6b6c06e4",
   "metadata": {},
   "outputs": [
    {
     "name": "stdout",
     "output_type": "stream",
     "text": [
      "Array a :\n",
      " [[1 2 3]\n",
      " [1 2 3]\n",
      " [1 2 3]]\n"
     ]
    }
   ],
   "source": [
    "a = np.array([[1, 2, 3], [1, 2, 3], [1, 2, 3]])\n",
    "print(\"Array a :\\n\", a)"
   ]
  },
  {
   "cell_type": "code",
   "execution_count": 17,
   "id": "f68271d5-7b57-4393-8578-dc4dc327bd77",
   "metadata": {},
   "outputs": [
    {
     "name": "stdout",
     "output_type": "stream",
     "text": [
      "Eigen value of array a :\n",
      " [ 6.00000000e+00 -4.58953843e-16 -3.85359781e-17]\n",
      "\n",
      "Eigen vector of array a :\n",
      " [[-0.57735027  0.89869292 -0.37043843]\n",
      " [-0.57735027 -0.43851903 -0.71112288]\n",
      " [-0.57735027 -0.00721829  0.5975614 ]]\n"
     ]
    }
   ],
   "source": [
    "w, v = np.linalg.eig(a)\n",
    "print(\"Eigen value of array a :\\n\", w)\n",
    "print(\"\\nEigen vector of array a :\\n\", v)"
   ]
  },
  {
   "cell_type": "code",
   "execution_count": null,
   "id": "2a21f1d8-7565-46ab-8ddd-5483c884aa1b",
   "metadata": {},
   "outputs": [],
   "source": [
    "# eigenvaluse\n",
    "#Ax = lembda.x \n",
    "#|A - lembdaI| = 0\n"
   ]
  },
  {
   "cell_type": "code",
   "execution_count": null,
   "id": "4b45a057-3bad-44f8-b2a6-c2c84960f306",
   "metadata": {},
   "outputs": [],
   "source": [
    "# eigenvector\n",
    "#Av = lembda.v\n",
    "#(|A - lembdaI|)v = 0"
   ]
  }
 ],
 "metadata": {
  "kernelspec": {
   "display_name": "Python 3 (ipykernel)",
   "language": "python",
   "name": "python3"
  },
  "language_info": {
   "codemirror_mode": {
    "name": "ipython",
    "version": 3
   },
   "file_extension": ".py",
   "mimetype": "text/x-python",
   "name": "python",
   "nbconvert_exporter": "python",
   "pygments_lexer": "ipython3",
   "version": "3.10.7"
  }
 },
 "nbformat": 4,
 "nbformat_minor": 5
}
