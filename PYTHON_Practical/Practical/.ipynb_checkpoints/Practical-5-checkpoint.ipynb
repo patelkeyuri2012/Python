{
 "cells": [
  {
   "cell_type": "markdown",
   "id": "034a2a6d-7e35-46e4-8c8e-d0c344d7b16d",
   "metadata": {},
   "source": [
    "#### 5. Write a program to print string except articles in given string (except capital and small)"
   ]
  },
  {
   "cell_type": "code",
   "execution_count": 1,
   "id": "535d7e9c-f653-4ea6-afc1-a6543b9899a1",
   "metadata": {},
   "outputs": [
    {
     "name": "stdin",
     "output_type": "stream",
     "text": [
      "Enter String to remove articles :  I have an object of something\n"
     ]
    },
    {
     "name": "stdout",
     "output_type": "stream",
     "text": [
      "String after remove articals :   hv n bjct f smthng\n"
     ]
    }
   ],
   "source": [
    "s = input(\"Enter String to remove articles : \")\n",
    "a = ['A', 'E', 'I', 'O', 'U', 'a', 'e', 'i', 'o', 'u']\n",
    "r = ' '\n",
    "for i in range (len(s)):\n",
    "    if s[i] not in a:\n",
    "        r = r + s[i]\n",
    "print(\"String after remove articals :\",r)"
   ]
  }
 ],
 "metadata": {
  "kernelspec": {
   "display_name": "Python 3 (ipykernel)",
   "language": "python",
   "name": "python3"
  },
  "language_info": {
   "codemirror_mode": {
    "name": "ipython",
    "version": 3
   },
   "file_extension": ".py",
   "mimetype": "text/x-python",
   "name": "python",
   "nbconvert_exporter": "python",
   "pygments_lexer": "ipython3",
   "version": "3.10.7"
  }
 },
 "nbformat": 4,
 "nbformat_minor": 5
}
