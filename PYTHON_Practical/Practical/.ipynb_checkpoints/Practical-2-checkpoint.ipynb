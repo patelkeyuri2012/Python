{
 "cells": [
  {
   "cell_type": "markdown",
   "id": "1097b979-bb5f-43ec-9d72-8cae04843311",
   "metadata": {},
   "source": [
    "#### 2. Write a program to compute the sum of element that in the list container (using for loop)"
   ]
  },
  {
   "cell_type": "code",
   "execution_count": 1,
   "id": "4321ebae-d332-403a-8938-be52122e6aa6",
   "metadata": {},
   "outputs": [
    {
     "name": "stdout",
     "output_type": "stream",
     "text": [
      "Sum of given number is : 15\n"
     ]
    }
   ],
   "source": [
    "b = [1, 2, 3, 4, 5]\n",
    "sum = 0\n",
    "for i in b :\n",
    "    sum += int(i)\n",
    "print(\"Sum of given number is :\",sum)"
   ]
  },
  {
   "cell_type": "code",
   "execution_count": 2,
   "id": "16948ca4-0383-41a5-b5d2-191d7924ded5",
   "metadata": {},
   "outputs": [
    {
     "name": "stdin",
     "output_type": "stream",
     "text": [
      "Enter the size of list : 6\n",
      "Enter element : 2\n",
      "Enter element : 3\n",
      "Enter element : 6\n",
      "Enter element : 4\n",
      "Enter element : 7\n",
      "Enter element : 3\n"
     ]
    },
    {
     "name": "stdout",
     "output_type": "stream",
     "text": [
      "Elements of list : [2, 3, 6, 4, 7, 3]\n",
      "Sum of given number is : 25\n"
     ]
    }
   ],
   "source": [
    "b = []\n",
    "ele = int(input(\"Enter the size of list :\"))\n",
    "for i in range(ele):\n",
    "    element = int(input(\"Enter element :\"))\n",
    "    b.append(element)\n",
    "print(\"Elements of list :\",b)\n",
    "\n",
    "sum = 0\n",
    "for i in b :\n",
    "    sum += int(i)\n",
    "print(\"Sum of given number is :\",sum)"
   ]
  }
 ],
 "metadata": {
  "kernelspec": {
   "display_name": "Python 3 (ipykernel)",
   "language": "python",
   "name": "python3"
  },
  "language_info": {
   "codemirror_mode": {
    "name": "ipython",
    "version": 3
   },
   "file_extension": ".py",
   "mimetype": "text/x-python",
   "name": "python",
   "nbconvert_exporter": "python",
   "pygments_lexer": "ipython3",
   "version": "3.10.7"
  }
 },
 "nbformat": 4,
 "nbformat_minor": 5
}
