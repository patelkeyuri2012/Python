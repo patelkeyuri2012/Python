{
 "cells": [
  {
   "cell_type": "markdown",
   "id": "f20f1fcd-fb1d-448c-af32-73153ddf5745",
   "metadata": {},
   "source": [
    "#### 16. Write a program to find out the addition of two matrix and multiplication of two matrix using numpy library"
   ]
  },
  {
   "cell_type": "code",
   "execution_count": 3,
   "id": "e902097a-8efa-4309-b9a3-774a9fccf754",
   "metadata": {},
   "outputs": [
    {
     "name": "stdin",
     "output_type": "stream",
     "text": [
      "Enter the number of rows:  3\n",
      "Enter the number of columns:  3\n"
     ]
    },
    {
     "name": "stdout",
     "output_type": "stream",
     "text": [
      "\n",
      "\n"
     ]
    },
    {
     "name": "stdin",
     "output_type": "stream",
     "text": [
      "Enter element : 1\n",
      "Enter element : 2\n",
      "Enter element : 3\n",
      "Enter element : 4\n",
      "Enter element : 5\n",
      "Enter element : 6\n",
      "Enter element : 7\n",
      "Enter element : 8\n",
      "Enter element : 9\n"
     ]
    },
    {
     "name": "stdout",
     "output_type": "stream",
     "text": [
      "\n",
      "Element of Matrix1:\n",
      "[1, 2, 3]\n",
      "[4, 5, 6]\n",
      "[7, 8, 9]\n"
     ]
    }
   ],
   "source": [
    "matrix1 = []\n",
    "row1 = int(input(\"Enter the number of rows: \"))\n",
    "column1 = int(input(\"Enter the number of columns: \"))\n",
    "print(\"\\n\")\n",
    "\n",
    "for i in range(row1):\n",
    "    row_data1 = []  \n",
    "    for j in range(column1):\n",
    "        ele = int(input(\"Enter element :\"))\n",
    "        row_data1.append(ele)\n",
    "    matrix1.append(row_data1)  \n",
    "    \n",
    "print(\"\\nElement of Matrix1:\")\n",
    "for row_data1 in matrix1:\n",
    "    print(row_data1)"
   ]
  },
  {
   "cell_type": "code",
   "execution_count": 4,
   "id": "9c590c01-f56e-4647-89f6-f77ce401e134",
   "metadata": {},
   "outputs": [
    {
     "name": "stdin",
     "output_type": "stream",
     "text": [
      "Enter the number of rows:  3\n",
      "Enter the number of columns:  3\n"
     ]
    },
    {
     "name": "stdout",
     "output_type": "stream",
     "text": [
      "\n",
      "\n"
     ]
    },
    {
     "name": "stdin",
     "output_type": "stream",
     "text": [
      "Enter element : 9\n",
      "Enter element : 8\n",
      "Enter element : 7\n",
      "Enter element : 6\n",
      "Enter element : 5\n",
      "Enter element : 4\n",
      "Enter element : 3\n",
      "Enter element : 2\n",
      "Enter element : 1\n"
     ]
    },
    {
     "name": "stdout",
     "output_type": "stream",
     "text": [
      "\n",
      "Element of Matrix2:\n",
      "[9, 8, 7]\n",
      "[6, 5, 4]\n",
      "[3, 2, 1]\n"
     ]
    }
   ],
   "source": [
    "matrix2 = []\n",
    "row2 = int(input(\"Enter the number of rows: \"))\n",
    "column2 = int(input(\"Enter the number of columns: \"))\n",
    "print(\"\\n\")\n",
    "\n",
    "for i in range(row2):\n",
    "    row_data2 = []  \n",
    "    for j in range(column2):\n",
    "        ele = int(input(\"Enter element :\"))\n",
    "        row_data2.append(ele)\n",
    "    matrix2.append(row_data2)  \n",
    "    \n",
    "print(\"\\nElement of Matrix2:\")\n",
    "for row_data2 in matrix2:\n",
    "    print(row_data2)\n"
   ]
  },
  {
   "cell_type": "code",
   "execution_count": 5,
   "id": "7a5682ac-3ef7-427b-8caa-8d547e45966b",
   "metadata": {},
   "outputs": [
    {
     "name": "stdout",
     "output_type": "stream",
     "text": [
      "Addition of two matrix is :\n",
      " [[10 10 10]\n",
      " [10 10 10]\n",
      " [10 10 10]]\n",
      "Multiplication of two matrix is :\n",
      " [[ 30  24  18]\n",
      " [ 84  69  54]\n",
      " [138 114  90]]\n"
     ]
    }
   ],
   "source": [
    "import numpy as np\n",
    "\n",
    "print(\"Addition of two matrix is :\\n\", np.add(matrix1,matrix2))    \n",
    "print(\"Multiplication of two matrix is :\\n\", np.dot(matrix1,matrix2))"
   ]
  }
 ],
 "metadata": {
  "kernelspec": {
   "display_name": "Python 3 (ipykernel)",
   "language": "python",
   "name": "python3"
  },
  "language_info": {
   "codemirror_mode": {
    "name": "ipython",
    "version": 3
   },
   "file_extension": ".py",
   "mimetype": "text/x-python",
   "name": "python",
   "nbconvert_exporter": "python",
   "pygments_lexer": "ipython3",
   "version": "3.10.7"
  }
 },
 "nbformat": 4,
 "nbformat_minor": 5
}
