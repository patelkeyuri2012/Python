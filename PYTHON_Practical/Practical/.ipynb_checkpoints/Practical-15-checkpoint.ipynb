{
 "cells": [
  {
   "cell_type": "markdown",
   "id": "1418e5c0-b4b3-49f8-a110-c8a064ce2d08",
   "metadata": {},
   "source": [
    "#### 15. Write a program to create child class from car class"
   ]
  },
  {
   "cell_type": "code",
   "execution_count": 39,
   "id": "4dc3484c-e5a6-4f47-9774-921f5b68ecc8",
   "metadata": {},
   "outputs": [],
   "source": [
    "class Car:\n",
    "    def __init__(self, model, color):\n",
    "        self.model = \"\"\n",
    "        self._color = color\n",
    "        self.__mf_cnt = \"India\"\n",
    "\n",
    "    def get_model(self):\n",
    "        return self.model\n",
    "\n",
    "    def set_model(self, model):\n",
    "        self.model = model\n",
    "        \n",
    "    def get_color(self):\n",
    "        return self._color\n",
    "\n",
    "    def set_color(self, color):\n",
    "        self._color = color\n",
    "\n",
    "    def get_mf_cnt(self):\n",
    "        return self.__mf_cnt"
   ]
  },
  {
   "cell_type": "code",
   "execution_count": 42,
   "id": "e0757cce-3229-4465-a8b3-08cf81aa30b7",
   "metadata": {},
   "outputs": [],
   "source": [
    "class BMW(Car):\n",
    "    def __init__(self, model, color, features):\n",
    "        super().__init__(model, color)\n",
    "        \n",
    "    def get_features(self):\n",
    "        return self.features\n",
    "\n",
    "    def set_features(self, features):\n",
    "        self.features = features"
   ]
  },
  {
   "cell_type": "code",
   "execution_count": 50,
   "id": "1fedcbc3-a7b3-43f5-b106-9b3d2784b9c8",
   "metadata": {},
   "outputs": [],
   "source": [
    "class Swift(Car):\n",
    "    def __init__(self, model, color, seets):\n",
    "        super().__init__(model, color)\n",
    "        \n",
    "    def get_seets(self):\n",
    "        return self.seets\n",
    "\n",
    "    def set_seets(self, seets):\n",
    "        self.seets = seets"
   ]
  },
  {
   "cell_type": "code",
   "execution_count": 51,
   "id": "d3619d60-801a-43a0-a072-7a2c43369e25",
   "metadata": {},
   "outputs": [
    {
     "name": "stdout",
     "output_type": "stream",
     "text": [
      "BMW Model : BMW50C\n",
      "BMW Color : Blue\n",
      "BMW Features : Auto Gear\n"
     ]
    }
   ],
   "source": [
    "bmw = BMW(\"\",\"\",\"\")\n",
    "\n",
    "bmw.set_model(\"BMW50C\")\n",
    "bmw.set_color(\"Blue\")\n",
    "bmw.set_features(\"Auto Gear\")\n",
    "\n",
    "print(\"BMW Model :\", bmw.get_model())\n",
    "print(\"BMW Color :\", bmw.get_color())\n",
    "print(\"BMW Features :\", bmw.get_features())"
   ]
  },
  {
   "cell_type": "code",
   "execution_count": 52,
   "id": "edadcaf2-fe66-4d7e-80e8-0523e3e7ac48",
   "metadata": {},
   "outputs": [
    {
     "name": "stdout",
     "output_type": "stream",
     "text": [
      "Swift Model : SW30T\n",
      "Swift Color : Balck\n",
      "Swift Features : Five seeter\n"
     ]
    }
   ],
   "source": [
    "swift = Swift(\"\",\"\",\"\")\n",
    "\n",
    "swift.set_model(\"SW30T\")\n",
    "swift.set_color(\"Balck\")\n",
    "swift.set_seets(\"Five seeter\")\n",
    "\n",
    "print(\"Swift Model :\", swift.get_model())\n",
    "print(\"Swift Color :\", swift.get_color())\n",
    "print(\"Swift Features :\", swift.get_seets())"
   ]
  }
 ],
 "metadata": {
  "kernelspec": {
   "display_name": "Python 3 (ipykernel)",
   "language": "python",
   "name": "python3"
  },
  "language_info": {
   "codemirror_mode": {
    "name": "ipython",
    "version": 3
   },
   "file_extension": ".py",
   "mimetype": "text/x-python",
   "name": "python",
   "nbconvert_exporter": "python",
   "pygments_lexer": "ipython3",
   "version": "3.10.7"
  }
 },
 "nbformat": 4,
 "nbformat_minor": 5
}
