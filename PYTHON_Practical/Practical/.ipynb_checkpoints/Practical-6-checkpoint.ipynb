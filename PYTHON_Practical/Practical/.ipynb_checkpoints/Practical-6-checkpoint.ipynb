{
 "cells": [
  {
   "cell_type": "markdown",
   "id": "4bf9a176-3296-4c04-969d-843900a5f315",
   "metadata": {},
   "source": [
    "#### 6. Write a program using user-define function to print reverse string"
   ]
  },
  {
   "cell_type": "code",
   "execution_count": 1,
   "id": "9a77e800-046d-440b-8979-8120369a347f",
   "metadata": {},
   "outputs": [
    {
     "name": "stdin",
     "output_type": "stream",
     "text": [
      "Enter any string : Gujarat Vidyapith\n"
     ]
    },
    {
     "name": "stdout",
     "output_type": "stream",
     "text": [
      "htipaydiV tarajuG\n"
     ]
    }
   ],
   "source": [
    "def strrev(string):\n",
    "    print(string[::-1])\n",
    "\n",
    "string = input(\"Enter any string :\")\n",
    "strrev(string)"
   ]
  }
 ],
 "metadata": {
  "kernelspec": {
   "display_name": "Python 3 (ipykernel)",
   "language": "python",
   "name": "python3"
  },
  "language_info": {
   "codemirror_mode": {
    "name": "ipython",
    "version": 3
   },
   "file_extension": ".py",
   "mimetype": "text/x-python",
   "name": "python",
   "nbconvert_exporter": "python",
   "pygments_lexer": "ipython3",
   "version": "3.10.7"
  }
 },
 "nbformat": 4,
 "nbformat_minor": 5
}
