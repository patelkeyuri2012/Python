{
 "cells": [
  {
   "cell_type": "markdown",
   "id": "6368f15f-98cc-4b40-a68d-660a24a1e408",
   "metadata": {},
   "source": [
    "#### 1. Write a program to find maximum and minimum number from the given number (using two and three number)"
   ]
  },
  {
   "cell_type": "code",
   "execution_count": 2,
   "id": "3bd189aa-0797-4a56-a56d-296952570394",
   "metadata": {},
   "outputs": [
    {
     "name": "stdout",
     "output_type": "stream",
     "text": [
      "Maximum number is a : 30 \n",
      "Minimum number is b : 20\n"
     ]
    }
   ],
   "source": [
    "a = 30\n",
    "b = 20 \n",
    "if a > b :\n",
    "    print(\"Maximum number is a :\",a,\"\\nMinimum number is b :\",b)\n",
    "else:\n",
    "    print(\"Maximum number is b :\",b,\"\\nMinimum number is a :\",a)"
   ]
  },
  {
   "cell_type": "code",
   "execution_count": 3,
   "id": "305cc19e-57e8-4785-9b83-c70008891e11",
   "metadata": {},
   "outputs": [
    {
     "name": "stdout",
     "output_type": "stream",
     "text": [
      "Maximum number is z : 50\n"
     ]
    }
   ],
   "source": [
    "x = 40\n",
    "y = 30\n",
    "z = 50\n",
    "if (x > y) and (x > z):\n",
    "    print(\"Maximum number is x :\",x)\n",
    "elif (y > z) and (y > x):\n",
    "    print(\"Maximum number is y :\",y)\n",
    "else:\n",
    "    print(\"Maximum number is z :\",z)"
   ]
  },
  {
   "cell_type": "code",
   "execution_count": 5,
   "id": "281a391d-0e58-4738-a061-7216be4c4356",
   "metadata": {},
   "outputs": [
    {
     "name": "stdout",
     "output_type": "stream",
     "text": [
      "Minimum number is y : 25\n"
     ]
    }
   ],
   "source": [
    "x = 45\n",
    "y = 25\n",
    "z = 35\n",
    "if (x < y) and (x < z):\n",
    "    print(\"Minimum number is x :\",x)\n",
    "elif (y < z) and (y < x):\n",
    "    print(\"Minimum number is y :\",y)\n",
    "else:\n",
    "    print(\"Minimum number is z :\",z)"
   ]
  }
 ],
 "metadata": {
  "kernelspec": {
   "display_name": "Python 3 (ipykernel)",
   "language": "python",
   "name": "python3"
  },
  "language_info": {
   "codemirror_mode": {
    "name": "ipython",
    "version": 3
   },
   "file_extension": ".py",
   "mimetype": "text/x-python",
   "name": "python",
   "nbconvert_exporter": "python",
   "pygments_lexer": "ipython3",
   "version": "3.10.7"
  }
 },
 "nbformat": 4,
 "nbformat_minor": 5
}
