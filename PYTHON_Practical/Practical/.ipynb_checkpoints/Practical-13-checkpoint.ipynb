{
 "cells": [
  {
   "cell_type": "markdown",
   "id": "b5dbf6a1-8b97-40bf-aec3-1f71d61bd4d5",
   "metadata": {},
   "source": [
    "#### 13. Write a program to find out percentage using lambda function"
   ]
  },
  {
   "cell_type": "code",
   "execution_count": 5,
   "id": "3cbd45ab-f713-4a06-a9f6-8684f0445a93",
   "metadata": {},
   "outputs": [
    {
     "name": "stdin",
     "output_type": "stream",
     "text": [
      "Enter the number of subjects for marks:  5\n",
      "Enter marks for subject 1:  45\n",
      "Enter marks for subject 2:  34\n",
      "Enter marks for subject 3:  48\n",
      "Enter marks for subject 4:  39\n",
      "Enter marks for subject 5:  41\n"
     ]
    },
    {
     "name": "stdout",
     "output_type": "stream",
     "text": [
      "Marks of subjects: [45, 34, 48, 39, 41]\n",
      "Percentage of students marks is  82.8\n"
     ]
    }
   ],
   "source": [
    "marks = []\n",
    "ele = int(input(\"Enter the number of subjects for marks: \"))\n",
    "for i in range(ele):\n",
    "    i = i + 1\n",
    "    element = int(input(f\"Enter marks for subject {i}: \"))\n",
    "    if (element < 0) or (element > 50) : \n",
    "        print(\"Please enter marks between the range of 0 and 50\")\n",
    "    else:\n",
    "        marks.append(element)\n",
    "print(\"Marks of subjects:\", marks)\n",
    "\n",
    "subtotal = sum(marks)  \n",
    "total = 50 * len(marks)\n",
    "per = lambda subtotal: (subtotal * 100) / total\n",
    "print(\"Percentage of students marks is \", per(subtotal))"
   ]
  }
 ],
 "metadata": {
  "kernelspec": {
   "display_name": "Python 3 (ipykernel)",
   "language": "python",
   "name": "python3"
  },
  "language_info": {
   "codemirror_mode": {
    "name": "ipython",
    "version": 3
   },
   "file_extension": ".py",
   "mimetype": "text/x-python",
   "name": "python",
   "nbconvert_exporter": "python",
   "pygments_lexer": "ipython3",
   "version": "3.10.7"
  }
 },
 "nbformat": 4,
 "nbformat_minor": 5
}
