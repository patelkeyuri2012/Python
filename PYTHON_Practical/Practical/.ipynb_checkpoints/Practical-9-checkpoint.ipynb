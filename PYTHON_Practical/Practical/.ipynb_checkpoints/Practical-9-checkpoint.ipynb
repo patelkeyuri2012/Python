{
 "cells": [
  {
   "cell_type": "markdown",
   "id": "ab99671e-ade6-4fbd-9133-9f17a1d300d7",
   "metadata": {},
   "source": [
    "#### 9. Write a program using user-define function to find out median"
   ]
  },
  {
   "cell_type": "code",
   "execution_count": 1,
   "id": "6134f2ed-99ca-4ea8-881f-52101aa1f899",
   "metadata": {},
   "outputs": [
    {
     "name": "stdin",
     "output_type": "stream",
     "text": [
      "Enter the size of list:  5\n",
      "Enter element:  34\n",
      "Enter element:  24\n",
      "Enter element:  76\n",
      "Enter element:  45\n",
      "Enter element:  87\n"
     ]
    },
    {
     "name": "stdout",
     "output_type": "stream",
     "text": [
      "Elements of list: [34, 24, 76, 45, 87]\n",
      "Median of given numbers : 45\n"
     ]
    }
   ],
   "source": [
    "def median(data):\n",
    "    if len(data) == 0:\n",
    "        median = 0\n",
    "    sort_data = sorted(data) \n",
    "    n = len(sort_data)\n",
    "    if n % 2 == 0:\n",
    "        med = int(n/2)\n",
    "        median = sort_data[med-1]\n",
    "    else:\n",
    "        med = int((n+1)/2)\n",
    "        median = sort_data[med-1]\n",
    "    return median\n",
    "\n",
    "data = []\n",
    "ele = int(input(\"Enter the size of list: \"))\n",
    "for i in range(ele):\n",
    "    element = int(input(\"Enter element: \"))\n",
    "    data.append(element)\n",
    "print(\"Elements of list:\", data)\n",
    "\n",
    "print(\"Median of given numbers :\", median(data))"
   ]
  }
 ],
 "metadata": {
  "kernelspec": {
   "display_name": "Python 3 (ipykernel)",
   "language": "python",
   "name": "python3"
  },
  "language_info": {
   "codemirror_mode": {
    "name": "ipython",
    "version": 3
   },
   "file_extension": ".py",
   "mimetype": "text/x-python",
   "name": "python",
   "nbconvert_exporter": "python",
   "pygments_lexer": "ipython3",
   "version": "3.10.7"
  }
 },
 "nbformat": 4,
 "nbformat_minor": 5
}
