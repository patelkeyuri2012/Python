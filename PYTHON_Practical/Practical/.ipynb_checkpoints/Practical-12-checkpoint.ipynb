{
 "cells": [
  {
   "cell_type": "markdown",
   "id": "2c25e14c-0a26-4ea6-98be-fd09e088114c",
   "metadata": {},
   "source": [
    "#### 12. Write a program to find out factorial using recursion"
   ]
  },
  {
   "cell_type": "code",
   "execution_count": 1,
   "id": "d7ad988f-61df-4111-9c68-6c3dbc962808",
   "metadata": {},
   "outputs": [
    {
     "name": "stdin",
     "output_type": "stream",
     "text": [
      "Enter Number 3\n"
     ]
    },
    {
     "name": "stdout",
     "output_type": "stream",
     "text": [
      "Factorial of Number is : 6\n"
     ]
    }
   ],
   "source": [
    "def factorial(no):\n",
    "    if(no == 1):\n",
    "        fact = 1\n",
    "    else:\n",
    "        fact = no*factorial(no-1)\n",
    "    return fact\n",
    "    \n",
    "no = int(input(\"Enter Number\"))\n",
    "print(\"Factorial of Number is :\", factorial(no))"
   ]
  }
 ],
 "metadata": {
  "kernelspec": {
   "display_name": "Python 3 (ipykernel)",
   "language": "python",
   "name": "python3"
  },
  "language_info": {
   "codemirror_mode": {
    "name": "ipython",
    "version": 3
   },
   "file_extension": ".py",
   "mimetype": "text/x-python",
   "name": "python",
   "nbconvert_exporter": "python",
   "pygments_lexer": "ipython3",
   "version": "3.10.7"
  }
 },
 "nbformat": 4,
 "nbformat_minor": 5
}
