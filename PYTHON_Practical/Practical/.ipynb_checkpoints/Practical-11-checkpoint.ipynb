{
 "cells": [
  {
   "cell_type": "markdown",
   "id": "b3a78435-ffc8-42cc-adf4-59fad1047a6e",
   "metadata": {},
   "source": [
    "#### 11. Write each string in the data list to a separate line in file (new lines are not automatically included, so they need to be added)"
   ]
  },
  {
   "cell_type": "code",
   "execution_count": 1,
   "id": "ca2ca6b5-496a-452b-a027-855fc4e92b98",
   "metadata": {},
   "outputs": [
    {
     "name": "stdout",
     "output_type": "stream",
     "text": [
      "Department of Computer Science\n",
      "Subject : Python\n",
      "Topic : Files\n",
      "Date : 12th October, 2023\n",
      "\n"
     ]
    }
   ],
   "source": [
    "data = [\"Department of Computer Science\", \"Subject : Python\", \"Topic : Files\", \"Date : 12th October, 2023\"]\n",
    "\n",
    "file = open(\"D:\\KEYURI\\MCA\\SEM-I\\PYTHON\\PYTHON_Practical\\Files\\prac_11.txt\", mode = 'w')\n",
    "for row in data:\n",
    "    file.write(row + \"\\n\")\n",
    "    \n",
    "file = open(\"D:\\KEYURI\\MCA\\SEM-I\\PYTHON\\PYTHON_Practical\\Files\\prac_11.txt\", mode = 'r')\n",
    "print(file.read())\n",
    "file.close()"
   ]
  }
 ],
 "metadata": {
  "kernelspec": {
   "display_name": "Python 3 (ipykernel)",
   "language": "python",
   "name": "python3"
  },
  "language_info": {
   "codemirror_mode": {
    "name": "ipython",
    "version": 3
   },
   "file_extension": ".py",
   "mimetype": "text/x-python",
   "name": "python",
   "nbconvert_exporter": "python",
   "pygments_lexer": "ipython3",
   "version": "3.10.7"
  }
 },
 "nbformat": 4,
 "nbformat_minor": 5
}
